{
  "nbformat": 4,
  "nbformat_minor": 0,
  "metadata": {
    "colab": {
      "name": "pcg model for ecg_Myocardial Infarction.ipynb",
      "provenance": [],
      "collapsed_sections": [],
      "machine_shape": "hm",
      "include_colab_link": true
    },
    "kernelspec": {
      "name": "python3",
      "display_name": "Python 3"
    },
    "accelerator": "GPU"
  },
  "cells": [
    {
      "cell_type": "markdown",
      "metadata": {
        "id": "view-in-github",
        "colab_type": "text"
      },
      "source": [
        "<a href=\"https://colab.research.google.com/github/M-torki/ECG-Classification/blob/main/pcg_model_for_ecg_Myocardial_Infarction.ipynb\" target=\"_parent\"><img src=\"https://colab.research.google.com/assets/colab-badge.svg\" alt=\"Open In Colab\"/></a>"
      ]
    },
    {
      "cell_type": "markdown",
      "metadata": {
        "id": "4cbgwZWWfWpp"
      },
      "source": [
        "# New Section"
      ]
    },
    {
      "cell_type": "code",
      "metadata": {
        "id": "2AxXHsKjdttT",
        "colab": {
          "base_uri": "https://localhost:8080/"
        },
        "outputId": "07cfb57b-aa9c-4965-9710-4c25213a1f87"
      },
      "source": [
        "from google.colab import drive\n",
        "drive.mount('/content/drive')"
      ],
      "execution_count": 1,
      "outputs": [
        {
          "output_type": "stream",
          "text": [
            "Drive already mounted at /content/drive; to attempt to forcibly remount, call drive.mount(\"/content/drive\", force_remount=True).\n"
          ],
          "name": "stdout"
        }
      ]
    },
    {
      "cell_type": "code",
      "metadata": {
        "id": "99bnoATSeEQM",
        "colab": {
          "base_uri": "https://localhost:8080/"
        },
        "outputId": "d0c79d43-1162-4702-82e3-f0bea485c2eb"
      },
      "source": [
        "cd drive/MyDrive/"
      ],
      "execution_count": 2,
      "outputs": [
        {
          "output_type": "stream",
          "text": [
            "/content/drive/MyDrive\n"
          ],
          "name": "stdout"
        }
      ]
    },
    {
      "cell_type": "code",
      "metadata": {
        "id": "igt0MZSDeEXU",
        "colab": {
          "base_uri": "https://localhost:8080/"
        },
        "outputId": "1596a8c3-1c47-41bd-edf7-e1a0e2806d33"
      },
      "source": [
        "cd physionet.org/files/ptbdb/1.0.0/"
      ],
      "execution_count": 3,
      "outputs": [
        {
          "output_type": "stream",
          "text": [
            "/content/drive/MyDrive/physionet.org/files/ptbdb/1.0.0\n"
          ],
          "name": "stdout"
        }
      ]
    },
    {
      "cell_type": "code",
      "metadata": {
        "id": "tK7irkIkeEkQ"
      },
      "source": [
        "# import biosppy\n",
        "# import neurokit2 as nk\n",
        "# import wfdb\n",
        "# # from hrvanalysis import remove_outliers, remove_ectopic_beats, interpolate_nan_values\n",
        "# from wfdb import processing\n",
        "import os\n",
        "import numpy as np\n",
        "import pandas as pd\n",
        "import pickle\n",
        "import matplotlib.pyplot as plt\n",
        "from glob import glob\n",
        "%matplotlib inline\n",
        "import scipy\n",
        "import shutil\n",
        "from IPython.display import display \n",
        "import keras\n",
        "from keras import optimizers, losses, activations, models\n",
        "from keras.layers import Dense, BatchNormalization, Input, Activation, Dropout, Convolution1D, Conv1D, MaxPool1D , MaxPooling1D, GlobalMaxPool1D, GlobalAveragePooling1D, concatenate, MaxPool2D\n",
        "from keras.preprocessing import image\n",
        "from keras.preprocessing.image import ImageDataGenerator\n",
        "from keras.models import Sequential\n",
        "from keras.layers import Dense, Dropout, Flatten, Conv2D, MaxPooling2D , Lambda, GaussianNoise\n",
        "from keras.utils.np_utils import to_categorical\n",
        "from keras.optimizers import Adam , Adadelta , Adagrad , SGD\n",
        "from keras import regularizers\n",
        "import keras.backend as K\n",
        "\n",
        "\n",
        "\n",
        "# from biosppy.signals import ecg"
      ],
      "execution_count": 4,
      "outputs": []
    },
    {
      "cell_type": "code",
      "metadata": {
        "colab": {
          "base_uri": "https://localhost:8080/"
        },
        "id": "gKgbEoL5eIKN",
        "outputId": "95e71106-76b5-45d2-b1b5-fec6c4b872cb"
      },
      "source": [
        "train_hel = sorted(glob('./New_data/train/hel/*.csv'))\n",
        "train_inf = sorted(glob('./New_data/train/inf/*.csv'))\n",
        "test_hel = sorted(glob('./New_data/test/hel/*.csv'))\n",
        "test_inf = sorted(glob('./New_data/test/inf/*.csv'))\n",
        "\n",
        "print(len(train_hel) , len(train_inf) , len(test_hel) , len(test_inf))"
      ],
      "execution_count": 5,
      "outputs": [
        {
          "output_type": "stream",
          "text": [
            "928 3004 240 655\n"
          ],
          "name": "stdout"
        }
      ]
    },
    {
      "cell_type": "code",
      "metadata": {
        "id": "8kMbu_noe406"
      },
      "source": [
        "y_tr_h = np.zeros(shape=len(train_hel))\n",
        "y_tr_i = np.ones(shape=len(train_inf))\n",
        "y_te_h = np.zeros(shape=len(test_hel))\n",
        "y_te_i = np.ones(shape=len(test_inf))"
      ],
      "execution_count": 6,
      "outputs": []
    },
    {
      "cell_type": "code",
      "metadata": {
        "colab": {
          "base_uri": "https://localhost:8080/"
        },
        "id": "sYqcGyCagS-3",
        "outputId": "6f2cce3d-e626-4db4-d593-036ad89fd510"
      },
      "source": [
        "y_tr_h[:10]"
      ],
      "execution_count": 7,
      "outputs": [
        {
          "output_type": "execute_result",
          "data": {
            "text/plain": [
              "array([0., 0., 0., 0., 0., 0., 0., 0., 0., 0.])"
            ]
          },
          "metadata": {
            "tags": []
          },
          "execution_count": 7
        }
      ]
    },
    {
      "cell_type": "code",
      "metadata": {
        "colab": {
          "base_uri": "https://localhost:8080/",
          "height": 196
        },
        "id": "gzyJgrvJictP",
        "outputId": "d6875c3a-4c2b-4fa7-c457-7f2f3c2ae80a"
      },
      "source": [
        "df = pd.read_csv(train_hel[0] , index_col=0)\n",
        "df[:5]"
      ],
      "execution_count": 8,
      "outputs": [
        {
          "output_type": "execute_result",
          "data": {
            "text/html": [
              "<div>\n",
              "<style scoped>\n",
              "    .dataframe tbody tr th:only-of-type {\n",
              "        vertical-align: middle;\n",
              "    }\n",
              "\n",
              "    .dataframe tbody tr th {\n",
              "        vertical-align: top;\n",
              "    }\n",
              "\n",
              "    .dataframe thead th {\n",
              "        text-align: right;\n",
              "    }\n",
              "</style>\n",
              "<table border=\"1\" class=\"dataframe\">\n",
              "  <thead>\n",
              "    <tr style=\"text-align: right;\">\n",
              "      <th></th>\n",
              "      <th>i</th>\n",
              "      <th>ii</th>\n",
              "      <th>iii</th>\n",
              "      <th>avr</th>\n",
              "      <th>avl</th>\n",
              "      <th>avf</th>\n",
              "      <th>v1</th>\n",
              "      <th>v2</th>\n",
              "      <th>v3</th>\n",
              "      <th>v4</th>\n",
              "      <th>v5</th>\n",
              "      <th>v6</th>\n",
              "    </tr>\n",
              "  </thead>\n",
              "  <tbody>\n",
              "    <tr>\n",
              "      <th>0</th>\n",
              "      <td>0.0310</td>\n",
              "      <td>-1.1485</td>\n",
              "      <td>-1.1795</td>\n",
              "      <td>0.5585</td>\n",
              "      <td>0.6055</td>\n",
              "      <td>-1.1640</td>\n",
              "      <td>0.1660</td>\n",
              "      <td>0.2580</td>\n",
              "      <td>0.5730</td>\n",
              "      <td>0.1290</td>\n",
              "      <td>-0.3825</td>\n",
              "      <td>0.0120</td>\n",
              "    </tr>\n",
              "    <tr>\n",
              "      <th>1</th>\n",
              "      <td>0.0290</td>\n",
              "      <td>-1.1485</td>\n",
              "      <td>-1.1775</td>\n",
              "      <td>0.5595</td>\n",
              "      <td>0.6035</td>\n",
              "      <td>-1.1630</td>\n",
              "      <td>0.1675</td>\n",
              "      <td>0.2585</td>\n",
              "      <td>0.5735</td>\n",
              "      <td>0.1280</td>\n",
              "      <td>-0.3835</td>\n",
              "      <td>0.0140</td>\n",
              "    </tr>\n",
              "    <tr>\n",
              "      <th>2</th>\n",
              "      <td>0.0300</td>\n",
              "      <td>-1.1450</td>\n",
              "      <td>-1.1750</td>\n",
              "      <td>0.5570</td>\n",
              "      <td>0.6030</td>\n",
              "      <td>-1.1595</td>\n",
              "      <td>0.1655</td>\n",
              "      <td>0.2585</td>\n",
              "      <td>0.5760</td>\n",
              "      <td>0.1290</td>\n",
              "      <td>-0.3810</td>\n",
              "      <td>0.0150</td>\n",
              "    </tr>\n",
              "    <tr>\n",
              "      <th>3</th>\n",
              "      <td>0.0275</td>\n",
              "      <td>-1.1475</td>\n",
              "      <td>-1.1750</td>\n",
              "      <td>0.5595</td>\n",
              "      <td>0.6015</td>\n",
              "      <td>-1.1610</td>\n",
              "      <td>0.1620</td>\n",
              "      <td>0.2590</td>\n",
              "      <td>0.5760</td>\n",
              "      <td>0.1280</td>\n",
              "      <td>-0.3820</td>\n",
              "      <td>0.0160</td>\n",
              "    </tr>\n",
              "    <tr>\n",
              "      <th>4</th>\n",
              "      <td>0.0295</td>\n",
              "      <td>-1.1490</td>\n",
              "      <td>-1.1785</td>\n",
              "      <td>0.5595</td>\n",
              "      <td>0.6045</td>\n",
              "      <td>-1.1635</td>\n",
              "      <td>0.1620</td>\n",
              "      <td>0.2575</td>\n",
              "      <td>0.5770</td>\n",
              "      <td>0.1275</td>\n",
              "      <td>-0.3820</td>\n",
              "      <td>0.0155</td>\n",
              "    </tr>\n",
              "  </tbody>\n",
              "</table>\n",
              "</div>"
            ],
            "text/plain": [
              "        i      ii     iii     avr  ...      v3      v4      v5      v6\n",
              "0  0.0310 -1.1485 -1.1795  0.5585  ...  0.5730  0.1290 -0.3825  0.0120\n",
              "1  0.0290 -1.1485 -1.1775  0.5595  ...  0.5735  0.1280 -0.3835  0.0140\n",
              "2  0.0300 -1.1450 -1.1750  0.5570  ...  0.5760  0.1290 -0.3810  0.0150\n",
              "3  0.0275 -1.1475 -1.1750  0.5595  ...  0.5760  0.1280 -0.3820  0.0160\n",
              "4  0.0295 -1.1490 -1.1785  0.5595  ...  0.5770  0.1275 -0.3820  0.0155\n",
              "\n",
              "[5 rows x 12 columns]"
            ]
          },
          "metadata": {
            "tags": []
          },
          "execution_count": 8
        }
      ]
    },
    {
      "cell_type": "code",
      "metadata": {
        "id": "usoZpjNDOLty"
      },
      "source": [
        "df = []"
      ],
      "execution_count": 9,
      "outputs": []
    },
    {
      "cell_type": "code",
      "metadata": {
        "colab": {
          "base_uri": "https://localhost:8080/"
        },
        "id": "lp9hi7LBhwF1",
        "outputId": "a3201c6e-9045-44f9-8ceb-e760313813c6"
      },
      "source": [
        "x_train = []\n",
        "\n",
        "for i in range(len(train_hel)):\n",
        "    s = pd.read_csv(train_hel[i] , index_col=0)\n",
        "    s = (s-np.mean(s))/(np.std(s)+1e-30)\n",
        "    x_train.append(s)\n",
        "\n",
        "for i in range(len(train_inf)):\n",
        "    s = pd.read_csv(train_inf[i] , index_col=0)\n",
        "    s = (s-np.mean(s))/(np.std(s)+1e-30)\n",
        "    x_train.append(s)\n",
        "\n",
        "x_train = np.array(x_train)\n",
        "x_train.shape"
      ],
      "execution_count": 10,
      "outputs": [
        {
          "output_type": "execute_result",
          "data": {
            "text/plain": [
              "(3932, 8000, 12)"
            ]
          },
          "metadata": {
            "tags": []
          },
          "execution_count": 10
        }
      ]
    },
    {
      "cell_type": "code",
      "metadata": {
        "colab": {
          "base_uri": "https://localhost:8080/"
        },
        "id": "WZeBwAvugVxQ",
        "outputId": "f5a7ba68-4360-40bd-dcab-01ab0fe0bb79"
      },
      "source": [
        "y_train = np.concatenate((y_tr_h , y_tr_i) , axis=0)\n",
        "y_train.shape"
      ],
      "execution_count": 11,
      "outputs": [
        {
          "output_type": "execute_result",
          "data": {
            "text/plain": [
              "(3932,)"
            ]
          },
          "metadata": {
            "tags": []
          },
          "execution_count": 11
        }
      ]
    },
    {
      "cell_type": "code",
      "metadata": {
        "colab": {
          "base_uri": "https://localhost:8080/"
        },
        "id": "oaEpze3Yl9lY",
        "outputId": "052687f8-dfe8-403f-e9bf-b5e0f441ea79"
      },
      "source": [
        "x_test = []\n",
        "\n",
        "for i in range(len(test_hel)):\n",
        "    s = pd.read_csv(test_hel[i] , index_col=0)\n",
        "    s = (s-np.mean(s))/(np.std(s)+1e-30)\n",
        "    x_test.append(s)\n",
        "\n",
        "for i in range(len(test_inf)):\n",
        "    s = pd.read_csv(test_inf[i] , index_col=0)\n",
        "    s = (s-np.mean(s))/(np.std(s)+1e-30)\n",
        "    x_test.append(s)\n",
        "\n",
        "x_test = np.array(x_test)\n",
        "x_test.shape"
      ],
      "execution_count": 12,
      "outputs": [
        {
          "output_type": "execute_result",
          "data": {
            "text/plain": [
              "(895, 8000, 12)"
            ]
          },
          "metadata": {
            "tags": []
          },
          "execution_count": 12
        }
      ]
    },
    {
      "cell_type": "code",
      "metadata": {
        "colab": {
          "base_uri": "https://localhost:8080/"
        },
        "id": "lqX7MHNbo3aD",
        "outputId": "ffa0f28e-ff06-4ed1-a22b-7befefb6adac"
      },
      "source": [
        "y_test = np.concatenate((y_te_h , y_te_i) , axis=0)\n",
        "y_test.shape"
      ],
      "execution_count": 13,
      "outputs": [
        {
          "output_type": "execute_result",
          "data": {
            "text/plain": [
              "(895,)"
            ]
          },
          "metadata": {
            "tags": []
          },
          "execution_count": 13
        }
      ]
    },
    {
      "cell_type": "code",
      "metadata": {
        "id": "upGcGAvAvKvB"
      },
      "source": [
        "x_train = np.expand_dims(x_train , -1)\n",
        "x_test = np.expand_dims(x_test , -1)"
      ],
      "execution_count": 14,
      "outputs": []
    },
    {
      "cell_type": "code",
      "metadata": {
        "id": "kZFeMYZfoUJX"
      },
      "source": [
        "# x_train = x_train.reshape(3932, 8000 , 12 , 1)\n",
        "# x_test = x_test.reshape(895, 8000 , 12 , 1)"
      ],
      "execution_count": 15,
      "outputs": []
    },
    {
      "cell_type": "code",
      "metadata": {
        "colab": {
          "base_uri": "https://localhost:8080/"
        },
        "id": "PrGtPs0Kplwu",
        "outputId": "c3b8b7c9-1e1a-4a01-a74d-f459c31ae6d5"
      },
      "source": [
        "x_train = np.concatenate((x_train , x_train[:928] , x_train[:928] , x_train[:928] , x_train[928:928+(4*928-3004)]) , axis=0 )\n",
        "x_train.shape"
      ],
      "execution_count": 16,
      "outputs": [
        {
          "output_type": "execute_result",
          "data": {
            "text/plain": [
              "(7424, 8000, 12, 1)"
            ]
          },
          "metadata": {
            "tags": []
          },
          "execution_count": 16
        }
      ]
    },
    {
      "cell_type": "code",
      "metadata": {
        "colab": {
          "base_uri": "https://localhost:8080/"
        },
        "id": "s4nE6fz3xEuW",
        "outputId": "63cc7986-6892-4ce7-c6c3-aa75791ad3b4"
      },
      "source": [
        "y_train = np.concatenate((y_train , y_train[:928] , y_train[:928] , y_train[:928] , y_train[928:928+(4*928-3004)]) , axis=0 )\n",
        "y_train.shape"
      ],
      "execution_count": 17,
      "outputs": [
        {
          "output_type": "execute_result",
          "data": {
            "text/plain": [
              "(7424,)"
            ]
          },
          "metadata": {
            "tags": []
          },
          "execution_count": 17
        }
      ]
    },
    {
      "cell_type": "code",
      "metadata": {
        "colab": {
          "base_uri": "https://localhost:8080/"
        },
        "id": "vIbgS4m9xoYr",
        "outputId": "5374db5d-8074-4a94-a62c-88e43adcd305"
      },
      "source": [
        "y_train = to_categorical(y_train)\n",
        "y_test = to_categorical(y_test)\n",
        "print(y_train[0])"
      ],
      "execution_count": 18,
      "outputs": [
        {
          "output_type": "stream",
          "text": [
            "[1. 0.]\n"
          ],
          "name": "stdout"
        }
      ]
    },
    {
      "cell_type": "code",
      "metadata": {
        "id": "3Ktvb4JqFF-g"
      },
      "source": [
        "import random \n",
        "\n",
        "temp = list(zip(x_test, y_test))\n",
        "random.shuffle(temp)\n",
        "x_test, y_test = zip(*temp)"
      ],
      "execution_count": 19,
      "outputs": []
    },
    {
      "cell_type": "code",
      "metadata": {
        "id": "v2Uo_Y83FR7F"
      },
      "source": [
        "temp = list(zip(x_train, y_train))\n",
        "random.shuffle(temp)\n",
        "x_train, y_train = zip(*temp)"
      ],
      "execution_count": 20,
      "outputs": []
    },
    {
      "cell_type": "code",
      "metadata": {
        "colab": {
          "base_uri": "https://localhost:8080/"
        },
        "id": "8MFzFpDOHA7t",
        "outputId": "2c3dfc4b-e189-45e0-dc9f-2ccc3066cda3"
      },
      "source": [
        "x_train = np.array(x_train)\n",
        "x_train.shape"
      ],
      "execution_count": 21,
      "outputs": [
        {
          "output_type": "execute_result",
          "data": {
            "text/plain": [
              "(7424, 8000, 12, 1)"
            ]
          },
          "metadata": {
            "tags": []
          },
          "execution_count": 21
        }
      ]
    },
    {
      "cell_type": "code",
      "metadata": {
        "colab": {
          "base_uri": "https://localhost:8080/"
        },
        "id": "mRSZyr_zHwO8",
        "outputId": "d92f4758-ed2c-4649-914c-37dd69b763ef"
      },
      "source": [
        "y_train = np.array(y_train)\n",
        "y_train.shape"
      ],
      "execution_count": 22,
      "outputs": [
        {
          "output_type": "execute_result",
          "data": {
            "text/plain": [
              "(7424, 2)"
            ]
          },
          "metadata": {
            "tags": []
          },
          "execution_count": 22
        }
      ]
    },
    {
      "cell_type": "code",
      "metadata": {
        "colab": {
          "base_uri": "https://localhost:8080/"
        },
        "id": "bW2S3SjnIROT",
        "outputId": "a33b8091-a1ac-4803-9863-5248e62ae614"
      },
      "source": [
        "x_test = np.array(x_test)\n",
        "x_test.shape\n",
        "\n",
        "y_test = np.array(y_test)\n",
        "y_test.shape"
      ],
      "execution_count": 23,
      "outputs": [
        {
          "output_type": "execute_result",
          "data": {
            "text/plain": [
              "(895, 2)"
            ]
          },
          "metadata": {
            "tags": []
          },
          "execution_count": 23
        }
      ]
    },
    {
      "cell_type": "code",
      "metadata": {
        "colab": {
          "base_uri": "https://localhost:8080/"
        },
        "id": "1KtOq6trGzl3",
        "outputId": "f8d74fe3-75ed-4bae-8b4d-88b912216ef7"
      },
      "source": [
        "y_train[:10]"
      ],
      "execution_count": 24,
      "outputs": [
        {
          "output_type": "execute_result",
          "data": {
            "text/plain": [
              "array([[0., 1.],\n",
              "       [0., 1.],\n",
              "       [1., 0.],\n",
              "       [1., 0.],\n",
              "       [1., 0.],\n",
              "       [0., 1.],\n",
              "       [0., 1.],\n",
              "       [1., 0.],\n",
              "       [1., 0.],\n",
              "       [0., 1.]], dtype=float32)"
            ]
          },
          "metadata": {
            "tags": []
          },
          "execution_count": 24
        }
      ]
    },
    {
      "cell_type": "code",
      "metadata": {
        "id": "rZMM4T24tWzR"
      },
      "source": [
        "model = Sequential()\n",
        "\n",
        "model.add(Conv2D(8, (3,3),strides = (1,1),kernel_initializer='glorot_uniform'))\n",
        "model.add(BatchNormalization())\n",
        "model.add(keras.layers.ELU())\n",
        "\n",
        "model.add(Conv2D(8, (3,3),strides = (2,1),kernel_initializer='glorot_uniform'))\n",
        "model.add(BatchNormalization())\n",
        "model.add(keras.layers.ELU())\n",
        "\n",
        "model.add(MaxPool2D(pool_size=(2, 1), strides= (2,1)))\n",
        "\n",
        "model.add(Conv2D(16, (3,3),strides = (2,1),kernel_initializer='glorot_uniform'))\n",
        "model.add(BatchNormalization())\n",
        "model.add(keras.layers.ELU())\n",
        "\n",
        "\n",
        "model.add(Conv2D(32, (3,3),strides = (2,1),kernel_initializer='glorot_uniform'))\n",
        "model.add(BatchNormalization())\n",
        "model.add(keras.layers.ELU())\n",
        "\n",
        "model.add(MaxPool2D(pool_size=(2, 1), strides= (2,1)))\n",
        "\n",
        "model.add(Conv2D(32, (3,3),strides = (2,1),kernel_initializer='glorot_uniform'))\n",
        "model.add(BatchNormalization())\n",
        "model.add(keras.layers.ELU())\n",
        "\n",
        "\n",
        "# model.add(Conv2D(256, (3,3),strides = (1,1),kernel_initializer='glorot_uniform'))\n",
        "# model.add(BatchNormalization())\n",
        "# model.add(keras.layers.ELU())\n",
        "\n",
        "model.add(MaxPool2D(pool_size=(2, 2), strides= (2,2)))\n",
        "\n",
        "model.add(Flatten())\n",
        "model.add(Dense(32))\n",
        "model.add(keras.layers.ELU())\n",
        "model.add(BatchNormalization())\n",
        "model.add(Dropout(0.5))\n",
        "model.add(Dense(2, activation='sigmoid'))\n",
        "\n",
        "model.compile(loss='binary_crossentropy', optimizer='adam', metrics=['accuracy'])"
      ],
      "execution_count": null,
      "outputs": []
    },
    {
      "cell_type": "code",
      "metadata": {
        "id": "vLCkD_Ee2Og4"
      },
      "source": [
        "m = Sequential()\n",
        "m.add(GaussianNoise(0.1))\n",
        "m.add(Conv1D(16,\n",
        "                input_shape=[8000, 12],\n",
        "                kernel_size=80,\n",
        "                strides=4,\n",
        "                padding='same',\n",
        "                kernel_initializer='glorot_uniform',\n",
        "                kernel_regularizer=regularizers.l2(l=0.0001)))\n",
        "m.add(BatchNormalization())\n",
        "m.add(Activation('relu'))\n",
        "m.add(MaxPooling1D(pool_size=4, strides=None))\n",
        "\n",
        "m.add(Conv1D(24,\n",
        "                kernel_size=3,\n",
        "                strides=1,\n",
        "                padding='same',\n",
        "                kernel_initializer='glorot_uniform',\n",
        "                kernel_regularizer=regularizers.l2(l=0.0001)))\n",
        "m.add(BatchNormalization())\n",
        "m.add(Activation('relu'))\n",
        "m.add(MaxPooling1D(pool_size=4, strides=None))\n",
        "\n",
        "m.add(Conv1D(48,\n",
        "                kernel_size=3,\n",
        "                strides=1,\n",
        "                padding='same',\n",
        "                kernel_initializer='glorot_uniform',\n",
        "                kernel_regularizer=regularizers.l2(l=0.0001)))\n",
        "m.add(BatchNormalization())\n",
        "m.add(Activation('relu'))\n",
        "m.add(MaxPooling1D(pool_size=4, strides=None))\n",
        "\n",
        "m.add(Conv1D(96,\n",
        "                kernel_size=3,\n",
        "                strides=1,\n",
        "                padding='same',\n",
        "                kernel_initializer='glorot_uniform',\n",
        "                kernel_regularizer=regularizers.l2(l=0.0001)))\n",
        "m.add(BatchNormalization())\n",
        "m.add(Activation('relu'))\n",
        "m.add(MaxPooling1D(pool_size=4, strides=None))\n",
        "\n",
        "m.add(Lambda(lambda x: K.mean(x, axis=1)))  # Same as GAP for 1D Conv Layer\n",
        "# m.add(Flatten())\n",
        "# m.add(Dropout(0.5))\n",
        "# m.add(Dense(16, activation='relu'))\n",
        "\n",
        "m.add(Dropout(0.5))\n",
        "m.add(Dense(2, activation='sigmoid'))"
      ],
      "execution_count": 25,
      "outputs": []
    },
    {
      "cell_type": "code",
      "metadata": {
        "id": "HtArStAYEFVV"
      },
      "source": [
        "m.build(input_shape=(None, 8000, 12))"
      ],
      "execution_count": 26,
      "outputs": []
    },
    {
      "cell_type": "code",
      "metadata": {
        "colab": {
          "base_uri": "https://localhost:8080/"
        },
        "id": "BLmXEl2VzHfv",
        "outputId": "df1cee40-e8fe-4da8-efde-fac6721e8c7e"
      },
      "source": [
        "m.summary()"
      ],
      "execution_count": 27,
      "outputs": [
        {
          "output_type": "stream",
          "text": [
            "Model: \"sequential\"\n",
            "_________________________________________________________________\n",
            "Layer (type)                 Output Shape              Param #   \n",
            "=================================================================\n",
            "gaussian_noise (GaussianNois (None, 8000, 12)          0         \n",
            "_________________________________________________________________\n",
            "conv1d (Conv1D)              (None, 2000, 16)          15376     \n",
            "_________________________________________________________________\n",
            "batch_normalization (BatchNo (None, 2000, 16)          64        \n",
            "_________________________________________________________________\n",
            "activation (Activation)      (None, 2000, 16)          0         \n",
            "_________________________________________________________________\n",
            "max_pooling1d (MaxPooling1D) (None, 500, 16)           0         \n",
            "_________________________________________________________________\n",
            "conv1d_1 (Conv1D)            (None, 500, 24)           1176      \n",
            "_________________________________________________________________\n",
            "batch_normalization_1 (Batch (None, 500, 24)           96        \n",
            "_________________________________________________________________\n",
            "activation_1 (Activation)    (None, 500, 24)           0         \n",
            "_________________________________________________________________\n",
            "max_pooling1d_1 (MaxPooling1 (None, 125, 24)           0         \n",
            "_________________________________________________________________\n",
            "conv1d_2 (Conv1D)            (None, 125, 48)           3504      \n",
            "_________________________________________________________________\n",
            "batch_normalization_2 (Batch (None, 125, 48)           192       \n",
            "_________________________________________________________________\n",
            "activation_2 (Activation)    (None, 125, 48)           0         \n",
            "_________________________________________________________________\n",
            "max_pooling1d_2 (MaxPooling1 (None, 31, 48)            0         \n",
            "_________________________________________________________________\n",
            "conv1d_3 (Conv1D)            (None, 31, 96)            13920     \n",
            "_________________________________________________________________\n",
            "batch_normalization_3 (Batch (None, 31, 96)            384       \n",
            "_________________________________________________________________\n",
            "activation_3 (Activation)    (None, 31, 96)            0         \n",
            "_________________________________________________________________\n",
            "max_pooling1d_3 (MaxPooling1 (None, 7, 96)             0         \n",
            "_________________________________________________________________\n",
            "lambda (Lambda)              (None, 96)                0         \n",
            "_________________________________________________________________\n",
            "dropout (Dropout)            (None, 96)                0         \n",
            "_________________________________________________________________\n",
            "dense (Dense)                (None, 2)                 194       \n",
            "=================================================================\n",
            "Total params: 34,906\n",
            "Trainable params: 34,538\n",
            "Non-trainable params: 368\n",
            "_________________________________________________________________\n"
          ],
          "name": "stdout"
        }
      ]
    },
    {
      "cell_type": "code",
      "metadata": {
        "id": "pafL7Li0jyXW"
      },
      "source": [
        "m.compile(optimizer=Adadelta(learning_rate=0.0001),\n",
        "                loss='binary_crossentropy',\n",
        "                metrics=['accuracy'])"
      ],
      "execution_count": 49,
      "outputs": []
    },
    {
      "cell_type": "code",
      "metadata": {
        "colab": {
          "base_uri": "https://localhost:8080/"
        },
        "id": "1NkEOlTOwTWS",
        "outputId": "c0de2433-d22c-4716-dcd1-f626b2cc7390"
      },
      "source": [
        "# reduce_lr = ReduceLROnPlateau(monitor='val_acc', factor=0.5, patience=10, min_lr=0.0001, verbose=1)\n",
        "batch_size = 32\n",
        "\n",
        "m.fit(x=x_train,\n",
        "        y=y_train,\n",
        "        batch_size=batch_size,\n",
        "        epochs=30,\n",
        "        verbose=1,\n",
        "        validation_split = 0.2,\n",
        ")\n",
        "        # callbacks=[reduce_lr])"
      ],
      "execution_count": 50,
      "outputs": [
        {
          "output_type": "stream",
          "text": [
            "Epoch 1/30\n",
            "186/186 [==============================] - 5s 18ms/step - loss: 0.2575 - accuracy: 0.9156 - val_loss: 0.1670 - val_accuracy: 0.9502\n",
            "Epoch 2/30\n",
            "186/186 [==============================] - 3s 14ms/step - loss: 0.2532 - accuracy: 0.9201 - val_loss: 0.1680 - val_accuracy: 0.9522\n",
            "Epoch 3/30\n",
            "186/186 [==============================] - 3s 14ms/step - loss: 0.2553 - accuracy: 0.9185 - val_loss: 0.1674 - val_accuracy: 0.9515\n",
            "Epoch 4/30\n",
            "186/186 [==============================] - 3s 16ms/step - loss: 0.2569 - accuracy: 0.9198 - val_loss: 0.1670 - val_accuracy: 0.9502\n",
            "Epoch 5/30\n",
            "186/186 [==============================] - 3s 15ms/step - loss: 0.2521 - accuracy: 0.9231 - val_loss: 0.1669 - val_accuracy: 0.9515\n",
            "Epoch 6/30\n",
            "186/186 [==============================] - 3s 15ms/step - loss: 0.2516 - accuracy: 0.9260 - val_loss: 0.1677 - val_accuracy: 0.9522\n",
            "Epoch 7/30\n",
            "186/186 [==============================] - 3s 15ms/step - loss: 0.2597 - accuracy: 0.9172 - val_loss: 0.1667 - val_accuracy: 0.9515\n",
            "Epoch 8/30\n",
            "186/186 [==============================] - 3s 15ms/step - loss: 0.2559 - accuracy: 0.9226 - val_loss: 0.1665 - val_accuracy: 0.9515\n",
            "Epoch 9/30\n",
            "186/186 [==============================] - 3s 15ms/step - loss: 0.2492 - accuracy: 0.9234 - val_loss: 0.1664 - val_accuracy: 0.9515\n",
            "Epoch 10/30\n",
            "186/186 [==============================] - 3s 15ms/step - loss: 0.2426 - accuracy: 0.9320 - val_loss: 0.1657 - val_accuracy: 0.9515\n",
            "Epoch 11/30\n",
            "186/186 [==============================] - 3s 15ms/step - loss: 0.2557 - accuracy: 0.9194 - val_loss: 0.1662 - val_accuracy: 0.9522\n",
            "Epoch 12/30\n",
            "186/186 [==============================] - 3s 15ms/step - loss: 0.2576 - accuracy: 0.9184 - val_loss: 0.1657 - val_accuracy: 0.9515\n",
            "Epoch 13/30\n",
            "186/186 [==============================] - 3s 15ms/step - loss: 0.2556 - accuracy: 0.9137 - val_loss: 0.1659 - val_accuracy: 0.9522\n",
            "Epoch 14/30\n",
            "186/186 [==============================] - 3s 14ms/step - loss: 0.2459 - accuracy: 0.9221 - val_loss: 0.1658 - val_accuracy: 0.9522\n",
            "Epoch 15/30\n",
            "186/186 [==============================] - 3s 15ms/step - loss: 0.2593 - accuracy: 0.9173 - val_loss: 0.1651 - val_accuracy: 0.9502\n",
            "Epoch 16/30\n",
            "186/186 [==============================] - 3s 15ms/step - loss: 0.2472 - accuracy: 0.9261 - val_loss: 0.1657 - val_accuracy: 0.9522\n",
            "Epoch 17/30\n",
            "186/186 [==============================] - 3s 15ms/step - loss: 0.2476 - accuracy: 0.9253 - val_loss: 0.1647 - val_accuracy: 0.9515\n",
            "Epoch 18/30\n",
            "186/186 [==============================] - 3s 15ms/step - loss: 0.2517 - accuracy: 0.9165 - val_loss: 0.1648 - val_accuracy: 0.9515\n",
            "Epoch 19/30\n",
            "186/186 [==============================] - 3s 15ms/step - loss: 0.2546 - accuracy: 0.9205 - val_loss: 0.1643 - val_accuracy: 0.9515\n",
            "Epoch 20/30\n",
            "186/186 [==============================] - 3s 15ms/step - loss: 0.2467 - accuracy: 0.9253 - val_loss: 0.1647 - val_accuracy: 0.9522\n",
            "Epoch 21/30\n",
            "186/186 [==============================] - 3s 15ms/step - loss: 0.2417 - accuracy: 0.9275 - val_loss: 0.1652 - val_accuracy: 0.9529\n",
            "Epoch 22/30\n",
            "186/186 [==============================] - 3s 14ms/step - loss: 0.2631 - accuracy: 0.9150 - val_loss: 0.1648 - val_accuracy: 0.9522\n",
            "Epoch 23/30\n",
            "186/186 [==============================] - 3s 15ms/step - loss: 0.2537 - accuracy: 0.9210 - val_loss: 0.1639 - val_accuracy: 0.9515\n",
            "Epoch 24/30\n",
            "186/186 [==============================] - 3s 15ms/step - loss: 0.2521 - accuracy: 0.9231 - val_loss: 0.1642 - val_accuracy: 0.9515\n",
            "Epoch 25/30\n",
            "186/186 [==============================] - 3s 15ms/step - loss: 0.2540 - accuracy: 0.9196 - val_loss: 0.1640 - val_accuracy: 0.9522\n",
            "Epoch 26/30\n",
            "186/186 [==============================] - 3s 15ms/step - loss: 0.2489 - accuracy: 0.9177 - val_loss: 0.1638 - val_accuracy: 0.9515\n",
            "Epoch 27/30\n",
            "186/186 [==============================] - 3s 14ms/step - loss: 0.2525 - accuracy: 0.9187 - val_loss: 0.1640 - val_accuracy: 0.9529\n",
            "Epoch 28/30\n",
            "186/186 [==============================] - 3s 14ms/step - loss: 0.2542 - accuracy: 0.9163 - val_loss: 0.1639 - val_accuracy: 0.9529\n",
            "Epoch 29/30\n",
            "186/186 [==============================] - 3s 14ms/step - loss: 0.2542 - accuracy: 0.9204 - val_loss: 0.1632 - val_accuracy: 0.9515\n",
            "Epoch 30/30\n",
            "186/186 [==============================] - 3s 14ms/step - loss: 0.2453 - accuracy: 0.9240 - val_loss: 0.1635 - val_accuracy: 0.9529\n"
          ],
          "name": "stdout"
        },
        {
          "output_type": "execute_result",
          "data": {
            "text/plain": [
              "<tensorflow.python.keras.callbacks.History at 0x7f32482b7a90>"
            ]
          },
          "metadata": {
            "tags": []
          },
          "execution_count": 50
        }
      ]
    },
    {
      "cell_type": "code",
      "metadata": {
        "colab": {
          "base_uri": "https://localhost:8080/"
        },
        "id": "w7NNq3DI-a1o",
        "outputId": "1c0b4b28-3894-4ddf-94d8-cdda841ed9d5"
      },
      "source": [
        "m.evaluate(x_test , y_test)"
      ],
      "execution_count": 51,
      "outputs": [
        {
          "output_type": "stream",
          "text": [
            "28/28 [==============================] - 0s 7ms/step - loss: 0.1453 - accuracy: 0.9732\n"
          ],
          "name": "stdout"
        },
        {
          "output_type": "execute_result",
          "data": {
            "text/plain": [
              "[0.14527316391468048, 0.97318434715271]"
            ]
          },
          "metadata": {
            "tags": []
          },
          "execution_count": 51
        }
      ]
    },
    {
      "cell_type": "code",
      "metadata": {
        "colab": {
          "base_uri": "https://localhost:8080/",
          "height": 476
        },
        "id": "b5u8Y4idw8Nd",
        "outputId": "58c1ea5a-fd02-4976-f339-d4b384775285"
      },
      "source": [
        "pred = m.predict(x_test)\n",
        "pr = [np.argmax(pred[i]) for i in range(len(y_test))]\n",
        "Y = [np.argmax(y_test[i]) for i in range(len(y_test))]\n",
        "\n",
        "# for i in range(len(y_test)):\n",
        "#     pred.append(np.argmax(m.predict(x_test[i])))\n",
        "#     Y.append(np.argmax(y_test[i]))\n",
        "\n",
        "conf_plotter(Y , pr , ['Healthy' , 'Myocardial \\n Infarction'] , normalize=1, cmap = plt.cm.Greens ,mode='test', save=1 , name='Myocardial Infarction_try1.png')"
      ],
      "execution_count": 57,
      "outputs": [
        {
          "output_type": "execute_result",
          "data": {
            "text/plain": [
              "<matplotlib.axes._subplots.AxesSubplot at 0x7f3245f7f450>"
            ]
          },
          "metadata": {
            "tags": []
          },
          "execution_count": 57
        },
        {
          "output_type": "display_data",
          "data": {
            "image/png": "[encoded data removed]",
            "text/plain": [
              "<Figure size 504x504 with 2 Axes>"
            ]
          },
          "metadata": {
            "tags": [],
            "needs_background": "light"
          }
        }
      ]
    },
    {
      "cell_type": "code",
      "metadata": {
        "colab": {
          "base_uri": "https://localhost:8080/"
        },
        "id": "mGiwFwmEHpH0",
        "outputId": "4cd2ff22-cb41-406f-f09d-2950d7382621"
      },
      "source": [
        "from sklearn.metrics import classification_report\n",
        "\n",
        "target_names = ['Healthy' , 'Myocardial Infarction']\n",
        "print(classification_report(Y, pr, target_names=target_names))"
      ],
      "execution_count": 58,
      "outputs": [
        {
          "output_type": "stream",
          "text": [
            "                       precision    recall  f1-score   support\n",
            "\n",
            "              Healthy       0.94      0.96      0.95       240\n",
            "Myocardial Infarction       0.98      0.98      0.98       655\n",
            "\n",
            "             accuracy                           0.97       895\n",
            "            macro avg       0.96      0.97      0.97       895\n",
            "         weighted avg       0.97      0.97      0.97       895\n",
            "\n"
          ],
          "name": "stdout"
        }
      ]
    },
    {
      "cell_type": "code",
      "metadata": {
        "colab": {
          "base_uri": "https://localhost:8080/",
          "height": 476
        },
        "id": "h922i1BPIAKe",
        "outputId": "865c4b8b-490d-4181-ecdb-50d2fde0bb3b"
      },
      "source": [
        "pred = m.predict(x_train)\n",
        "pr = [np.argmax(pred[i]) for i in range(len(y_train))]\n",
        "Y = [np.argmax(y_train[i]) for i in range(len(y_train))]\n",
        "\n",
        "# for i in range(len(y_test)):\n",
        "#     pred.append(np.argmax(m.predict(x_test[i])))\n",
        "#     Y.append(np.argmax(y_test[i]))\n",
        "\n",
        "conf_plotter(Y , pr , ['Healthy' , 'Myocardial \\n Infarction'] , normalize=1, cmap = plt.cm.Reds ,mode='train', save=0 , name='RawData_Deep_physionet.png')"
      ],
      "execution_count": 55,
      "outputs": [
        {
          "output_type": "execute_result",
          "data": {
            "text/plain": [
              "<matplotlib.axes._subplots.AxesSubplot at 0x7f3245ffa550>"
            ]
          },
          "metadata": {
            "tags": []
          },
          "execution_count": 55
        },
        {
          "output_type": "display_data",
          "data": {
            "image/png": "[encoded data removed]",
            "text/plain": [
              "<Figure size 504x504 with 2 Axes>"
            ]
          },
          "metadata": {
            "tags": [],
            "needs_background": "light"
          }
        }
      ]
    },
    {
      "cell_type": "code",
      "metadata": {
        "colab": {
          "base_uri": "https://localhost:8080/"
        },
        "id": "-7hs5mUxZvLp",
        "outputId": "f8e9e8a8-8ab6-4e7f-a181-ee92e8c4be25"
      },
      "source": [
        "from sklearn.metrics import classification_report\n",
        "\n",
        "target_names = ['Healthy' , 'Myocardial Infarction']\n",
        "print(classification_report(Y, pr, target_names=target_names))"
      ],
      "execution_count": 56,
      "outputs": [
        {
          "output_type": "stream",
          "text": [
            "                       precision    recall  f1-score   support\n",
            "\n",
            "              Healthy       0.93      0.97      0.95      3712\n",
            "Myocardial Infarction       0.97      0.93      0.95      3712\n",
            "\n",
            "             accuracy                           0.95      7424\n",
            "            macro avg       0.95      0.95      0.95      7424\n",
            "         weighted avg       0.95      0.95      0.95      7424\n",
            "\n"
          ],
          "name": "stdout"
        }
      ]
    },
    {
      "cell_type": "code",
      "metadata": {
        "id": "UFJxxlJj61dM"
      },
      "source": [
        "    def conf_plotter(y_true, y_pred, classes,\n",
        "                      normalize=0,\n",
        "                      title=None,\n",
        "                      cmap=plt.cm.pink_r,\n",
        "                      mode = 'train',\n",
        "                      save = 0,\n",
        "                      name = 'conf.jpg'):\n",
        "        # if not title:\n",
        "        #     if mode == 'train':\n",
        "        #         title = 'Normalized confusion matrix on train dataset'\n",
        "        #     if mode == 'test':\n",
        "        #         title = 'Normalized confusion matrix on test dataset'\n",
        "        #     if mode == 'prob':\n",
        "        #         title = 'Normalized confusion matrix on Non-Overlapping test dataset'\n",
        "                \n",
        "\n",
        "        from sklearn.metrics import confusion_matrix\n",
        "        \n",
        "        cm = confusion_matrix(y_true, y_pred)\n",
        "\n",
        "        if normalize:\n",
        "            cm = cm.astype('float') / cm.sum(axis=1)[:, np.newaxis]\n",
        "\n",
        "\n",
        "        fig, ax = plt.subplots(figsize=(7,7))\n",
        "        im = ax.imshow(cm, interpolation='nearest', cmap=cmap)\n",
        "        ax.figure.colorbar(im, ax=ax ,fraction=0.046, pad=0.04)\n",
        "        ax.set(xticks=np.arange(cm.shape[0]),\n",
        "              yticks=np.arange(cm.shape[1]),\n",
        "              xticklabels=classes, yticklabels=classes,\n",
        "              title=title,\n",
        "              ylabel= 'True label',\n",
        "              xlabel='Predicted label')\n",
        "        \n",
        "        for item in ([ax.title, ax.xaxis.label, ax.yaxis.label] ):\n",
        "                        \n",
        "            item.set_fontsize(12)\n",
        "        \n",
        "        for item in (ax.get_xticklabels() + ax.get_yticklabels()):\n",
        "            \n",
        "            item.set_fontsize(10)\n",
        "\n",
        "            \n",
        "                    \n",
        "        plt.gca().invert_yaxis()\n",
        "        plt.setp(ax.get_xticklabels(), rotation=45, ha=\"right\",\n",
        "                rotation_mode=\"anchor\")\n",
        "\n",
        "        fmt = '.2f' if normalize else 'd'\n",
        "        thresh = cm.max() / 2.\n",
        "        for i in range(cm.shape[0]):\n",
        "            for j in range(cm.shape[1]):\n",
        "                ax.text(j, i, format(cm[i, j], fmt),\n",
        "                        ha=\"center\", va=\"center\",\n",
        "                        color=\"white\" if cm[i, j] > thresh else \"black\")\n",
        "        fig.tight_layout()\n",
        "        if save == 1:\n",
        "            plt.savefig(name)\n",
        "        return ax"
      ],
      "execution_count": 32,
      "outputs": []
    },
    {
      "cell_type": "code",
      "metadata": {
        "id": "RIkW0JL_66rp"
      },
      "source": [
        ""
      ],
      "execution_count": null,
      "outputs": []
    }
  ]
}