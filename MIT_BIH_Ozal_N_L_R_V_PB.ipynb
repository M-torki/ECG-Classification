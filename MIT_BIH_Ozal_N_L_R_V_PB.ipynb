{
  "nbformat": 4,
  "nbformat_minor": 0,
  "metadata": {
    "colab": {
      "name": "MIT-BIH: Ozal_N-L-R-V-PB.ipynb",
      "provenance": [],
      "collapsed_sections": [],
      "include_colab_link": true
    },
    "kernelspec": {
      "display_name": "Python 3",
      "name": "python3"
    },
    "language_info": {
      "name": "python"
    }
  },
  "cells": [
    {
      "cell_type": "markdown",
      "metadata": {
        "id": "view-in-github",
        "colab_type": "text"
      },
      "source": [
        "<a href=\"https://colab.research.google.com/github/M-torki/ECG-Classification/blob/main/MIT_BIH_Ozal_N_L_R_V_PB.ipynb\" target=\"_parent\"><img src=\"https://colab.research.google.com/assets/colab-badge.svg\" alt=\"Open In Colab\"/></a>"
      ]
    },
    {
      "cell_type": "markdown",
      "metadata": {
        "id": "83Q2qyu_0Lmb"
      },
      "source": [
        "Main Dataset used in this study is MIT-BIH Arrhythmia database from PhysioNet:\n",
        "[This](https://physionet.org/content/mitdb/1.0.0/) \n",
        "is a link to physionet MIT-BIH.\n",
        "\n",
        "Arrhythmia classes are prepared according to Ozal Yildirim's in this NoteBook.\n",
        "\n",
        "link to related papers:\n",
        "[Ozal Paper](https://sci-hub.do/https://www.sciencedirect.com/science/article/abs/pii/S0010482518300738) \n",
        "&\n",
        "[Ozal et al. paper](https://sci-hub.do/https://www.sciencedirect.com/science/article/abs/pii/S0169260718314329)\n",
        "\n",
        "Arryhthmia calsses: \n",
        "\n",
        "L: Left bundle branch block \n",
        "\n",
        "R: Right bundle branch block\n",
        "\n",
        "V: Premature ventricular contraction\n",
        "\n",
        "PB(/): Paced beat\n",
        "\n",
        "N: Normal\n",
        "\n",
        "\n",
        "\n",
        "Test and train sets are seperated according to patients (ie. not just beats)."
      ]
    },
    {
      "cell_type": "code",
      "metadata": {
        "colab": {
          "base_uri": "https://localhost:8080/"
        },
        "id": "hLORSDsD-nWz",
        "outputId": "6656559f-3d27-4cfb-a6a3-d9fb6bcf3a91"
      },
      "source": [
        "from google.colab import drive\n",
        "drive.mount('/content/drive')"
      ],
      "execution_count": null,
      "outputs": [
        {
          "output_type": "stream",
          "text": [
            "Mounted at /content/drive\n"
          ],
          "name": "stdout"
        }
      ]
    },
    {
      "cell_type": "code",
      "metadata": {
        "colab": {
          "base_uri": "https://localhost:8080/"
        },
        "id": "wjUtd8Y0-qmM",
        "outputId": "58c94cbb-2b19-41cd-c901-9696234a4d43"
      },
      "source": [
        "!pip install wfdb"
      ],
      "execution_count": null,
      "outputs": [
        {
          "output_type": "stream",
          "text": [
            "Collecting wfdb\n",
            "\u001b[?25l  Downloading https://files.pythonhosted.org/packages/11/be/d5572d9a8b779857f517306db178561c417456c76124cb4c9e7d234cf5a5/wfdb-3.3.0-py3-none-any.whl (125kB)\n",
            "\r\u001b[K     |██▋                             | 10kB 16.9MB/s eta 0:00:01\r\u001b[K     |█████▎                          | 20kB 24.7MB/s eta 0:00:01\r\u001b[K     |███████▉                        | 30kB 29.9MB/s eta 0:00:01\r\u001b[K     |██████████▌                     | 40kB 20.7MB/s eta 0:00:01\r\u001b[K     |█████████████                   | 51kB 14.6MB/s eta 0:00:01\r\u001b[K     |███████████████▊                | 61kB 12.0MB/s eta 0:00:01\r\u001b[K     |██████████████████▎             | 71kB 10.7MB/s eta 0:00:01\r\u001b[K     |█████████████████████           | 81kB 11.6MB/s eta 0:00:01\r\u001b[K     |███████████████████████▌        | 92kB 12.0MB/s eta 0:00:01\r\u001b[K     |██████████████████████████▏     | 102kB 10.8MB/s eta 0:00:01\r\u001b[K     |████████████████████████████▉   | 112kB 10.8MB/s eta 0:00:01\r\u001b[K     |███████████████████████████████▍| 122kB 10.8MB/s eta 0:00:01\r\u001b[K     |████████████████████████████████| 133kB 10.8MB/s \n",
            "\u001b[?25hRequirement already satisfied: urllib3>=1.22 in /usr/local/lib/python3.7/dist-packages (from wfdb) (1.24.3)\n",
            "Requirement already satisfied: joblib>=0.11 in /usr/local/lib/python3.7/dist-packages (from wfdb) (1.0.1)\n",
            "Requirement already satisfied: idna>=2.2 in /usr/local/lib/python3.7/dist-packages (from wfdb) (2.10)\n",
            "Requirement already satisfied: matplotlib>=2.0.0 in /usr/local/lib/python3.7/dist-packages (from wfdb) (3.2.2)\n",
            "Requirement already satisfied: scipy>=0.17.0 in /usr/local/lib/python3.7/dist-packages (from wfdb) (1.4.1)\n",
            "Requirement already satisfied: certifi>=2016.8.2 in /usr/local/lib/python3.7/dist-packages (from wfdb) (2020.12.5)\n",
            "Requirement already satisfied: requests>=2.8.1 in /usr/local/lib/python3.7/dist-packages (from wfdb) (2.23.0)\n",
            "Requirement already satisfied: cycler>=0.10.0 in /usr/local/lib/python3.7/dist-packages (from wfdb) (0.10.0)\n",
            "Requirement already satisfied: chardet>=3.0.0 in /usr/local/lib/python3.7/dist-packages (from wfdb) (3.0.4)\n",
            "Requirement already satisfied: python-dateutil>=2.4.2 in /usr/local/lib/python3.7/dist-packages (from wfdb) (2.8.1)\n",
            "Requirement already satisfied: scikit-learn>=0.18 in /usr/local/lib/python3.7/dist-packages (from wfdb) (0.22.2.post1)\n",
            "Collecting threadpoolctl>=1.0.0\n",
            "  Downloading https://files.pythonhosted.org/packages/f7/12/ec3f2e203afa394a149911729357aa48affc59c20e2c1c8297a60f33f133/threadpoolctl-2.1.0-py3-none-any.whl\n",
            "Requirement already satisfied: numpy>=1.10.1 in /usr/local/lib/python3.7/dist-packages (from wfdb) (1.19.5)\n",
            "Requirement already satisfied: pytz>=2017.2 in /usr/local/lib/python3.7/dist-packages (from wfdb) (2018.9)\n",
            "Requirement already satisfied: pandas>=0.17.0 in /usr/local/lib/python3.7/dist-packages (from wfdb) (1.1.5)\n",
            "Requirement already satisfied: kiwisolver>=1.1.0 in /usr/local/lib/python3.7/dist-packages (from wfdb) (1.3.1)\n",
            "Requirement already satisfied: pyparsing>=2.0.4 in /usr/local/lib/python3.7/dist-packages (from wfdb) (2.4.7)\n",
            "Requirement already satisfied: six in /usr/local/lib/python3.7/dist-packages (from cycler>=0.10.0->wfdb) (1.15.0)\n",
            "Installing collected packages: threadpoolctl, wfdb\n",
            "Successfully installed threadpoolctl-2.1.0 wfdb-3.3.0\n"
          ],
          "name": "stdout"
        }
      ]
    },
    {
      "cell_type": "code",
      "metadata": {
        "colab": {
          "base_uri": "https://localhost:8080/"
        },
        "id": "MNJmDa0XiR7c",
        "outputId": "7c2aa42e-b19c-4dde-f0e9-fb3bfb8a78c9"
      },
      "source": [
        "! pip install biosppy"
      ],
      "execution_count": null,
      "outputs": [
        {
          "output_type": "stream",
          "text": [
            "Collecting biosppy\n",
            "\u001b[?25l  Downloading https://files.pythonhosted.org/packages/c3/12/1f2f5e58e40513a4a7c71b0a5e2acc06637bd5c405e0b3be7ce5ada7729c/biosppy-0.7.0-py2.py3-none-any.whl (89kB)\n",
            "\r\u001b[K     |███▋                            | 10kB 16.9MB/s eta 0:00:01\r\u001b[K     |███████▎                        | 20kB 24.3MB/s eta 0:00:01\r\u001b[K     |███████████                     | 30kB 30.3MB/s eta 0:00:01\r\u001b[K     |██████████████▋                 | 40kB 25.1MB/s eta 0:00:01\r\u001b[K     |██████████████████▎             | 51kB 12.6MB/s eta 0:00:01\r\u001b[K     |██████████████████████          | 61kB 12.9MB/s eta 0:00:01\r\u001b[K     |█████████████████████████▋      | 71kB 11.5MB/s eta 0:00:01\r\u001b[K     |█████████████████████████████▎  | 81kB 12.5MB/s eta 0:00:01\r\u001b[K     |████████████████████████████████| 92kB 5.0MB/s \n",
            "\u001b[?25hRequirement already satisfied: scipy in /usr/local/lib/python3.7/dist-packages (from biosppy) (1.4.1)\n",
            "Requirement already satisfied: numpy in /usr/local/lib/python3.7/dist-packages (from biosppy) (1.19.5)\n",
            "Collecting bidict\n",
            "  Downloading https://files.pythonhosted.org/packages/67/d4/eaf9242722bf991e0955380dd6168020cb15a71cc0d3cc2373f4911b1f1d/bidict-0.21.2-py2.py3-none-any.whl\n",
            "Requirement already satisfied: h5py in /usr/local/lib/python3.7/dist-packages (from biosppy) (2.10.0)\n",
            "Requirement already satisfied: scikit-learn in /usr/local/lib/python3.7/dist-packages (from biosppy) (0.22.2.post1)\n",
            "Requirement already satisfied: matplotlib in /usr/local/lib/python3.7/dist-packages (from biosppy) (3.2.2)\n",
            "Collecting shortuuid\n",
            "  Downloading https://files.pythonhosted.org/packages/25/a6/2ecc1daa6a304e7f1b216f0896b26156b78e7c38e1211e9b798b4716c53d/shortuuid-1.0.1-py3-none-any.whl\n",
            "Requirement already satisfied: six in /usr/local/lib/python3.7/dist-packages (from biosppy) (1.15.0)\n",
            "Requirement already satisfied: joblib in /usr/local/lib/python3.7/dist-packages (from biosppy) (1.0.1)\n",
            "Requirement already satisfied: pyparsing!=2.0.4,!=2.1.2,!=2.1.6,>=2.0.1 in /usr/local/lib/python3.7/dist-packages (from matplotlib->biosppy) (2.4.7)\n",
            "Requirement already satisfied: kiwisolver>=1.0.1 in /usr/local/lib/python3.7/dist-packages (from matplotlib->biosppy) (1.3.1)\n",
            "Requirement already satisfied: cycler>=0.10 in /usr/local/lib/python3.7/dist-packages (from matplotlib->biosppy) (0.10.0)\n",
            "Requirement already satisfied: python-dateutil>=2.1 in /usr/local/lib/python3.7/dist-packages (from matplotlib->biosppy) (2.8.1)\n",
            "Installing collected packages: bidict, shortuuid, biosppy\n",
            "Successfully installed bidict-0.21.2 biosppy-0.7.0 shortuuid-1.0.1\n"
          ],
          "name": "stdout"
        }
      ]
    },
    {
      "cell_type": "code",
      "metadata": {
        "colab": {
          "base_uri": "https://localhost:8080/"
        },
        "id": "ddS-mE35iUJ3",
        "outputId": "dcd8c570-ccd2-46f1-f11f-a2175ea38358"
      },
      "source": [
        "! pip install neurokit2"
      ],
      "execution_count": null,
      "outputs": [
        {
          "output_type": "stream",
          "text": [
            "Collecting neurokit2\n",
            "\u001b[?25l  Downloading https://files.pythonhosted.org/packages/4e/4a/d2a9502942cb60e61c9ba9772c04ebd0a945fe248ed42cb520334da582b2/neurokit2-0.1.1-py2.py3-none-any.whl (990kB)\n",
            "\r\u001b[K     |▎                               | 10kB 13.3MB/s eta 0:00:01\r\u001b[K     |▋                               | 20kB 20.7MB/s eta 0:00:01\r\u001b[K     |█                               | 30kB 26.9MB/s eta 0:00:01\r\u001b[K     |█▎                              | 40kB 18.0MB/s eta 0:00:01\r\u001b[K     |█▋                              | 51kB 13.5MB/s eta 0:00:01\r\u001b[K     |██                              | 61kB 12.4MB/s eta 0:00:01\r\u001b[K     |██▎                             | 71kB 10.3MB/s eta 0:00:01\r\u001b[K     |██▋                             | 81kB 11.3MB/s eta 0:00:01\r\u001b[K     |███                             | 92kB 12.4MB/s eta 0:00:01\r\u001b[K     |███▎                            | 102kB 10.8MB/s eta 0:00:01\r\u001b[K     |███▋                            | 112kB 10.8MB/s eta 0:00:01\r\u001b[K     |████                            | 122kB 10.8MB/s eta 0:00:01\r\u001b[K     |████▎                           | 133kB 10.8MB/s eta 0:00:01\r\u001b[K     |████▋                           | 143kB 10.8MB/s eta 0:00:01\r\u001b[K     |█████                           | 153kB 10.8MB/s eta 0:00:01\r\u001b[K     |█████▎                          | 163kB 10.8MB/s eta 0:00:01\r\u001b[K     |█████▋                          | 174kB 10.8MB/s eta 0:00:01\r\u001b[K     |██████                          | 184kB 10.8MB/s eta 0:00:01\r\u001b[K     |██████▎                         | 194kB 10.8MB/s eta 0:00:01\r\u001b[K     |██████▋                         | 204kB 10.8MB/s eta 0:00:01\r\u001b[K     |███████                         | 215kB 10.8MB/s eta 0:00:01\r\u001b[K     |███████▎                        | 225kB 10.8MB/s eta 0:00:01\r\u001b[K     |███████▋                        | 235kB 10.8MB/s eta 0:00:01\r\u001b[K     |████████                        | 245kB 10.8MB/s eta 0:00:01\r\u001b[K     |████████▎                       | 256kB 10.8MB/s eta 0:00:01\r\u001b[K     |████████▋                       | 266kB 10.8MB/s eta 0:00:01\r\u001b[K     |█████████                       | 276kB 10.8MB/s eta 0:00:01\r\u001b[K     |█████████▎                      | 286kB 10.8MB/s eta 0:00:01\r\u001b[K     |█████████▋                      | 296kB 10.8MB/s eta 0:00:01\r\u001b[K     |██████████                      | 307kB 10.8MB/s eta 0:00:01\r\u001b[K     |██████████▎                     | 317kB 10.8MB/s eta 0:00:01\r\u001b[K     |██████████▋                     | 327kB 10.8MB/s eta 0:00:01\r\u001b[K     |███████████                     | 337kB 10.8MB/s eta 0:00:01\r\u001b[K     |███████████▎                    | 348kB 10.8MB/s eta 0:00:01\r\u001b[K     |███████████▋                    | 358kB 10.8MB/s eta 0:00:01\r\u001b[K     |████████████                    | 368kB 10.8MB/s eta 0:00:01\r\u001b[K     |████████████▎                   | 378kB 10.8MB/s eta 0:00:01\r\u001b[K     |████████████▋                   | 389kB 10.8MB/s eta 0:00:01\r\u001b[K     |█████████████                   | 399kB 10.8MB/s eta 0:00:01\r\u001b[K     |█████████████▎                  | 409kB 10.8MB/s eta 0:00:01\r\u001b[K     |█████████████▋                  | 419kB 10.8MB/s eta 0:00:01\r\u001b[K     |██████████████                  | 430kB 10.8MB/s eta 0:00:01\r\u001b[K     |██████████████▎                 | 440kB 10.8MB/s eta 0:00:01\r\u001b[K     |██████████████▌                 | 450kB 10.8MB/s eta 0:00:01\r\u001b[K     |██████████████▉                 | 460kB 10.8MB/s eta 0:00:01\r\u001b[K     |███████████████▏                | 471kB 10.8MB/s eta 0:00:01\r\u001b[K     |███████████████▌                | 481kB 10.8MB/s eta 0:00:01\r\u001b[K     |███████████████▉                | 491kB 10.8MB/s eta 0:00:01\r\u001b[K     |████████████████▏               | 501kB 10.8MB/s eta 0:00:01\r\u001b[K     |████████████████▌               | 512kB 10.8MB/s eta 0:00:01\r\u001b[K     |████████████████▉               | 522kB 10.8MB/s eta 0:00:01\r\u001b[K     |█████████████████▏              | 532kB 10.8MB/s eta 0:00:01\r\u001b[K     |█████████████████▌              | 542kB 10.8MB/s eta 0:00:01\r\u001b[K     |█████████████████▉              | 552kB 10.8MB/s eta 0:00:01\r\u001b[K     |██████████████████▏             | 563kB 10.8MB/s eta 0:00:01\r\u001b[K     |██████████████████▌             | 573kB 10.8MB/s eta 0:00:01\r\u001b[K     |██████████████████▉             | 583kB 10.8MB/s eta 0:00:01\r\u001b[K     |███████████████████▏            | 593kB 10.8MB/s eta 0:00:01\r\u001b[K     |███████████████████▌            | 604kB 10.8MB/s eta 0:00:01\r\u001b[K     |███████████████████▉            | 614kB 10.8MB/s eta 0:00:01\r\u001b[K     |████████████████████▏           | 624kB 10.8MB/s eta 0:00:01\r\u001b[K     |████████████████████▌           | 634kB 10.8MB/s eta 0:00:01\r\u001b[K     |████████████████████▉           | 645kB 10.8MB/s eta 0:00:01\r\u001b[K     |█████████████████████▏          | 655kB 10.8MB/s eta 0:00:01\r\u001b[K     |█████████████████████▌          | 665kB 10.8MB/s eta 0:00:01\r\u001b[K     |█████████████████████▉          | 675kB 10.8MB/s eta 0:00:01\r\u001b[K     |██████████████████████▏         | 686kB 10.8MB/s eta 0:00:01\r\u001b[K     |██████████████████████▌         | 696kB 10.8MB/s eta 0:00:01\r\u001b[K     |██████████████████████▉         | 706kB 10.8MB/s eta 0:00:01\r\u001b[K     |███████████████████████▏        | 716kB 10.8MB/s eta 0:00:01\r\u001b[K     |███████████████████████▌        | 727kB 10.8MB/s eta 0:00:01\r\u001b[K     |███████████████████████▉        | 737kB 10.8MB/s eta 0:00:01\r\u001b[K     |████████████████████████▏       | 747kB 10.8MB/s eta 0:00:01\r\u001b[K     |████████████████████████▌       | 757kB 10.8MB/s eta 0:00:01\r\u001b[K     |████████████████████████▉       | 768kB 10.8MB/s eta 0:00:01\r\u001b[K     |█████████████████████████▏      | 778kB 10.8MB/s eta 0:00:01\r\u001b[K     |█████████████████████████▌      | 788kB 10.8MB/s eta 0:00:01\r\u001b[K     |█████████████████████████▉      | 798kB 10.8MB/s eta 0:00:01\r\u001b[K     |██████████████████████████▏     | 808kB 10.8MB/s eta 0:00:01\r\u001b[K     |██████████████████████████▌     | 819kB 10.8MB/s eta 0:00:01\r\u001b[K     |██████████████████████████▉     | 829kB 10.8MB/s eta 0:00:01\r\u001b[K     |███████████████████████████▏    | 839kB 10.8MB/s eta 0:00:01\r\u001b[K     |███████████████████████████▌    | 849kB 10.8MB/s eta 0:00:01\r\u001b[K     |███████████████████████████▉    | 860kB 10.8MB/s eta 0:00:01\r\u001b[K     |████████████████████████████▏   | 870kB 10.8MB/s eta 0:00:01\r\u001b[K     |████████████████████████████▌   | 880kB 10.8MB/s eta 0:00:01\r\u001b[K     |████████████████████████████▉   | 890kB 10.8MB/s eta 0:00:01\r\u001b[K     |█████████████████████████████   | 901kB 10.8MB/s eta 0:00:01\r\u001b[K     |█████████████████████████████▍  | 911kB 10.8MB/s eta 0:00:01\r\u001b[K     |█████████████████████████████▊  | 921kB 10.8MB/s eta 0:00:01\r\u001b[K     |██████████████████████████████  | 931kB 10.8MB/s eta 0:00:01\r\u001b[K     |██████████████████████████████▍ | 942kB 10.8MB/s eta 0:00:01\r\u001b[K     |██████████████████████████████▊ | 952kB 10.8MB/s eta 0:00:01\r\u001b[K     |███████████████████████████████ | 962kB 10.8MB/s eta 0:00:01\r\u001b[K     |███████████████████████████████▍| 972kB 10.8MB/s eta 0:00:01\r\u001b[K     |███████████████████████████████▊| 983kB 10.8MB/s eta 0:00:01\r\u001b[K     |████████████████████████████████| 993kB 10.8MB/s \n",
            "\u001b[?25hRequirement already satisfied: numpy in /usr/local/lib/python3.7/dist-packages (from neurokit2) (1.19.5)\n",
            "Requirement already satisfied: scipy in /usr/local/lib/python3.7/dist-packages (from neurokit2) (1.4.1)\n",
            "Requirement already satisfied: pandas in /usr/local/lib/python3.7/dist-packages (from neurokit2) (1.1.5)\n",
            "Requirement already satisfied: scikit-learn in /usr/local/lib/python3.7/dist-packages (from neurokit2) (0.22.2.post1)\n",
            "Requirement already satisfied: matplotlib in /usr/local/lib/python3.7/dist-packages (from neurokit2) (3.2.2)\n",
            "Requirement already satisfied: pytz>=2017.2 in /usr/local/lib/python3.7/dist-packages (from pandas->neurokit2) (2018.9)\n",
            "Requirement already satisfied: python-dateutil>=2.7.3 in /usr/local/lib/python3.7/dist-packages (from pandas->neurokit2) (2.8.1)\n",
            "Requirement already satisfied: joblib>=0.11 in /usr/local/lib/python3.7/dist-packages (from scikit-learn->neurokit2) (1.0.1)\n",
            "Requirement already satisfied: pyparsing!=2.0.4,!=2.1.2,!=2.1.6,>=2.0.1 in /usr/local/lib/python3.7/dist-packages (from matplotlib->neurokit2) (2.4.7)\n",
            "Requirement already satisfied: cycler>=0.10 in /usr/local/lib/python3.7/dist-packages (from matplotlib->neurokit2) (0.10.0)\n",
            "Requirement already satisfied: kiwisolver>=1.0.1 in /usr/local/lib/python3.7/dist-packages (from matplotlib->neurokit2) (1.3.1)\n",
            "Requirement already satisfied: six>=1.5 in /usr/local/lib/python3.7/dist-packages (from python-dateutil>=2.7.3->pandas->neurokit2) (1.15.0)\n",
            "Installing collected packages: neurokit2\n",
            "Successfully installed neurokit2-0.1.1\n"
          ],
          "name": "stdout"
        }
      ]
    },
    {
      "cell_type": "code",
      "metadata": {
        "id": "Ur_oc_Zm-tSU"
      },
      "source": [
        "import os\n",
        "import numpy as np\n",
        "import wfdb\n",
        "import pywt\n",
        "import matplotlib.pyplot as plt\n",
        "import pandas as pd\n",
        "import biosppy\n",
        "import scipy\n",
        "import neurokit2 as nk\n",
        "from wfdb.processing import resample_singlechan\n",
        "from wfdb.plot import plot_items\n",
        "from wfdb.processing import normalize_bound\n",
        "from scipy.signal import find_peaks\n",
        "from scipy.signal import resample\n",
        "\n",
        "from wfdb import Annotation\n",
        "from wfdb import show_ann_labels\n",
        "from wfdb.processing import find_local_peaks"
      ],
      "execution_count": null,
      "outputs": []
    },
    {
      "cell_type": "code",
      "metadata": {
        "colab": {
          "base_uri": "https://localhost:8080/"
        },
        "id": "r4pVs_rCikZt",
        "outputId": "77f6b3a3-bc82-48e9-d7f5-3e77e88cf45c"
      },
      "source": [
        "cd drive/MyDrive/"
      ],
      "execution_count": null,
      "outputs": [
        {
          "output_type": "stream",
          "text": [
            "/content/drive/MyDrive\n"
          ],
          "name": "stdout"
        }
      ]
    },
    {
      "cell_type": "code",
      "metadata": {
        "colab": {
          "base_uri": "https://localhost:8080/"
        },
        "id": "JiV_Qmr5ipdb",
        "outputId": "f538de5d-7258-46c2-d1d3-851b6a6b7973"
      },
      "source": [
        "cd mit-bih-arrhythmia-database-1.0.0"
      ],
      "execution_count": null,
      "outputs": [
        {
          "output_type": "stream",
          "text": [
            "/content/drive/MyDrive/mit-bih-arrhythmia-database-1.0.0\n"
          ],
          "name": "stdout"
        }
      ]
    },
    {
      "cell_type": "code",
      "metadata": {
        "colab": {
          "base_uri": "https://localhost:8080/"
        },
        "id": "FGtMalyvi27A",
        "outputId": "0cacbcd4-e892-49b7-8397-ad9cdbdb7d46"
      },
      "source": [
        "ls"
      ],
      "execution_count": null,
      "outputs": [
        {
          "output_type": "stream",
          "text": [
            "100.atr    108.at_  117.at_  200.xws  210.dat  221.atr  234.atr\n",
            "100.dat    108.atr  117.atr  201.atr  210.hea  221.dat  234.dat\n",
            "100.hea    108.dat  117.dat  201.dat  210.xws  221.hea  234.hea\n",
            "100.xws    108.hea  117.hea  201.hea  212.atr  221.xws  234.xws\n",
            "101.atr    108.xws  117.xws  201.xws  212.dat  222.at_  ANNOTATORS\n",
            "101.dat    109.atr  118.atr  202.atr  212.hea  222.atr  a_train.txt\n",
            "101.hea    109.dat  118.dat  202.dat  212.xws  222.dat  A_train.txt\n",
            "101.xws    109.hea  118.hea  202.hea  213.atr  222.hea  best_model.h5\n",
            "102-0.atr  109.xws  118.xws  202.xws  213.dat  222.xws  F_train.txt\n",
            "102.atr    111.atr  119.at_  203.at_  213.hea  223.atr  J_train.txt\n",
            "102.dat    111.dat  119.atr  203.at-  213.xws  223.dat  L_train.txt\n",
            "102.hea    111.hea  119.dat  203.atr  214.at_  223.hea  \u001b[0m\u001b[01;34mMIT-BIH\u001b[0m/\n",
            "102.xws    111.xws  119.hea  203.dat  214.atr  223.xws  MIT_BIH_Record_100.csv\n",
            "103.atr    112.atr  119.xws  203.hea  214.dat  228.atr  MITBIHtest1.csv\n",
            "103.dat    112.dat  121.atr  203.xws  214.hea  228.dat  MITBIHtest2.csv\n",
            "103.hea    112.hea  121.dat  205.atr  214.xws  228.hea  MITBIHtest.csv\n",
            "103.xws    112.xws  121.hea  205.dat  215.at_  228.xws  MITBIHtrain1.csv\n",
            "104.atr    113.atr  121.xws  205.hea  215.atr  230.atr  MITBIHtrain2.csv\n",
            "104.dat    113.dat  122.atr  205.xws  215.dat  230.dat  MITBIHtrain.csv\n",
            "104.hea    113.hea  122.dat  207.atr  215.hea  230.hea  \u001b[01;34mmitdbdir\u001b[0m/\n",
            "104.xws    113.xws  122.hea  207.dat  215.xws  230.xws  N_train.txt\n",
            "105.atr    114.atr  122.xws  207.hea  217.atr  231.atr  RECORDS\n",
            "105.dat    114.dat  123.atr  207.xws  217.dat  231.dat  R_train.txt\n",
            "105.hea    114.hea  123.dat  208.atr  217.hea  231.hea  SHA256SUMS.txt\n",
            "105.xws    114.xws  123.hea  208.dat  217.xws  231.xws  slash_train.txt\n",
            "106.atr    115.atr  123.xws  208.hea  219.atr  232.atr  testdata.csv\n",
            "106.dat    115.dat  124.atr  208.xws  219.dat  232.dat  traindata.csv\n",
            "106.hea    115.hea  124.dat  209.at_  219.hea  232.hea  V_train.txt\n",
            "106.xws    115.xws  124.hea  209.atr  219.xws  232.xws  \u001b[01;34mx_mitdb\u001b[0m/\n",
            "107.atr    116.atr  124.xws  209.dat  220.atr  233.atr\n",
            "107.dat    116.dat  200.atr  209.hea  220.dat  233.dat\n",
            "107.hea    116.hea  200.dat  209.xws  220.hea  233.hea\n",
            "107.xws    116.xws  200.hea  210.atr  220.xws  233.xws\n"
          ],
          "name": "stdout"
        }
      ]
    },
    {
      "cell_type": "code",
      "metadata": {
        "colab": {
          "base_uri": "https://localhost:8080/",
          "height": 206
        },
        "id": "E6uT8fyZjBZq",
        "outputId": "b54b4927-8cad-473f-80ce-9a2c0ff58f9d"
      },
      "source": [
        "df = pd.read_csv(\"./RECORDS\", header=None)\n",
        "df.head()"
      ],
      "execution_count": null,
      "outputs": [
        {
          "output_type": "execute_result",
          "data": {
            "text/html": [
              "<div>\n",
              "<style scoped>\n",
              "    .dataframe tbody tr th:only-of-type {\n",
              "        vertical-align: middle;\n",
              "    }\n",
              "\n",
              "    .dataframe tbody tr th {\n",
              "        vertical-align: top;\n",
              "    }\n",
              "\n",
              "    .dataframe thead th {\n",
              "        text-align: right;\n",
              "    }\n",
              "</style>\n",
              "<table border=\"1\" class=\"dataframe\">\n",
              "  <thead>\n",
              "    <tr style=\"text-align: right;\">\n",
              "      <th></th>\n",
              "      <th>0</th>\n",
              "    </tr>\n",
              "  </thead>\n",
              "  <tbody>\n",
              "    <tr>\n",
              "      <th>0</th>\n",
              "      <td>100</td>\n",
              "    </tr>\n",
              "    <tr>\n",
              "      <th>1</th>\n",
              "      <td>101</td>\n",
              "    </tr>\n",
              "    <tr>\n",
              "      <th>2</th>\n",
              "      <td>102</td>\n",
              "    </tr>\n",
              "    <tr>\n",
              "      <th>3</th>\n",
              "      <td>103</td>\n",
              "    </tr>\n",
              "    <tr>\n",
              "      <th>4</th>\n",
              "      <td>104</td>\n",
              "    </tr>\n",
              "  </tbody>\n",
              "</table>\n",
              "</div>"
            ],
            "text/plain": [
              "     0\n",
              "0  100\n",
              "1  101\n",
              "2  102\n",
              "3  103\n",
              "4  104"
            ]
          },
          "metadata": {
            "tags": []
          },
          "execution_count": 9
        }
      ]
    },
    {
      "cell_type": "markdown",
      "metadata": {
        "id": "DycVHMbQFhHo"
      },
      "source": [
        "##reading signals and their annotation files (lead II) for 48 patients"
      ]
    },
    {
      "cell_type": "code",
      "metadata": {
        "id": "g22xRzbcoiKq"
      },
      "source": [
        "sig = list()\n",
        "ann = list()\n",
        "\n",
        "\n",
        "for i in range (48):\n",
        "    if i != 13:\n",
        "        sig.append(wfdb.rdsamp(str(df[0][i]), channels=[0])[0])\n",
        "    if i == 13:\n",
        "        sig.append(wfdb.rdsamp(str(df[0][i]), channels=[1])[0])    \n",
        "    ann.append(wfdb.rdann(str(df[0][i]),'atr',summarize_labels=True))\n"
      ],
      "execution_count": null,
      "outputs": []
    },
    {
      "cell_type": "markdown",
      "metadata": {
        "id": "FdFmY7IkFzLC"
      },
      "source": [
        "##we keep the sample rate equal to 360 Hz"
      ]
    },
    {
      "cell_type": "code",
      "metadata": {
        "id": "TvFLPVSpTKSd"
      },
      "source": [
        "resig = sig\n",
        "reann = ann"
      ],
      "execution_count": null,
      "outputs": []
    },
    {
      "cell_type": "code",
      "metadata": {
        "id": "jqvoEC6ITwBN"
      },
      "source": [
        "resig = np.reshape(resig, (48,650000))"
      ],
      "execution_count": null,
      "outputs": []
    },
    {
      "cell_type": "markdown",
      "metadata": {
        "id": "PiG72xJg-qoN"
      },
      "source": [
        "##the number of samples in 10 seconds segment"
      ]
    },
    {
      "cell_type": "code",
      "metadata": {
        "colab": {
          "base_uri": "https://localhost:8080/"
        },
        "id": "P-5n5rNxUcNj",
        "outputId": "75064fcb-f8ce-4b5d-9d80-07fb5075e054"
      },
      "source": [
        "samples = 360*10\n",
        "samples"
      ],
      "execution_count": null,
      "outputs": [
        {
          "output_type": "execute_result",
          "data": {
            "text/plain": [
              "3600"
            ]
          },
          "metadata": {
            "tags": []
          },
          "execution_count": 13
        }
      ]
    },
    {
      "cell_type": "markdown",
      "metadata": {
        "id": "54PGfszT-lwi"
      },
      "source": [
        "##each signal contains 180 number of 10 seconds segments"
      ]
    },
    {
      "cell_type": "code",
      "metadata": {
        "colab": {
          "base_uri": "https://localhost:8080/"
        },
        "id": "6fLhdy3uUsM7",
        "outputId": "36e8870e-2931-4081-ac7d-efdf04bc3bf4"
      },
      "source": [
        "648000/3600"
      ],
      "execution_count": null,
      "outputs": [
        {
          "output_type": "execute_result",
          "data": {
            "text/plain": [
              "180.0"
            ]
          },
          "metadata": {
            "tags": []
          },
          "execution_count": 14
        }
      ]
    },
    {
      "cell_type": "code",
      "metadata": {
        "id": "3oEQCFmR9yaP",
        "colab": {
          "base_uri": "https://localhost:8080/"
        },
        "outputId": "6bb3932a-083b-4b92-d062-7e4006172af7"
      },
      "source": [
        "seg = list()\n",
        "\n",
        "for i in range (len(resig)):\n",
        "    seg.append(np.split(resig[i][0:648000], 3600))\n",
        "\n",
        "seg = np.asarray(seg)\n",
        "seg = np.reshape(seg, (48,180,3600))\n",
        "np.shape(seg)  "
      ],
      "execution_count": null,
      "outputs": [
        {
          "output_type": "execute_result",
          "data": {
            "text/plain": [
              "(48, 180, 3600)"
            ]
          },
          "metadata": {
            "tags": []
          },
          "execution_count": 15
        }
      ]
    },
    {
      "cell_type": "markdown",
      "metadata": {
        "id": "IqV_DzdEyl4p"
      },
      "source": [
        "##10 seconds segmented signal annotation"
      ]
    },
    {
      "cell_type": "code",
      "metadata": {
        "id": "-rZFuXhdU5rQ"
      },
      "source": [
        "an = np.empty((48,180), dtype='object')\n",
        "\n",
        "for j in range (48):\n",
        "    for k in range (180):\n",
        "        a = list()\n",
        "        for i in range (len(reann[j].sample)):\n",
        "            if ((k*3600) < reann[j].sample[i] < ((k+1)*3600)):\n",
        "                a.append(((reann[j].sample[i]-(k*3600)),reann[j].symbol[i])) \n",
        "        an[j][k] = a"
      ],
      "execution_count": null,
      "outputs": []
    },
    {
      "cell_type": "markdown",
      "metadata": {
        "id": "sX1J6Z7FHtsM"
      },
      "source": [
        "##normalizing each segment between 0 and 1"
      ]
    },
    {
      "cell_type": "code",
      "metadata": {
        "id": "UVws9ikTStLf",
        "colab": {
          "base_uri": "https://localhost:8080/"
        },
        "outputId": "025916e1-8709-4115-d05a-42810dcdb6f5"
      },
      "source": [
        "norm = np.empty_like(seg)\n",
        "\n",
        "for i in range (len(seg)):\n",
        "    for j in range(180):\n",
        "        norm[i,j] = normalize_bound(seg[i,j],0,1)\n",
        "\n",
        "norm = np.asarray(norm)\n",
        "np.shape(norm)"
      ],
      "execution_count": null,
      "outputs": [
        {
          "output_type": "execute_result",
          "data": {
            "text/plain": [
              "(48, 180, 3600)"
            ]
          },
          "metadata": {
            "tags": []
          },
          "execution_count": 18
        }
      ]
    },
    {
      "cell_type": "markdown",
      "metadata": {
        "id": "bmZFLBhmIT-j"
      },
      "source": [
        "##finding the location of each peak using annotation sample"
      ]
    },
    {
      "cell_type": "code",
      "metadata": {
        "id": "M2ghpgshrf-N"
      },
      "source": [
        "peaks = np.empty((48,180), dtype='object')\n",
        "for i in range (48):\n",
        "    for j in range (180):\n",
        "        a = list()\n",
        "        for k in range (len(an[i,j])):\n",
        "            a.append(an[i,j][k][0])\n",
        "        peaks[i,j] = a            "
      ],
      "execution_count": null,
      "outputs": []
    },
    {
      "cell_type": "markdown",
      "metadata": {
        "id": "z8A3Zd66IYKB"
      },
      "source": [
        "##finding the label of each peak using annotation symbol"
      ]
    },
    {
      "cell_type": "code",
      "metadata": {
        "id": "AoTEY5-804Vc"
      },
      "source": [
        "label = np.empty((48,180), dtype='object')\n",
        "\n",
        "for i in range (48):\n",
        "    for j in range (180):\n",
        "        a = list()\n",
        "        for k in range (len(an[i,j])):\n",
        "            a.append(an[i,j][k][1])\n",
        "        label[i,j] = a                    "
      ],
      "execution_count": null,
      "outputs": []
    },
    {
      "cell_type": "markdown",
      "metadata": {
        "id": "nyrfCYesIgx0"
      },
      "source": [
        "##Segments were created to include 99 samples prior to the R peak, and 160 samples following the R peak"
      ]
    },
    {
      "cell_type": "code",
      "metadata": {
        "id": "_kPGGAK0NqDo"
      },
      "source": [
        "data = np.empty((48,180), dtype='object')\n",
        "\n",
        "for i in range (48):\n",
        "    for j in range (180):\n",
        "        peak = peaks[i,j]\n",
        "        h = list()\n",
        "        for k in range (len(peak)):\n",
        "            start , end = (peaks[i][j][k]-99), (peaks[i][j][k]+160)\n",
        "            if (start<0):\n",
        "                start = 0\n",
        "            if (end>3600):\n",
        "                end = 3600\n",
        "            e1 = norm[i][j][start:end]    \n",
        "            if (len(e1) == 0):\n",
        "                print('an empty array!')  \n",
        "            if (len(e1)==259):\n",
        "                h.append(e1)  \n",
        "                 \n",
        "            if (len(e1)<259):\n",
        "                e = np.pad(e1,(0,259-len(e1)), mode = 'constant')\n",
        "                h.append(e)\n",
        "                \n",
        "            if (len(e1)>259):\n",
        "                e = resample(e1, num = 259)\n",
        "                h.append(e)\n",
        "                 \n",
        "\n",
        "             \n",
        "                         \n",
        "        data[i,j] = h"
      ],
      "execution_count": null,
      "outputs": []
    },
    {
      "cell_type": "markdown",
      "metadata": {
        "id": "qcj3si-bJuh_"
      },
      "source": [
        "##checking if their length are equal"
      ]
    },
    {
      "cell_type": "code",
      "metadata": {
        "id": "4v_KIdX-1ZrC"
      },
      "source": [
        "for i in range (48):\n",
        "    for j in range (180):\n",
        "        peak = peaks[i,j]\n",
        "        data1 = data[i][j]\n",
        "        for k in range (len(peak)):\n",
        "            if (len(data1[k])!= 259):\n",
        "                print('noo!')\n"
      ],
      "execution_count": null,
      "outputs": []
    },
    {
      "cell_type": "code",
      "metadata": {
        "colab": {
          "base_uri": "https://localhost:8080/"
        },
        "id": "faXQ7eFIr3O0",
        "outputId": "4a1b6f0f-ee1f-45cd-fc25-9ddbfd443511"
      },
      "source": [
        "cd -"
      ],
      "execution_count": null,
      "outputs": [
        {
          "output_type": "stream",
          "text": [
            "/content/drive/MyDrive\n"
          ],
          "name": "stdout"
        }
      ]
    },
    {
      "cell_type": "code",
      "metadata": {
        "colab": {
          "base_uri": "https://localhost:8080/"
        },
        "id": "Sbv1uVzzr5ho",
        "outputId": "72984f7f-c811-4c93-f81f-3e4ed18ad8c7"
      },
      "source": [
        "cd mit-bih-arrhythmia-database-1.0.0"
      ],
      "execution_count": null,
      "outputs": [
        {
          "output_type": "stream",
          "text": [
            "/content/drive/MyDrive/mit-bih-arrhythmia-database-1.0.0\n"
          ],
          "name": "stdout"
        }
      ]
    },
    {
      "cell_type": "code",
      "metadata": {
        "id": "dFGfKRoZaFFL"
      },
      "source": [
        "mkdir MIT-BIH1"
      ],
      "execution_count": null,
      "outputs": []
    },
    {
      "cell_type": "code",
      "metadata": {
        "id": "SI7YeM_Skl7S",
        "colab": {
          "base_uri": "https://localhost:8080/"
        },
        "outputId": "c4ffe3ab-068f-476a-cacd-0639d3aa4d8f"
      },
      "source": [
        "cd MIT-BIH1/"
      ],
      "execution_count": null,
      "outputs": [
        {
          "output_type": "stream",
          "text": [
            "/content/drive/My Drive/mit-bih-arrhythmia-database-1.0.0/MIT-BIH\n"
          ],
          "name": "stdout"
        }
      ]
    },
    {
      "cell_type": "markdown",
      "metadata": {
        "id": "uQwBtQKzKAaS"
      },
      "source": [
        "##saving beats from specific patient as a dataframe for later use"
      ]
    },
    {
      "cell_type": "code",
      "metadata": {
        "id": "HZr5-cKrdLBK"
      },
      "source": [
        "for i in range (48):\n",
        "    for j in range (180):\n",
        "        dataframe0 = pd.DataFrame(data[i][j], columns=[x for x in range (259)])\n",
        "        dataframe1 = pd.DataFrame(label[i][j], columns=['Label']) \n",
        "        dataframe2 = pd.concat([dataframe0, dataframe1], axis = 1, ignore_index=True)\n",
        "        dataframe3 = dataframe2.dropna(axis=0, how='any')\n",
        "        dataframe3.to_csv('dataframe{},{}.csv'.format(i,j))       "
      ],
      "execution_count": null,
      "outputs": []
    },
    {
      "cell_type": "markdown",
      "metadata": {
        "id": "i_1HxN_OKCMx"
      },
      "source": [
        "##reading mentioned beats"
      ]
    },
    {
      "cell_type": "code",
      "metadata": {
        "id": "bxHXbJPPldGb"
      },
      "source": [
        "import pandas as pd\n",
        "import glob\n",
        "\n",
        "path = r'./' # use your path\n",
        "all_files = glob.glob(path + \"/*.csv\")\n",
        "\n",
        "li = []\n",
        "\n",
        "for filename in all_files:\n",
        "    df = pd.read_csv(filename, index_col=None, header=0)\n",
        "    li.append(df)\n",
        "\n",
        "frame = pd.concat(li, ignore_index=True)"
      ],
      "execution_count": null,
      "outputs": []
    },
    {
      "cell_type": "code",
      "metadata": {
        "id": "0z6HcGmPnJpy"
      },
      "source": [
        "df1 = frame\n",
        "df1 = df1.drop(labels=['Unnamed: 0'], axis=1)"
      ],
      "execution_count": null,
      "outputs": []
    },
    {
      "cell_type": "markdown",
      "metadata": {
        "id": "KbHR0WE7KWZA"
      },
      "source": [
        "##the number of beats with mentioned label"
      ]
    },
    {
      "cell_type": "code",
      "metadata": {
        "id": "ww5PSrBwHSDB",
        "colab": {
          "base_uri": "https://localhost:8080/"
        },
        "outputId": "345bdadd-6ad8-47a4-d934-a7d8b1e1b7d8"
      },
      "source": [
        "labels = df1['259']\n",
        "equilibre = labels.value_counts()\n",
        "print(equilibre)"
      ],
      "execution_count": null,
      "outputs": [
        {
          "output_type": "stream",
          "text": [
            "N    74785\n",
            "L     8053\n",
            "R     7237\n",
            "V     7112\n",
            "/     7003\n",
            "A     2530\n",
            "+     1288\n",
            "f      979\n",
            "F      802\n",
            "~      612\n",
            "!      471\n",
            "\"      437\n",
            "j      229\n",
            "x      192\n",
            "a      149\n",
            "|      132\n",
            "E      105\n",
            "J       83\n",
            "Q       33\n",
            "e       16\n",
            "]        6\n",
            "[        6\n",
            "S        2\n",
            "Name: 259, dtype: int64\n"
          ],
          "name": "stdout"
        }
      ]
    },
    {
      "cell_type": "markdown",
      "metadata": {
        "id": "Uoa7F0LCKeKf"
      },
      "source": [
        "##keeping normal, left and right bundle brunch, Premature ventricular contraction and paced beats"
      ]
    },
    {
      "cell_type": "code",
      "metadata": {
        "colab": {
          "base_uri": "https://localhost:8080/"
        },
        "id": "YcpoM18untRQ",
        "outputId": "07fde052-bddb-4424-eb47-c13fbc34238c"
      },
      "source": [
        "df1 = df1.replace({'259': {'[': np.nan, ']': np.nan, 'S': np.nan, 'e': np.nan,\n",
        "                           'Q': np.nan, 'J': np.nan, 'E': np.nan, '|': np.nan, 'a': np.nan, 'x': np.nan, 'j': np.nan,\n",
        "                           '\"': np.nan, '!': np.nan, '~': np.nan, 'F': np.nan, 'f': np.nan, '+': np.nan, 'A': np.nan}})\n",
        "df1 = df1.dropna()\n",
        "labels = df1['259']\n",
        "equilibre = labels.value_counts()\n",
        "print(equilibre)"
      ],
      "execution_count": null,
      "outputs": [
        {
          "output_type": "stream",
          "text": [
            "N    74785\n",
            "L     8053\n",
            "R     7237\n",
            "V     7112\n",
            "/     7003\n",
            "Name: 259, dtype: int64\n"
          ],
          "name": "stdout"
        }
      ]
    },
    {
      "cell_type": "code",
      "metadata": {
        "id": "rCiEbitw1rLT"
      },
      "source": [
        "df1 = df1.replace({'259': {'N': 0, 'R': 1, 'L': 2, 'V': 3, '/': 4}})"
      ],
      "execution_count": null,
      "outputs": []
    },
    {
      "cell_type": "code",
      "metadata": {
        "id": "k8TujxyMHZEe",
        "colab": {
          "base_uri": "https://localhost:8080/"
        },
        "outputId": "06d9465f-1a43-402a-e93b-1c00a3e551d2"
      },
      "source": [
        "labels = df1['259']\n",
        "equilibre = labels.value_counts()\n",
        "print(equilibre)"
      ],
      "execution_count": null,
      "outputs": [
        {
          "output_type": "stream",
          "text": [
            "0    74785\n",
            "2     8053\n",
            "1     7237\n",
            "3     7112\n",
            "4     7003\n",
            "Name: 259, dtype: int64\n"
          ],
          "name": "stdout"
        }
      ]
    },
    {
      "cell_type": "markdown",
      "metadata": {
        "id": "JdjhhstnK5Zu"
      },
      "source": [
        "##spliting test and train datasets with 20% ratio"
      ]
    },
    {
      "cell_type": "code",
      "metadata": {
        "id": "yBc_o8byxDWc"
      },
      "source": [
        "n = df1[df1['259'] == 0]\n",
        "test0 = n[:14957]\n",
        "train0 = n[14957:]\n",
        "\n"
      ],
      "execution_count": null,
      "outputs": []
    },
    {
      "cell_type": "code",
      "metadata": {
        "id": "E_K_c3xyzEX-"
      },
      "source": [
        "r = df1[df1['259'] == 1]\n",
        "test1 = r[:1446]\n",
        "train1 = r[1446:]\n"
      ],
      "execution_count": null,
      "outputs": []
    },
    {
      "cell_type": "code",
      "metadata": {
        "id": "gtPXj9c10hgL"
      },
      "source": [
        "v = df1[df1['259'] == 3]\n",
        "test2 = v[:1421]\n",
        "train2 = v[1421:]\n"
      ],
      "execution_count": null,
      "outputs": []
    },
    {
      "cell_type": "code",
      "metadata": {
        "id": "YMBJs2Ll1ADt"
      },
      "source": [
        "a = df1[df1['259'] == 4]\n",
        "test3 = a[:1400]\n",
        "train3 = a[1400:]\n"
      ],
      "execution_count": null,
      "outputs": []
    },
    {
      "cell_type": "code",
      "metadata": {
        "id": "vqaGhVz41kc8"
      },
      "source": [
        "l = df1[df1['259'] == 2]\n",
        "test4 = l[:1610]\n",
        "train4 = l[1610:]\n"
      ],
      "execution_count": null,
      "outputs": []
    },
    {
      "cell_type": "code",
      "metadata": {
        "colab": {
          "base_uri": "https://localhost:8080/"
        },
        "id": "wSvdkl72ymBN",
        "outputId": "88537b5b-1b1a-4a66-a136-301670d9a79b"
      },
      "source": [
        "cd -"
      ],
      "execution_count": null,
      "outputs": [
        {
          "output_type": "stream",
          "text": [
            "/content/drive/MyDrive/mit-bih-arrhythmia-database-1.0.0\n"
          ],
          "name": "stdout"
        }
      ]
    },
    {
      "cell_type": "markdown",
      "metadata": {
        "id": "9C-SE8iXLBFA"
      },
      "source": [
        "##saving test dataset to csv"
      ]
    },
    {
      "cell_type": "code",
      "metadata": {
        "id": "a0lSs29b2Kmr"
      },
      "source": [
        "test = pd.concat([test0, test1, test2, test3, test4], ignore_index=True)\n",
        "test.to_csv('MITBIHtest2.csv')"
      ],
      "execution_count": null,
      "outputs": []
    },
    {
      "cell_type": "markdown",
      "metadata": {
        "id": "AVuDpQ3FLFcV"
      },
      "source": [
        "##saving train dataset to csv"
      ]
    },
    {
      "cell_type": "code",
      "metadata": {
        "id": "SRp8-Ds93R9y"
      },
      "source": [
        "train = pd.concat([train0, train1, train2, train3, train4], ignore_index=True)\n",
        "train.to_csv('MITBIHtrain2.csv')"
      ],
      "execution_count": null,
      "outputs": []
    },
    {
      "cell_type": "code",
      "metadata": {
        "id": "MIwgud94Q_1S"
      },
      "source": [
        ""
      ],
      "execution_count": null,
      "outputs": []
    }
  ]
}