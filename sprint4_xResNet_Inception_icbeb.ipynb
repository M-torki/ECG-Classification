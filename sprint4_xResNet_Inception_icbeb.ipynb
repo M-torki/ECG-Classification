{
  "nbformat": 4,
  "nbformat_minor": 0,
  "metadata": {
    "colab": {
      "name": "sprint4: xResNet/Inception_icbeb.ipynb",
      "provenance": [],
      "collapsed_sections": [],
      "include_colab_link": true
    },
    "kernelspec": {
      "display_name": "Python 3",
      "name": "python3"
    },
    "language_info": {
      "name": "python"
    },
    "accelerator": "GPU"
  },
  "cells": [
    {
      "cell_type": "markdown",
      "metadata": {
        "id": "view-in-github",
        "colab_type": "text"
      },
      "source": [
        "<a href=\"https://colab.research.google.com/github/M-torki/ECG-Classification/blob/main/sprint4_xResNet_Inception_icbeb.ipynb\" target=\"_parent\"><img src=\"https://colab.research.google.com/assets/colab-badge.svg\" alt=\"Open In Colab\"/></a>"
      ]
    },
    {
      "cell_type": "markdown",
      "metadata": {
        "id": "ZQhcIBu7oGKn"
      },
      "source": [
        "This notebook is based on the paper: \n",
        "\n",
        "**[Deep Learning for ECG Analysis: Benchmarks and Insights from PTB-XL](https://ieeexplore.ieee.org/document/9190034)**\n",
        "\n",
        "The related codes are available on this [Github](https://github.com/helme/ecg_ptbxl_benchmarking/) \n",
        "\n",
        "link to [PTB XL](https://physionet.org/content/ptb-xl/1.0.1/) database, \n",
        "link to [ICBEB2018](http://2018.icbeb.org/Challenge.html) database"
      ]
    },
    {
      "cell_type": "code",
      "metadata": {
        "colab": {
          "base_uri": "https://localhost:8080/"
        },
        "id": "wORp-jjQCMX-",
        "outputId": "f17463c7-a693-4488-a1e7-9d34ee8d6def"
      },
      "source": [
        "from google.colab import drive\n",
        "drive.mount('/gdrive')"
      ],
      "execution_count": null,
      "outputs": [
        {
          "output_type": "stream",
          "text": [
            "Mounted at /gdrive\n"
          ],
          "name": "stdout"
        }
      ]
    },
    {
      "cell_type": "code",
      "metadata": {
        "colab": {
          "base_uri": "https://localhost:8080/"
        },
        "id": "Y_D850nzCiSq",
        "outputId": "98c3e8db-9566-4b0b-8dc7-38cf330b8944"
      },
      "source": [
        "cd /gdrive/MyDrive/"
      ],
      "execution_count": null,
      "outputs": [
        {
          "output_type": "stream",
          "text": [
            "/gdrive/MyDrive\n"
          ],
          "name": "stdout"
        }
      ]
    },
    {
      "cell_type": "code",
      "metadata": {
        "colab": {
          "base_uri": "https://localhost:8080/"
        },
        "id": "1144sRmJVHVx",
        "outputId": "f702d40a-02e6-44a1-bcc5-2be0178534f0"
      },
      "source": [
        "!pip install wfdb"
      ],
      "execution_count": null,
      "outputs": [
        {
          "output_type": "stream",
          "text": [
            "Collecting wfdb\n",
            "  Downloading wfdb-3.4.0-py3-none-any.whl (137 kB)\n",
            "\u001b[?25l\r\u001b[K     |██▍                             | 10 kB 35.7 MB/s eta 0:00:01\r\u001b[K     |████▊                           | 20 kB 21.3 MB/s eta 0:00:01\r\u001b[K     |███████▏                        | 30 kB 10.6 MB/s eta 0:00:01\r\u001b[K     |█████████▌                      | 40 kB 8.8 MB/s eta 0:00:01\r\u001b[K     |████████████                    | 51 kB 4.9 MB/s eta 0:00:01\r\u001b[K     |██████████████▎                 | 61 kB 5.3 MB/s eta 0:00:01\r\u001b[K     |████████████████▊               | 71 kB 5.7 MB/s eta 0:00:01\r\u001b[K     |███████████████████             | 81 kB 6.4 MB/s eta 0:00:01\r\u001b[K     |█████████████████████▍          | 92 kB 6.5 MB/s eta 0:00:01\r\u001b[K     |███████████████████████▉        | 102 kB 5.2 MB/s eta 0:00:01\r\u001b[K     |██████████████████████████▏     | 112 kB 5.2 MB/s eta 0:00:01\r\u001b[K     |████████████████████████████▋   | 122 kB 5.2 MB/s eta 0:00:01\r\u001b[K     |███████████████████████████████ | 133 kB 5.2 MB/s eta 0:00:01\r\u001b[K     |████████████████████████████████| 137 kB 5.2 MB/s \n",
            "\u001b[?25hRequirement already satisfied: idna>=2.2 in /usr/local/lib/python3.7/dist-packages (from wfdb) (2.10)\n",
            "Requirement already satisfied: requests>=2.8.1 in /usr/local/lib/python3.7/dist-packages (from wfdb) (2.23.0)\n",
            "Requirement already satisfied: matplotlib>=2.0.0 in /usr/local/lib/python3.7/dist-packages (from wfdb) (3.2.2)\n",
            "Requirement already satisfied: kiwisolver>=1.1.0 in /usr/local/lib/python3.7/dist-packages (from wfdb) (1.3.1)\n",
            "Requirement already satisfied: chardet>=3.0.0 in /usr/local/lib/python3.7/dist-packages (from wfdb) (3.0.4)\n",
            "Requirement already satisfied: pandas>=0.17.0 in /usr/local/lib/python3.7/dist-packages (from wfdb) (1.1.5)\n",
            "Requirement already satisfied: numpy>=1.10.1 in /usr/local/lib/python3.7/dist-packages (from wfdb) (1.19.5)\n",
            "Collecting threadpoolctl>=1.0.0\n",
            "  Downloading threadpoolctl-2.2.0-py3-none-any.whl (12 kB)\n",
            "Requirement already satisfied: urllib3>=1.22 in /usr/local/lib/python3.7/dist-packages (from wfdb) (1.24.3)\n",
            "Requirement already satisfied: python-dateutil>=2.4.2 in /usr/local/lib/python3.7/dist-packages (from wfdb) (2.8.1)\n",
            "Requirement already satisfied: certifi>=2016.8.2 in /usr/local/lib/python3.7/dist-packages (from wfdb) (2021.5.30)\n",
            "Requirement already satisfied: joblib>=0.11 in /usr/local/lib/python3.7/dist-packages (from wfdb) (1.0.1)\n",
            "Requirement already satisfied: scikit-learn>=0.18 in /usr/local/lib/python3.7/dist-packages (from wfdb) (0.22.2.post1)\n",
            "Requirement already satisfied: cycler>=0.10.0 in /usr/local/lib/python3.7/dist-packages (from wfdb) (0.10.0)\n",
            "Requirement already satisfied: pyparsing>=2.0.4 in /usr/local/lib/python3.7/dist-packages (from wfdb) (2.4.7)\n",
            "Requirement already satisfied: scipy>=0.17.0 in /usr/local/lib/python3.7/dist-packages (from wfdb) (1.4.1)\n",
            "Requirement already satisfied: pytz>=2017.2 in /usr/local/lib/python3.7/dist-packages (from wfdb) (2018.9)\n",
            "Requirement already satisfied: six in /usr/local/lib/python3.7/dist-packages (from cycler>=0.10.0->wfdb) (1.15.0)\n",
            "Installing collected packages: threadpoolctl, wfdb\n",
            "Successfully installed threadpoolctl-2.2.0 wfdb-3.4.0\n"
          ],
          "name": "stdout"
        }
      ]
    },
    {
      "cell_type": "code",
      "metadata": {
        "id": "amteMY4fRNlj"
      },
      "source": [
        "# !git clone https://github.com/helme/ecg_ptbxl_benchmarking/"
      ],
      "execution_count": null,
      "outputs": []
    },
    {
      "cell_type": "code",
      "metadata": {
        "id": "30J1OC6V8Dli",
        "cellView": "form"
      },
      "source": [
        "#@title Download ICBEB\n",
        "!mkdir -p ICBEB\n",
        "!cd ICBEB\n",
        "!wget http://2018.icbeb.org/file/REFERENCE.csv\n",
        "!wget http://hhbucket.oss-cn-hongkong.aliyuncs.com/TrainingSet1.zip\n",
        "!wget http://hhbucket.oss-cn-hongkong.aliyuncs.com/TrainingSet2.zip\n",
        "!wget http://hhbucket.oss-cn-hongkong.aliyuncs.com/TrainingSet3.zip\n",
        "!unzip TrainingSet1.zip\n",
        "!unzip TrainingSet2.zip\n",
        "!unzip TrainingSet3.zip"
      ],
      "execution_count": null,
      "outputs": []
    },
    {
      "cell_type": "code",
      "metadata": {
        "id": "Ib6_2wBzN6wn",
        "cellView": "form"
      },
      "source": [
        "#@title stratisfy\n",
        "import pandas as pd \n",
        "import numpy as np \n",
        "from tqdm import tqdm\n",
        "\n",
        "def stratisfy_df(df, new_col_name, n_folds=10, nr_clean_folds=0):\n",
        "    # compute qualities as described in PTB-XL report\n",
        "    quals = []\n",
        "    for i, row in df.iterrows():\n",
        "        q = 0\n",
        "        if 'validated_by_human' in df.columns:\n",
        "            if row.validated_by_human == True:\n",
        "                q = 1\n",
        "        quals.append(q)\n",
        "    df['quality'] = quals\n",
        "\n",
        "    # create stratisfied folds according to patients\n",
        "    pat_ids = np.array(sorted(list(set(df.patient_id.values))))\n",
        "    plabels = []\n",
        "    pquals = []\n",
        "    ecgs_per_patient = []\n",
        "\n",
        "    for pid in tqdm(pat_ids):\n",
        "        sel = df[df.patient_id == pid]\n",
        "        l = np.concatenate([list(d.keys())for d in sel.scp_codes.values])\n",
        "        if sel.sex.values[0] == 0:\n",
        "            gender='male'\n",
        "        else:\n",
        "            gender='female'\n",
        "        l = np.concatenate((l, [gender]*len(sel)))\n",
        "        for age in sel.age.values:\n",
        "            if age < 20:\n",
        "                l = np.concatenate((l,['<20']))\n",
        "            elif age >= 20 and age < 40:\n",
        "                l = np.concatenate((l,['20-40']))\n",
        "            elif age >= 40 and age < 60:\n",
        "                l = np.concatenate((l,['40-60']))\n",
        "            elif age >= 60 and age < 80:\n",
        "                l = np.concatenate((l,['60-80']))\n",
        "            elif age >= 80:\n",
        "                l = np.concatenate((l,['>=80']))\n",
        "        plabels.append(l)\n",
        "        ecgs_per_patient.append(len(sel))\n",
        "        pquals.append(sel.quality.min())\n",
        "    classes = sorted(list(set([item for sublist in plabels for item in sublist])))\n",
        "\n",
        "    stratified_data_ids, stratified_data = stratify(plabels, classes, [1/n_folds]*n_folds, pquals, ecgs_per_patient, nr_clean_folds)\n",
        "\n",
        "    df[new_col_name] = np.zeros(len(df)).astype(int)\n",
        "    for fold_i, fold_ids in tqdm(enumerate(stratified_data_ids)):\n",
        "        ipat_ids = [pat_ids[pid] for pid in fold_ids]\n",
        "        df[new_col_name][df.patient_id.isin(ipat_ids)] = fold_i + 1\n",
        "\n",
        "    return df\n",
        "\n",
        "def stratify(data, classes, ratios, qualities, ecgs_per_patient, nr_clean_folds=1):\n",
        "    \"\"\"Stratifying procedure. Modified from https://vict0rs.ch/2018/05/24/sample-multilabel-dataset/ (based on Sechidis 2011)\n",
        "    data is a list of lists: a list of labels, for each sample.\n",
        "        Each sample's labels should be ints, if they are one-hot encoded, use one_hot=True\n",
        "    \n",
        "    classes is the list of classes each label can take\n",
        "    ratios is a list, summing to 1, of how the dataset should be split\n",
        "    qualities: quality per entry (only >0 can be assigned to clean folds; 4 will always be assigned to final fold)\n",
        "    ecgs_per_patient: list with number of ecgs per sample\n",
        "    nr_clean_folds: the last nr_clean_folds can only take clean entries\n",
        "    \"\"\"\n",
        "    np.random.seed(0) # fix the random seed\n",
        "\n",
        "    # data is now always a list of lists; len(data) is the number of patients; data[i] is the list of all labels for patient i (possibly multiple identical entries)\n",
        "\n",
        "    #size is the number of ecgs\n",
        "    size = np.sum(ecgs_per_patient)\n",
        "\n",
        "    # Organize data per label: for each label l, per_label_data[l] contains the list of patients\n",
        "    # in data which have this label (potentially multiple identical entries)\n",
        "    per_label_data = {c: [] for c in classes}\n",
        "    for i, d in enumerate(data):\n",
        "        for l in d:\n",
        "            per_label_data[l].append(i)\n",
        "\n",
        "    # In order not to compute lengths each time, they are tracked here.\n",
        "    subset_sizes = [r * size for r in ratios] #list of subset_sizes in terms of ecgs\n",
        "    per_label_subset_sizes = { c: [r * len(per_label_data[c]) for r in ratios] for c in classes } #dictionary with label: list of subset sizes in terms of patients\n",
        "\n",
        "    # For each subset we want, the set of sample-ids which should end up in it\n",
        "    stratified_data_ids = [set() for _ in range(len(ratios))] #initialize empty\n",
        "\n",
        "    # For each sample in the data set\n",
        "    print(\"Assigning patients to folds...\")\n",
        "    size_prev=size+1 #just for output\n",
        "    while size > 0:\n",
        "        if(int(size_prev/1000) > int(size/1000)):\n",
        "            print(\"Remaining patients/ecgs to distribute:\",size,\"non-empty labels:\", np.sum([1 for l, label_data in per_label_data.items() if len(label_data)>0]))\n",
        "        size_prev=size\n",
        "        # Compute |Di| \n",
        "        lengths = {\n",
        "            l: len(label_data)\n",
        "            for l, label_data in per_label_data.items()\n",
        "        } #dictionary label: number of ecgs with this label that have not been assigned to a fold yet\n",
        "        try:\n",
        "            # Find label of smallest |Di|\n",
        "            label = min({k: v for k, v in lengths.items() if v > 0}, key=lengths.get)\n",
        "        except ValueError:\n",
        "            # If the dictionary in `min` is empty we get a Value Error. \n",
        "            # This can happen if there are unlabeled samples.\n",
        "            # In this case, `size` would be > 0 but only samples without label would remain.\n",
        "            # \"No label\" could be a class in itself: it's up to you to format your data accordingly.\n",
        "            break\n",
        "        # For each patient with label `label` get patient and corresponding counts\n",
        "        unique_samples, unique_counts = np.unique(per_label_data[label],return_counts=True)\n",
        "        idxs_sorted = np.argsort(unique_counts, kind='stable')[::-1]\n",
        "        unique_samples = unique_samples[idxs_sorted] # this is a list of all patient ids with this label sort by size descending\n",
        "        unique_counts =  unique_counts[idxs_sorted] # these are the corresponding counts\n",
        "        \n",
        "        # loop through all patient ids with this label\n",
        "        for current_id, current_count in zip(unique_samples,unique_counts):\n",
        "            \n",
        "            subset_sizes_for_label = per_label_subset_sizes[label] #current subset sizes for the chosen label\n",
        "\n",
        "            #if quality is bad remove clean folds (i.e. sample cannot be assigned to clean folds)\n",
        "            if(qualities[current_id] < 1):\n",
        "                subset_sizes_for_label = subset_sizes_for_label[:len(ratios)-nr_clean_folds]\n",
        "\n",
        "            # Find argmax clj i.e. subset in greatest need of the current label\n",
        "            largest_subsets = np.argwhere(subset_sizes_for_label == np.amax(subset_sizes_for_label)).flatten()\n",
        "            \n",
        "            # if there is a single best choice: assign it\n",
        "            if len(largest_subsets) == 1:\n",
        "                subset = largest_subsets[0]\n",
        "            # If there is more than one such subset, find the one in greatest need of any label\n",
        "            else:\n",
        "                largest_subsets2 = np.argwhere(np.array(subset_sizes)[largest_subsets] == np.amax(np.array(subset_sizes)[largest_subsets])).flatten()\n",
        "                subset = largest_subsets[np.random.choice(largest_subsets2)]\n",
        "\n",
        "            # Store the sample's id in the selected subset\n",
        "            stratified_data_ids[subset].add(current_id)\n",
        "\n",
        "            # There is current_count fewer samples to distribute\n",
        "            size -= ecgs_per_patient[current_id]\n",
        "            # The selected subset needs current_count fewer samples\n",
        "            subset_sizes[subset] -= ecgs_per_patient[current_id]\n",
        "\n",
        "            # In the selected subset, there is one more example for each label\n",
        "            # the current sample has\n",
        "            for l in data[current_id]:\n",
        "                per_label_subset_sizes[l][subset] -= 1\n",
        "               \n",
        "            # Remove the sample from the dataset, meaning from all per_label dataset created\n",
        "            for x in per_label_data.keys():\n",
        "                per_label_data[x] = [y for y in per_label_data[x] if y!=current_id]\n",
        "              \n",
        "    # Create the stratified dataset as a list of subsets, each containing the orginal labels\n",
        "    stratified_data_ids = [sorted(strat) for strat in stratified_data_ids]\n",
        "    stratified_data = [\n",
        "        [data[i] for i in strat] for strat in stratified_data_ids\n",
        "    ]\n",
        "\n",
        "    # Return both the stratified indexes, to be used to sample the `features` associated with your labels\n",
        "    # And the stratified labels dataset\n",
        "\n",
        "    return stratified_data_ids, stratified_data"
      ],
      "execution_count": null,
      "outputs": []
    },
    {
      "cell_type": "code",
      "metadata": {
        "cellView": "form",
        "id": "jNxoOznuKw_S"
      },
      "source": [
        "#@title convert_ICBEB\n",
        "import os\n",
        "import pandas as pd\n",
        "import wfdb\n",
        "from tqdm import tqdm\n",
        "import numpy as np\n",
        "from scipy.ndimage import zoom\n",
        "from scipy.io import loadmat\n",
        "# from stratisfy import stratisfy_df\n",
        "\n",
        "output_folder = './icbeb/'\n",
        "output_datafolder_100 = output_folder+ '/records100/'\n",
        "output_datafolder_500 = output_folder+ '/records500/'\n",
        "if not os.path.exists(output_folder):\n",
        "    os.mkdir(output_folder)\n",
        "if not os.path.exists(output_datafolder_100):\n",
        "    os.makedirs(output_datafolder_100)\n",
        "if not os.path.exists(output_datafolder_500):\n",
        "    os.makedirs(output_datafolder_500)\n",
        "    \n",
        "def store_as_wfdb(signame, data, sigfolder, fs):\n",
        "    channel_itos=['I', 'II', 'III', 'AVR', 'AVL', 'AVF', 'V1', 'V2', 'V3', 'V4', 'V5', 'V6']\n",
        "    wfdb.wrsamp(signame,\n",
        "                fs=fs,\n",
        "                sig_name=channel_itos, \n",
        "                p_signal=data,\n",
        "                units=['mV']*len(channel_itos),\n",
        "                fmt = ['16']*len(channel_itos), \n",
        "                write_dir=sigfolder)  \n",
        "\n",
        "df_reference = pd.read_csv('./ICBEB/REFERENCE.csv')\n",
        "\n",
        "label_dict = {1:'NORM', 2:'AFIB', 3:'1AVB', 4:'CLBBB', 5:'CRBBB', 6:'PAC', 7:'VPC', 8:'STD_', 9:'STE_'}\n",
        "\n",
        "data = {'ecg_id':[], 'filename':[], 'validation':[], 'age':[], 'sex':[], 'scp_codes':[]}\n",
        "\n",
        "ecg_counter = 0\n",
        "for folder in ['TrainingSet1', 'TrainingSet2', 'TrainingSet3']:\n",
        "    filenames = os.listdir('./ICBEB/'+folder)\n",
        "    for filename in tqdm(filenames):\n",
        "        if filename.split('.')[1] == 'mat':\n",
        "            ecg_counter += 1\n",
        "            name = filename.split('.')[0]\n",
        "            sex, age, sig = loadmat('./ICBEB/'+folder+'/'+filename)['ECG'][0][0]\n",
        "            data['ecg_id'].append(ecg_counter)\n",
        "            data['filename'].append(name)\n",
        "            data['validation'].append(False)\n",
        "            data['age'].append(age[0][0])\n",
        "            data['sex'].append(1 if sex[0] == 'Male' else 0)\n",
        "            labels = df_reference[df_reference.Recording == name][['First_label' ,'Second_label' ,'Third_label']].values.flatten()\n",
        "            labels = labels[~np.isnan(labels)].astype(int)\n",
        "            data['scp_codes'].append({label_dict[key]:100 for key in labels})\n",
        "            store_as_wfdb(str(ecg_counter), sig.T, output_datafolder_500, 500)\n",
        "            down_sig = np.array([zoom(channel, .2) for channel in sig])\n",
        "            store_as_wfdb(str(ecg_counter), down_sig.T, output_datafolder_100, 100)\n",
        "\n"
      ],
      "execution_count": null,
      "outputs": []
    },
    {
      "cell_type": "code",
      "metadata": {
        "id": "RbSn-36AJuUR"
      },
      "source": [
        "# cp ./ptb_xl/ptbxl/scp_statements.csv ./icbeb"
      ],
      "execution_count": null,
      "outputs": []
    },
    {
      "cell_type": "code",
      "metadata": {
        "colab": {
          "base_uri": "https://localhost:8080/"
        },
        "id": "Pv7PduHCtcID",
        "outputId": "b34322f5-3bf2-4d6b-fa20-232ef67d2288"
      },
      "source": [
        "# ls ./icbeb"
      ],
      "execution_count": null,
      "outputs": [
        {
          "output_type": "stream",
          "text": [
            "icbeb_database.csv  \u001b[0m\u001b[01;34mrecords100\u001b[0m/  \u001b[01;34mrecords500\u001b[0m/  scp_statements.csv\n"
          ],
          "name": "stdout"
        }
      ]
    },
    {
      "cell_type": "code",
      "metadata": {
        "colab": {
          "base_uri": "https://localhost:8080/"
        },
        "id": "1ig75yuxRWEE",
        "outputId": "d46b255a-9e85-4e8a-f0dd-ec213fd21f40"
      },
      "source": [
        "cd ./ecg_ptbxl_benchmarking/"
      ],
      "execution_count": null,
      "outputs": [
        {
          "output_type": "stream",
          "text": [
            "/gdrive/.shortcut-targets-by-id/1j3ncHY23bba4nXCRAt52Fr8YgGZpml9-/ecg_ptbxl_benchmarking\n"
          ],
          "name": "stdout"
        }
      ]
    },
    {
      "cell_type": "code",
      "metadata": {
        "colab": {
          "base_uri": "https://localhost:8080/"
        },
        "id": "4ytFYZfLRnMp",
        "outputId": "e7e11259-8924-42b1-e017-d3e1ca825215"
      },
      "source": [
        "cd code/"
      ],
      "execution_count": null,
      "outputs": [
        {
          "output_type": "stream",
          "text": [
            "/gdrive/.shortcut-targets-by-id/1j3ncHY23bba4nXCRAt52Fr8YgGZpml9-/ecg_ptbxl_benchmarking/code\n"
          ],
          "name": "stdout"
        }
      ]
    },
    {
      "cell_type": "code",
      "metadata": {
        "id": "w3qSI1C11wkq",
        "cellView": "form"
      },
      "source": [
        "#@title utils\n",
        "import os\n",
        "import sys\n",
        "import re\n",
        "import glob\n",
        "import pickle\n",
        "import copy\n",
        "\n",
        "import pandas as pd\n",
        "import numpy as np\n",
        "import matplotlib.pyplot as plt\n",
        "from tqdm import tqdm\n",
        "import wfdb\n",
        "import ast\n",
        "from sklearn.metrics import classification_report, fbeta_score, roc_auc_score, roc_curve, roc_curve, auc\n",
        "from sklearn.preprocessing import StandardScaler, MultiLabelBinarizer\n",
        "from matplotlib.axes._axes import _log as matplotlib_axes_logger\n",
        "import warnings\n",
        "\n",
        "# EVALUATION STUFF\n",
        "def generate_results(idxs, y_true, y_pred, thresholds):\n",
        "    return evaluate_experiment(y_true[idxs], y_pred[idxs], thresholds)\n",
        "\n",
        "def evaluate_experiment(y_true, y_pred, thresholds=None):\n",
        "    results = {}\n",
        "\n",
        "    if not thresholds is None:\n",
        "        # binary predictions\n",
        "        y_pred_binary = apply_thresholds(y_pred, thresholds)\n",
        "        # PhysioNet/CinC Challenges metrics\n",
        "        challenge_scores = challenge_metrics(y_true, y_pred_binary, beta1=2, beta2=2)\n",
        "        results['F_beta_macro'] = challenge_scores['F_beta_macro']\n",
        "        results['G_beta_macro'] = challenge_scores['G_beta_macro']\n",
        "\n",
        "    # label based metric\n",
        "    results['macro_auc'] = roc_auc_score(y_true, y_pred, average='macro')\n",
        "    \n",
        "    df_result = pd.DataFrame(results, index=[0])\n",
        "    return df_result\n",
        "\n",
        "def challenge_metrics(y_true, y_pred, beta1=2, beta2=2, class_weights=None, single=False):\n",
        "    f_beta = 0\n",
        "    g_beta = 0\n",
        "    if single: # if evaluating single class in case of threshold-optimization\n",
        "        sample_weights = np.ones(y_true.sum(axis=1).shape)\n",
        "    else:\n",
        "        sample_weights = y_true.sum(axis=1)\n",
        "    for classi in range(y_true.shape[1]):\n",
        "        y_truei, y_predi = y_true[:,classi], y_pred[:,classi]\n",
        "        TP, FP, TN, FN = 0.,0.,0.,0.\n",
        "        for i in range(len(y_predi)):\n",
        "            sample_weight = sample_weights[i]\n",
        "            if y_truei[i]==y_predi[i]==1: \n",
        "                TP += 1./sample_weight\n",
        "            if ((y_predi[i]==1) and (y_truei[i]!=y_predi[i])): \n",
        "                FP += 1./sample_weight\n",
        "            if y_truei[i]==y_predi[i]==0: \n",
        "                TN += 1./sample_weight\n",
        "            if ((y_predi[i]==0) and (y_truei[i]!=y_predi[i])): \n",
        "                FN += 1./sample_weight \n",
        "        f_beta_i = ((1+beta1**2)*TP)/((1+beta1**2)*TP + FP + (beta1**2)*FN)\n",
        "        g_beta_i = (TP)/(TP+FP+beta2*FN)\n",
        "\n",
        "        f_beta += f_beta_i\n",
        "        g_beta += g_beta_i\n",
        "\n",
        "    return {'F_beta_macro':f_beta/y_true.shape[1], 'G_beta_macro':g_beta/y_true.shape[1]}\n",
        "\n",
        "def get_appropriate_bootstrap_samples(y_true, n_bootstraping_samples):\n",
        "    samples=[]\n",
        "    while True:\n",
        "        ridxs = np.random.randint(0, len(y_true), len(y_true))\n",
        "        if y_true[ridxs].sum(axis=0).min() != 0:\n",
        "            samples.append(ridxs)\n",
        "            if len(samples) == n_bootstraping_samples:\n",
        "                break\n",
        "    return samples\n",
        "\n",
        "def find_optimal_cutoff_threshold(target, predicted):\n",
        "    \"\"\" \n",
        "    Find the optimal probability cutoff point for a classification model related to event rate\n",
        "    \"\"\"\n",
        "    fpr, tpr, threshold = roc_curve(target, predicted)\n",
        "    optimal_idx = np.argmax(tpr - fpr)\n",
        "    optimal_threshold = threshold[optimal_idx]\n",
        "    return optimal_threshold\n",
        "\n",
        "def find_optimal_cutoff_thresholds(y_true, y_pred):\n",
        "\treturn [find_optimal_cutoff_threshold(y_true[:,i], y_pred[:,i]) for i in range(y_true.shape[1])]\n",
        "\n",
        "def find_optimal_cutoff_threshold_for_Gbeta(target, predicted, n_thresholds=100):\n",
        "    thresholds = np.linspace(0.00,1,n_thresholds)\n",
        "    scores = [challenge_metrics(target, predicted>t, single=True)['G_beta_macro'] for t in thresholds]\n",
        "    optimal_idx = np.argmax(scores)\n",
        "    return thresholds[optimal_idx]\n",
        "\n",
        "def find_optimal_cutoff_thresholds_for_Gbeta(y_true, y_pred):\n",
        "    print(\"optimize thresholds with respect to G_beta\")\n",
        "    return [find_optimal_cutoff_threshold_for_Gbeta(y_true[:,k][:,np.newaxis], y_pred[:,k][:,np.newaxis]) for k in tqdm(range(y_true.shape[1]))]\n",
        "\n",
        "def apply_thresholds(preds, thresholds):\n",
        "\t\"\"\"\n",
        "\t\tapply class-wise thresholds to prediction score in order to get binary format.\n",
        "\t\tBUT: if no score is above threshold, pick maximum. This is needed due to metric issues.\n",
        "\t\"\"\"\n",
        "\ttmp = []\n",
        "\tfor p in preds:\n",
        "\t\ttmp_p = (p > thresholds).astype(int)\n",
        "\t\tif np.sum(tmp_p) == 0:\n",
        "\t\t\ttmp_p[np.argmax(p)] = 1\n",
        "\t\ttmp.append(tmp_p)\n",
        "\ttmp = np.array(tmp)\n",
        "\treturn tmp\n",
        "\n",
        "# DATA PROCESSING STUFF\n",
        "\n",
        "def load_dataset(path, sampling_rate, release=False):\n",
        "    if path.split('/')[-2] == 'ptbxl':\n",
        "        # load and convert annotation data\n",
        "        Y = pd.read_csv(path+'ptbxl_database.csv', index_col='ecg_id')\n",
        "        Y.scp_codes = Y.scp_codes.apply(lambda x: ast.literal_eval(x))\n",
        "\n",
        "        # Load raw signal data\n",
        "        X = load_raw_data_ptbxl(Y, sampling_rate, path)\n",
        "\n",
        "    elif path.split('/')[-2] == 'ICBEB':\n",
        "        # load and convert annotation data\n",
        "        Y = pd.read_csv(path+'icbeb_database.csv', index_col='ecg_id')\n",
        "        Y.scp_codes = Y.scp_codes.apply(lambda x: ast.literal_eval(x))\n",
        "\n",
        "        # Load raw signal data\n",
        "        X = load_raw_data_icbeb(Y, sampling_rate, path)\n",
        "\n",
        "    return X, Y\n",
        "\n",
        "\n",
        "def load_raw_data_icbeb(df, sampling_rate, path):\n",
        "\n",
        "    if sampling_rate == 100:\n",
        "        if os.path.exists(path + 'raw100.npy'):\n",
        "            data = np.load(path+'raw100.npy', allow_pickle=True)\n",
        "        else:\n",
        "            data = [wfdb.rdsamp(path + 'records100/'+str(f)) for f in tqdm(df.index)]\n",
        "            data = np.array([signal for signal, meta in data])\n",
        "            pickle.dump(data, open(path+'raw100.npy', 'wb'), protocol=4)\n",
        "    elif sampling_rate == 500:\n",
        "        if os.path.exists(path + 'raw500.npy'):\n",
        "            data = np.load(path+'raw500.npy', allow_pickle=True)\n",
        "        else:\n",
        "            data = [wfdb.rdsamp(path + 'records500/'+str(f)) for f in tqdm(df.index)]\n",
        "            data = np.array([signal for signal, meta in data])\n",
        "            pickle.dump(data, open(path+'raw500.npy', 'wb'), protocol=4)\n",
        "    return data\n",
        "\n",
        "def load_raw_data_ptbxl(df, sampling_rate, path):\n",
        "    if sampling_rate == 100:\n",
        "        if os.path.exists(path + 'raw100.npy'):\n",
        "            data = np.load(path+'raw100.npy', allow_pickle=True)\n",
        "        else:\n",
        "            data = [wfdb.rdsamp(path+f) for f in tqdm(df.filename_lr)]\n",
        "            data = np.array([signal for signal, meta in data])\n",
        "            pickle.dump(data, open(path+'raw100.npy', 'wb'), protocol=4)\n",
        "    elif sampling_rate == 500:\n",
        "        if os.path.exists(path + 'raw500.npy'):\n",
        "            data = np.load(path+'raw500.npy', allow_pickle=True)\n",
        "        else:\n",
        "            data = [wfdb.rdsamp(path+f) for f in tqdm(df.filename_hr)]\n",
        "            data = np.array([signal for signal, meta in data])\n",
        "            pickle.dump(data, open(path+'raw500.npy', 'wb'), protocol=4)\n",
        "    return data\n",
        "\n",
        "def compute_label_aggregations(df, folder, ctype):\n",
        "\n",
        "    df['scp_codes_len'] = df.scp_codes.apply(lambda x: len(x))\n",
        "\n",
        "    aggregation_df = pd.read_csv(folder+'scp_statements.csv', index_col=0)\n",
        "\n",
        "    if ctype in ['diagnostic', 'subdiagnostic', 'superdiagnostic']:\n",
        "\n",
        "        def aggregate_all_diagnostic(y_dic):\n",
        "            tmp = []\n",
        "            for key in y_dic.keys():\n",
        "                if key in diag_agg_df.index:\n",
        "                    tmp.append(key)\n",
        "            return list(set(tmp))\n",
        "\n",
        "        def aggregate_subdiagnostic(y_dic):\n",
        "            tmp = []\n",
        "            for key in y_dic.keys():\n",
        "                if key in diag_agg_df.index:\n",
        "                    c = diag_agg_df.loc[key].diagnostic_subclass\n",
        "                    if str(c) != 'nan':\n",
        "                        tmp.append(c)\n",
        "            return list(set(tmp))\n",
        "\n",
        "        def aggregate_diagnostic(y_dic):\n",
        "            tmp = []\n",
        "            for key in y_dic.keys():\n",
        "                if key in diag_agg_df.index:\n",
        "                    c = diag_agg_df.loc[key].diagnostic_class\n",
        "                    if str(c) != 'nan':\n",
        "                        tmp.append(c)\n",
        "            return list(set(tmp))\n",
        "\n",
        "        diag_agg_df = aggregation_df[aggregation_df.diagnostic == 1.0]\n",
        "        if ctype == 'diagnostic':\n",
        "            df['diagnostic'] = df.scp_codes.apply(aggregate_all_diagnostic)\n",
        "            df['diagnostic_len'] = df.diagnostic.apply(lambda x: len(x))\n",
        "        elif ctype == 'subdiagnostic':\n",
        "            df['subdiagnostic'] = df.scp_codes.apply(aggregate_subdiagnostic)\n",
        "            df['subdiagnostic_len'] = df.subdiagnostic.apply(lambda x: len(x))\n",
        "        elif ctype == 'superdiagnostic':\n",
        "            df['superdiagnostic'] = df.scp_codes.apply(aggregate_diagnostic)\n",
        "            df['superdiagnostic_len'] = df.superdiagnostic.apply(lambda x: len(x))\n",
        "    elif ctype == 'form':\n",
        "        form_agg_df = aggregation_df[aggregation_df.form == 1.0]\n",
        "\n",
        "        def aggregate_form(y_dic):\n",
        "            tmp = []\n",
        "            for key in y_dic.keys():\n",
        "                if key in form_agg_df.index:\n",
        "                    c = key\n",
        "                    if str(c) != 'nan':\n",
        "                        tmp.append(c)\n",
        "            return list(set(tmp))\n",
        "\n",
        "        df['form'] = df.scp_codes.apply(aggregate_form)\n",
        "        df['form_len'] = df.form.apply(lambda x: len(x))\n",
        "    elif ctype == 'rhythm':\n",
        "        rhythm_agg_df = aggregation_df[aggregation_df.rhythm == 1.0]\n",
        "\n",
        "        def aggregate_rhythm(y_dic):\n",
        "            tmp = []\n",
        "            for key in y_dic.keys():\n",
        "                if key in rhythm_agg_df.index:\n",
        "                    c = key\n",
        "                    if str(c) != 'nan':\n",
        "                        tmp.append(c)\n",
        "            return list(set(tmp))\n",
        "\n",
        "        df['rhythm'] = df.scp_codes.apply(aggregate_rhythm)\n",
        "        df['rhythm_len'] = df.rhythm.apply(lambda x: len(x))\n",
        "    elif ctype == 'all':\n",
        "        df['all_scp'] = df.scp_codes.apply(lambda x: list(set(x.keys())))\n",
        "\n",
        "    return df\n",
        "\n",
        "def select_data(XX,YY, ctype, min_samples, outputfolder):\n",
        "    # convert multilabel to multi-hot\n",
        "    mlb = MultiLabelBinarizer()\n",
        "\n",
        "    if ctype == 'diagnostic':\n",
        "        X = XX[YY.diagnostic_len > 0]\n",
        "        Y = YY[YY.diagnostic_len > 0]\n",
        "        mlb.fit(Y.diagnostic.values)\n",
        "        y = mlb.transform(Y.diagnostic.values)\n",
        "    elif ctype == 'subdiagnostic':\n",
        "        counts = pd.Series(np.concatenate(YY.subdiagnostic.values)).value_counts()\n",
        "        counts = counts[counts > min_samples]\n",
        "        YY.subdiagnostic = YY.subdiagnostic.apply(lambda x: list(set(x).intersection(set(counts.index.values))))\n",
        "        YY['subdiagnostic_len'] = YY.subdiagnostic.apply(lambda x: len(x))\n",
        "        X = XX[YY.subdiagnostic_len > 0]\n",
        "        Y = YY[YY.subdiagnostic_len > 0]\n",
        "        mlb.fit(Y.subdiagnostic.values)\n",
        "        y = mlb.transform(Y.subdiagnostic.values)\n",
        "    elif ctype == 'superdiagnostic':\n",
        "        counts = pd.Series(np.concatenate(YY.superdiagnostic.values)).value_counts()\n",
        "        counts = counts[counts > min_samples]\n",
        "        YY.superdiagnostic = YY.superdiagnostic.apply(lambda x: list(set(x).intersection(set(counts.index.values))))\n",
        "        YY['superdiagnostic_len'] = YY.superdiagnostic.apply(lambda x: len(x))\n",
        "        X = XX[YY.superdiagnostic_len > 0]\n",
        "        Y = YY[YY.superdiagnostic_len > 0]\n",
        "        mlb.fit(Y.superdiagnostic.values)\n",
        "        y = mlb.transform(Y.superdiagnostic.values)\n",
        "    elif ctype == 'form':\n",
        "        # filter\n",
        "        counts = pd.Series(np.concatenate(YY.form.values)).value_counts()\n",
        "        counts = counts[counts > min_samples]\n",
        "        YY.form = YY.form.apply(lambda x: list(set(x).intersection(set(counts.index.values))))\n",
        "        YY['form_len'] = YY.form.apply(lambda x: len(x))\n",
        "        # select\n",
        "        X = XX[YY.form_len > 0]\n",
        "        Y = YY[YY.form_len > 0]\n",
        "        mlb.fit(Y.form.values)\n",
        "        y = mlb.transform(Y.form.values)\n",
        "    elif ctype == 'rhythm':\n",
        "        # filter \n",
        "        counts = pd.Series(np.concatenate(YY.rhythm.values)).value_counts()\n",
        "        counts = counts[counts > min_samples]\n",
        "        YY.rhythm = YY.rhythm.apply(lambda x: list(set(x).intersection(set(counts.index.values))))\n",
        "        YY['rhythm_len'] = YY.rhythm.apply(lambda x: len(x))\n",
        "        # select\n",
        "        X = XX[YY.rhythm_len > 0]\n",
        "        Y = YY[YY.rhythm_len > 0]\n",
        "        mlb.fit(Y.rhythm.values)\n",
        "        y = mlb.transform(Y.rhythm.values)\n",
        "    elif ctype == 'all':\n",
        "        # filter \n",
        "        counts = pd.Series(np.concatenate(YY.all_scp.values)).value_counts()\n",
        "        counts = counts[counts > min_samples]\n",
        "        YY.all_scp = YY.all_scp.apply(lambda x: list(set(x).intersection(set(counts.index.values))))\n",
        "        YY['all_scp_len'] = YY.all_scp.apply(lambda x: len(x))\n",
        "        # select\n",
        "        X = XX[YY.all_scp_len > 0]\n",
        "        Y = YY[YY.all_scp_len > 0]\n",
        "        mlb.fit(Y.all_scp.values)\n",
        "        y = mlb.transform(Y.all_scp.values)\n",
        "    else:\n",
        "        pass\n",
        "\n",
        "    # save LabelBinarizer\n",
        "    with open(outputfolder+'mlb.pkl', 'wb') as tokenizer:\n",
        "        pickle.dump(mlb, tokenizer)\n",
        "\n",
        "    return X, Y, y, mlb\n",
        "\n",
        "def preprocess_signals(X_train, X_validation, X_test, outputfolder):\n",
        "    # Standardize data such that mean 0 and variance 1\n",
        "    ss = StandardScaler()\n",
        "    ss.fit(np.vstack(X_train).flatten()[:,np.newaxis].astype(float))\n",
        "    \n",
        "    # Save Standardizer data\n",
        "    with open(outputfolder+'standard_scaler.pkl', 'wb') as ss_file:\n",
        "        pickle.dump(ss, ss_file)\n",
        "\n",
        "    return apply_standardizer(X_train, ss), apply_standardizer(X_validation, ss), apply_standardizer(X_test, ss)\n",
        "\n",
        "def apply_standardizer(X, ss):\n",
        "    X_tmp = []\n",
        "    for x in X:\n",
        "        x_shape = x.shape\n",
        "        X_tmp.append(ss.transform(x.flatten()[:,np.newaxis]).reshape(x_shape))\n",
        "    X_tmp = np.array(X_tmp)\n",
        "    return X_tmp\n",
        "\n",
        "\n",
        "# DOCUMENTATION STUFF\n",
        "\n",
        "def generate_ptbxl_summary_table(selection=None, folder='../output/'):\n",
        "\n",
        "    exps = ['exp0', 'exp1', 'exp1.1', 'exp1.1.1', 'exp2', 'exp3']\n",
        "    metric1 = 'macro_auc' \n",
        "\n",
        "    # get models\n",
        "    models = {}\n",
        "    for i, exp in enumerate(exps):\n",
        "        if selection is None:\n",
        "            exp_models = [m.split('/')[-1] for m in glob.glob(folder+str(exp)+'/models/*')]\n",
        "        else:\n",
        "            exp_models = selection\n",
        "        if i == 0:\n",
        "            models = set(exp_models)\n",
        "        else:\n",
        "            models = models.union(set(exp_models))\n",
        "\n",
        "    results_dic = {'Method':[], \n",
        "                'exp0_AUC':[], \n",
        "                'exp1_AUC':[], \n",
        "                'exp1.1_AUC':[], \n",
        "                'exp1.1.1_AUC':[], \n",
        "                'exp2_AUC':[],\n",
        "                'exp3_AUC':[]\n",
        "                }\n",
        "\n",
        "    for m in models:\n",
        "        results_dic['Method'].append(m)\n",
        "        \n",
        "        for e in exps:\n",
        "            \n",
        "            try:\n",
        "                me_res = pd.read_csv(folder+str(e)+'/models/'+str(m)+'/results/te_results.csv', index_col=0)\n",
        "    \n",
        "                mean1 = me_res.loc['point'][metric1]\n",
        "                unc1 = max(me_res.loc['upper'][metric1]-me_res.loc['point'][metric1], me_res.loc['point'][metric1]-me_res.loc['lower'][metric1])\n",
        "\n",
        "                results_dic[e+'_AUC'].append(\"%.3f(%.2d)\" %(np.round(mean1,3), int(unc1*1000)))\n",
        "\n",
        "            except FileNotFoundError:\n",
        "                results_dic[e+'_AUC'].append(\"--\")\n",
        "            \n",
        "            \n",
        "    df = pd.DataFrame(results_dic)\n",
        "    df_index = df[df.Method.isin(['naive', 'ensemble'])]\n",
        "    df_rest = df[~df.Method.isin(['naive', 'ensemble'])]\n",
        "    df = pd.concat([df_rest, df_index])\n",
        "    df.to_csv(folder+'results_ptbxl.csv')\n",
        "\n",
        "    titles = [\n",
        "        '### 1. PTB-XL: all statements',\n",
        "        '### 2. PTB-XL: diagnostic statements',\n",
        "        '### 3. PTB-XL: Diagnostic subclasses',\n",
        "        '### 4. PTB-XL: Diagnostic superclasses',\n",
        "        '### 5. PTB-XL: Form statements',\n",
        "        '### 6. PTB-XL: Rhythm statements'        \n",
        "    ]\n",
        "\n",
        "    # helper output function for markdown tables\n",
        "    our_work = 'https://arxiv.org/abs/2004.13701'\n",
        "    our_repo = 'https://github.com/helme/ecg_ptbxl_benchmarking/'\n",
        "    md_source = ''\n",
        "    for i, e in enumerate(exps):\n",
        "        md_source += '\\n '+titles[i]+' \\n \\n'\n",
        "        md_source += '| Model | AUC &darr; | paper/source | code | \\n'\n",
        "        md_source += '|---:|:---|:---|:---| \\n'\n",
        "        for row in df_rest[['Method', e+'_AUC']].sort_values(e+'_AUC', ascending=False).values:\n",
        "            md_source += '| ' + row[0].replace('fastai_', '') + ' | ' + row[1] + ' | [our work]('+our_work+') | [this repo]('+our_repo+')| \\n'\n",
        "    print(md_source)\n",
        "\n",
        "def ICBEBE_table(selection=None, folder='../output/'):\n",
        "    cols = ['macro_auc', 'F_beta_macro', 'G_beta_macro']\n",
        "\n",
        "    if selection is None:\n",
        "        models = [m.split('/')[-1].split('_pretrained')[0] for m in glob.glob(folder+'exp_ICBEB/models/*')]\n",
        "    else:\n",
        "        models = [] \n",
        "        for s in selection:\n",
        "            #if s != 'Wavelet+NN':\n",
        "                models.append(s)\n",
        "\n",
        "    data = []\n",
        "    for model in models:\n",
        "        me_res = pd.read_csv(folder+'exp_ICBEB/models/'+model+'/results/te_results.csv', index_col=0)\n",
        "        mcol=[]\n",
        "        for col in cols:\n",
        "            mean = me_res.ix['point'][col]\n",
        "            unc = max(me_res.ix['upper'][col]-me_res.ix['point'][col], me_res.ix['point'][col]-me_res.ix['lower'][col])\n",
        "            mcol.append(\"%.3f(%.2d)\" %(np.round(mean,3), int(unc*1000)))\n",
        "        data.append(mcol)\n",
        "    data = np.array(data)\n",
        "\n",
        "    df = pd.DataFrame(data, columns=cols, index=models)\n",
        "    df.to_csv(folder+'results_icbeb.csv')\n",
        "\n",
        "    df_rest = df[~df.index.isin(['naive', 'ensemble'])]\n",
        "    df_rest = df_rest.sort_values('macro_auc', ascending=False)\n",
        "    our_work = 'https://arxiv.org/abs/2004.13701'\n",
        "    our_repo = 'https://github.com/helme/ecg_ptbxl_benchmarking/'\n",
        "\n",
        "    md_source = '| Model | AUC &darr; |  F_beta=2 | G_beta=2 | paper/source | code | \\n'\n",
        "    md_source += '|---:|:---|:---|:---|:---|:---| \\n'\n",
        "    for i, row in enumerate(df_rest[cols].values):\n",
        "        md_source += '| ' + df_rest.index[i].replace('fastai_', '') + ' | ' + row[0] + ' | ' + row[1] + ' | ' + row[2] + ' | [our work]('+our_work+') | [this repo]('+our_repo+')| \\n'\n",
        "    print(md_source)\n",
        "    "
      ],
      "execution_count": null,
      "outputs": []
    },
    {
      "cell_type": "code",
      "metadata": {
        "id": "yVqEuVHB0vm7",
        "cellView": "form"
      },
      "source": [
        "#@title Models definition\n",
        "import torch\n",
        "import torch.nn as nn\n",
        "import torch.nn.functional as F\n",
        "\n",
        "from models.basic_conv1d import create_head1d, Flatten\n",
        "\n",
        "from enum import Enum\n",
        "import re\n",
        "#delegates\n",
        "import inspect\n",
        "\n",
        "def delegates(to=None, keep=False):\n",
        "    \"Decorator: replace `**kwargs` in signature with params from `to`\"\n",
        "    def _f(f):\n",
        "        if to is None: to_f,from_f = f.__base__.__init__,f.__init__\n",
        "        else:          to_f,from_f = to,f\n",
        "        sig = inspect.signature(from_f)\n",
        "        sigd = dict(sig.parameters)\n",
        "        k = sigd.pop('kwargs')\n",
        "        s2 = {k:v for k,v in inspect.signature(to_f).parameters.items()\n",
        "              if v.default != inspect.Parameter.empty and k not in sigd}\n",
        "        sigd.update(s2)\n",
        "        if keep: sigd['kwargs'] = k\n",
        "        from_f.__signature__ = sig.replace(parameters=sigd.values())\n",
        "        return f\n",
        "    return _f\n",
        "\n",
        "def store_attr(self, nms):\n",
        "    \"Store params named in comma-separated `nms` from calling context into attrs in `self`\"\n",
        "    mod = inspect.currentframe().f_back.f_locals\n",
        "    for n in re.split(', *', nms): setattr(self,n,mod[n])\n",
        "\n",
        "NormType = Enum('NormType', 'Batch BatchZero Weight Spectral Instance InstanceZero')\n",
        "\n",
        "def _conv_func(ndim=2, transpose=False):\n",
        "    \"Return the proper conv `ndim` function, potentially `transposed`.\"\n",
        "    assert 1 <= ndim <=3\n",
        "    return getattr(nn, f'Conv{\"Transpose\" if transpose else \"\"}{ndim}d')\n",
        "\n",
        "def init_default(m, func=nn.init.kaiming_normal_):\n",
        "    \"Initialize `m` weights with `func` and set `bias` to 0.\"\n",
        "    if func and hasattr(m, 'weight'): func(m.weight)\n",
        "    with torch.no_grad():\n",
        "        if getattr(m, 'bias', None) is not None: m.bias.fill_(0.)\n",
        "    return m\n",
        "    \n",
        "def _get_norm(prefix, nf, ndim=2, zero=False, **kwargs):\n",
        "    \"Norm layer with `nf` features and `ndim` initialized depending on `norm_type`.\"\n",
        "    assert 1 <= ndim <= 3\n",
        "    bn = getattr(nn, f\"{prefix}{ndim}d\")(nf, **kwargs)\n",
        "    if bn.affine:\n",
        "        bn.bias.data.fill_(1e-3)\n",
        "        bn.weight.data.fill_(0. if zero else 1.)\n",
        "    return bn \n",
        "\n",
        "def BatchNorm(nf, ndim=2, norm_type=NormType.Batch, **kwargs):\n",
        "    \"BatchNorm layer with `nf` features and `ndim` initialized depending on `norm_type`.\"\n",
        "    return _get_norm('BatchNorm', nf, ndim, zero=norm_type==NormType.BatchZero, **kwargs)\n",
        "\n",
        "class ConvLayer(nn.Sequential):\n",
        "    \"Create a sequence of convolutional (`ni` to `nf`), ReLU (if `use_activ`) and `norm_type` layers.\"\n",
        "    def __init__(self, ni, nf, ks=3, stride=1, padding=None, bias=None, ndim=2, norm_type=NormType.Batch, bn_1st=True,\n",
        "                 act_cls=nn.ReLU, transpose=False, init=nn.init.kaiming_normal_, xtra=None, **kwargs):\n",
        "        if padding is None: padding = ((ks-1)//2 if not transpose else 0)\n",
        "        bn = norm_type in (NormType.Batch, NormType.BatchZero)\n",
        "        inn = norm_type in (NormType.Instance, NormType.InstanceZero)\n",
        "        if bias is None: bias = not (bn or inn)\n",
        "        conv_func = _conv_func(ndim, transpose=transpose)\n",
        "        conv = init_default(conv_func(ni, nf, kernel_size=ks, bias=bias, stride=stride, padding=padding, **kwargs), init)\n",
        "        if   norm_type==NormType.Weight:   conv = weight_norm(conv)\n",
        "        elif norm_type==NormType.Spectral: conv = spectral_norm(conv)\n",
        "        layers = [conv]\n",
        "        act_bn = []\n",
        "        if act_cls is not None: act_bn.append(act_cls())\n",
        "        if bn: act_bn.append(BatchNorm(nf, norm_type=norm_type, ndim=ndim))\n",
        "        if inn: act_bn.append(InstanceNorm(nf, norm_type=norm_type, ndim=ndim))\n",
        "        if bn_1st: act_bn.reverse()\n",
        "        layers += act_bn\n",
        "        if xtra: layers.append(xtra)\n",
        "        super().__init__(*layers)\n",
        "\n",
        "def AdaptiveAvgPool(sz=1, ndim=2):\n",
        "    \"nn.AdaptiveAvgPool layer for `ndim`\"\n",
        "    assert 1 <= ndim <= 3\n",
        "    return getattr(nn, f\"AdaptiveAvgPool{ndim}d\")(sz)\n",
        "\n",
        "def MaxPool(ks=2, stride=None, padding=0, ndim=2, ceil_mode=False):\n",
        "    \"nn.MaxPool layer for `ndim`\"\n",
        "    assert 1 <= ndim <= 3\n",
        "    return getattr(nn, f\"MaxPool{ndim}d\")(ks, stride=stride, padding=padding)\n",
        "\n",
        "def AvgPool(ks=2, stride=None, padding=0, ndim=2, ceil_mode=False):\n",
        "    \"nn.AvgPool layer for `ndim`\"\n",
        "    assert 1 <= ndim <= 3\n",
        "    return getattr(nn, f\"AvgPool{ndim}d\")(ks, stride=stride, padding=padding, ceil_mode=ceil_mode)\n",
        "\n",
        "class ResBlock(nn.Module):\n",
        "    \"Resnet block from `ni` to `nh` with `stride`\"\n",
        "    @delegates(ConvLayer.__init__)\n",
        "    def __init__(self, expansion, ni, nf, stride=1, kernel_size=3, groups=1, reduction=None, nh1=None, nh2=None, dw=False, g2=1,\n",
        "                 sa=False, sym=False, norm_type=NormType.Batch, act_cls=nn.ReLU, ndim=2,\n",
        "                 pool=AvgPool, pool_first=True, **kwargs):\n",
        "        super().__init__()\n",
        "        norm2 = (NormType.BatchZero if norm_type==NormType.Batch else\n",
        "                 NormType.InstanceZero if norm_type==NormType.Instance else norm_type)\n",
        "        if nh2 is None: nh2 = nf\n",
        "        if nh1 is None: nh1 = nh2\n",
        "        nf,ni = nf*expansion,ni*expansion\n",
        "        k0 = dict(norm_type=norm_type, act_cls=act_cls, ndim=ndim, **kwargs)\n",
        "        k1 = dict(norm_type=norm2, act_cls=None, ndim=ndim, **kwargs)\n",
        "        layers  = [ConvLayer(ni,  nh2, kernel_size, stride=stride, groups=ni if dw else groups, **k0),\n",
        "                   ConvLayer(nh2,  nf, kernel_size, groups=g2, **k1)\n",
        "        ] if expansion == 1 else [\n",
        "                   ConvLayer(ni,  nh1, 1, **k0),\n",
        "                   ConvLayer(nh1, nh2, kernel_size, stride=stride, groups=nh1 if dw else groups, **k0),\n",
        "                   ConvLayer(nh2,  nf, 1, groups=g2, **k1)]\n",
        "        self.convs = nn.Sequential(*layers)\n",
        "        convpath = [self.convs]\n",
        "        if reduction: convpath.append(SEModule(nf, reduction=reduction, act_cls=act_cls))\n",
        "        if sa: convpath.append(SimpleSelfAttention(nf,ks=1,sym=sym))\n",
        "        self.convpath = nn.Sequential(*convpath)\n",
        "        idpath = []\n",
        "        if ni!=nf: idpath.append(ConvLayer(ni, nf, 1, act_cls=None, ndim=ndim, **kwargs))\n",
        "        if stride!=1: idpath.insert((1,0)[pool_first], pool(2, ndim=ndim, ceil_mode=True))\n",
        "        self.idpath = nn.Sequential(*idpath)\n",
        "        self.act = nn.ReLU(inplace=True) if act_cls is nn.ReLU else act_cls()\n",
        "\n",
        "    def forward(self, x): return self.act(self.convpath(x) + self.idpath(x))\n",
        "\n",
        "######################### adapted from vison.models.xresnet\n",
        "def init_cnn(m):\n",
        "    if getattr(m, 'bias', None) is not None: nn.init.constant_(m.bias, 0)\n",
        "    if isinstance(m, (nn.Conv1d, nn.Conv2d,nn.Linear)): nn.init.kaiming_normal_(m.weight)\n",
        "    for l in m.children(): init_cnn(l)\n",
        "\n",
        "class XResNet1d(nn.Sequential):\n",
        "    @delegates(ResBlock)\n",
        "    def __init__(self, block, expansion, layers, p=0.0, input_channels=3, num_classes=1000, stem_szs=(32,32,64),kernel_size=5,kernel_size_stem=5,\n",
        "                 widen=1.0, sa=False, act_cls=nn.ReLU, lin_ftrs_head=None, ps_head=0.5, bn_final_head=False, bn_head=True, act_head=\"relu\", concat_pooling=True, **kwargs):\n",
        "        store_attr(self, 'block,expansion,act_cls')\n",
        "        stem_szs = [input_channels, *stem_szs]\n",
        "        stem = [ConvLayer(stem_szs[i], stem_szs[i+1], ks=kernel_size_stem, stride=2 if i==0 else 1, act_cls=act_cls, ndim=1)\n",
        "                for i in range(3)]\n",
        "\n",
        "        #block_szs = [int(o*widen) for o in [64,128,256,512] +[256]*(len(layers)-4)]\n",
        "        block_szs = [int(o*widen) for o in [64,64,64,64] +[32]*(len(layers)-4)]\n",
        "        block_szs = [64//expansion] + block_szs\n",
        "        blocks = [self._make_layer(ni=block_szs[i], nf=block_szs[i+1], blocks=l,\n",
        "                                   stride=1 if i==0 else 2, kernel_size=kernel_size, sa=sa and i==len(layers)-4, ndim=1, **kwargs)\n",
        "                  for i,l in enumerate(layers)]\n",
        "\n",
        "        head = create_head1d(block_szs[-1]*expansion, nc=num_classes, lin_ftrs=lin_ftrs_head, ps=ps_head, bn_final=bn_final_head, bn=bn_head, act=act_head, concat_pooling=concat_pooling)\n",
        "        \n",
        "        super().__init__(\n",
        "            *stem, nn.MaxPool1d(kernel_size=3, stride=2, padding=1),\n",
        "            *blocks,\n",
        "            head,\n",
        "        )\n",
        "        init_cnn(self)\n",
        "\n",
        "    def _make_layer(self, ni, nf, blocks, stride, kernel_size, sa, **kwargs):\n",
        "        return nn.Sequential(\n",
        "            *[self.block(self.expansion, ni if i==0 else nf, nf, stride=stride if i==0 else 1,\n",
        "                      kernel_size=kernel_size, sa=sa and i==(blocks-1), act_cls=self.act_cls, **kwargs)\n",
        "              for i in range(blocks)])\n",
        "    \n",
        "    def get_layer_groups(self):\n",
        "        return (self[3],self[-1])\n",
        "    \n",
        "    def get_output_layer(self):\n",
        "        return self[-1][-1]\n",
        "        \n",
        "    def set_output_layer(self,x):\n",
        "        self[-1][-1]=x\n",
        "\n",
        "\n",
        "#xresnets\n",
        "def _xresnet1d(expansion, layers, **kwargs):\n",
        "    return XResNet1d(ResBlock, expansion, layers, **kwargs)\n",
        "    \n",
        "def xresnet1d18 (**kwargs): return _xresnet1d(1, [2, 2,  2, 2], **kwargs)\n",
        "def xresnet1d34 (**kwargs): return _xresnet1d(1, [3, 4,  6, 3], **kwargs)\n",
        "def xresnet1d50 (**kwargs): return _xresnet1d(4, [3, 4,  6, 3], **kwargs)\n",
        "def xresnet1d101(**kwargs): return _xresnet1d(4, [3, 4, 23, 3], **kwargs)\n",
        "def xresnet1d152(**kwargs): return _xresnet1d(4, [3, 8, 36, 3], **kwargs)\n",
        "def xresnet1d18_deep  (**kwargs): return _xresnet1d(1, [2,2,2,2,1,1], **kwargs)\n",
        "def xresnet1d34_deep  (**kwargs): return _xresnet1d(1, [3,4,6,3,1,1], **kwargs)\n",
        "def xresnet1d50_deep  (**kwargs): return _xresnet1d(4, [3,4,6,3,1,1], **kwargs)\n",
        "def xresnet1d18_deeper(**kwargs): return _xresnet1d(1, [2,2,1,1,1,1,1,1], **kwargs)\n",
        "def xresnet1d34_deeper(**kwargs): return _xresnet1d(1, [3,4,6,3,1,1,1,1], **kwargs)\n",
        "def xresnet1d50_deeper(**kwargs): return _xresnet1d(4, [3,4,6,3,1,1,1,1], **kwargs)\n"
      ],
      "execution_count": null,
      "outputs": []
    },
    {
      "cell_type": "code",
      "metadata": {
        "id": "ypHo8c2bLNmD",
        "cellView": "form"
      },
      "source": [
        "#@title Default title text\n",
        "from models.timeseries_utils import *\n",
        "\n",
        "from fastai import *\n",
        "from fastai.basic_data import *\n",
        "from fastai.basic_train import *\n",
        "from fastai.train import *\n",
        "from fastai.metrics import *\n",
        "from fastai.torch_core import *\n",
        "from fastai.callbacks.tracker import SaveModelCallback\n",
        "\n",
        "from pathlib import Path\n",
        "from functools import partial\n",
        "\n",
        "from models.resnet1d import resnet1d18,resnet1d34,resnet1d50,resnet1d101,resnet1d152,resnet1d_wang,resnet1d,wrn1d_22\n",
        "from models.xresnet1d import xresnet1d18,xresnet1d34,xresnet1d50,xresnet1d101,xresnet1d152,xresnet1d18_deep,xresnet1d34_deep,xresnet1d50_deep,xresnet1d18_deeper,xresnet1d34_deeper,xresnet1d50_deeper\n",
        "from models.inception1d import inception1d\n",
        "from models.basic_conv1d import fcn,fcn_wang,schirrmeister,sen,basic1d,weight_init\n",
        "from models.rnn1d import RNN1d\n",
        "import math\n",
        "\n",
        "from models.base_model import ClassificationModel\n",
        "import torch \n",
        "\n",
        "#for lrfind\n",
        "import matplotlib\n",
        "import matplotlib.pyplot as plt\n",
        "\n",
        "#eval for early stopping\n",
        "from fastai.callback import Callback\n",
        "from utils.utils import evaluate_experiment\n",
        "\n",
        "class metric_func(Callback):\n",
        "    \"Obtains score using user-supplied function func (potentially ignoring targets with ignore_idx)\"\n",
        "    def __init__(self, func, name=\"metric_func\", ignore_idx=None, one_hot_encode_target=True, argmax_pred=False, softmax_pred=True, flatten_target=True, sigmoid_pred=False,metric_component=None):\n",
        "        super().__init__()\n",
        "        self.func = func\n",
        "        self.ignore_idx = ignore_idx\n",
        "        self.one_hot_encode_target = one_hot_encode_target\n",
        "        self.argmax_pred = argmax_pred\n",
        "        self.softmax_pred = softmax_pred\n",
        "        self.flatten_target = flatten_target\n",
        "        self.sigmoid_pred = sigmoid_pred\n",
        "        self.metric_component = metric_component\n",
        "        self.name=name\n",
        "\n",
        "    def on_epoch_begin(self, **kwargs):\n",
        "        self.y_pred = None\n",
        "        self.y_true = None\n",
        "    \n",
        "    def on_batch_end(self, last_output, last_target, **kwargs):\n",
        "        #flatten everything (to make it also work for annotation tasks)\n",
        "        y_pred_flat = last_output.view((-1,last_output.size()[-1]))\n",
        "        \n",
        "        if(self.flatten_target):\n",
        "            y_true_flat = last_target.view(-1)\n",
        "        y_true_flat = last_target\n",
        "\n",
        "        #optionally take argmax of predictions\n",
        "        if(self.argmax_pred is True):\n",
        "            y_pred_flat = y_pred_flat.argmax(dim=1)\n",
        "        elif(self.softmax_pred is True):\n",
        "            y_pred_flat = F.softmax(y_pred_flat, dim=1)\n",
        "        elif(self.sigmoid_pred is True):\n",
        "            y_pred_flat = torch.sigmoid(y_pred_flat)\n",
        "        \n",
        "        #potentially remove ignore_idx entries\n",
        "        if(self.ignore_idx is not None):\n",
        "            selected_indices = (y_true_flat!=self.ignore_idx).nonzero().squeeze()\n",
        "            y_pred_flat = y_pred_flat[selected_indices]\n",
        "            y_true_flat = y_true_flat[selected_indices]\n",
        "        \n",
        "        y_pred_flat = to_np(y_pred_flat)\n",
        "        y_true_flat = to_np(y_true_flat)\n",
        "\n",
        "        if(self.one_hot_encode_target is True):\n",
        "            y_true_flat = one_hot_np(y_true_flat,last_output.size()[-1])\n",
        "\n",
        "        if(self.y_pred is None):\n",
        "            self.y_pred = y_pred_flat\n",
        "            self.y_true = y_true_flat\n",
        "        else:\n",
        "            self.y_pred = np.concatenate([self.y_pred, y_pred_flat], axis=0)\n",
        "            self.y_true = np.concatenate([self.y_true, y_true_flat], axis=0)\n",
        "    \n",
        "    def on_epoch_end(self, last_metrics, **kwargs):\n",
        "        #access full metric (possibly multiple components) via self.metric_complete\n",
        "        self.metric_complete = self.func(self.y_true, self.y_pred)\n",
        "        if(self.metric_component is not None):\n",
        "            return add_metrics(last_metrics, self.metric_complete[self.metric_component])\n",
        "        else:\n",
        "            return add_metrics(last_metrics, self.metric_complete)\n",
        "\n",
        "def fmax_metric(targs,preds):\n",
        "    return evaluate_experiment(targs,preds)[\"Fmax\"]\n",
        "\n",
        "def auc_metric(targs,preds):\n",
        "    return evaluate_experiment(targs,preds)[\"macro_auc\"]\n",
        "\n",
        "def mse_flat(preds,targs):\n",
        "    return torch.mean(torch.pow(preds.view(-1)-targs.view(-1),2))\n",
        "\n",
        "def nll_regression(preds,targs):\n",
        "    #preds: bs, 2\n",
        "    #targs: bs, 1\n",
        "    preds_mean = preds[:,0]\n",
        "    #warning: output goes through exponential map to ensure positivity\n",
        "    preds_var = torch.clamp(torch.exp(preds[:,1]),1e-4,1e10)\n",
        "    #print(to_np(preds_mean)[0],to_np(targs)[0,0],to_np(torch.sqrt(preds_var))[0])\n",
        "    return torch.mean(torch.log(2*math.pi*preds_var)/2) + torch.mean(torch.pow(preds_mean-targs[:,0],2)/2/preds_var)\n",
        "    \n",
        "def nll_regression_init(m):\n",
        "    assert(isinstance(m, nn.Linear))\n",
        "    nn.init.normal_(m.weight,0.,0.001)\n",
        "    nn.init.constant_(m.bias,4)\n",
        "\n",
        "def lr_find_plot(learner, path, filename=\"lr_find\", n_skip=10, n_skip_end=2):\n",
        "    '''saves lr_find plot as file (normally only jupyter output)\n",
        "    on the x-axis is lrs[-1]\n",
        "    '''\n",
        "    learner.lr_find()\n",
        "    \n",
        "    backend_old= matplotlib.get_backend()\n",
        "    plt.switch_backend('agg')\n",
        "    plt.ylabel(\"loss\")\n",
        "    plt.xlabel(\"learning rate (log scale)\")\n",
        "    losses = [ to_np(x) for x in learner.recorder.losses[n_skip:-(n_skip_end+1)]]\n",
        "    #print(learner.recorder.val_losses)\n",
        "    #val_losses = [ to_np(x) for x in learner.recorder.val_losses[n_skip:-(n_skip_end+1)]]\n",
        "\n",
        "    plt.plot(learner.recorder.lrs[n_skip:-(n_skip_end+1)],losses )\n",
        "    #plt.plot(learner.recorder.lrs[n_skip:-(n_skip_end+1)],val_losses )\n",
        "\n",
        "    plt.xscale('log')\n",
        "    plt.savefig(str(path/(filename+'.png')))\n",
        "    plt.switch_backend(backend_old)\n",
        "\n",
        "def losses_plot(learner, path, filename=\"losses\", last:int=None):\n",
        "    '''saves lr_find plot as file (normally only jupyter output)\n",
        "    on the x-axis is lrs[-1]\n",
        "    '''\n",
        "    backend_old= matplotlib.get_backend()\n",
        "    plt.switch_backend('agg')\n",
        "    plt.ylabel(\"loss\")\n",
        "    plt.xlabel(\"Batches processed\")\n",
        "\n",
        "    last = ifnone(last,len(learner.recorder.nb_batches))\n",
        "    l_b = np.sum(learner.recorder.nb_batches[-last:])\n",
        "    iterations = range_of(learner.recorder.losses)[-l_b:]\n",
        "    plt.plot(iterations, learner.recorder.losses[-l_b:], label='Train')\n",
        "    val_iter = learner.recorder.nb_batches[-last:]\n",
        "    val_iter = np.cumsum(val_iter)+np.sum(learner.recorder.nb_batches[:-last])\n",
        "    plt.plot(val_iter, learner.recorder.val_losses[-last:], label='Validation')\n",
        "    plt.legend()\n",
        "\n",
        "    plt.savefig(str(path/(filename+'.png')))\n",
        "    plt.switch_backend(backend_old)\n",
        "\n",
        "class fastai_model(ClassificationModel):\n",
        "    def __init__(self,name,n_classes,freq,outputfolder,input_shape,pretrained=False,input_size=2.5,input_channels=12,chunkify_train=False,chunkify_valid=True,bs=128,ps_head=0.5,lin_ftrs_head=[128],wd=1e-2,epochs=50,lr=1e-2,kernel_size=5,loss=\"binary_cross_entropy\",pretrainedfolder=None,n_classes_pretrained=None,gradual_unfreezing=True,discriminative_lrs=True,epochs_finetuning=30,early_stopping=None,aggregate_fn=\"max\",concat_train_val=False):\n",
        "        super().__init__()\n",
        "        \n",
        "        self.name = name\n",
        "        self.num_classes = n_classes if loss!= \"nll_regression\" else 2\n",
        "        self.target_fs = freq\n",
        "        self.outputfolder = Path(outputfolder)\n",
        "\n",
        "        self.input_size=int(input_size*self.target_fs)\n",
        "        self.input_channels=input_channels\n",
        "\n",
        "        self.chunkify_train=chunkify_train\n",
        "        self.chunkify_valid=chunkify_valid\n",
        "\n",
        "        self.chunk_length_train=2*self.input_size#target_fs*6\n",
        "        self.chunk_length_valid=self.input_size\n",
        "\n",
        "        self.min_chunk_length=self.input_size#chunk_length\n",
        "\n",
        "        self.stride_length_train=self.input_size#chunk_length_train//8\n",
        "        self.stride_length_valid=self.input_size//2#chunk_length_valid\n",
        "\n",
        "        self.copies_valid = 0 #>0 should only be used with chunkify_valid=False\n",
        "        \n",
        "        self.bs=bs\n",
        "        self.ps_head=ps_head\n",
        "        self.lin_ftrs_head=lin_ftrs_head\n",
        "        self.wd=wd\n",
        "        self.epochs=epochs\n",
        "        self.lr=lr\n",
        "        self.kernel_size = kernel_size\n",
        "        self.loss = loss\n",
        "        self.input_shape = input_shape\n",
        "\n",
        "        if pretrained == True:\n",
        "            if(pretrainedfolder is None):\n",
        "                pretrainedfolder = Path('../output/exp0/models/'+name.split(\"_pretrained\")[0]+'/')\n",
        "            if(n_classes_pretrained is None):\n",
        "                n_classes_pretrained = 71\n",
        "  \n",
        "        self.pretrainedfolder = None if pretrainedfolder is None else Path(pretrainedfolder)\n",
        "        self.n_classes_pretrained = n_classes_pretrained\n",
        "        self.discriminative_lrs = discriminative_lrs\n",
        "        self.gradual_unfreezing = gradual_unfreezing\n",
        "        self.epochs_finetuning = epochs_finetuning\n",
        "\n",
        "        self.early_stopping = early_stopping\n",
        "        self.aggregate_fn = aggregate_fn\n",
        "        self.concat_train_val = concat_train_val\n",
        "\n",
        "    def fit(self, X_train, y_train, X_val, y_val):\n",
        "        #convert everything to float32\n",
        "        X_train = [l.astype(np.float32) for l in X_train]\n",
        "        X_val = [l.astype(np.float32) for l in X_val]\n",
        "        y_train = [l.astype(np.float32) for l in y_train]\n",
        "        y_val = [l.astype(np.float32) for l in y_val]\n",
        "\n",
        "        if(self.concat_train_val):\n",
        "            X_train += X_val\n",
        "            y_train += y_val\n",
        "        \n",
        "        if(self.pretrainedfolder is None): #from scratch\n",
        "            print(\"Training from scratch...\")\n",
        "            learn = self._get_learner(X_train,y_train,X_val,y_val)\n",
        "            \n",
        "            #if(self.discriminative_lrs):\n",
        "            #    layer_groups=learn.model.get_layer_groups()\n",
        "            #    learn.split(layer_groups)\n",
        "            learn.model.apply(weight_init)\n",
        "            \n",
        "            #initialization for regression output\n",
        "            if(self.loss==\"nll_regression\" or self.loss==\"mse\"):\n",
        "                output_layer_new = learn.model.get_output_layer()\n",
        "                output_layer_new.apply(nll_regression_init)\n",
        "                learn.model.set_output_layer(output_layer_new)\n",
        "            \n",
        "            lr_find_plot(learn, self.outputfolder)    \n",
        "            learn.fit_one_cycle(self.epochs,self.lr)#slice(self.lr) if self.discriminative_lrs else self.lr)\n",
        "            losses_plot(learn, self.outputfolder)\n",
        "        else: #finetuning\n",
        "            print(\"Finetuning...\")\n",
        "            #create learner\n",
        "            learn = self._get_learner(X_train,y_train,X_val,y_val,self.n_classes_pretrained)\n",
        "            \n",
        "            #load pretrained model\n",
        "            learn.path = self.pretrainedfolder\n",
        "            learn.load(self.pretrainedfolder.stem)\n",
        "            learn.path = self.outputfolder\n",
        "\n",
        "            #exchange top layer\n",
        "            output_layer = learn.model.get_output_layer()\n",
        "            output_layer_new = nn.Linear(output_layer.in_features,self.num_classes).cuda()\n",
        "            apply_init(output_layer_new, nn.init.kaiming_normal_)\n",
        "            learn.model.set_output_layer(output_layer_new)\n",
        "            \n",
        "            #layer groups\n",
        "            if(self.discriminative_lrs):\n",
        "                layer_groups=learn.model.get_layer_groups()\n",
        "                learn.split(layer_groups)\n",
        "\n",
        "            learn.train_bn = True #make sure if bn mode is train\n",
        "            \n",
        "            \n",
        "            #train\n",
        "            lr = self.lr\n",
        "            if(self.gradual_unfreezing):\n",
        "                assert(self.discriminative_lrs is True)\n",
        "                learn.freeze()\n",
        "                lr_find_plot(learn, self.outputfolder,\"lr_find0\")\n",
        "                learn.fit_one_cycle(self.epochs_finetuning,lr)\n",
        "                losses_plot(learn, self.outputfolder,\"losses0\")\n",
        "                #for n in [0]:#range(len(layer_groups)):\n",
        "                #    learn.freeze_to(-n-1)\n",
        "                #    lr_find_plot(learn, self.outputfolder,\"lr_find\"+str(n))\n",
        "                #    learn.fit_one_cycle(self.epochs_gradual_unfreezing,slice(lr))\n",
        "                #    losses_plot(learn, self.outputfolder,\"losses\"+str(n))\n",
        "                    #if(n==0):#reduce lr after first step\n",
        "                    #    lr/=10.\n",
        "                    #if(n>0 and (self.name.startswith(\"fastai_lstm\") or self.name.startswith(\"fastai_gru\"))):#reduce lr further for RNNs\n",
        "                    #    lr/=10\n",
        "                    \n",
        "            learn.unfreeze()\n",
        "            lr_find_plot(learn, self.outputfolder,\"lr_find\"+str(len(layer_groups)))\n",
        "            learn.fit_one_cycle(self.epochs_finetuning,slice(lr/1000,lr/10))\n",
        "            losses_plot(learn, self.outputfolder,\"losses\"+str(len(layer_groups)))\n",
        "\n",
        "        learn.save(self.name) #even for early stopping the best model will have been loaded again\n",
        "    \n",
        "    def predict(self, X):\n",
        "        X = [l.astype(np.float32) for l in X]\n",
        "        y_dummy = [np.ones(self.num_classes,dtype=np.float32) for _ in range(len(X))]\n",
        "        \n",
        "        learn = self._get_learner(X,y_dummy,X,y_dummy)\n",
        "        learn.load(self.name)\n",
        "        \n",
        "        preds,targs=learn.get_preds()\n",
        "        preds=to_np(preds)\n",
        "        \n",
        "        idmap=learn.data.valid_ds.get_id_mapping()\n",
        "\n",
        "        return aggregate_predictions(preds,idmap=idmap,aggregate_fn = np.mean if self.aggregate_fn==\"mean\" else np.amax)  \n",
        "        \n",
        "    def _get_learner(self, X_train,y_train,X_val,y_val,num_classes=None):\n",
        "        df_train = pd.DataFrame({\"data\":range(len(X_train)),\"label\":y_train})\n",
        "        df_valid = pd.DataFrame({\"data\":range(len(X_val)),\"label\":y_val})\n",
        "        \n",
        "        tfms_ptb_xl = [ToTensor()]\n",
        "                \n",
        "        ds_train=TimeseriesDatasetCrops(df_train,self.input_size,num_classes=self.num_classes,chunk_length=self.chunk_length_train if self.chunkify_train else 0,min_chunk_length=self.min_chunk_length,stride=self.stride_length_train,transforms=tfms_ptb_xl,annotation=False,col_lbl =\"label\",npy_data=X_train)\n",
        "        ds_valid=TimeseriesDatasetCrops(df_valid,self.input_size,num_classes=self.num_classes,chunk_length=self.chunk_length_valid if self.chunkify_valid else 0,min_chunk_length=self.min_chunk_length,stride=self.stride_length_valid,transforms=tfms_ptb_xl,annotation=False,col_lbl =\"label\",npy_data=X_val)\n",
        "    \n",
        "        db = DataBunch.create(ds_train,ds_valid,bs=self.bs)\n",
        "\n",
        "        if(self.loss == \"binary_cross_entropy\"):\n",
        "            loss = F.binary_cross_entropy_with_logits\n",
        "        elif(self.loss == \"cross_entropy\"):\n",
        "            loss = F.cross_entropy\n",
        "        elif(self.loss == \"mse\"):\n",
        "            loss = mse_flat\n",
        "        elif(self.loss == \"nll_regression\"):\n",
        "            loss = nll_regression    \n",
        "        else:\n",
        "            print(\"loss not found\")\n",
        "            assert(True)   \n",
        "               \n",
        "        self.input_channels = self.input_shape[-1]\n",
        "        metrics = []\n",
        "\n",
        "        print(\"model:\",self.name) #note: all models of a particular kind share the same prefix but potentially a different postfix such as _input256\n",
        "        num_classes = self.num_classes if num_classes is None else num_classes\n",
        "        #resnet resnet1d18,resnet1d34,resnet1d50,resnet1d101,resnet1d152,resnet1d_wang,resnet1d,wrn1d_22\n",
        "        if(self.name.startswith(\"fastai_resnet1d18\")):\n",
        "            model = resnet1d18(num_classes=num_classes,input_channels=self.input_channels,inplanes=128,kernel_size=self.kernel_size,ps_head=self.ps_head,lin_ftrs_head=self.lin_ftrs_head)\n",
        "        elif(self.name.startswith(\"fastai_resnet1d34\")):\n",
        "            model = resnet1d34(num_classes=num_classes,input_channels=self.input_channels,inplanes=128,kernel_size=self.kernel_size,ps_head=self.ps_head,lin_ftrs_head=self.lin_ftrs_head)\n",
        "        elif(self.name.startswith(\"fastai_resnet1d50\")):\n",
        "            model = resnet1d50(num_classes=num_classes,input_channels=self.input_channels,inplanes=128,kernel_size=self.kernel_size,ps_head=self.ps_head,lin_ftrs_head=self.lin_ftrs_head)\n",
        "        elif(self.name.startswith(\"fastai_resnet1d101\")):\n",
        "            model = resnet1d101(num_classes=num_classes,input_channels=self.input_channels,inplanes=128,kernel_size=self.kernel_size,ps_head=self.ps_head,lin_ftrs_head=self.lin_ftrs_head)\n",
        "        elif(self.name.startswith(\"fastai_resnet1d152\")):\n",
        "            model = resnet1d152(num_classes=num_classes,input_channels=self.input_channels,inplanes=128,kernel_size=self.kernel_size,ps_head=self.ps_head,lin_ftrs_head=self.lin_ftrs_head)\n",
        "        elif(self.name.startswith(\"fastai_resnet1d_wang\")):\n",
        "            model = resnet1d_wang(num_classes=num_classes,input_channels=self.input_channels,kernel_size=self.kernel_size,ps_head=self.ps_head,lin_ftrs_head=self.lin_ftrs_head)\n",
        "        elif(self.name.startswith(\"fastai_wrn1d_22\")):    \n",
        "            model = wrn1d_22(num_classes=num_classes,input_channels=self.input_channels,kernel_size=self.kernel_size,ps_head=self.ps_head,lin_ftrs_head=self.lin_ftrs_head)\n",
        "        \n",
        "        #xresnet ... (order important for string capture)\n",
        "        elif(self.name.startswith(\"fastai_xresnet1d18_deeper\")):\n",
        "            model = xresnet1d18_deeper(num_classes=num_classes,input_channels=self.input_channels,kernel_size=self.kernel_size,ps_head=self.ps_head,lin_ftrs_head=self.lin_ftrs_head)\n",
        "        elif(self.name.startswith(\"fastai_xresnet1d34_deeper\")):\n",
        "            model = xresnet1d34_deeper(num_classes=num_classes,input_channels=self.input_channels,kernel_size=self.kernel_size,ps_head=self.ps_head,lin_ftrs_head=self.lin_ftrs_head)\n",
        "        elif(self.name.startswith(\"fastai_xresnet1d50_deeper\")):\n",
        "            model = xresnet1d50_deeper(num_classes=num_classes,input_channels=self.input_channels,kernel_size=self.kernel_size,ps_head=self.ps_head,lin_ftrs_head=self.lin_ftrs_head)\n",
        "        elif(self.name.startswith(\"fastai_xresnet1d18_deep\")):\n",
        "            model = xresnet1d18_deep(num_classes=num_classes,input_channels=self.input_channels,kernel_size=self.kernel_size,ps_head=self.ps_head,lin_ftrs_head=self.lin_ftrs_head)\n",
        "        elif(self.name.startswith(\"fastai_xresnet1d34_deep\")):\n",
        "            model = xresnet1d34_deep(num_classes=num_classes,input_channels=self.input_channels,kernel_size=self.kernel_size,ps_head=self.ps_head,lin_ftrs_head=self.lin_ftrs_head)\n",
        "        elif(self.name.startswith(\"fastai_xresnet1d50_deep\")):\n",
        "            model = xresnet1d50_deep(num_classes=num_classes,input_channels=self.input_channels,kernel_size=self.kernel_size,ps_head=self.ps_head,lin_ftrs_head=self.lin_ftrs_head)\n",
        "        elif(self.name.startswith(\"fastai_xresnet1d18\")):\n",
        "            model = xresnet1d18(num_classes=num_classes,input_channels=self.input_channels,kernel_size=self.kernel_size,ps_head=self.ps_head,lin_ftrs_head=self.lin_ftrs_head)\n",
        "        elif(self.name.startswith(\"fastai_xresnet1d34\")):\n",
        "            model = xresnet1d34(num_classes=num_classes,input_channels=self.input_channels,kernel_size=self.kernel_size,ps_head=self.ps_head,lin_ftrs_head=self.lin_ftrs_head)\n",
        "        elif(self.name.startswith(\"fastai_xresnet1d50\")):\n",
        "            model = xresnet1d50(num_classes=num_classes,input_channels=self.input_channels,kernel_size=self.kernel_size,ps_head=self.ps_head,lin_ftrs_head=self.lin_ftrs_head)\n",
        "        elif(self.name.startswith(\"fastai_xresnet1d101\")):\n",
        "            model = xresnet1d101(num_classes=num_classes,input_channels=self.input_channels,kernel_size=self.kernel_size,ps_head=self.ps_head,lin_ftrs_head=self.lin_ftrs_head)\n",
        "        elif(self.name.startswith(\"fastai_xresnet1d152\")):\n",
        "            model = xresnet1d152(num_classes=num_classes,input_channels=self.input_channels,kernel_size=self.kernel_size,ps_head=self.ps_head,lin_ftrs_head=self.lin_ftrs_head)\n",
        "                        \n",
        "        #inception\n",
        "        #passing the default kernel size of 5 leads to a max kernel size of 40-1 in the inception model as proposed in the original paper\n",
        "        elif(self.name == \"fastai_inception1d_no_residual\"):#note: order important for string capture\n",
        "            model = inception1d(num_classes=num_classes,input_channels=self.input_channels,use_residual=False,ps_head=self.ps_head,lin_ftrs_head=self.lin_ftrs_head,kernel_size=8*self.kernel_size)\n",
        "        elif(self.name.startswith(\"fastai_inception1d\")):\n",
        "            model = inception1d(num_classes=num_classes,input_channels=self.input_channels,use_residual=True,ps_head=self.ps_head,lin_ftrs_head=self.lin_ftrs_head,kernel_size=8*self.kernel_size)\n",
        "\n",
        "\n",
        "        #basic_conv1d fcn,fcn_wang,schirrmeister,sen,basic1d\n",
        "        elif(self.name.startswith(\"fastai_fcn_wang\")):#note: order important for string capture\n",
        "            model = fcn_wang(num_classes=num_classes,input_channels=self.input_channels,ps_head=self.ps_head,lin_ftrs_head=self.lin_ftrs_head)\n",
        "        elif(self.name.startswith(\"fastai_fcn\")):\n",
        "            model = fcn(num_classes=num_classes,input_channels=self.input_channels)\n",
        "        elif(self.name.startswith(\"fastai_schirrmeister\")):\n",
        "            model = schirrmeister(num_classes=num_classes,input_channels=self.input_channels,ps_head=self.ps_head,lin_ftrs_head=self.lin_ftrs_head)\n",
        "        elif(self.name.startswith(\"fastai_sen\")):\n",
        "            model = sen(num_classes=num_classes,input_channels=self.input_channels,ps_head=self.ps_head,lin_ftrs_head=self.lin_ftrs_head)\n",
        "        elif(self.name.startswith(\"fastai_basic1d\")):    \n",
        "            model = basic1d(num_classes=num_classes,input_channels=self.input_channels,kernel_size=self.kernel_size,ps_head=self.ps_head,lin_ftrs_head=self.lin_ftrs_head)\n",
        "        #RNN\n",
        "        elif(self.name.startswith(\"fastai_lstm_bidir\")):\n",
        "            model = RNN1d(input_channels=self.input_channels,num_classes=num_classes,lstm=True,bidirectional=True,ps_head=self.ps_head,lin_ftrs_head=self.lin_ftrs_head)\n",
        "        elif(self.name.startswith(\"fastai_gru_bidir\")):\n",
        "            model = RNN1d(input_channels=self.input_channels,num_classes=num_classes,lstm=False,bidirectional=True,ps_head=self.ps_head,lin_ftrs_head=self.lin_ftrs_head)\n",
        "        elif(self.name.startswith(\"fastai_lstm\")):\n",
        "            model = RNN1d(input_channels=self.input_channels,num_classes=num_classes,lstm=True,bidirectional=False,ps_head=self.ps_head,lin_ftrs_head=self.lin_ftrs_head)\n",
        "        elif(self.name.startswith(\"fastai_gru\")):\n",
        "            model = RNN1d(input_channels=self.input_channels,num_classes=num_classes,lstm=False,bidirectional=False,ps_head=self.ps_head,lin_ftrs_head=self.lin_ftrs_head)\n",
        "        else:\n",
        "            print(\"Model not found.\")\n",
        "            assert(True)\n",
        "            \n",
        "        learn = Learner(db,model, loss_func=loss, metrics=metrics,wd=self.wd,path=self.outputfolder)\n",
        "        \n",
        "        if(self.name.startswith(\"fastai_lstm\") or self.name.startswith(\"fastai_gru\")):\n",
        "            learn.callback_fns.append(partial(GradientClipping, clip=0.25))\n",
        "\n",
        "        if(self.early_stopping is not None):\n",
        "            #supported options: valid_loss, macro_auc, fmax\n",
        "            if(self.early_stopping == \"macro_auc\" and self.loss != \"mse\" and self.loss !=\"nll_regression\"):\n",
        "                metric = metric_func(auc_metric, self.early_stopping, one_hot_encode_target=False, argmax_pred=False, softmax_pred=False, sigmoid_pred=True, flatten_target=False)\n",
        "                learn.metrics.append(metric)\n",
        "                learn.callback_fns.append(partial(SaveModelCallback, monitor=self.early_stopping, every='improvement', name=self.name))\n",
        "            elif(self.early_stopping == \"fmax\" and self.loss != \"mse\" and self.loss !=\"nll_regression\"):\n",
        "                metric = metric_func(fmax_metric, self.early_stopping, one_hot_encode_target=False, argmax_pred=False, softmax_pred=False, sigmoid_pred=True, flatten_target=False)\n",
        "                learn.metrics.append(metric)\n",
        "                learn.callback_fns.append(partial(SaveModelCallback, monitor=self.early_stopping, every='improvement', name=self.name))\n",
        "            elif(self.early_stopping == \"valid_loss\"):\n",
        "                learn.callback_fns.append(partial(SaveModelCallback, monitor=self.early_stopping, every='improvement', name=self.name))\n",
        "            \n",
        "        return learn"
      ],
      "execution_count": null,
      "outputs": []
    },
    {
      "cell_type": "code",
      "metadata": {
        "id": "-05WEAGL1Cv0",
        "cellView": "code"
      },
      "source": [
        "#@title SCP_Experiment definition\n",
        "from utils import utils\n",
        "import os\n",
        "import pickle\n",
        "import pandas as pd\n",
        "import numpy as np\n",
        "import multiprocessing\n",
        "from itertools import repeat\n",
        "\n",
        "class SCP_Experiment():\n",
        "    '''\n",
        "        Experiment on SCP-ECG statements. All experiments based on SCP are performed and evaluated the same way.\n",
        "    '''\n",
        "\n",
        "    def __init__(self, experiment_name, task, datafolder, outputfolder, models, sampling_frequency=100, min_samples=0, train_fold=8, val_fold=9, test_fold=10, folds_type='strat'):\n",
        "        self.models = models\n",
        "        self.min_samples = min_samples\n",
        "        self.task = task\n",
        "        self.train_fold = train_fold\n",
        "        self.val_fold = val_fold\n",
        "        self.test_fold = test_fold\n",
        "        self.folds_type = folds_type\n",
        "        self.experiment_name = experiment_name\n",
        "        self.outputfolder = outputfolder\n",
        "        self.datafolder = datafolder\n",
        "        self.sampling_frequency = sampling_frequency\n",
        "\n",
        "        # create folder structure if needed\n",
        "        if not os.path.exists(self.outputfolder+self.experiment_name):\n",
        "            os.makedirs(self.outputfolder+self.experiment_name)\n",
        "            if not os.path.exists(self.outputfolder+self.experiment_name+'/results/'):\n",
        "                os.makedirs(self.outputfolder+self.experiment_name+'/results/')\n",
        "            if not os.path.exists(outputfolder+self.experiment_name+'/models/'):\n",
        "                os.makedirs(self.outputfolder+self.experiment_name+'/models/')\n",
        "            if not os.path.exists(outputfolder+self.experiment_name+'/data/'):\n",
        "                os.makedirs(self.outputfolder+self.experiment_name+'/data/')\n",
        "\n",
        "    def prepare(self):\n",
        "        # Load PTB-XL data\n",
        "        self.data, self.raw_labels = utils.load_dataset(self.datafolder, self.sampling_frequency)\n",
        "\n",
        "        # Preprocess label data\n",
        "        self.labels = utils.compute_label_aggregations(self.raw_labels, self.datafolder, self.task)\n",
        "\n",
        "        # Select relevant data and convert to one-hot\n",
        "        self.data, self.labels, self.Y, _ = utils.select_data(self.data, self.labels, self.task, self.min_samples, self.outputfolder+self.experiment_name+'/data/')\n",
        "        self.input_shape = self.data[0].shape\n",
        "        \n",
        "        # 10th fold for testing (9th for now)\n",
        "        self.X_test = self.data[self.labels.strat_fold == self.test_fold]\n",
        "        self.y_test = self.Y[self.labels.strat_fold == self.test_fold]\n",
        "        # 9th fold for validation (8th for now)\n",
        "        self.X_val = self.data[self.labels.strat_fold == self.val_fold]\n",
        "        self.y_val = self.Y[self.labels.strat_fold == self.val_fold]\n",
        "        # rest for training\n",
        "        self.X_train = self.data[self.labels.strat_fold <= self.train_fold]\n",
        "        self.y_train = self.Y[self.labels.strat_fold <= self.train_fold]\n",
        "\n",
        "\n",
        "        # Preprocess signal data\n",
        "        self.X_train, self.X_val, self.X_test = utils.preprocess_signals(self.X_train, self.X_val, self.X_test, self.outputfolder+self.experiment_name+'/data/')\n",
        "        self.n_classes = self.y_train.shape[1]\n",
        "\n",
        "        # save train and test labels\n",
        "        self.y_train.dump(self.outputfolder + self.experiment_name+ '/data/y_train.npy')\n",
        "        self.y_val.dump(self.outputfolder + self.experiment_name+ '/data/y_val.npy')\n",
        "        self.y_test.dump(self.outputfolder + self.experiment_name+ '/data/y_test.npy')\n",
        "\n",
        "        modelname = 'naive'\n",
        "        # create most naive predictions via simple mean in training\n",
        "        mpath = self.outputfolder+self.experiment_name+'/models/'+modelname+'/'\n",
        "        # create folder for model outputs\n",
        "        if not os.path.exists(mpath):\n",
        "            os.makedirs(mpath)\n",
        "        if not os.path.exists(mpath+'results/'):\n",
        "            os.makedirs(mpath+'results/')\n",
        "\n",
        "        mean_y = np.mean(self.y_train, axis=0)\n",
        "        np.array([mean_y]*len(self.y_train)).dump(mpath + 'y_train_pred.npy')\n",
        "        np.array([mean_y]*len(self.y_test)).dump(mpath + 'y_test_pred.npy')\n",
        "        np.array([mean_y]*len(self.y_val)).dump(mpath + 'y_val_pred.npy')\n",
        "\n",
        "    def perform(self):\n",
        "\n",
        "        for model_description in self.models:\n",
        "            modelname = model_description['modelname']\n",
        "            modeltype = model_description['modeltype']\n",
        "            modelparams = model_description['parameters']\n",
        "\n",
        "            mpath = self.outputfolder+self.experiment_name+'/models/'+modelname+'/'\n",
        "            # create folder for model outputs\n",
        "            if not os.path.exists(mpath):\n",
        "                os.makedirs(mpath)\n",
        "            if not os.path.exists(mpath+'results/'):\n",
        "                os.makedirs(mpath+'results/')\n",
        "\n",
        "            n_classes = self.Y.shape[1]\n",
        "            # load respective model\n",
        "            if modeltype == 'WAVELET':\n",
        "                from models.wavelet import WaveletModel\n",
        "                model = WaveletModel(modelname, n_classes, self.sampling_frequency, mpath, self.input_shape, **modelparams)\n",
        "            elif modeltype == \"fastai_model\":\n",
        "                from models.fastai_model import fastai_model\n",
        "                model = fastai_model(modelname, n_classes, self.sampling_frequency, mpath, self.input_shape, **modelparams)\n",
        "            elif modeltype == \"YOUR_MODEL_TYPE\":\n",
        "                # YOUR MODEL GOES HERE!\n",
        "                from models.your_model import YourModel\n",
        "                model = YourModel(modelname, n_classes, self.sampling_frequency, mpath, self.input_shape, **modelparams)\n",
        "            else:\n",
        "                assert(True)\n",
        "                break\n",
        "\n",
        "            # fit model\n",
        "            model.fit(self.X_train, self.y_train, self.X_val, self.y_val)\n",
        "            # predict and dump\n",
        "            model.predict(self.X_train).dump(mpath+'y_train_pred.npy')\n",
        "            model.predict(self.X_val).dump(mpath+'y_val_pred.npy')\n",
        "            model.predict(self.X_test).dump(mpath+'y_test_pred.npy')\n",
        "\n",
        "        modelname = 'ensemble'\n",
        "        # create ensemble predictions via simple mean across model predictions (except naive predictions)\n",
        "        ensemblepath = self.outputfolder+self.experiment_name+'/models/'+modelname+'/'\n",
        "        # create folder for model outputs\n",
        "        if not os.path.exists(ensemblepath):\n",
        "            os.makedirs(ensemblepath)\n",
        "        if not os.path.exists(ensemblepath+'results/'):\n",
        "            os.makedirs(ensemblepath+'results/')\n",
        "        # load all predictions\n",
        "        ensemble_train, ensemble_val, ensemble_test = [],[],[]\n",
        "        for model_description in os.listdir(self.outputfolder+self.experiment_name+'/models/'):\n",
        "            if not model_description in ['ensemble', 'naive']:\n",
        "                mpath = self.outputfolder+self.experiment_name+'/models/'+model_description+'/'\n",
        "                ensemble_train.append(np.load(mpath+'y_train_pred.npy', allow_pickle=True))\n",
        "                ensemble_val.append(np.load(mpath+'y_val_pred.npy', allow_pickle=True))\n",
        "                ensemble_test.append(np.load(mpath+'y_test_pred.npy', allow_pickle=True))\n",
        "        # dump mean predictions\n",
        "        np.array(ensemble_train).mean(axis=0).dump(ensemblepath + 'y_train_pred.npy')\n",
        "        np.array(ensemble_test).mean(axis=0).dump(ensemblepath + 'y_test_pred.npy')\n",
        "        np.array(ensemble_val).mean(axis=0).dump(ensemblepath + 'y_val_pred.npy')\n",
        "\n",
        "    def evaluate(self, n_bootstraping_samples=100, n_jobs=20, bootstrap_eval=False, dumped_bootstraps=True):\n",
        "\n",
        "        # get labels\n",
        "        y_train = np.load(self.outputfolder+self.experiment_name+'/data/y_train.npy', allow_pickle=True)\n",
        "        #y_val = np.load(self.outputfolder+self.experiment_name+'/data/y_val.npy', allow_pickle=True)\n",
        "        y_test = np.load(self.outputfolder+self.experiment_name+'/data/y_test.npy', allow_pickle=True)\n",
        "\n",
        "        # if bootstrapping then generate appropriate samples for each\n",
        "        if bootstrap_eval:\n",
        "            if not dumped_bootstraps:\n",
        "                #train_samples = np.array(utils.get_appropriate_bootstrap_samples(y_train, n_bootstraping_samples))\n",
        "                test_samples = np.array(utils.get_appropriate_bootstrap_samples(y_test, n_bootstraping_samples))\n",
        "                #val_samples = np.array(utils.get_appropriate_bootstrap_samples(y_val, n_bootstraping_samples))\n",
        "            else:\n",
        "                test_samples = np.load(self.outputfolder+self.experiment_name+'/test_bootstrap_ids.npy', allow_pickle=True)\n",
        "        else:\n",
        "            #train_samples = np.array([range(len(y_train))])\n",
        "            test_samples = np.array([range(len(y_test))])\n",
        "            #val_samples = np.array([range(len(y_val))])\n",
        "\n",
        "        # store samples for future evaluations\n",
        "        #train_samples.dump(self.outputfolder+self.experiment_name+'/train_bootstrap_ids.npy')\n",
        "        test_samples.dump(self.outputfolder+self.experiment_name+'/test_bootstrap_ids.npy')\n",
        "        #val_samples.dump(self.outputfolder+self.experiment_name+'/val_bootstrap_ids.npy')\n",
        "\n",
        "        # iterate over all models fitted so far\n",
        "        for m in sorted(os.listdir(self.outputfolder+self.experiment_name+'/models')):\n",
        "            print(m)\n",
        "            mpath = self.outputfolder+self.experiment_name+'/models/'+m+'/'\n",
        "            rpath = self.outputfolder+self.experiment_name+'/models/'+m+'/results/'\n",
        "\n",
        "            # load predictions\n",
        "            y_train_pred = np.load(mpath+'y_train_pred.npy', allow_pickle=True)\n",
        "            #y_val_pred = np.load(mpath+'y_val_pred.npy', allow_pickle=True)\n",
        "            y_test_pred = np.load(mpath+'y_test_pred.npy', allow_pickle=True)\n",
        "\n",
        "            if self.experiment_name == 'exp_ICBEB':\n",
        "                # compute classwise thresholds such that recall-focused Gbeta is optimized\n",
        "                thresholds = utils.find_optimal_cutoff_thresholds_for_Gbeta(y_train, y_train_pred)\n",
        "            else:\n",
        "                thresholds = None\n",
        "\n",
        "            pool = multiprocessing.Pool(n_jobs)\n",
        "\n",
        "            # tr_df = pd.concat(pool.starmap(utils.generate_results, zip(train_samples, repeat(y_train), repeat(y_train_pred), repeat(thresholds))))\n",
        "            # tr_df_point = utils.generate_results(range(len(y_train)), y_train, y_train_pred, thresholds)\n",
        "            # tr_df_result = pd.DataFrame(\n",
        "            #     np.array([\n",
        "            #         tr_df_point.mean().values, \n",
        "            #         tr_df.mean().values,\n",
        "            #         tr_df.quantile(0.05).values,\n",
        "            #         tr_df.quantile(0.95).values]), \n",
        "            #     columns=tr_df.columns,\n",
        "            #     index=['point', 'mean', 'lower', 'upper'])\n",
        "\n",
        "            te_df = pd.concat(pool.starmap(utils.generate_results, zip(test_samples, repeat(y_test), repeat(y_test_pred), repeat(thresholds))))\n",
        "            te_df_point = utils.generate_results(range(len(y_test)), y_test, y_test_pred, thresholds)\n",
        "            te_df_result = pd.DataFrame(\n",
        "                np.array([\n",
        "                    te_df_point.mean().values, \n",
        "                    te_df.mean().values,\n",
        "                    te_df.quantile(0.05).values,\n",
        "                    te_df.quantile(0.95).values]), \n",
        "                columns=te_df.columns, \n",
        "                index=['point', 'mean', 'lower', 'upper'])\n",
        "\n",
        "            # val_df = pd.concat(pool.starmap(utils.generate_results, zip(val_samples, repeat(y_val), repeat(y_val_pred), repeat(thresholds))))\n",
        "            # val_df_point = utils.generate_results(range(len(y_val)), y_val, y_val_pred, thresholds)\n",
        "            # val_df_result = pd.DataFrame(\n",
        "            #     np.array([\n",
        "            #         val_df_point.mean().values, \n",
        "            #         val_df.mean().values,\n",
        "            #         val_df.quantile(0.05).values,\n",
        "            #         val_df.quantile(0.95).values]), \n",
        "            #     columns=val_df.columns, \n",
        "            #     index=['point', 'mean', 'lower', 'upper'])\n",
        "\n",
        "            pool.close()\n",
        "\n",
        "            # dump results\n",
        "            #tr_df_result.to_csv(rpath+'tr_results.csv')\n",
        "            #val_df_result.to_csv(rpath+'val_results.csv')\n",
        "            te_df_result.to_csv(rpath+'te_results.csv')"
      ],
      "execution_count": null,
      "outputs": []
    },
    {
      "cell_type": "markdown",
      "metadata": {
        "id": "EmxxCLOWaEjJ"
      },
      "source": [
        "#Training inception-1d on ICBEB\n"
      ]
    },
    {
      "cell_type": "code",
      "metadata": {
        "colab": {
          "base_uri": "https://localhost:8080/",
          "height": 1000
        },
        "id": "XOUtXc7GaU3m",
        "outputId": "06758305-bffb-4d00-dfee-9c15b8dcaf37"
      },
      "source": [
        "from experiments.scp_experiment import SCP_Experiment\n",
        "from utils import utils\n",
        "# model configs\n",
        "from configs.fastai_configs import *\n",
        "from configs.wavelet_configs import *\n",
        "\n",
        "\n",
        "def main():\n",
        "    \n",
        "    datafolder_icbeb = '/gdrive/My Drive/ICBEB/'\n",
        "    outputfolder = '../output_ic/'\n",
        "\n",
        "    models = [\n",
        "        # conf_fastai_xresnet1d101,\n",
        "        # conf_fastai_resnet1d_wang,\n",
        "        # conf_fastai_lstm,\n",
        "        # conf_fastai_lstm_bidir,\n",
        "        # conf_fastai_fcn_wang,\n",
        "        conf_fastai_inception1d,\n",
        "        # conf_wavelet_standard_nn,\n",
        "        ]\n",
        "\n",
        "    ##########################################\n",
        "    # EXPERIMENT BASED ICBEB DATA\n",
        "    ##########################################\n",
        "\n",
        "    e = SCP_Experiment('exp_ICBEB', 'all', datafolder_icbeb, outputfolder, models)\n",
        "    e.prepare()\n",
        "    e.perform()\n",
        "    e.evaluate()\n",
        "\n",
        "    # generate greate summary table\n",
        "    utils.ICBEBE_table()\n",
        "\n",
        "if __name__ == \"__main__\":\n",
        "    main()"
      ],
      "execution_count": null,
      "outputs": [
        {
          "output_type": "stream",
          "text": [
            "Training from scratch...\n",
            "model: fastai_inception1d\n"
          ],
          "name": "stdout"
        },
        {
          "output_type": "display_data",
          "data": {
            "text/html": [
              "\n",
              "    <div>\n",
              "        <style>\n",
              "            /* Turns off some styling */\n",
              "            progress {\n",
              "                /* gets rid of default border in Firefox and Opera. */\n",
              "                border: none;\n",
              "                /* Needs to be in here for Safari polyfill so background images work as expected. */\n",
              "                background-size: auto;\n",
              "            }\n",
              "            .progress-bar-interrupted, .progress-bar-interrupted::-webkit-progress-bar {\n",
              "                background: #F44336;\n",
              "            }\n",
              "        </style>\n",
              "      <progress value='2' class='' max='3' style='width:300px; height:20px; vertical-align: middle;'></progress>\n",
              "      66.67% [2/3 00:06<00:03]\n",
              "    </div>\n",
              "    \n",
              "<table border=\"1\" class=\"dataframe\">\n",
              "  <thead>\n",
              "    <tr style=\"text-align: left;\">\n",
              "      <th>epoch</th>\n",
              "      <th>train_loss</th>\n",
              "      <th>valid_loss</th>\n",
              "      <th>time</th>\n",
              "    </tr>\n",
              "  </thead>\n",
              "  <tbody>\n",
              "    <tr>\n",
              "      <td>0</td>\n",
              "      <td>1.007221</td>\n",
              "      <td>#na#</td>\n",
              "      <td>00:03</td>\n",
              "    </tr>\n",
              "    <tr>\n",
              "      <td>1</td>\n",
              "      <td>0.730318</td>\n",
              "      <td>#na#</td>\n",
              "      <td>00:03</td>\n",
              "    </tr>\n",
              "  </tbody>\n",
              "</table><p>\n",
              "\n",
              "    <div>\n",
              "        <style>\n",
              "            /* Turns off some styling */\n",
              "            progress {\n",
              "                /* gets rid of default border in Firefox and Opera. */\n",
              "                border: none;\n",
              "                /* Needs to be in here for Safari polyfill so background images work as expected. */\n",
              "                background-size: auto;\n",
              "            }\n",
              "            .progress-bar-interrupted, .progress-bar-interrupted::-webkit-progress-bar {\n",
              "                background: #F44336;\n",
              "            }\n",
              "        </style>\n",
              "      <progress value='11' class='' max='42' style='width:300px; height:20px; vertical-align: middle;'></progress>\n",
              "      26.19% [11/42 00:01<00:02 1.8979]\n",
              "    </div>\n",
              "    "
            ],
            "text/plain": [
              "<IPython.core.display.HTML object>"
            ]
          },
          "metadata": {
            "tags": []
          }
        },
        {
          "output_type": "stream",
          "text": [
            "LR Finder is complete, type {learner_name}.recorder.plot() to see the graph.\n"
          ],
          "name": "stdout"
        },
        {
          "output_type": "display_data",
          "data": {
            "text/html": [
              "<table border=\"1\" class=\"dataframe\">\n",
              "  <thead>\n",
              "    <tr style=\"text-align: left;\">\n",
              "      <th>epoch</th>\n",
              "      <th>train_loss</th>\n",
              "      <th>valid_loss</th>\n",
              "      <th>time</th>\n",
              "    </tr>\n",
              "  </thead>\n",
              "  <tbody>\n",
              "    <tr>\n",
              "      <td>0</td>\n",
              "      <td>0.848993</td>\n",
              "      <td>0.671847</td>\n",
              "      <td>00:06</td>\n",
              "    </tr>\n",
              "    <tr>\n",
              "      <td>1</td>\n",
              "      <td>0.757463</td>\n",
              "      <td>0.607128</td>\n",
              "      <td>00:06</td>\n",
              "    </tr>\n",
              "    <tr>\n",
              "      <td>2</td>\n",
              "      <td>0.664204</td>\n",
              "      <td>0.487648</td>\n",
              "      <td>00:06</td>\n",
              "    </tr>\n",
              "    <tr>\n",
              "      <td>3</td>\n",
              "      <td>0.535130</td>\n",
              "      <td>0.343341</td>\n",
              "      <td>00:06</td>\n",
              "    </tr>\n",
              "    <tr>\n",
              "      <td>4</td>\n",
              "      <td>0.389285</td>\n",
              "      <td>0.283924</td>\n",
              "      <td>00:06</td>\n",
              "    </tr>\n",
              "    <tr>\n",
              "      <td>5</td>\n",
              "      <td>0.290825</td>\n",
              "      <td>0.246952</td>\n",
              "      <td>00:06</td>\n",
              "    </tr>\n",
              "    <tr>\n",
              "      <td>6</td>\n",
              "      <td>0.237249</td>\n",
              "      <td>0.236148</td>\n",
              "      <td>00:05</td>\n",
              "    </tr>\n",
              "    <tr>\n",
              "      <td>7</td>\n",
              "      <td>0.210529</td>\n",
              "      <td>0.218342</td>\n",
              "      <td>00:05</td>\n",
              "    </tr>\n",
              "    <tr>\n",
              "      <td>8</td>\n",
              "      <td>0.191919</td>\n",
              "      <td>0.193988</td>\n",
              "      <td>00:05</td>\n",
              "    </tr>\n",
              "    <tr>\n",
              "      <td>9</td>\n",
              "      <td>0.177441</td>\n",
              "      <td>0.187097</td>\n",
              "      <td>00:05</td>\n",
              "    </tr>\n",
              "    <tr>\n",
              "      <td>10</td>\n",
              "      <td>0.169312</td>\n",
              "      <td>0.191104</td>\n",
              "      <td>00:05</td>\n",
              "    </tr>\n",
              "    <tr>\n",
              "      <td>11</td>\n",
              "      <td>0.162654</td>\n",
              "      <td>0.187351</td>\n",
              "      <td>00:06</td>\n",
              "    </tr>\n",
              "    <tr>\n",
              "      <td>12</td>\n",
              "      <td>0.157029</td>\n",
              "      <td>0.181249</td>\n",
              "      <td>00:06</td>\n",
              "    </tr>\n",
              "    <tr>\n",
              "      <td>13</td>\n",
              "      <td>0.157362</td>\n",
              "      <td>0.185246</td>\n",
              "      <td>00:06</td>\n",
              "    </tr>\n",
              "    <tr>\n",
              "      <td>14</td>\n",
              "      <td>0.156224</td>\n",
              "      <td>0.176748</td>\n",
              "      <td>00:06</td>\n",
              "    </tr>\n",
              "    <tr>\n",
              "      <td>15</td>\n",
              "      <td>0.152538</td>\n",
              "      <td>0.169842</td>\n",
              "      <td>00:05</td>\n",
              "    </tr>\n",
              "    <tr>\n",
              "      <td>16</td>\n",
              "      <td>0.150980</td>\n",
              "      <td>0.171186</td>\n",
              "      <td>00:05</td>\n",
              "    </tr>\n",
              "    <tr>\n",
              "      <td>17</td>\n",
              "      <td>0.148890</td>\n",
              "      <td>0.184852</td>\n",
              "      <td>00:05</td>\n",
              "    </tr>\n",
              "    <tr>\n",
              "      <td>18</td>\n",
              "      <td>0.145861</td>\n",
              "      <td>0.201523</td>\n",
              "      <td>00:05</td>\n",
              "    </tr>\n",
              "    <tr>\n",
              "      <td>19</td>\n",
              "      <td>0.145366</td>\n",
              "      <td>0.169480</td>\n",
              "      <td>00:05</td>\n",
              "    </tr>\n",
              "    <tr>\n",
              "      <td>20</td>\n",
              "      <td>0.140873</td>\n",
              "      <td>0.185389</td>\n",
              "      <td>00:05</td>\n",
              "    </tr>\n",
              "    <tr>\n",
              "      <td>21</td>\n",
              "      <td>0.139262</td>\n",
              "      <td>0.167941</td>\n",
              "      <td>00:05</td>\n",
              "    </tr>\n",
              "    <tr>\n",
              "      <td>22</td>\n",
              "      <td>0.138123</td>\n",
              "      <td>0.169549</td>\n",
              "      <td>00:06</td>\n",
              "    </tr>\n",
              "    <tr>\n",
              "      <td>23</td>\n",
              "      <td>0.134682</td>\n",
              "      <td>0.188809</td>\n",
              "      <td>00:06</td>\n",
              "    </tr>\n",
              "    <tr>\n",
              "      <td>24</td>\n",
              "      <td>0.131933</td>\n",
              "      <td>0.159628</td>\n",
              "      <td>00:06</td>\n",
              "    </tr>\n",
              "    <tr>\n",
              "      <td>25</td>\n",
              "      <td>0.129066</td>\n",
              "      <td>0.168292</td>\n",
              "      <td>00:06</td>\n",
              "    </tr>\n",
              "    <tr>\n",
              "      <td>26</td>\n",
              "      <td>0.125732</td>\n",
              "      <td>0.162714</td>\n",
              "      <td>00:05</td>\n",
              "    </tr>\n",
              "    <tr>\n",
              "      <td>27</td>\n",
              "      <td>0.122153</td>\n",
              "      <td>0.168987</td>\n",
              "      <td>00:06</td>\n",
              "    </tr>\n",
              "    <tr>\n",
              "      <td>28</td>\n",
              "      <td>0.119144</td>\n",
              "      <td>0.171999</td>\n",
              "      <td>00:06</td>\n",
              "    </tr>\n",
              "    <tr>\n",
              "      <td>29</td>\n",
              "      <td>0.116088</td>\n",
              "      <td>0.168338</td>\n",
              "      <td>00:06</td>\n",
              "    </tr>\n",
              "    <tr>\n",
              "      <td>30</td>\n",
              "      <td>0.115181</td>\n",
              "      <td>0.161157</td>\n",
              "      <td>00:06</td>\n",
              "    </tr>\n",
              "    <tr>\n",
              "      <td>31</td>\n",
              "      <td>0.112968</td>\n",
              "      <td>0.162764</td>\n",
              "      <td>00:05</td>\n",
              "    </tr>\n",
              "    <tr>\n",
              "      <td>32</td>\n",
              "      <td>0.108408</td>\n",
              "      <td>0.153513</td>\n",
              "      <td>00:05</td>\n",
              "    </tr>\n",
              "    <tr>\n",
              "      <td>33</td>\n",
              "      <td>0.103012</td>\n",
              "      <td>0.169164</td>\n",
              "      <td>00:05</td>\n",
              "    </tr>\n",
              "    <tr>\n",
              "      <td>34</td>\n",
              "      <td>0.098903</td>\n",
              "      <td>0.167887</td>\n",
              "      <td>00:05</td>\n",
              "    </tr>\n",
              "    <tr>\n",
              "      <td>35</td>\n",
              "      <td>0.095880</td>\n",
              "      <td>0.162601</td>\n",
              "      <td>00:05</td>\n",
              "    </tr>\n",
              "    <tr>\n",
              "      <td>36</td>\n",
              "      <td>0.090695</td>\n",
              "      <td>0.160398</td>\n",
              "      <td>00:05</td>\n",
              "    </tr>\n",
              "    <tr>\n",
              "      <td>37</td>\n",
              "      <td>0.087152</td>\n",
              "      <td>0.168569</td>\n",
              "      <td>00:05</td>\n",
              "    </tr>\n",
              "    <tr>\n",
              "      <td>38</td>\n",
              "      <td>0.085366</td>\n",
              "      <td>0.162470</td>\n",
              "      <td>00:06</td>\n",
              "    </tr>\n",
              "    <tr>\n",
              "      <td>39</td>\n",
              "      <td>0.079478</td>\n",
              "      <td>0.160749</td>\n",
              "      <td>00:06</td>\n",
              "    </tr>\n",
              "    <tr>\n",
              "      <td>40</td>\n",
              "      <td>0.075353</td>\n",
              "      <td>0.169134</td>\n",
              "      <td>00:06</td>\n",
              "    </tr>\n",
              "    <tr>\n",
              "      <td>41</td>\n",
              "      <td>0.072558</td>\n",
              "      <td>0.169176</td>\n",
              "      <td>00:06</td>\n",
              "    </tr>\n",
              "    <tr>\n",
              "      <td>42</td>\n",
              "      <td>0.068032</td>\n",
              "      <td>0.170189</td>\n",
              "      <td>00:05</td>\n",
              "    </tr>\n",
              "    <tr>\n",
              "      <td>43</td>\n",
              "      <td>0.065907</td>\n",
              "      <td>0.165948</td>\n",
              "      <td>00:05</td>\n",
              "    </tr>\n",
              "    <tr>\n",
              "      <td>44</td>\n",
              "      <td>0.064111</td>\n",
              "      <td>0.168433</td>\n",
              "      <td>00:05</td>\n",
              "    </tr>\n",
              "    <tr>\n",
              "      <td>45</td>\n",
              "      <td>0.062440</td>\n",
              "      <td>0.170342</td>\n",
              "      <td>00:05</td>\n",
              "    </tr>\n",
              "    <tr>\n",
              "      <td>46</td>\n",
              "      <td>0.060140</td>\n",
              "      <td>0.170790</td>\n",
              "      <td>00:05</td>\n",
              "    </tr>\n",
              "    <tr>\n",
              "      <td>47</td>\n",
              "      <td>0.059549</td>\n",
              "      <td>0.171759</td>\n",
              "      <td>00:05</td>\n",
              "    </tr>\n",
              "    <tr>\n",
              "      <td>48</td>\n",
              "      <td>0.058488</td>\n",
              "      <td>0.169631</td>\n",
              "      <td>00:05</td>\n",
              "    </tr>\n",
              "    <tr>\n",
              "      <td>49</td>\n",
              "      <td>0.058143</td>\n",
              "      <td>0.171600</td>\n",
              "      <td>00:06</td>\n",
              "    </tr>\n",
              "  </tbody>\n",
              "</table>"
            ],
            "text/plain": [
              "<IPython.core.display.HTML object>"
            ]
          },
          "metadata": {
            "tags": []
          }
        },
        {
          "output_type": "stream",
          "text": [
            "model: fastai_inception1d\n"
          ],
          "name": "stdout"
        },
        {
          "output_type": "display_data",
          "data": {
            "text/html": [
              ""
            ],
            "text/plain": [
              "<IPython.core.display.HTML object>"
            ]
          },
          "metadata": {
            "tags": []
          }
        },
        {
          "output_type": "stream",
          "text": [
            "aggregating predictions...\n",
            "model: fastai_inception1d\n"
          ],
          "name": "stdout"
        },
        {
          "output_type": "display_data",
          "data": {
            "text/html": [
              ""
            ],
            "text/plain": [
              "<IPython.core.display.HTML object>"
            ]
          },
          "metadata": {
            "tags": []
          }
        },
        {
          "output_type": "stream",
          "text": [
            "aggregating predictions...\n",
            "model: fastai_inception1d\n"
          ],
          "name": "stdout"
        },
        {
          "output_type": "display_data",
          "data": {
            "text/html": [
              ""
            ],
            "text/plain": [
              "<IPython.core.display.HTML object>"
            ]
          },
          "metadata": {
            "tags": []
          }
        },
        {
          "output_type": "stream",
          "text": [
            "aggregating predictions...\n"
          ],
          "name": "stdout"
        },
        {
          "output_type": "stream",
          "text": [
            "\r  0%|          | 0/9 [00:00<?, ?it/s]"
          ],
          "name": "stderr"
        },
        {
          "output_type": "stream",
          "text": [
            "ensemble\n",
            "optimize thresholds with respect to G_beta\n"
          ],
          "name": "stdout"
        },
        {
          "output_type": "stream",
          "text": [
            "100%|██████████| 9/9 [00:53<00:00,  5.95s/it]\n",
            "  0%|          | 0/9 [00:00<?, ?it/s]"
          ],
          "name": "stderr"
        },
        {
          "output_type": "stream",
          "text": [
            "fastai_inception1d\n",
            "optimize thresholds with respect to G_beta\n"
          ],
          "name": "stdout"
        },
        {
          "output_type": "stream",
          "text": [
            "100%|██████████| 9/9 [00:54<00:00,  6.01s/it]\n",
            "  0%|          | 0/9 [00:00<?, ?it/s]"
          ],
          "name": "stderr"
        },
        {
          "output_type": "stream",
          "text": [
            "fastai_xresnet1d101\n",
            "optimize thresholds with respect to G_beta\n"
          ],
          "name": "stdout"
        },
        {
          "output_type": "stream",
          "text": [
            "100%|██████████| 9/9 [00:53<00:00,  5.94s/it]\n",
            "  0%|          | 0/9 [00:00<?, ?it/s]"
          ],
          "name": "stderr"
        },
        {
          "output_type": "stream",
          "text": [
            "naive\n",
            "optimize thresholds with respect to G_beta\n"
          ],
          "name": "stdout"
        },
        {
          "output_type": "stream",
          "text": [
            "100%|██████████| 9/9 [00:51<00:00,  5.75s/it]\n"
          ],
          "name": "stderr"
        },
        {
          "output_type": "error",
          "ename": "ValueError",
          "evalue": "ignored",
          "traceback": [
            "\u001b[0;31m---------------------------------------------------------------------------\u001b[0m",
            "\u001b[0;31mValueError\u001b[0m                                Traceback (most recent call last)",
            "\u001b[0;32m/usr/local/lib/python3.7/dist-packages/pandas/core/internals/managers.py\u001b[0m in \u001b[0;36mcreate_block_manager_from_blocks\u001b[0;34m(blocks, axes)\u001b[0m\n\u001b[1;32m   1670\u001b[0m                 blocks = [\n\u001b[0;32m-> 1671\u001b[0;31m                     \u001b[0mmake_block\u001b[0m\u001b[0;34m(\u001b[0m\u001b[0mvalues\u001b[0m\u001b[0;34m=\u001b[0m\u001b[0mblocks\u001b[0m\u001b[0;34m[\u001b[0m\u001b[0;36m0\u001b[0m\u001b[0;34m]\u001b[0m\u001b[0;34m,\u001b[0m \u001b[0mplacement\u001b[0m\u001b[0;34m=\u001b[0m\u001b[0mslice\u001b[0m\u001b[0;34m(\u001b[0m\u001b[0;36m0\u001b[0m\u001b[0;34m,\u001b[0m \u001b[0mlen\u001b[0m\u001b[0;34m(\u001b[0m\u001b[0maxes\u001b[0m\u001b[0;34m[\u001b[0m\u001b[0;36m0\u001b[0m\u001b[0;34m]\u001b[0m\u001b[0;34m)\u001b[0m\u001b[0;34m)\u001b[0m\u001b[0;34m)\u001b[0m\u001b[0;34m\u001b[0m\u001b[0;34m\u001b[0m\u001b[0m\n\u001b[0m\u001b[1;32m   1672\u001b[0m                 ]\n",
            "\u001b[0;32m/usr/local/lib/python3.7/dist-packages/pandas/core/internals/blocks.py\u001b[0m in \u001b[0;36mmake_block\u001b[0;34m(values, placement, klass, ndim, dtype)\u001b[0m\n\u001b[1;32m   2743\u001b[0m \u001b[0;34m\u001b[0m\u001b[0m\n\u001b[0;32m-> 2744\u001b[0;31m     \u001b[0;32mreturn\u001b[0m \u001b[0mklass\u001b[0m\u001b[0;34m(\u001b[0m\u001b[0mvalues\u001b[0m\u001b[0;34m,\u001b[0m \u001b[0mndim\u001b[0m\u001b[0;34m=\u001b[0m\u001b[0mndim\u001b[0m\u001b[0;34m,\u001b[0m \u001b[0mplacement\u001b[0m\u001b[0;34m=\u001b[0m\u001b[0mplacement\u001b[0m\u001b[0;34m)\u001b[0m\u001b[0;34m\u001b[0m\u001b[0;34m\u001b[0m\u001b[0m\n\u001b[0m\u001b[1;32m   2745\u001b[0m \u001b[0;34m\u001b[0m\u001b[0m\n",
            "\u001b[0;32m/usr/local/lib/python3.7/dist-packages/pandas/core/internals/blocks.py\u001b[0m in \u001b[0;36m__init__\u001b[0;34m(self, values, placement, ndim)\u001b[0m\n\u001b[1;32m    130\u001b[0m             raise ValueError(\n\u001b[0;32m--> 131\u001b[0;31m                 \u001b[0;34mf\"Wrong number of items passed {len(self.values)}, \"\u001b[0m\u001b[0;34m\u001b[0m\u001b[0;34m\u001b[0m\u001b[0m\n\u001b[0m\u001b[1;32m    132\u001b[0m                 \u001b[0;34mf\"placement implies {len(self.mgr_locs)}\"\u001b[0m\u001b[0;34m\u001b[0m\u001b[0;34m\u001b[0m\u001b[0m\n",
            "\u001b[0;31mValueError\u001b[0m: Wrong number of items passed 1, placement implies 3",
            "\nDuring handling of the above exception, another exception occurred:\n",
            "\u001b[0;31mValueError\u001b[0m                                Traceback (most recent call last)",
            "\u001b[0;32m<ipython-input-10-cf266997f7a0>\u001b[0m in \u001b[0;36m<module>\u001b[0;34m()\u001b[0m\n\u001b[1;32m     34\u001b[0m \u001b[0;34m\u001b[0m\u001b[0m\n\u001b[1;32m     35\u001b[0m \u001b[0;32mif\u001b[0m \u001b[0m__name__\u001b[0m \u001b[0;34m==\u001b[0m \u001b[0;34m\"__main__\"\u001b[0m\u001b[0;34m:\u001b[0m\u001b[0;34m\u001b[0m\u001b[0;34m\u001b[0m\u001b[0m\n\u001b[0;32m---> 36\u001b[0;31m     \u001b[0mmain\u001b[0m\u001b[0;34m(\u001b[0m\u001b[0;34m)\u001b[0m\u001b[0;34m\u001b[0m\u001b[0;34m\u001b[0m\u001b[0m\n\u001b[0m",
            "\u001b[0;32m<ipython-input-10-cf266997f7a0>\u001b[0m in \u001b[0;36mmain\u001b[0;34m()\u001b[0m\n\u001b[1;32m     31\u001b[0m \u001b[0;34m\u001b[0m\u001b[0m\n\u001b[1;32m     32\u001b[0m     \u001b[0;31m# generate greate summary table\u001b[0m\u001b[0;34m\u001b[0m\u001b[0;34m\u001b[0m\u001b[0;34m\u001b[0m\u001b[0m\n\u001b[0;32m---> 33\u001b[0;31m     \u001b[0mutils\u001b[0m\u001b[0;34m.\u001b[0m\u001b[0mICBEBE_table\u001b[0m\u001b[0;34m(\u001b[0m\u001b[0;34m)\u001b[0m\u001b[0;34m\u001b[0m\u001b[0;34m\u001b[0m\u001b[0m\n\u001b[0m\u001b[1;32m     34\u001b[0m \u001b[0;34m\u001b[0m\u001b[0m\n\u001b[1;32m     35\u001b[0m \u001b[0;32mif\u001b[0m \u001b[0m__name__\u001b[0m \u001b[0;34m==\u001b[0m \u001b[0;34m\"__main__\"\u001b[0m\u001b[0;34m:\u001b[0m\u001b[0;34m\u001b[0m\u001b[0;34m\u001b[0m\u001b[0m\n",
            "\u001b[0;32m/gdrive/.shortcut-targets-by-id/1j3ncHY23bba4nXCRAt52Fr8YgGZpml9-/ecg_ptbxl_benchmarking/code/utils/utils.py\u001b[0m in \u001b[0;36mICBEBE_table\u001b[0;34m(selection, folder)\u001b[0m\n\u001b[1;32m    428\u001b[0m     \u001b[0mdata\u001b[0m \u001b[0;34m=\u001b[0m \u001b[0mnp\u001b[0m\u001b[0;34m.\u001b[0m\u001b[0marray\u001b[0m\u001b[0;34m(\u001b[0m\u001b[0mdata\u001b[0m\u001b[0;34m)\u001b[0m\u001b[0;34m\u001b[0m\u001b[0;34m\u001b[0m\u001b[0m\n\u001b[1;32m    429\u001b[0m \u001b[0;34m\u001b[0m\u001b[0m\n\u001b[0;32m--> 430\u001b[0;31m     \u001b[0mdf\u001b[0m \u001b[0;34m=\u001b[0m \u001b[0mpd\u001b[0m\u001b[0;34m.\u001b[0m\u001b[0mDataFrame\u001b[0m\u001b[0;34m(\u001b[0m\u001b[0mdata\u001b[0m\u001b[0;34m,\u001b[0m \u001b[0mcolumns\u001b[0m\u001b[0;34m=\u001b[0m\u001b[0mcols\u001b[0m\u001b[0;34m,\u001b[0m \u001b[0mindex\u001b[0m\u001b[0;34m=\u001b[0m\u001b[0mmodels\u001b[0m\u001b[0;34m)\u001b[0m\u001b[0;34m\u001b[0m\u001b[0;34m\u001b[0m\u001b[0m\n\u001b[0m\u001b[1;32m    431\u001b[0m     \u001b[0mdf\u001b[0m\u001b[0;34m.\u001b[0m\u001b[0mto_csv\u001b[0m\u001b[0;34m(\u001b[0m\u001b[0mfolder\u001b[0m\u001b[0;34m+\u001b[0m\u001b[0;34m'results_icbeb.csv'\u001b[0m\u001b[0;34m)\u001b[0m\u001b[0;34m\u001b[0m\u001b[0;34m\u001b[0m\u001b[0m\n\u001b[1;32m    432\u001b[0m \u001b[0;34m\u001b[0m\u001b[0m\n",
            "\u001b[0;32m/usr/local/lib/python3.7/dist-packages/pandas/core/frame.py\u001b[0m in \u001b[0;36m__init__\u001b[0;34m(self, data, index, columns, dtype, copy)\u001b[0m\n\u001b[1;32m    495\u001b[0m                 \u001b[0mmgr\u001b[0m \u001b[0;34m=\u001b[0m \u001b[0minit_dict\u001b[0m\u001b[0;34m(\u001b[0m\u001b[0;34m{\u001b[0m\u001b[0mdata\u001b[0m\u001b[0;34m.\u001b[0m\u001b[0mname\u001b[0m\u001b[0;34m:\u001b[0m \u001b[0mdata\u001b[0m\u001b[0;34m}\u001b[0m\u001b[0;34m,\u001b[0m \u001b[0mindex\u001b[0m\u001b[0;34m,\u001b[0m \u001b[0mcolumns\u001b[0m\u001b[0;34m,\u001b[0m \u001b[0mdtype\u001b[0m\u001b[0;34m=\u001b[0m\u001b[0mdtype\u001b[0m\u001b[0;34m)\u001b[0m\u001b[0;34m\u001b[0m\u001b[0;34m\u001b[0m\u001b[0m\n\u001b[1;32m    496\u001b[0m             \u001b[0;32melse\u001b[0m\u001b[0;34m:\u001b[0m\u001b[0;34m\u001b[0m\u001b[0;34m\u001b[0m\u001b[0m\n\u001b[0;32m--> 497\u001b[0;31m                 \u001b[0mmgr\u001b[0m \u001b[0;34m=\u001b[0m \u001b[0minit_ndarray\u001b[0m\u001b[0;34m(\u001b[0m\u001b[0mdata\u001b[0m\u001b[0;34m,\u001b[0m \u001b[0mindex\u001b[0m\u001b[0;34m,\u001b[0m \u001b[0mcolumns\u001b[0m\u001b[0;34m,\u001b[0m \u001b[0mdtype\u001b[0m\u001b[0;34m=\u001b[0m\u001b[0mdtype\u001b[0m\u001b[0;34m,\u001b[0m \u001b[0mcopy\u001b[0m\u001b[0;34m=\u001b[0m\u001b[0mcopy\u001b[0m\u001b[0;34m)\u001b[0m\u001b[0;34m\u001b[0m\u001b[0;34m\u001b[0m\u001b[0m\n\u001b[0m\u001b[1;32m    498\u001b[0m \u001b[0;34m\u001b[0m\u001b[0m\n\u001b[1;32m    499\u001b[0m         \u001b[0;31m# For data is list-like, or Iterable (will consume into list)\u001b[0m\u001b[0;34m\u001b[0m\u001b[0;34m\u001b[0m\u001b[0;34m\u001b[0m\u001b[0m\n",
            "\u001b[0;32m/usr/local/lib/python3.7/dist-packages/pandas/core/internals/construction.py\u001b[0m in \u001b[0;36minit_ndarray\u001b[0;34m(values, index, columns, dtype, copy)\u001b[0m\n\u001b[1;32m    232\u001b[0m         \u001b[0mblock_values\u001b[0m \u001b[0;34m=\u001b[0m \u001b[0;34m[\u001b[0m\u001b[0mvalues\u001b[0m\u001b[0;34m]\u001b[0m\u001b[0;34m\u001b[0m\u001b[0;34m\u001b[0m\u001b[0m\n\u001b[1;32m    233\u001b[0m \u001b[0;34m\u001b[0m\u001b[0m\n\u001b[0;32m--> 234\u001b[0;31m     \u001b[0;32mreturn\u001b[0m \u001b[0mcreate_block_manager_from_blocks\u001b[0m\u001b[0;34m(\u001b[0m\u001b[0mblock_values\u001b[0m\u001b[0;34m,\u001b[0m \u001b[0;34m[\u001b[0m\u001b[0mcolumns\u001b[0m\u001b[0;34m,\u001b[0m \u001b[0mindex\u001b[0m\u001b[0;34m]\u001b[0m\u001b[0;34m)\u001b[0m\u001b[0;34m\u001b[0m\u001b[0;34m\u001b[0m\u001b[0m\n\u001b[0m\u001b[1;32m    235\u001b[0m \u001b[0;34m\u001b[0m\u001b[0m\n\u001b[1;32m    236\u001b[0m \u001b[0;34m\u001b[0m\u001b[0m\n",
            "\u001b[0;32m/usr/local/lib/python3.7/dist-packages/pandas/core/internals/managers.py\u001b[0m in \u001b[0;36mcreate_block_manager_from_blocks\u001b[0;34m(blocks, axes)\u001b[0m\n\u001b[1;32m   1679\u001b[0m         \u001b[0mblocks\u001b[0m \u001b[0;34m=\u001b[0m \u001b[0;34m[\u001b[0m\u001b[0mgetattr\u001b[0m\u001b[0;34m(\u001b[0m\u001b[0mb\u001b[0m\u001b[0;34m,\u001b[0m \u001b[0;34m\"values\"\u001b[0m\u001b[0;34m,\u001b[0m \u001b[0mb\u001b[0m\u001b[0;34m)\u001b[0m \u001b[0;32mfor\u001b[0m \u001b[0mb\u001b[0m \u001b[0;32min\u001b[0m \u001b[0mblocks\u001b[0m\u001b[0;34m]\u001b[0m\u001b[0;34m\u001b[0m\u001b[0;34m\u001b[0m\u001b[0m\n\u001b[1;32m   1680\u001b[0m         \u001b[0mtot_items\u001b[0m \u001b[0;34m=\u001b[0m \u001b[0msum\u001b[0m\u001b[0;34m(\u001b[0m\u001b[0mb\u001b[0m\u001b[0;34m.\u001b[0m\u001b[0mshape\u001b[0m\u001b[0;34m[\u001b[0m\u001b[0;36m0\u001b[0m\u001b[0;34m]\u001b[0m \u001b[0;32mfor\u001b[0m \u001b[0mb\u001b[0m \u001b[0;32min\u001b[0m \u001b[0mblocks\u001b[0m\u001b[0;34m)\u001b[0m\u001b[0;34m\u001b[0m\u001b[0;34m\u001b[0m\u001b[0m\n\u001b[0;32m-> 1681\u001b[0;31m         \u001b[0;32mraise\u001b[0m \u001b[0mconstruction_error\u001b[0m\u001b[0;34m(\u001b[0m\u001b[0mtot_items\u001b[0m\u001b[0;34m,\u001b[0m \u001b[0mblocks\u001b[0m\u001b[0;34m[\u001b[0m\u001b[0;36m0\u001b[0m\u001b[0;34m]\u001b[0m\u001b[0;34m.\u001b[0m\u001b[0mshape\u001b[0m\u001b[0;34m[\u001b[0m\u001b[0;36m1\u001b[0m\u001b[0;34m:\u001b[0m\u001b[0;34m]\u001b[0m\u001b[0;34m,\u001b[0m \u001b[0maxes\u001b[0m\u001b[0;34m,\u001b[0m \u001b[0me\u001b[0m\u001b[0;34m)\u001b[0m\u001b[0;34m\u001b[0m\u001b[0;34m\u001b[0m\u001b[0m\n\u001b[0m\u001b[1;32m   1682\u001b[0m \u001b[0;34m\u001b[0m\u001b[0m\n\u001b[1;32m   1683\u001b[0m \u001b[0;34m\u001b[0m\u001b[0m\n",
            "\u001b[0;31mValueError\u001b[0m: Empty data passed with indices specified."
          ]
        }
      ]
    },
    {
      "cell_type": "code",
      "metadata": {
        "colab": {
          "base_uri": "https://localhost:8080/"
        },
        "id": "aN4EW3oWaU3p",
        "outputId": "addb7729-e199-455b-c78d-16537e6b200a"
      },
      "source": [
        "y_test_pred = np.load('../output_ic/exp_ICBEB/models/fastai_inception1d/y_test_pred.npy' ,allow_pickle=True)\n",
        "y_test_pred.shape"
      ],
      "execution_count": null,
      "outputs": [
        {
          "output_type": "execute_result",
          "data": {
            "text/plain": [
              "(690, 9)"
            ]
          },
          "metadata": {
            "tags": []
          },
          "execution_count": 9
        }
      ]
    },
    {
      "cell_type": "code",
      "metadata": {
        "colab": {
          "base_uri": "https://localhost:8080/"
        },
        "id": "mNT0mSlBaU3r",
        "outputId": "1936c0b9-888a-4dd1-a120-74b165a9b3dd"
      },
      "source": [
        "y_test = np.load('../output_ic/exp_ICBEB/data/y_test.npy' ,allow_pickle=True)\n",
        "y_test.shape"
      ],
      "execution_count": null,
      "outputs": [
        {
          "output_type": "execute_result",
          "data": {
            "text/plain": [
              "(690, 9)"
            ]
          },
          "metadata": {
            "tags": []
          },
          "execution_count": 10
        }
      ]
    },
    {
      "cell_type": "code",
      "metadata": {
        "colab": {
          "base_uri": "https://localhost:8080/"
        },
        "id": "dlFpcBnOaU3s",
        "outputId": "bc9a7c28-24cf-45b8-82b0-301f230ccd70"
      },
      "source": [
        "import numpy as np\n",
        "y_t = np.load('../output_ic/exp_ICBEB/data/y_train.npy' ,allow_pickle=True)\n",
        "y_t.shape"
      ],
      "execution_count": null,
      "outputs": [
        {
          "output_type": "execute_result",
          "data": {
            "text/plain": [
              "(5497, 9)"
            ]
          },
          "metadata": {
            "tags": []
          },
          "execution_count": 7
        }
      ]
    },
    {
      "cell_type": "code",
      "metadata": {
        "colab": {
          "base_uri": "https://localhost:8080/",
          "height": 77
        },
        "id": "krSEliaCaU3t",
        "outputId": "6d316f55-e188-4311-9ef0-b5ea214553ce"
      },
      "source": [
        "utils.evaluate_experiment(y_test, y_test_pred)"
      ],
      "execution_count": null,
      "outputs": [
        {
          "output_type": "execute_result",
          "data": {
            "text/html": [
              "<div>\n",
              "<style scoped>\n",
              "    .dataframe tbody tr th:only-of-type {\n",
              "        vertical-align: middle;\n",
              "    }\n",
              "\n",
              "    .dataframe tbody tr th {\n",
              "        vertical-align: top;\n",
              "    }\n",
              "\n",
              "    .dataframe thead th {\n",
              "        text-align: right;\n",
              "    }\n",
              "</style>\n",
              "<table border=\"1\" class=\"dataframe\">\n",
              "  <thead>\n",
              "    <tr style=\"text-align: right;\">\n",
              "      <th></th>\n",
              "      <th>macro_auc</th>\n",
              "    </tr>\n",
              "  </thead>\n",
              "  <tbody>\n",
              "    <tr>\n",
              "      <th>0</th>\n",
              "      <td>0.96244</td>\n",
              "    </tr>\n",
              "  </tbody>\n",
              "</table>\n",
              "</div>"
            ],
            "text/plain": [
              "   macro_auc\n",
              "0    0.96244"
            ]
          },
          "metadata": {
            "tags": []
          },
          "execution_count": 11
        }
      ]
    },
    {
      "cell_type": "code",
      "metadata": {
        "colab": {
          "base_uri": "https://localhost:8080/"
        },
        "id": "aKcKYX8JaU3u",
        "outputId": "09a9d9af-038f-4e8e-b9a1-d0ac1ab101a2"
      },
      "source": [
        "y_test[0]"
      ],
      "execution_count": null,
      "outputs": [
        {
          "output_type": "execute_result",
          "data": {
            "text/plain": [
              "array([0, 1, 0, 0, 0, 0, 0, 0, 0])"
            ]
          },
          "metadata": {
            "tags": []
          },
          "execution_count": 14
        }
      ]
    },
    {
      "cell_type": "code",
      "metadata": {
        "colab": {
          "base_uri": "https://localhost:8080/"
        },
        "id": "ikKmYayDaU3w",
        "outputId": "92af79b9-3b9d-4bec-9923-e20e8ab2a294"
      },
      "source": [
        "y_test_pred[0]"
      ],
      "execution_count": null,
      "outputs": [
        {
          "output_type": "execute_result",
          "data": {
            "text/plain": [
              "array([2.947533e-04, 9.993967e-01, 3.027098e-04, 2.701367e-04, 2.432584e-04, 2.627902e-03, 2.827951e-02, 3.126888e-04,\n",
              "       1.256982e-02], dtype=float32)"
            ]
          },
          "metadata": {
            "tags": []
          },
          "execution_count": 15
        }
      ]
    },
    {
      "cell_type": "code",
      "metadata": {
        "colab": {
          "base_uri": "https://localhost:8080/"
        },
        "id": "mrAEU2llaU3x",
        "outputId": "4e01d01e-ad91-4582-b359-3dfde50a23e8"
      },
      "source": [
        "from sklearn.metrics import classification_report, fbeta_score, roc_auc_score, roc_curve, roc_curve, auc\n",
        "\n",
        "def find_optimal_cutoff_threshold(target, predicted):\n",
        "    \"\"\" \n",
        "    Find the optimal probability cutoff point for a classification model related to event rate\n",
        "    \"\"\"\n",
        "    fpr, tpr, threshold = roc_curve(target, predicted)\n",
        "    optimal_idx = np.argmax(tpr - fpr)\n",
        "    optimal_threshold = threshold[optimal_idx]\n",
        "    return optimal_threshold\n",
        "\n",
        "def find_optimal_cutoff_thresholds(y_true, y_pred):\n",
        "\treturn [find_optimal_cutoff_threshold(y_true[:,i], y_pred[:,i]) for i in range(y_true.shape[1])]\n",
        "\n",
        "thresholds =  find_optimal_cutoff_thresholds_for_Gbeta(y_test , y_test_pred)\n"
      ],
      "execution_count": null,
      "outputs": [
        {
          "output_type": "stream",
          "text": [
            "\r  0%|          | 0/9 [00:00<?, ?it/s]"
          ],
          "name": "stderr"
        },
        {
          "output_type": "stream",
          "text": [
            "optimize thresholds with respect to G_beta\n"
          ],
          "name": "stdout"
        },
        {
          "output_type": "stream",
          "text": [
            "100%|██████████| 9/9 [00:07<00:00,  1.19it/s]\n"
          ],
          "name": "stderr"
        }
      ]
    },
    {
      "cell_type": "code",
      "metadata": {
        "colab": {
          "base_uri": "https://localhost:8080/"
        },
        "id": "iXIrmNeVaU3z",
        "outputId": "394a05de-ea81-428c-8e61-e7218e6b56c2"
      },
      "source": [
        "y_pred_binary = apply_thresholds(y_test_pred, thresholds)\n",
        "y_pred_binary[0]"
      ],
      "execution_count": null,
      "outputs": [
        {
          "output_type": "execute_result",
          "data": {
            "text/plain": [
              "array([0, 1, 0, 0, 0, 0, 0, 0, 0])"
            ]
          },
          "metadata": {
            "tags": []
          },
          "execution_count": 15
        }
      ]
    },
    {
      "cell_type": "code",
      "metadata": {
        "colab": {
          "base_uri": "https://localhost:8080/",
          "height": 77
        },
        "id": "bKaS4ELqaU30",
        "outputId": "825ad1c7-f51b-4b42-e8d3-77a3f0bfd165"
      },
      "source": [
        "utils.evaluate_experiment(y_test, y_pred_binary)"
      ],
      "execution_count": null,
      "outputs": [
        {
          "output_type": "execute_result",
          "data": {
            "text/html": [
              "<div>\n",
              "<style scoped>\n",
              "    .dataframe tbody tr th:only-of-type {\n",
              "        vertical-align: middle;\n",
              "    }\n",
              "\n",
              "    .dataframe tbody tr th {\n",
              "        vertical-align: top;\n",
              "    }\n",
              "\n",
              "    .dataframe thead th {\n",
              "        text-align: right;\n",
              "    }\n",
              "</style>\n",
              "<table border=\"1\" class=\"dataframe\">\n",
              "  <thead>\n",
              "    <tr style=\"text-align: right;\">\n",
              "      <th></th>\n",
              "      <th>macro_auc</th>\n",
              "    </tr>\n",
              "  </thead>\n",
              "  <tbody>\n",
              "    <tr>\n",
              "      <th>0</th>\n",
              "      <td>0.924707</td>\n",
              "    </tr>\n",
              "  </tbody>\n",
              "</table>\n",
              "</div>"
            ],
            "text/plain": [
              "   macro_auc\n",
              "0   0.924707"
            ]
          },
          "metadata": {
            "tags": []
          },
          "execution_count": 16
        }
      ]
    },
    {
      "cell_type": "code",
      "metadata": {
        "id": "yjdXP28jaU31"
      },
      "source": [
        "from sklearn.metrics import (confusion_matrix,\n",
        "                             precision_score, recall_score, f1_score,\n",
        "                             precision_recall_curve, average_precision_score , balanced_accuracy_score , roc_auc_score, accuracy_score)\n",
        "diagnosis = ['NORM', 'AFIB', '1AVB', 'CLBBB', 'CRBBB', 'PAC', 'VPC', 'STD_', 'STE_']\n",
        "def specificity_score(y_true, y_pred):\n",
        "    m = confusion_matrix(y_true, y_pred, labels=[0, 1])\n",
        "    spc = m[0, 0] * 1.0 / (m[0, 0] + m[0, 1])\n",
        "    return spc\n",
        "\n",
        "def get_scores(y_true, y_pred, score_fun):\n",
        "    nclasses = np.shape(y_true)[1]\n",
        "    scores = []\n",
        "    for name, fun in score_fun.items():\n",
        "        scores += [[fun(y_true[:, k], y_pred[:, k]) for k in range(nclasses)]]\n",
        "    return np.array(scores).T\n",
        "\n",
        "\n",
        "score_fun = {'Precision': precision_score,\n",
        "             'Recall': recall_score, \n",
        "             'F1 score': f1_score, 'AUC':roc_auc_score , 'accuracy': accuracy_score}\n",
        "\n",
        "scores_list = []\n",
        "for y_pred in [y_pred_binary]:\n",
        "    # Compute scores\n",
        "    scores = get_scores(y_test, y_pred, score_fun)\n",
        "    # Put them into a data frame\n",
        "    scores_df = pd.DataFrame(scores,index=diagnosis, columns=score_fun.keys())\n",
        "    # Append\n",
        "    scores_list.append(scores_df)\n",
        "# Concatenate dataframes\n",
        "scores_all_df = pd.concat(scores_list, axis=1, keys=[''])\n",
        "# Change multiindex levels\n",
        "scores_all_df = scores_all_df.swaplevel(0, 1, axis=1)\n",
        "scores_all_df = scores_all_df.reindex(level=0, columns=score_fun.keys())"
      ],
      "execution_count": null,
      "outputs": []
    },
    {
      "cell_type": "code",
      "metadata": {
        "colab": {
          "base_uri": "https://localhost:8080/",
          "height": 329
        },
        "id": "CimhX_acJ3EV",
        "outputId": "59740b38-ee1c-4989-b57c-25f000bd5730"
      },
      "source": [
        "scores_all_df"
      ],
      "execution_count": null,
      "outputs": [
        {
          "output_type": "execute_result",
          "data": {
            "text/html": [
              "<div>\n",
              "<style scoped>\n",
              "    .dataframe tbody tr th:only-of-type {\n",
              "        vertical-align: middle;\n",
              "    }\n",
              "\n",
              "    .dataframe tbody tr th {\n",
              "        vertical-align: top;\n",
              "    }\n",
              "\n",
              "    .dataframe thead tr th {\n",
              "        text-align: left;\n",
              "    }\n",
              "</style>\n",
              "<table border=\"1\" class=\"dataframe\">\n",
              "  <thead>\n",
              "    <tr>\n",
              "      <th></th>\n",
              "      <th>Precision</th>\n",
              "      <th>Recall</th>\n",
              "      <th>F1 score</th>\n",
              "      <th>AUC</th>\n",
              "      <th>accuracy</th>\n",
              "    </tr>\n",
              "    <tr>\n",
              "      <th></th>\n",
              "      <th></th>\n",
              "      <th></th>\n",
              "      <th></th>\n",
              "      <th></th>\n",
              "      <th></th>\n",
              "    </tr>\n",
              "  </thead>\n",
              "  <tbody>\n",
              "    <tr>\n",
              "      <th>NORM</th>\n",
              "      <td>0.800000</td>\n",
              "      <td>0.944444</td>\n",
              "      <td>0.866242</td>\n",
              "      <td>0.958468</td>\n",
              "      <td>0.969565</td>\n",
              "    </tr>\n",
              "    <tr>\n",
              "      <th>AFIB</th>\n",
              "      <td>0.900763</td>\n",
              "      <td>0.959350</td>\n",
              "      <td>0.929134</td>\n",
              "      <td>0.968211</td>\n",
              "      <td>0.973913</td>\n",
              "    </tr>\n",
              "    <tr>\n",
              "      <th>1AVB</th>\n",
              "      <td>0.857143</td>\n",
              "      <td>1.000000</td>\n",
              "      <td>0.923077</td>\n",
              "      <td>0.996997</td>\n",
              "      <td>0.994203</td>\n",
              "    </tr>\n",
              "    <tr>\n",
              "      <th>CLBBB</th>\n",
              "      <td>0.924623</td>\n",
              "      <td>0.953368</td>\n",
              "      <td>0.938776</td>\n",
              "      <td>0.961593</td>\n",
              "      <td>0.965217</td>\n",
              "    </tr>\n",
              "    <tr>\n",
              "      <th>CRBBB</th>\n",
              "      <td>0.522293</td>\n",
              "      <td>0.891304</td>\n",
              "      <td>0.658635</td>\n",
              "      <td>0.882943</td>\n",
              "      <td>0.876812</td>\n",
              "    </tr>\n",
              "    <tr>\n",
              "      <th>PAC</th>\n",
              "      <td>0.541176</td>\n",
              "      <td>0.754098</td>\n",
              "      <td>0.630137</td>\n",
              "      <td>0.846048</td>\n",
              "      <td>0.921739</td>\n",
              "    </tr>\n",
              "    <tr>\n",
              "      <th>VPC</th>\n",
              "      <td>0.757576</td>\n",
              "      <td>0.862069</td>\n",
              "      <td>0.806452</td>\n",
              "      <td>0.911134</td>\n",
              "      <td>0.947826</td>\n",
              "    </tr>\n",
              "    <tr>\n",
              "      <th>STD_</th>\n",
              "      <td>0.629630</td>\n",
              "      <td>0.772727</td>\n",
              "      <td>0.693878</td>\n",
              "      <td>0.878879</td>\n",
              "      <td>0.978261</td>\n",
              "    </tr>\n",
              "    <tr>\n",
              "      <th>STE_</th>\n",
              "      <td>0.821918</td>\n",
              "      <td>0.857143</td>\n",
              "      <td>0.839161</td>\n",
              "      <td>0.918088</td>\n",
              "      <td>0.966667</td>\n",
              "    </tr>\n",
              "  </tbody>\n",
              "</table>\n",
              "</div>"
            ],
            "text/plain": [
              "      Precision    Recall  F1 score       AUC  accuracy\n",
              "                                                       \n",
              "NORM   0.800000  0.944444  0.866242  0.958468  0.969565\n",
              "AFIB   0.900763  0.959350  0.929134  0.968211  0.973913\n",
              "1AVB   0.857143  1.000000  0.923077  0.996997  0.994203\n",
              "CLBBB  0.924623  0.953368  0.938776  0.961593  0.965217\n",
              "CRBBB  0.522293  0.891304  0.658635  0.882943  0.876812\n",
              "PAC    0.541176  0.754098  0.630137  0.846048  0.921739\n",
              "VPC    0.757576  0.862069  0.806452  0.911134  0.947826\n",
              "STD_   0.629630  0.772727  0.693878  0.878879  0.978261\n",
              "STE_   0.821918  0.857143  0.839161  0.918088  0.966667"
            ]
          },
          "metadata": {
            "tags": []
          },
          "execution_count": 18
        }
      ]
    },
    {
      "cell_type": "code",
      "metadata": {
        "colab": {
          "base_uri": "https://localhost:8080/",
          "height": 329
        },
        "id": "E0XBA2FXBj6V",
        "outputId": "352b79c0-9b6a-4bfc-f421-313ebac548d3"
      },
      "source": [
        "scores_all_df"
      ],
      "execution_count": null,
      "outputs": [
        {
          "output_type": "execute_result",
          "data": {
            "text/html": [
              "<div>\n",
              "<style scoped>\n",
              "    .dataframe tbody tr th:only-of-type {\n",
              "        vertical-align: middle;\n",
              "    }\n",
              "\n",
              "    .dataframe tbody tr th {\n",
              "        vertical-align: top;\n",
              "    }\n",
              "\n",
              "    .dataframe thead tr th {\n",
              "        text-align: left;\n",
              "    }\n",
              "</style>\n",
              "<table border=\"1\" class=\"dataframe\">\n",
              "  <thead>\n",
              "    <tr>\n",
              "      <th></th>\n",
              "      <th>Precision</th>\n",
              "      <th>Recall</th>\n",
              "      <th>Specificity</th>\n",
              "      <th>F1 score</th>\n",
              "      <th>balanced accuracy</th>\n",
              "    </tr>\n",
              "    <tr>\n",
              "      <th></th>\n",
              "      <th></th>\n",
              "      <th></th>\n",
              "      <th></th>\n",
              "      <th></th>\n",
              "      <th></th>\n",
              "    </tr>\n",
              "  </thead>\n",
              "  <tbody>\n",
              "    <tr>\n",
              "      <th>NORM</th>\n",
              "      <td>0.800000</td>\n",
              "      <td>0.944444</td>\n",
              "      <td>0.972492</td>\n",
              "      <td>0.866242</td>\n",
              "      <td>0.958468</td>\n",
              "    </tr>\n",
              "    <tr>\n",
              "      <th>AFIB</th>\n",
              "      <td>0.900763</td>\n",
              "      <td>0.959350</td>\n",
              "      <td>0.977072</td>\n",
              "      <td>0.929134</td>\n",
              "      <td>0.968211</td>\n",
              "    </tr>\n",
              "    <tr>\n",
              "      <th>1AVB</th>\n",
              "      <td>0.857143</td>\n",
              "      <td>1.000000</td>\n",
              "      <td>0.993994</td>\n",
              "      <td>0.923077</td>\n",
              "      <td>0.996997</td>\n",
              "    </tr>\n",
              "    <tr>\n",
              "      <th>CLBBB</th>\n",
              "      <td>0.924623</td>\n",
              "      <td>0.953368</td>\n",
              "      <td>0.969819</td>\n",
              "      <td>0.938776</td>\n",
              "      <td>0.961593</td>\n",
              "    </tr>\n",
              "    <tr>\n",
              "      <th>CRBBB</th>\n",
              "      <td>0.522293</td>\n",
              "      <td>0.891304</td>\n",
              "      <td>0.874582</td>\n",
              "      <td>0.658635</td>\n",
              "      <td>0.882943</td>\n",
              "    </tr>\n",
              "    <tr>\n",
              "      <th>PAC</th>\n",
              "      <td>0.541176</td>\n",
              "      <td>0.754098</td>\n",
              "      <td>0.937997</td>\n",
              "      <td>0.630137</td>\n",
              "      <td>0.846048</td>\n",
              "    </tr>\n",
              "    <tr>\n",
              "      <th>VPC</th>\n",
              "      <td>0.757576</td>\n",
              "      <td>0.862069</td>\n",
              "      <td>0.960199</td>\n",
              "      <td>0.806452</td>\n",
              "      <td>0.911134</td>\n",
              "    </tr>\n",
              "    <tr>\n",
              "      <th>STD_</th>\n",
              "      <td>0.629630</td>\n",
              "      <td>0.772727</td>\n",
              "      <td>0.985030</td>\n",
              "      <td>0.693878</td>\n",
              "      <td>0.878879</td>\n",
              "    </tr>\n",
              "    <tr>\n",
              "      <th>STE_</th>\n",
              "      <td>0.821918</td>\n",
              "      <td>0.857143</td>\n",
              "      <td>0.979032</td>\n",
              "      <td>0.839161</td>\n",
              "      <td>0.918088</td>\n",
              "    </tr>\n",
              "  </tbody>\n",
              "</table>\n",
              "</div>"
            ],
            "text/plain": [
              "      Precision    Recall Specificity  F1 score balanced accuracy\n",
              "                                                                 \n",
              "NORM   0.800000  0.944444    0.972492  0.866242          0.958468\n",
              "AFIB   0.900763  0.959350    0.977072  0.929134          0.968211\n",
              "1AVB   0.857143  1.000000    0.993994  0.923077          0.996997\n",
              "CLBBB  0.924623  0.953368    0.969819  0.938776          0.961593\n",
              "CRBBB  0.522293  0.891304    0.874582  0.658635          0.882943\n",
              "PAC    0.541176  0.754098    0.937997  0.630137          0.846048\n",
              "VPC    0.757576  0.862069    0.960199  0.806452          0.911134\n",
              "STD_   0.629630  0.772727    0.985030  0.693878          0.878879\n",
              "STE_   0.821918  0.857143    0.979032  0.839161          0.918088"
            ]
          },
          "metadata": {
            "tags": []
          },
          "execution_count": 26
        }
      ]
    },
    {
      "cell_type": "code",
      "metadata": {
        "colab": {
          "base_uri": "https://localhost:8080/",
          "height": 644
        },
        "id": "dhLZvVOgaU33",
        "outputId": "28542157-8129-4817-84a4-0204741a38ec"
      },
      "source": [
        "# %% Confusion matrices (Supplementary Table 1)\n",
        "from sklearn.metrics import (confusion_matrix,\n",
        "                             precision_score, recall_score, f1_score,\n",
        "                             precision_recall_curve, average_precision_score)\n",
        "\n",
        "import xarray as xr\n",
        "\n",
        "M = [[confusion_matrix(y_test[:, k], y_pred[:, k], labels=[0, 1])\n",
        "      for k in range(9)] for y_pred in [y_pred_binary]]\n",
        "\n",
        "M_xarray = xr.DataArray(np.array(M),\n",
        "                        dims=['predictor', 'diagnosis', 'true label', 'predicted label'],\n",
        "                        coords={'predictor': ['inception-1d'],\n",
        "                                'diagnosis': diagnosis,\n",
        "                                'true label': ['not present', 'present'],\n",
        "                                'predicted label': ['not present', 'present']})\n",
        "confusion_matrices = M_xarray.to_dataframe('n')\n",
        "confusion_matrices = confusion_matrices.reorder_levels([1, 2, 3, 0], axis=0)\n",
        "confusion_matrices = confusion_matrices.unstack()\n",
        "confusion_matrices = confusion_matrices.unstack()\n",
        "confusion_matrices = confusion_matrices['n']\n",
        "confusion_matrices"
      ],
      "execution_count": null,
      "outputs": [
        {
          "output_type": "execute_result",
          "data": {
            "text/html": [
              "<div>\n",
              "<style scoped>\n",
              "    .dataframe tbody tr th:only-of-type {\n",
              "        vertical-align: middle;\n",
              "    }\n",
              "\n",
              "    .dataframe tbody tr th {\n",
              "        vertical-align: top;\n",
              "    }\n",
              "\n",
              "    .dataframe thead tr th {\n",
              "        text-align: left;\n",
              "    }\n",
              "\n",
              "    .dataframe thead tr:last-of-type th {\n",
              "        text-align: right;\n",
              "    }\n",
              "</style>\n",
              "<table border=\"1\" class=\"dataframe\">\n",
              "  <thead>\n",
              "    <tr>\n",
              "      <th></th>\n",
              "      <th>predictor</th>\n",
              "      <th colspan=\"2\" halign=\"left\">inception-1d</th>\n",
              "    </tr>\n",
              "    <tr>\n",
              "      <th></th>\n",
              "      <th>predicted label</th>\n",
              "      <th>not present</th>\n",
              "      <th>present</th>\n",
              "    </tr>\n",
              "    <tr>\n",
              "      <th>diagnosis</th>\n",
              "      <th>true label</th>\n",
              "      <th></th>\n",
              "      <th></th>\n",
              "    </tr>\n",
              "  </thead>\n",
              "  <tbody>\n",
              "    <tr>\n",
              "      <th rowspan=\"2\" valign=\"top\">NORM</th>\n",
              "      <th>not present</th>\n",
              "      <td>601</td>\n",
              "      <td>17</td>\n",
              "    </tr>\n",
              "    <tr>\n",
              "      <th>present</th>\n",
              "      <td>4</td>\n",
              "      <td>68</td>\n",
              "    </tr>\n",
              "    <tr>\n",
              "      <th rowspan=\"2\" valign=\"top\">AFIB</th>\n",
              "      <th>not present</th>\n",
              "      <td>554</td>\n",
              "      <td>13</td>\n",
              "    </tr>\n",
              "    <tr>\n",
              "      <th>present</th>\n",
              "      <td>5</td>\n",
              "      <td>118</td>\n",
              "    </tr>\n",
              "    <tr>\n",
              "      <th rowspan=\"2\" valign=\"top\">1AVB</th>\n",
              "      <th>not present</th>\n",
              "      <td>662</td>\n",
              "      <td>4</td>\n",
              "    </tr>\n",
              "    <tr>\n",
              "      <th>present</th>\n",
              "      <td>0</td>\n",
              "      <td>24</td>\n",
              "    </tr>\n",
              "    <tr>\n",
              "      <th rowspan=\"2\" valign=\"top\">CLBBB</th>\n",
              "      <th>not present</th>\n",
              "      <td>482</td>\n",
              "      <td>15</td>\n",
              "    </tr>\n",
              "    <tr>\n",
              "      <th>present</th>\n",
              "      <td>9</td>\n",
              "      <td>184</td>\n",
              "    </tr>\n",
              "    <tr>\n",
              "      <th rowspan=\"2\" valign=\"top\">CRBBB</th>\n",
              "      <th>not present</th>\n",
              "      <td>523</td>\n",
              "      <td>75</td>\n",
              "    </tr>\n",
              "    <tr>\n",
              "      <th>present</th>\n",
              "      <td>10</td>\n",
              "      <td>82</td>\n",
              "    </tr>\n",
              "    <tr>\n",
              "      <th rowspan=\"2\" valign=\"top\">PAC</th>\n",
              "      <th>not present</th>\n",
              "      <td>590</td>\n",
              "      <td>39</td>\n",
              "    </tr>\n",
              "    <tr>\n",
              "      <th>present</th>\n",
              "      <td>15</td>\n",
              "      <td>46</td>\n",
              "    </tr>\n",
              "    <tr>\n",
              "      <th rowspan=\"2\" valign=\"top\">VPC</th>\n",
              "      <th>not present</th>\n",
              "      <td>579</td>\n",
              "      <td>24</td>\n",
              "    </tr>\n",
              "    <tr>\n",
              "      <th>present</th>\n",
              "      <td>12</td>\n",
              "      <td>75</td>\n",
              "    </tr>\n",
              "    <tr>\n",
              "      <th rowspan=\"2\" valign=\"top\">STD_</th>\n",
              "      <th>not present</th>\n",
              "      <td>658</td>\n",
              "      <td>10</td>\n",
              "    </tr>\n",
              "    <tr>\n",
              "      <th>present</th>\n",
              "      <td>5</td>\n",
              "      <td>17</td>\n",
              "    </tr>\n",
              "    <tr>\n",
              "      <th rowspan=\"2\" valign=\"top\">STE_</th>\n",
              "      <th>not present</th>\n",
              "      <td>607</td>\n",
              "      <td>13</td>\n",
              "    </tr>\n",
              "    <tr>\n",
              "      <th>present</th>\n",
              "      <td>10</td>\n",
              "      <td>60</td>\n",
              "    </tr>\n",
              "  </tbody>\n",
              "</table>\n",
              "</div>"
            ],
            "text/plain": [
              "predictor             inception-1d        \n",
              "predicted label        not present present\n",
              "diagnosis true label                      \n",
              "NORM      not present          601      17\n",
              "          present                4      68\n",
              "AFIB      not present          554      13\n",
              "          present                5     118\n",
              "1AVB      not present          662       4\n",
              "          present                0      24\n",
              "CLBBB     not present          482      15\n",
              "          present                9     184\n",
              "CRBBB     not present          523      75\n",
              "          present               10      82\n",
              "PAC       not present          590      39\n",
              "          present               15      46\n",
              "VPC       not present          579      24\n",
              "          present               12      75\n",
              "STD_      not present          658      10\n",
              "          present                5      17\n",
              "STE_      not present          607      13\n",
              "          present               10      60"
            ]
          },
          "metadata": {
            "tags": []
          },
          "execution_count": 28
        }
      ]
    },
    {
      "cell_type": "markdown",
      "metadata": {
        "id": "X0pyjntsjOIt"
      },
      "source": [
        "#Training xResNet1d101 on ICBEB"
      ]
    },
    {
      "cell_type": "code",
      "metadata": {
        "colab": {
          "base_uri": "https://localhost:8080/",
          "height": 1000
        },
        "id": "JrPiKMOVLCEu",
        "outputId": "2bdc4b98-1ab0-4f00-ac06-21861be9a63a"
      },
      "source": [
        "from experiments.scp_experiment import SCP_Experiment\n",
        "from utils import utils\n",
        "# model configs\n",
        "from configs.fastai_configs import *\n",
        "from configs.wavelet_configs import *\n",
        "\n",
        "\n",
        "def main():\n",
        "    \n",
        "    datafolder_icbeb = '/gdrive/My Drive/ICBEB/'\n",
        "    outputfolder = '../output_ic/'\n",
        "\n",
        "    models = [\n",
        "        conf_fastai_xresnet1d101,\n",
        "        # conf_fastai_resnet1d_wang,\n",
        "        # conf_fastai_lstm,\n",
        "        # conf_fastai_lstm_bidir,\n",
        "        # conf_fastai_fcn_wang,\n",
        "        # conf_fastai_inception1d,\n",
        "        # conf_wavelet_standard_nn,\n",
        "        ]\n",
        "\n",
        "    ##########################################\n",
        "    # EXPERIMENT BASED ICBEB DATA\n",
        "    ##########################################\n",
        "\n",
        "    e = SCP_Experiment('exp_ICBEB', 'all', datafolder_icbeb, outputfolder, models)\n",
        "    e.prepare()\n",
        "    e.perform()\n",
        "    e.evaluate()\n",
        "\n",
        "    # generate greate summary table\n",
        "    utils.ICBEBE_table()\n",
        "\n",
        "if __name__ == \"__main__\":\n",
        "    main()"
      ],
      "execution_count": null,
      "outputs": [
        {
          "output_type": "stream",
          "text": [
            "Training from scratch...\n",
            "model: fastai_xresnet1d101\n"
          ],
          "name": "stdout"
        },
        {
          "output_type": "display_data",
          "data": {
            "text/html": [
              "\n",
              "    <div>\n",
              "        <style>\n",
              "            /* Turns off some styling */\n",
              "            progress {\n",
              "                /* gets rid of default border in Firefox and Opera. */\n",
              "                border: none;\n",
              "                /* Needs to be in here for Safari polyfill so background images work as expected. */\n",
              "                background-size: auto;\n",
              "            }\n",
              "            .progress-bar-interrupted, .progress-bar-interrupted::-webkit-progress-bar {\n",
              "                background: #F44336;\n",
              "            }\n",
              "        </style>\n",
              "      <progress value='2' class='' max='3' style='width:300px; height:20px; vertical-align: middle;'></progress>\n",
              "      66.67% [2/3 00:10<00:05]\n",
              "    </div>\n",
              "    \n",
              "<table border=\"1\" class=\"dataframe\">\n",
              "  <thead>\n",
              "    <tr style=\"text-align: left;\">\n",
              "      <th>epoch</th>\n",
              "      <th>train_loss</th>\n",
              "      <th>valid_loss</th>\n",
              "      <th>time</th>\n",
              "    </tr>\n",
              "  </thead>\n",
              "  <tbody>\n",
              "    <tr>\n",
              "      <td>0</td>\n",
              "      <td>1.007873</td>\n",
              "      <td>#na#</td>\n",
              "      <td>00:05</td>\n",
              "    </tr>\n",
              "    <tr>\n",
              "      <td>1</td>\n",
              "      <td>0.757077</td>\n",
              "      <td>#na#</td>\n",
              "      <td>00:04</td>\n",
              "    </tr>\n",
              "  </tbody>\n",
              "</table><p>\n",
              "\n",
              "    <div>\n",
              "        <style>\n",
              "            /* Turns off some styling */\n",
              "            progress {\n",
              "                /* gets rid of default border in Firefox and Opera. */\n",
              "                border: none;\n",
              "                /* Needs to be in here for Safari polyfill so background images work as expected. */\n",
              "                background-size: auto;\n",
              "            }\n",
              "            .progress-bar-interrupted, .progress-bar-interrupted::-webkit-progress-bar {\n",
              "                background: #F44336;\n",
              "            }\n",
              "        </style>\n",
              "      <progress value='11' class='' max='42' style='width:300px; height:20px; vertical-align: middle;'></progress>\n",
              "      26.19% [11/42 00:01<00:04 2.1940]\n",
              "    </div>\n",
              "    "
            ],
            "text/plain": [
              "<IPython.core.display.HTML object>"
            ]
          },
          "metadata": {
            "tags": []
          }
        },
        {
          "output_type": "stream",
          "text": [
            "LR Finder is complete, type {learner_name}.recorder.plot() to see the graph.\n"
          ],
          "name": "stdout"
        },
        {
          "output_type": "display_data",
          "data": {
            "text/html": [
              "<table border=\"1\" class=\"dataframe\">\n",
              "  <thead>\n",
              "    <tr style=\"text-align: left;\">\n",
              "      <th>epoch</th>\n",
              "      <th>train_loss</th>\n",
              "      <th>valid_loss</th>\n",
              "      <th>time</th>\n",
              "    </tr>\n",
              "  </thead>\n",
              "  <tbody>\n",
              "    <tr>\n",
              "      <td>0</td>\n",
              "      <td>0.891006</td>\n",
              "      <td>0.915156</td>\n",
              "      <td>00:08</td>\n",
              "    </tr>\n",
              "    <tr>\n",
              "      <td>1</td>\n",
              "      <td>0.804841</td>\n",
              "      <td>0.656050</td>\n",
              "      <td>00:08</td>\n",
              "    </tr>\n",
              "    <tr>\n",
              "      <td>2</td>\n",
              "      <td>0.712915</td>\n",
              "      <td>0.531988</td>\n",
              "      <td>00:08</td>\n",
              "    </tr>\n",
              "    <tr>\n",
              "      <td>3</td>\n",
              "      <td>0.584934</td>\n",
              "      <td>0.459178</td>\n",
              "      <td>00:08</td>\n",
              "    </tr>\n",
              "    <tr>\n",
              "      <td>4</td>\n",
              "      <td>0.444187</td>\n",
              "      <td>0.397642</td>\n",
              "      <td>00:08</td>\n",
              "    </tr>\n",
              "    <tr>\n",
              "      <td>5</td>\n",
              "      <td>0.356487</td>\n",
              "      <td>0.319240</td>\n",
              "      <td>00:08</td>\n",
              "    </tr>\n",
              "    <tr>\n",
              "      <td>6</td>\n",
              "      <td>0.304586</td>\n",
              "      <td>0.272701</td>\n",
              "      <td>00:08</td>\n",
              "    </tr>\n",
              "    <tr>\n",
              "      <td>7</td>\n",
              "      <td>0.273903</td>\n",
              "      <td>0.303586</td>\n",
              "      <td>00:08</td>\n",
              "    </tr>\n",
              "    <tr>\n",
              "      <td>8</td>\n",
              "      <td>0.247312</td>\n",
              "      <td>0.301600</td>\n",
              "      <td>00:08</td>\n",
              "    </tr>\n",
              "    <tr>\n",
              "      <td>9</td>\n",
              "      <td>0.223365</td>\n",
              "      <td>3.883131</td>\n",
              "      <td>00:08</td>\n",
              "    </tr>\n",
              "    <tr>\n",
              "      <td>10</td>\n",
              "      <td>0.204966</td>\n",
              "      <td>0.204717</td>\n",
              "      <td>00:08</td>\n",
              "    </tr>\n",
              "    <tr>\n",
              "      <td>11</td>\n",
              "      <td>0.189970</td>\n",
              "      <td>0.274000</td>\n",
              "      <td>00:08</td>\n",
              "    </tr>\n",
              "    <tr>\n",
              "      <td>12</td>\n",
              "      <td>0.182262</td>\n",
              "      <td>0.185857</td>\n",
              "      <td>00:08</td>\n",
              "    </tr>\n",
              "    <tr>\n",
              "      <td>13</td>\n",
              "      <td>0.176588</td>\n",
              "      <td>0.186302</td>\n",
              "      <td>00:08</td>\n",
              "    </tr>\n",
              "    <tr>\n",
              "      <td>14</td>\n",
              "      <td>0.169910</td>\n",
              "      <td>0.177580</td>\n",
              "      <td>00:08</td>\n",
              "    </tr>\n",
              "    <tr>\n",
              "      <td>15</td>\n",
              "      <td>0.164384</td>\n",
              "      <td>0.198031</td>\n",
              "      <td>00:08</td>\n",
              "    </tr>\n",
              "    <tr>\n",
              "      <td>16</td>\n",
              "      <td>0.162820</td>\n",
              "      <td>0.212189</td>\n",
              "      <td>00:08</td>\n",
              "    </tr>\n",
              "    <tr>\n",
              "      <td>17</td>\n",
              "      <td>0.159387</td>\n",
              "      <td>0.177385</td>\n",
              "      <td>00:08</td>\n",
              "    </tr>\n",
              "    <tr>\n",
              "      <td>18</td>\n",
              "      <td>0.158253</td>\n",
              "      <td>0.197624</td>\n",
              "      <td>00:08</td>\n",
              "    </tr>\n",
              "    <tr>\n",
              "      <td>19</td>\n",
              "      <td>0.155276</td>\n",
              "      <td>0.175444</td>\n",
              "      <td>00:08</td>\n",
              "    </tr>\n",
              "    <tr>\n",
              "      <td>20</td>\n",
              "      <td>0.153128</td>\n",
              "      <td>0.199732</td>\n",
              "      <td>00:08</td>\n",
              "    </tr>\n",
              "    <tr>\n",
              "      <td>21</td>\n",
              "      <td>0.151419</td>\n",
              "      <td>0.195052</td>\n",
              "      <td>00:08</td>\n",
              "    </tr>\n",
              "    <tr>\n",
              "      <td>22</td>\n",
              "      <td>0.152039</td>\n",
              "      <td>0.167675</td>\n",
              "      <td>00:08</td>\n",
              "    </tr>\n",
              "    <tr>\n",
              "      <td>23</td>\n",
              "      <td>0.150788</td>\n",
              "      <td>0.189218</td>\n",
              "      <td>00:08</td>\n",
              "    </tr>\n",
              "    <tr>\n",
              "      <td>24</td>\n",
              "      <td>0.146927</td>\n",
              "      <td>0.194210</td>\n",
              "      <td>00:08</td>\n",
              "    </tr>\n",
              "    <tr>\n",
              "      <td>25</td>\n",
              "      <td>0.144589</td>\n",
              "      <td>0.188255</td>\n",
              "      <td>00:08</td>\n",
              "    </tr>\n",
              "    <tr>\n",
              "      <td>26</td>\n",
              "      <td>0.144501</td>\n",
              "      <td>0.183887</td>\n",
              "      <td>00:08</td>\n",
              "    </tr>\n",
              "    <tr>\n",
              "      <td>27</td>\n",
              "      <td>0.141853</td>\n",
              "      <td>0.172319</td>\n",
              "      <td>00:08</td>\n",
              "    </tr>\n",
              "    <tr>\n",
              "      <td>28</td>\n",
              "      <td>0.139849</td>\n",
              "      <td>0.176779</td>\n",
              "      <td>00:08</td>\n",
              "    </tr>\n",
              "    <tr>\n",
              "      <td>29</td>\n",
              "      <td>0.138158</td>\n",
              "      <td>0.179347</td>\n",
              "      <td>00:08</td>\n",
              "    </tr>\n",
              "    <tr>\n",
              "      <td>30</td>\n",
              "      <td>0.136527</td>\n",
              "      <td>0.211059</td>\n",
              "      <td>00:08</td>\n",
              "    </tr>\n",
              "    <tr>\n",
              "      <td>31</td>\n",
              "      <td>0.132855</td>\n",
              "      <td>0.168706</td>\n",
              "      <td>00:08</td>\n",
              "    </tr>\n",
              "    <tr>\n",
              "      <td>32</td>\n",
              "      <td>0.129932</td>\n",
              "      <td>0.167382</td>\n",
              "      <td>00:08</td>\n",
              "    </tr>\n",
              "    <tr>\n",
              "      <td>33</td>\n",
              "      <td>0.126308</td>\n",
              "      <td>0.171183</td>\n",
              "      <td>00:08</td>\n",
              "    </tr>\n",
              "    <tr>\n",
              "      <td>34</td>\n",
              "      <td>0.122560</td>\n",
              "      <td>0.166585</td>\n",
              "      <td>00:08</td>\n",
              "    </tr>\n",
              "    <tr>\n",
              "      <td>35</td>\n",
              "      <td>0.121064</td>\n",
              "      <td>0.156784</td>\n",
              "      <td>00:08</td>\n",
              "    </tr>\n",
              "    <tr>\n",
              "      <td>36</td>\n",
              "      <td>0.117320</td>\n",
              "      <td>0.162614</td>\n",
              "      <td>00:08</td>\n",
              "    </tr>\n",
              "    <tr>\n",
              "      <td>37</td>\n",
              "      <td>0.112911</td>\n",
              "      <td>0.164811</td>\n",
              "      <td>00:08</td>\n",
              "    </tr>\n",
              "    <tr>\n",
              "      <td>38</td>\n",
              "      <td>0.110208</td>\n",
              "      <td>0.161105</td>\n",
              "      <td>00:08</td>\n",
              "    </tr>\n",
              "    <tr>\n",
              "      <td>39</td>\n",
              "      <td>0.107088</td>\n",
              "      <td>0.161592</td>\n",
              "      <td>00:08</td>\n",
              "    </tr>\n",
              "    <tr>\n",
              "      <td>40</td>\n",
              "      <td>0.104013</td>\n",
              "      <td>0.154838</td>\n",
              "      <td>00:08</td>\n",
              "    </tr>\n",
              "    <tr>\n",
              "      <td>41</td>\n",
              "      <td>0.099611</td>\n",
              "      <td>0.161553</td>\n",
              "      <td>00:08</td>\n",
              "    </tr>\n",
              "    <tr>\n",
              "      <td>42</td>\n",
              "      <td>0.095185</td>\n",
              "      <td>0.162497</td>\n",
              "      <td>00:08</td>\n",
              "    </tr>\n",
              "    <tr>\n",
              "      <td>43</td>\n",
              "      <td>0.091862</td>\n",
              "      <td>0.160524</td>\n",
              "      <td>00:08</td>\n",
              "    </tr>\n",
              "    <tr>\n",
              "      <td>44</td>\n",
              "      <td>0.089769</td>\n",
              "      <td>0.161229</td>\n",
              "      <td>00:08</td>\n",
              "    </tr>\n",
              "    <tr>\n",
              "      <td>45</td>\n",
              "      <td>0.087853</td>\n",
              "      <td>0.160878</td>\n",
              "      <td>00:08</td>\n",
              "    </tr>\n",
              "    <tr>\n",
              "      <td>46</td>\n",
              "      <td>0.085002</td>\n",
              "      <td>0.163582</td>\n",
              "      <td>00:08</td>\n",
              "    </tr>\n",
              "    <tr>\n",
              "      <td>47</td>\n",
              "      <td>0.084732</td>\n",
              "      <td>0.162777</td>\n",
              "      <td>00:08</td>\n",
              "    </tr>\n",
              "    <tr>\n",
              "      <td>48</td>\n",
              "      <td>0.082185</td>\n",
              "      <td>0.163577</td>\n",
              "      <td>00:08</td>\n",
              "    </tr>\n",
              "    <tr>\n",
              "      <td>49</td>\n",
              "      <td>0.081682</td>\n",
              "      <td>0.163317</td>\n",
              "      <td>00:08</td>\n",
              "    </tr>\n",
              "  </tbody>\n",
              "</table>"
            ],
            "text/plain": [
              "<IPython.core.display.HTML object>"
            ]
          },
          "metadata": {
            "tags": []
          }
        },
        {
          "output_type": "stream",
          "text": [
            "model: fastai_xresnet1d101\n"
          ],
          "name": "stdout"
        },
        {
          "output_type": "display_data",
          "data": {
            "text/html": [
              ""
            ],
            "text/plain": [
              "<IPython.core.display.HTML object>"
            ]
          },
          "metadata": {
            "tags": []
          }
        },
        {
          "output_type": "stream",
          "text": [
            "aggregating predictions...\n",
            "model: fastai_xresnet1d101\n"
          ],
          "name": "stdout"
        },
        {
          "output_type": "display_data",
          "data": {
            "text/html": [
              ""
            ],
            "text/plain": [
              "<IPython.core.display.HTML object>"
            ]
          },
          "metadata": {
            "tags": []
          }
        },
        {
          "output_type": "stream",
          "text": [
            "aggregating predictions...\n",
            "model: fastai_xresnet1d101\n"
          ],
          "name": "stdout"
        },
        {
          "output_type": "display_data",
          "data": {
            "text/html": [
              ""
            ],
            "text/plain": [
              "<IPython.core.display.HTML object>"
            ]
          },
          "metadata": {
            "tags": []
          }
        },
        {
          "output_type": "stream",
          "text": [
            "aggregating predictions...\n"
          ],
          "name": "stdout"
        },
        {
          "output_type": "stream",
          "text": [
            "\r  0%|          | 0/9 [00:00<?, ?it/s]"
          ],
          "name": "stderr"
        },
        {
          "output_type": "stream",
          "text": [
            "ensemble\n",
            "optimize thresholds with respect to G_beta\n"
          ],
          "name": "stdout"
        },
        {
          "output_type": "stream",
          "text": [
            "100%|██████████| 9/9 [00:53<00:00,  5.96s/it]\n",
            "  0%|          | 0/9 [00:00<?, ?it/s]"
          ],
          "name": "stderr"
        },
        {
          "output_type": "stream",
          "text": [
            "fastai_xresnet1d101\n",
            "optimize thresholds with respect to G_beta\n"
          ],
          "name": "stdout"
        },
        {
          "output_type": "stream",
          "text": [
            "100%|██████████| 9/9 [00:54<00:00,  6.04s/it]\n",
            "  0%|          | 0/9 [00:00<?, ?it/s]"
          ],
          "name": "stderr"
        },
        {
          "output_type": "stream",
          "text": [
            "naive\n",
            "optimize thresholds with respect to G_beta\n"
          ],
          "name": "stdout"
        },
        {
          "output_type": "stream",
          "text": [
            "100%|██████████| 9/9 [00:52<00:00,  5.79s/it]\n"
          ],
          "name": "stderr"
        },
        {
          "output_type": "error",
          "ename": "ValueError",
          "evalue": "ignored",
          "traceback": [
            "\u001b[0;31m---------------------------------------------------------------------------\u001b[0m",
            "\u001b[0;31mValueError\u001b[0m                                Traceback (most recent call last)",
            "\u001b[0;32m/usr/local/lib/python3.7/dist-packages/pandas/core/internals/managers.py\u001b[0m in \u001b[0;36mcreate_block_manager_from_blocks\u001b[0;34m(blocks, axes)\u001b[0m\n\u001b[1;32m   1670\u001b[0m                 blocks = [\n\u001b[0;32m-> 1671\u001b[0;31m                     \u001b[0mmake_block\u001b[0m\u001b[0;34m(\u001b[0m\u001b[0mvalues\u001b[0m\u001b[0;34m=\u001b[0m\u001b[0mblocks\u001b[0m\u001b[0;34m[\u001b[0m\u001b[0;36m0\u001b[0m\u001b[0;34m]\u001b[0m\u001b[0;34m,\u001b[0m \u001b[0mplacement\u001b[0m\u001b[0;34m=\u001b[0m\u001b[0mslice\u001b[0m\u001b[0;34m(\u001b[0m\u001b[0;36m0\u001b[0m\u001b[0;34m,\u001b[0m \u001b[0mlen\u001b[0m\u001b[0;34m(\u001b[0m\u001b[0maxes\u001b[0m\u001b[0;34m[\u001b[0m\u001b[0;36m0\u001b[0m\u001b[0;34m]\u001b[0m\u001b[0;34m)\u001b[0m\u001b[0;34m)\u001b[0m\u001b[0;34m)\u001b[0m\u001b[0;34m\u001b[0m\u001b[0;34m\u001b[0m\u001b[0m\n\u001b[0m\u001b[1;32m   1672\u001b[0m                 ]\n",
            "\u001b[0;32m/usr/local/lib/python3.7/dist-packages/pandas/core/internals/blocks.py\u001b[0m in \u001b[0;36mmake_block\u001b[0;34m(values, placement, klass, ndim, dtype)\u001b[0m\n\u001b[1;32m   2743\u001b[0m \u001b[0;34m\u001b[0m\u001b[0m\n\u001b[0;32m-> 2744\u001b[0;31m     \u001b[0;32mreturn\u001b[0m \u001b[0mklass\u001b[0m\u001b[0;34m(\u001b[0m\u001b[0mvalues\u001b[0m\u001b[0;34m,\u001b[0m \u001b[0mndim\u001b[0m\u001b[0;34m=\u001b[0m\u001b[0mndim\u001b[0m\u001b[0;34m,\u001b[0m \u001b[0mplacement\u001b[0m\u001b[0;34m=\u001b[0m\u001b[0mplacement\u001b[0m\u001b[0;34m)\u001b[0m\u001b[0;34m\u001b[0m\u001b[0;34m\u001b[0m\u001b[0m\n\u001b[0m\u001b[1;32m   2745\u001b[0m \u001b[0;34m\u001b[0m\u001b[0m\n",
            "\u001b[0;32m/usr/local/lib/python3.7/dist-packages/pandas/core/internals/blocks.py\u001b[0m in \u001b[0;36m__init__\u001b[0;34m(self, values, placement, ndim)\u001b[0m\n\u001b[1;32m    130\u001b[0m             raise ValueError(\n\u001b[0;32m--> 131\u001b[0;31m                 \u001b[0;34mf\"Wrong number of items passed {len(self.values)}, \"\u001b[0m\u001b[0;34m\u001b[0m\u001b[0;34m\u001b[0m\u001b[0m\n\u001b[0m\u001b[1;32m    132\u001b[0m                 \u001b[0;34mf\"placement implies {len(self.mgr_locs)}\"\u001b[0m\u001b[0;34m\u001b[0m\u001b[0;34m\u001b[0m\u001b[0m\n",
            "\u001b[0;31mValueError\u001b[0m: Wrong number of items passed 1, placement implies 3",
            "\nDuring handling of the above exception, another exception occurred:\n",
            "\u001b[0;31mValueError\u001b[0m                                Traceback (most recent call last)",
            "\u001b[0;32m<ipython-input-35-b8768047397f>\u001b[0m in \u001b[0;36m<module>\u001b[0;34m()\u001b[0m\n\u001b[1;32m     57\u001b[0m \u001b[0;34m\u001b[0m\u001b[0m\n\u001b[1;32m     58\u001b[0m \u001b[0;32mif\u001b[0m \u001b[0m__name__\u001b[0m \u001b[0;34m==\u001b[0m \u001b[0;34m\"__main__\"\u001b[0m\u001b[0;34m:\u001b[0m\u001b[0;34m\u001b[0m\u001b[0;34m\u001b[0m\u001b[0m\n\u001b[0;32m---> 59\u001b[0;31m     \u001b[0mmain\u001b[0m\u001b[0;34m(\u001b[0m\u001b[0;34m)\u001b[0m\u001b[0;34m\u001b[0m\u001b[0;34m\u001b[0m\u001b[0m\n\u001b[0m",
            "\u001b[0;32m<ipython-input-35-b8768047397f>\u001b[0m in \u001b[0;36mmain\u001b[0;34m()\u001b[0m\n\u001b[1;32m     54\u001b[0m \u001b[0;34m\u001b[0m\u001b[0m\n\u001b[1;32m     55\u001b[0m     \u001b[0;31m# generate greate summary table\u001b[0m\u001b[0;34m\u001b[0m\u001b[0;34m\u001b[0m\u001b[0;34m\u001b[0m\u001b[0m\n\u001b[0;32m---> 56\u001b[0;31m     \u001b[0mutils\u001b[0m\u001b[0;34m.\u001b[0m\u001b[0mICBEBE_table\u001b[0m\u001b[0;34m(\u001b[0m\u001b[0;34m)\u001b[0m\u001b[0;34m\u001b[0m\u001b[0;34m\u001b[0m\u001b[0m\n\u001b[0m\u001b[1;32m     57\u001b[0m \u001b[0;34m\u001b[0m\u001b[0m\n\u001b[1;32m     58\u001b[0m \u001b[0;32mif\u001b[0m \u001b[0m__name__\u001b[0m \u001b[0;34m==\u001b[0m \u001b[0;34m\"__main__\"\u001b[0m\u001b[0;34m:\u001b[0m\u001b[0;34m\u001b[0m\u001b[0;34m\u001b[0m\u001b[0m\n",
            "\u001b[0;32m/gdrive/MyDrive/ecg_ptbxl_benchmarking/code/utils/utils.py\u001b[0m in \u001b[0;36mICBEBE_table\u001b[0;34m(selection, folder)\u001b[0m\n\u001b[1;32m    428\u001b[0m     \u001b[0mdata\u001b[0m \u001b[0;34m=\u001b[0m \u001b[0mnp\u001b[0m\u001b[0;34m.\u001b[0m\u001b[0marray\u001b[0m\u001b[0;34m(\u001b[0m\u001b[0mdata\u001b[0m\u001b[0;34m)\u001b[0m\u001b[0;34m\u001b[0m\u001b[0;34m\u001b[0m\u001b[0m\n\u001b[1;32m    429\u001b[0m \u001b[0;34m\u001b[0m\u001b[0m\n\u001b[0;32m--> 430\u001b[0;31m     \u001b[0mdf\u001b[0m \u001b[0;34m=\u001b[0m \u001b[0mpd\u001b[0m\u001b[0;34m.\u001b[0m\u001b[0mDataFrame\u001b[0m\u001b[0;34m(\u001b[0m\u001b[0mdata\u001b[0m\u001b[0;34m,\u001b[0m \u001b[0mcolumns\u001b[0m\u001b[0;34m=\u001b[0m\u001b[0mcols\u001b[0m\u001b[0;34m,\u001b[0m \u001b[0mindex\u001b[0m\u001b[0;34m=\u001b[0m\u001b[0mmodels\u001b[0m\u001b[0;34m)\u001b[0m\u001b[0;34m\u001b[0m\u001b[0;34m\u001b[0m\u001b[0m\n\u001b[0m\u001b[1;32m    431\u001b[0m     \u001b[0mdf\u001b[0m\u001b[0;34m.\u001b[0m\u001b[0mto_csv\u001b[0m\u001b[0;34m(\u001b[0m\u001b[0mfolder\u001b[0m\u001b[0;34m+\u001b[0m\u001b[0;34m'results_icbeb.csv'\u001b[0m\u001b[0;34m)\u001b[0m\u001b[0;34m\u001b[0m\u001b[0;34m\u001b[0m\u001b[0m\n\u001b[1;32m    432\u001b[0m \u001b[0;34m\u001b[0m\u001b[0m\n",
            "\u001b[0;32m/usr/local/lib/python3.7/dist-packages/pandas/core/frame.py\u001b[0m in \u001b[0;36m__init__\u001b[0;34m(self, data, index, columns, dtype, copy)\u001b[0m\n\u001b[1;32m    495\u001b[0m                 \u001b[0mmgr\u001b[0m \u001b[0;34m=\u001b[0m \u001b[0minit_dict\u001b[0m\u001b[0;34m(\u001b[0m\u001b[0;34m{\u001b[0m\u001b[0mdata\u001b[0m\u001b[0;34m.\u001b[0m\u001b[0mname\u001b[0m\u001b[0;34m:\u001b[0m \u001b[0mdata\u001b[0m\u001b[0;34m}\u001b[0m\u001b[0;34m,\u001b[0m \u001b[0mindex\u001b[0m\u001b[0;34m,\u001b[0m \u001b[0mcolumns\u001b[0m\u001b[0;34m,\u001b[0m \u001b[0mdtype\u001b[0m\u001b[0;34m=\u001b[0m\u001b[0mdtype\u001b[0m\u001b[0;34m)\u001b[0m\u001b[0;34m\u001b[0m\u001b[0;34m\u001b[0m\u001b[0m\n\u001b[1;32m    496\u001b[0m             \u001b[0;32melse\u001b[0m\u001b[0;34m:\u001b[0m\u001b[0;34m\u001b[0m\u001b[0;34m\u001b[0m\u001b[0m\n\u001b[0;32m--> 497\u001b[0;31m                 \u001b[0mmgr\u001b[0m \u001b[0;34m=\u001b[0m \u001b[0minit_ndarray\u001b[0m\u001b[0;34m(\u001b[0m\u001b[0mdata\u001b[0m\u001b[0;34m,\u001b[0m \u001b[0mindex\u001b[0m\u001b[0;34m,\u001b[0m \u001b[0mcolumns\u001b[0m\u001b[0;34m,\u001b[0m \u001b[0mdtype\u001b[0m\u001b[0;34m=\u001b[0m\u001b[0mdtype\u001b[0m\u001b[0;34m,\u001b[0m \u001b[0mcopy\u001b[0m\u001b[0;34m=\u001b[0m\u001b[0mcopy\u001b[0m\u001b[0;34m)\u001b[0m\u001b[0;34m\u001b[0m\u001b[0;34m\u001b[0m\u001b[0m\n\u001b[0m\u001b[1;32m    498\u001b[0m \u001b[0;34m\u001b[0m\u001b[0m\n\u001b[1;32m    499\u001b[0m         \u001b[0;31m# For data is list-like, or Iterable (will consume into list)\u001b[0m\u001b[0;34m\u001b[0m\u001b[0;34m\u001b[0m\u001b[0;34m\u001b[0m\u001b[0m\n",
            "\u001b[0;32m/usr/local/lib/python3.7/dist-packages/pandas/core/internals/construction.py\u001b[0m in \u001b[0;36minit_ndarray\u001b[0;34m(values, index, columns, dtype, copy)\u001b[0m\n\u001b[1;32m    232\u001b[0m         \u001b[0mblock_values\u001b[0m \u001b[0;34m=\u001b[0m \u001b[0;34m[\u001b[0m\u001b[0mvalues\u001b[0m\u001b[0;34m]\u001b[0m\u001b[0;34m\u001b[0m\u001b[0;34m\u001b[0m\u001b[0m\n\u001b[1;32m    233\u001b[0m \u001b[0;34m\u001b[0m\u001b[0m\n\u001b[0;32m--> 234\u001b[0;31m     \u001b[0;32mreturn\u001b[0m \u001b[0mcreate_block_manager_from_blocks\u001b[0m\u001b[0;34m(\u001b[0m\u001b[0mblock_values\u001b[0m\u001b[0;34m,\u001b[0m \u001b[0;34m[\u001b[0m\u001b[0mcolumns\u001b[0m\u001b[0;34m,\u001b[0m \u001b[0mindex\u001b[0m\u001b[0;34m]\u001b[0m\u001b[0;34m)\u001b[0m\u001b[0;34m\u001b[0m\u001b[0;34m\u001b[0m\u001b[0m\n\u001b[0m\u001b[1;32m    235\u001b[0m \u001b[0;34m\u001b[0m\u001b[0m\n\u001b[1;32m    236\u001b[0m \u001b[0;34m\u001b[0m\u001b[0m\n",
            "\u001b[0;32m/usr/local/lib/python3.7/dist-packages/pandas/core/internals/managers.py\u001b[0m in \u001b[0;36mcreate_block_manager_from_blocks\u001b[0;34m(blocks, axes)\u001b[0m\n\u001b[1;32m   1679\u001b[0m         \u001b[0mblocks\u001b[0m \u001b[0;34m=\u001b[0m \u001b[0;34m[\u001b[0m\u001b[0mgetattr\u001b[0m\u001b[0;34m(\u001b[0m\u001b[0mb\u001b[0m\u001b[0;34m,\u001b[0m \u001b[0;34m\"values\"\u001b[0m\u001b[0;34m,\u001b[0m \u001b[0mb\u001b[0m\u001b[0;34m)\u001b[0m \u001b[0;32mfor\u001b[0m \u001b[0mb\u001b[0m \u001b[0;32min\u001b[0m \u001b[0mblocks\u001b[0m\u001b[0;34m]\u001b[0m\u001b[0;34m\u001b[0m\u001b[0;34m\u001b[0m\u001b[0m\n\u001b[1;32m   1680\u001b[0m         \u001b[0mtot_items\u001b[0m \u001b[0;34m=\u001b[0m \u001b[0msum\u001b[0m\u001b[0;34m(\u001b[0m\u001b[0mb\u001b[0m\u001b[0;34m.\u001b[0m\u001b[0mshape\u001b[0m\u001b[0;34m[\u001b[0m\u001b[0;36m0\u001b[0m\u001b[0;34m]\u001b[0m \u001b[0;32mfor\u001b[0m \u001b[0mb\u001b[0m \u001b[0;32min\u001b[0m \u001b[0mblocks\u001b[0m\u001b[0;34m)\u001b[0m\u001b[0;34m\u001b[0m\u001b[0;34m\u001b[0m\u001b[0m\n\u001b[0;32m-> 1681\u001b[0;31m         \u001b[0;32mraise\u001b[0m \u001b[0mconstruction_error\u001b[0m\u001b[0;34m(\u001b[0m\u001b[0mtot_items\u001b[0m\u001b[0;34m,\u001b[0m \u001b[0mblocks\u001b[0m\u001b[0;34m[\u001b[0m\u001b[0;36m0\u001b[0m\u001b[0;34m]\u001b[0m\u001b[0;34m.\u001b[0m\u001b[0mshape\u001b[0m\u001b[0;34m[\u001b[0m\u001b[0;36m1\u001b[0m\u001b[0;34m:\u001b[0m\u001b[0;34m]\u001b[0m\u001b[0;34m,\u001b[0m \u001b[0maxes\u001b[0m\u001b[0;34m,\u001b[0m \u001b[0me\u001b[0m\u001b[0;34m)\u001b[0m\u001b[0;34m\u001b[0m\u001b[0;34m\u001b[0m\u001b[0m\n\u001b[0m\u001b[1;32m   1682\u001b[0m \u001b[0;34m\u001b[0m\u001b[0m\n\u001b[1;32m   1683\u001b[0m \u001b[0;34m\u001b[0m\u001b[0m\n",
            "\u001b[0;31mValueError\u001b[0m: Empty data passed with indices specified."
          ]
        }
      ]
    },
    {
      "cell_type": "code",
      "metadata": {
        "colab": {
          "base_uri": "https://localhost:8080/"
        },
        "id": "ff5A7TVXIB0C",
        "outputId": "4a497b12-80ae-406c-f64e-b51ee8510b89"
      },
      "source": [
        "y_test_pred = np.load('../output_ic/exp_ICBEB/models/fastai_xresnet1d101/y_test_pred.npy' ,allow_pickle=True)\n",
        "y_test_pred.shape"
      ],
      "execution_count": null,
      "outputs": [
        {
          "output_type": "execute_result",
          "data": {
            "text/plain": [
              "(690, 9)"
            ]
          },
          "metadata": {
            "tags": []
          },
          "execution_count": 19
        }
      ]
    },
    {
      "cell_type": "code",
      "metadata": {
        "colab": {
          "base_uri": "https://localhost:8080/"
        },
        "id": "bc6k7Z4YIB0d",
        "outputId": "b3ca72ed-0930-4068-8f82-c3615a1d8e5c"
      },
      "source": [
        "y_test = np.load('../output_ic/exp_ICBEB/data/y_test.npy' ,allow_pickle=True)\n",
        "y_test.shape"
      ],
      "execution_count": null,
      "outputs": [
        {
          "output_type": "execute_result",
          "data": {
            "text/plain": [
              "(690, 9)"
            ]
          },
          "metadata": {
            "tags": []
          },
          "execution_count": 20
        }
      ]
    },
    {
      "cell_type": "code",
      "metadata": {
        "colab": {
          "base_uri": "https://localhost:8080/"
        },
        "id": "JnpzujUMvjRS",
        "outputId": "bc9a7c28-24cf-45b8-82b0-301f230ccd70"
      },
      "source": [
        "import numpy as np\n",
        "y_t = np.load('../output_ic/exp_ICBEB/data/y_train.npy' ,allow_pickle=True)\n",
        "y_t.shape"
      ],
      "execution_count": null,
      "outputs": [
        {
          "output_type": "execute_result",
          "data": {
            "text/plain": [
              "(5497, 9)"
            ]
          },
          "metadata": {
            "tags": []
          },
          "execution_count": 7
        }
      ]
    },
    {
      "cell_type": "code",
      "metadata": {
        "colab": {
          "base_uri": "https://localhost:8080/",
          "height": 77
        },
        "id": "L5l_azvFIB0e",
        "outputId": "7deb4521-6efa-45f1-88cb-42347908890f"
      },
      "source": [
        "utils.evaluate_experiment(y_test, y_test_pred)"
      ],
      "execution_count": null,
      "outputs": [
        {
          "output_type": "execute_result",
          "data": {
            "text/html": [
              "<div>\n",
              "<style scoped>\n",
              "    .dataframe tbody tr th:only-of-type {\n",
              "        vertical-align: middle;\n",
              "    }\n",
              "\n",
              "    .dataframe tbody tr th {\n",
              "        vertical-align: top;\n",
              "    }\n",
              "\n",
              "    .dataframe thead th {\n",
              "        text-align: right;\n",
              "    }\n",
              "</style>\n",
              "<table border=\"1\" class=\"dataframe\">\n",
              "  <thead>\n",
              "    <tr style=\"text-align: right;\">\n",
              "      <th></th>\n",
              "      <th>macro_auc</th>\n",
              "    </tr>\n",
              "  </thead>\n",
              "  <tbody>\n",
              "    <tr>\n",
              "      <th>0</th>\n",
              "      <td>0.969686</td>\n",
              "    </tr>\n",
              "  </tbody>\n",
              "</table>\n",
              "</div>"
            ],
            "text/plain": [
              "   macro_auc\n",
              "0   0.969686"
            ]
          },
          "metadata": {
            "tags": []
          },
          "execution_count": 21
        }
      ]
    },
    {
      "cell_type": "code",
      "metadata": {
        "colab": {
          "base_uri": "https://localhost:8080/"
        },
        "id": "tExtJv2qIB0f",
        "outputId": "90f06785-e42a-41f9-de73-db81e4406923"
      },
      "source": [
        "y_test[0]"
      ],
      "execution_count": null,
      "outputs": [
        {
          "output_type": "execute_result",
          "data": {
            "text/plain": [
              "array([0, 1, 0, 0, 0, 0, 0, 0, 0])"
            ]
          },
          "metadata": {
            "tags": []
          },
          "execution_count": 28
        }
      ]
    },
    {
      "cell_type": "code",
      "metadata": {
        "colab": {
          "base_uri": "https://localhost:8080/"
        },
        "id": "nw2kk9miIB0f",
        "outputId": "5dc03701-c5b4-4dce-fb8d-b5070c201686"
      },
      "source": [
        "y_test_pred[0]"
      ],
      "execution_count": null,
      "outputs": [
        {
          "output_type": "execute_result",
          "data": {
            "text/plain": [
              "array([2.947533e-04, 9.993967e-01, 3.027098e-04, 2.701367e-04, 2.432584e-04, 2.627902e-03, 2.827951e-02, 3.126888e-04,\n",
              "       1.256982e-02], dtype=float32)"
            ]
          },
          "metadata": {
            "tags": []
          },
          "execution_count": 29
        }
      ]
    },
    {
      "cell_type": "code",
      "metadata": {
        "colab": {
          "base_uri": "https://localhost:8080/"
        },
        "id": "jckAjljYIB0g",
        "outputId": "a4cce9fe-ab7a-4877-855a-bfe242a15a8e"
      },
      "source": [
        "from sklearn.metrics import classification_report, fbeta_score, roc_auc_score, roc_curve, roc_curve, auc\n",
        "\n",
        "def find_optimal_cutoff_threshold(target, predicted):\n",
        "    \"\"\" \n",
        "    Find the optimal probability cutoff point for a classification model related to event rate\n",
        "    \"\"\"\n",
        "    fpr, tpr, threshold = roc_curve(target, predicted)\n",
        "    optimal_idx = np.argmax(tpr - fpr)\n",
        "    optimal_threshold = threshold[optimal_idx]\n",
        "    return optimal_threshold\n",
        "\n",
        "def find_optimal_cutoff_thresholds(y_true, y_pred):\n",
        "\treturn [find_optimal_cutoff_threshold(y_true[:,i], y_pred[:,i]) for i in range(y_true.shape[1])]\n",
        "\n",
        "thresholds =  find_optimal_cutoff_thresholds_for_Gbeta(y_test , y_test_pred)\n"
      ],
      "execution_count": null,
      "outputs": [
        {
          "output_type": "stream",
          "text": [
            "\r  0%|          | 0/9 [00:00<?, ?it/s]"
          ],
          "name": "stderr"
        },
        {
          "output_type": "stream",
          "text": [
            "optimize thresholds with respect to G_beta\n"
          ],
          "name": "stdout"
        },
        {
          "output_type": "stream",
          "text": [
            "100%|██████████| 9/9 [00:07<00:00,  1.19it/s]\n"
          ],
          "name": "stderr"
        }
      ]
    },
    {
      "cell_type": "code",
      "metadata": {
        "colab": {
          "base_uri": "https://localhost:8080/"
        },
        "id": "Ly7e7OwmIB0h",
        "outputId": "7edfccda-c532-4a96-f54d-c3efd91c6338"
      },
      "source": [
        "y_pred_binary = apply_thresholds(y_test_pred, thresholds)\n",
        "y_pred_binary[0]"
      ],
      "execution_count": null,
      "outputs": [
        {
          "output_type": "execute_result",
          "data": {
            "text/plain": [
              "array([0, 1, 0, 0, 0, 0, 0, 0, 0])"
            ]
          },
          "metadata": {
            "tags": []
          },
          "execution_count": 23
        }
      ]
    },
    {
      "cell_type": "code",
      "metadata": {
        "colab": {
          "base_uri": "https://localhost:8080/",
          "height": 77
        },
        "id": "Yb6SPUjhIB0h",
        "outputId": "3e15b78f-7ed7-47e5-829e-11ff8ef96579"
      },
      "source": [
        "utils.evaluate_experiment(y_test, y_pred_binary)"
      ],
      "execution_count": null,
      "outputs": [
        {
          "output_type": "execute_result",
          "data": {
            "text/html": [
              "<div>\n",
              "<style scoped>\n",
              "    .dataframe tbody tr th:only-of-type {\n",
              "        vertical-align: middle;\n",
              "    }\n",
              "\n",
              "    .dataframe tbody tr th {\n",
              "        vertical-align: top;\n",
              "    }\n",
              "\n",
              "    .dataframe thead th {\n",
              "        text-align: right;\n",
              "    }\n",
              "</style>\n",
              "<table border=\"1\" class=\"dataframe\">\n",
              "  <thead>\n",
              "    <tr style=\"text-align: right;\">\n",
              "      <th></th>\n",
              "      <th>macro_auc</th>\n",
              "    </tr>\n",
              "  </thead>\n",
              "  <tbody>\n",
              "    <tr>\n",
              "      <th>0</th>\n",
              "      <td>0.920428</td>\n",
              "    </tr>\n",
              "  </tbody>\n",
              "</table>\n",
              "</div>"
            ],
            "text/plain": [
              "   macro_auc\n",
              "0   0.920428"
            ]
          },
          "metadata": {
            "tags": []
          },
          "execution_count": 24
        }
      ]
    },
    {
      "cell_type": "code",
      "metadata": {
        "id": "pXaPBHiPIB0i"
      },
      "source": [
        "from sklearn.metrics import (confusion_matrix,\n",
        "                             precision_score, recall_score, f1_score,\n",
        "                             precision_recall_curve, average_precision_score , accuracy_score , roc_auc_score)\n",
        "diagnosis = ['NORM', 'AFIB', '1AVB', 'CLBBB', 'CRBBB', 'PAC', 'VPC', 'STD_', 'STE_']\n",
        "def specificity_score(y_true, y_pred):\n",
        "    m = confusion_matrix(y_true, y_pred, labels=[0, 1])\n",
        "    spc = m[0, 0] * 1.0 / (m[0, 0] + m[0, 1])\n",
        "    return spc\n",
        "\n",
        "def get_scores(y_true, y_pred, score_fun):\n",
        "    nclasses = np.shape(y_true)[1]\n",
        "    scores = []\n",
        "    for name, fun in score_fun.items():\n",
        "        scores += [[fun(y_true[:, k], y_pred[:, k]) for k in range(nclasses)]]\n",
        "    return np.array(scores).T\n",
        "\n",
        "\n",
        "score_fun = {'Precision': precision_score,\n",
        "             'Recall': recall_score,\n",
        "             'F1 score': f1_score ,'AUC':roc_auc_score, 'accuracy': accuracy_score}\n",
        "\n",
        "scores_list = []\n",
        "for y_pred in [y_pred_binary]:\n",
        "    # Compute scores\n",
        "    scores = get_scores(y_test, y_pred, score_fun)\n",
        "    # Put them into a data frame\n",
        "    scores_df = pd.DataFrame(scores,index=diagnosis, columns=score_fun.keys())\n",
        "    # Append\n",
        "    scores_list.append(scores_df)\n",
        "# Concatenate dataframes\n",
        "scores_all_df = pd.concat(scores_list, axis=1, keys=[''])\n",
        "# Change multiindex levels\n",
        "scores_all_df = scores_all_df.swaplevel(0, 1, axis=1)\n",
        "scores_all_df = scores_all_df.reindex(level=0, columns=score_fun.keys())"
      ],
      "execution_count": null,
      "outputs": []
    },
    {
      "cell_type": "code",
      "metadata": {
        "id": "OKfL13dYMRUe",
        "outputId": "bc6a98e4-c0dd-4e6a-aa77-d6955d636e42",
        "colab": {
          "base_uri": "https://localhost:8080/",
          "height": 329
        }
      },
      "source": [
        "scores_all_df"
      ],
      "execution_count": null,
      "outputs": [
        {
          "output_type": "execute_result",
          "data": {
            "text/html": [
              "<div>\n",
              "<style scoped>\n",
              "    .dataframe tbody tr th:only-of-type {\n",
              "        vertical-align: middle;\n",
              "    }\n",
              "\n",
              "    .dataframe tbody tr th {\n",
              "        vertical-align: top;\n",
              "    }\n",
              "\n",
              "    .dataframe thead tr th {\n",
              "        text-align: left;\n",
              "    }\n",
              "</style>\n",
              "<table border=\"1\" class=\"dataframe\">\n",
              "  <thead>\n",
              "    <tr>\n",
              "      <th></th>\n",
              "      <th>Precision</th>\n",
              "      <th>Recall</th>\n",
              "      <th>F1 score</th>\n",
              "      <th>AUC</th>\n",
              "      <th>accuracy</th>\n",
              "    </tr>\n",
              "    <tr>\n",
              "      <th></th>\n",
              "      <th></th>\n",
              "      <th></th>\n",
              "      <th></th>\n",
              "      <th></th>\n",
              "      <th></th>\n",
              "    </tr>\n",
              "  </thead>\n",
              "  <tbody>\n",
              "    <tr>\n",
              "      <th>NORM</th>\n",
              "      <td>0.760870</td>\n",
              "      <td>0.972222</td>\n",
              "      <td>0.853659</td>\n",
              "      <td>0.968312</td>\n",
              "      <td>0.965217</td>\n",
              "    </tr>\n",
              "    <tr>\n",
              "      <th>AFIB</th>\n",
              "      <td>0.934959</td>\n",
              "      <td>0.934959</td>\n",
              "      <td>0.934959</td>\n",
              "      <td>0.960425</td>\n",
              "      <td>0.976812</td>\n",
              "    </tr>\n",
              "    <tr>\n",
              "      <th>1AVB</th>\n",
              "      <td>0.800000</td>\n",
              "      <td>1.000000</td>\n",
              "      <td>0.888889</td>\n",
              "      <td>0.995495</td>\n",
              "      <td>0.991304</td>\n",
              "    </tr>\n",
              "    <tr>\n",
              "      <th>CLBBB</th>\n",
              "      <td>0.907767</td>\n",
              "      <td>0.968912</td>\n",
              "      <td>0.937343</td>\n",
              "      <td>0.965341</td>\n",
              "      <td>0.963768</td>\n",
              "    </tr>\n",
              "    <tr>\n",
              "      <th>CRBBB</th>\n",
              "      <td>0.632000</td>\n",
              "      <td>0.858696</td>\n",
              "      <td>0.728111</td>\n",
              "      <td>0.890886</td>\n",
              "      <td>0.914493</td>\n",
              "    </tr>\n",
              "    <tr>\n",
              "      <th>PAC</th>\n",
              "      <td>0.520000</td>\n",
              "      <td>0.852459</td>\n",
              "      <td>0.645963</td>\n",
              "      <td>0.888074</td>\n",
              "      <td>0.917391</td>\n",
              "    </tr>\n",
              "    <tr>\n",
              "      <th>VPC</th>\n",
              "      <td>0.732673</td>\n",
              "      <td>0.850575</td>\n",
              "      <td>0.787234</td>\n",
              "      <td>0.902899</td>\n",
              "      <td>0.942029</td>\n",
              "    </tr>\n",
              "    <tr>\n",
              "      <th>STD_</th>\n",
              "      <td>0.705882</td>\n",
              "      <td>0.545455</td>\n",
              "      <td>0.615385</td>\n",
              "      <td>0.768985</td>\n",
              "      <td>0.978261</td>\n",
              "    </tr>\n",
              "    <tr>\n",
              "      <th>STE_</th>\n",
              "      <td>0.790123</td>\n",
              "      <td>0.914286</td>\n",
              "      <td>0.847682</td>\n",
              "      <td>0.943433</td>\n",
              "      <td>0.966667</td>\n",
              "    </tr>\n",
              "  </tbody>\n",
              "</table>\n",
              "</div>"
            ],
            "text/plain": [
              "      Precision    Recall  F1 score       AUC  accuracy\n",
              "                                                       \n",
              "NORM   0.760870  0.972222  0.853659  0.968312  0.965217\n",
              "AFIB   0.934959  0.934959  0.934959  0.960425  0.976812\n",
              "1AVB   0.800000  1.000000  0.888889  0.995495  0.991304\n",
              "CLBBB  0.907767  0.968912  0.937343  0.965341  0.963768\n",
              "CRBBB  0.632000  0.858696  0.728111  0.890886  0.914493\n",
              "PAC    0.520000  0.852459  0.645963  0.888074  0.917391\n",
              "VPC    0.732673  0.850575  0.787234  0.902899  0.942029\n",
              "STD_   0.705882  0.545455  0.615385  0.768985  0.978261\n",
              "STE_   0.790123  0.914286  0.847682  0.943433  0.966667"
            ]
          },
          "metadata": {
            "tags": []
          },
          "execution_count": 26
        }
      ]
    },
    {
      "cell_type": "code",
      "metadata": {
        "colab": {
          "base_uri": "https://localhost:8080/",
          "height": 329
        },
        "id": "s1tAoYOYIB0i",
        "outputId": "b405d570-8e94-4898-b85a-963d4b24cdcb"
      },
      "source": [
        "#Gbeta thershold\n",
        "scores_all_df"
      ],
      "execution_count": null,
      "outputs": [
        {
          "output_type": "execute_result",
          "data": {
            "text/html": [
              "<div>\n",
              "<style scoped>\n",
              "    .dataframe tbody tr th:only-of-type {\n",
              "        vertical-align: middle;\n",
              "    }\n",
              "\n",
              "    .dataframe tbody tr th {\n",
              "        vertical-align: top;\n",
              "    }\n",
              "\n",
              "    .dataframe thead tr th {\n",
              "        text-align: left;\n",
              "    }\n",
              "</style>\n",
              "<table border=\"1\" class=\"dataframe\">\n",
              "  <thead>\n",
              "    <tr>\n",
              "      <th></th>\n",
              "      <th>Precision</th>\n",
              "      <th>Recall</th>\n",
              "      <th>Specificity</th>\n",
              "      <th>F1 score</th>\n",
              "      <th>balanced accuracy</th>\n",
              "    </tr>\n",
              "    <tr>\n",
              "      <th></th>\n",
              "      <th></th>\n",
              "      <th></th>\n",
              "      <th></th>\n",
              "      <th></th>\n",
              "      <th></th>\n",
              "    </tr>\n",
              "  </thead>\n",
              "  <tbody>\n",
              "    <tr>\n",
              "      <th>NORM</th>\n",
              "      <td>0.760870</td>\n",
              "      <td>0.972222</td>\n",
              "      <td>0.964401</td>\n",
              "      <td>0.853659</td>\n",
              "      <td>0.968312</td>\n",
              "    </tr>\n",
              "    <tr>\n",
              "      <th>AFIB</th>\n",
              "      <td>0.934959</td>\n",
              "      <td>0.934959</td>\n",
              "      <td>0.985891</td>\n",
              "      <td>0.934959</td>\n",
              "      <td>0.960425</td>\n",
              "    </tr>\n",
              "    <tr>\n",
              "      <th>1AVB</th>\n",
              "      <td>0.800000</td>\n",
              "      <td>1.000000</td>\n",
              "      <td>0.990991</td>\n",
              "      <td>0.888889</td>\n",
              "      <td>0.995495</td>\n",
              "    </tr>\n",
              "    <tr>\n",
              "      <th>CLBBB</th>\n",
              "      <td>0.907767</td>\n",
              "      <td>0.968912</td>\n",
              "      <td>0.961771</td>\n",
              "      <td>0.937343</td>\n",
              "      <td>0.965341</td>\n",
              "    </tr>\n",
              "    <tr>\n",
              "      <th>CRBBB</th>\n",
              "      <td>0.632000</td>\n",
              "      <td>0.858696</td>\n",
              "      <td>0.923077</td>\n",
              "      <td>0.728111</td>\n",
              "      <td>0.890886</td>\n",
              "    </tr>\n",
              "    <tr>\n",
              "      <th>PAC</th>\n",
              "      <td>0.520000</td>\n",
              "      <td>0.852459</td>\n",
              "      <td>0.923688</td>\n",
              "      <td>0.645963</td>\n",
              "      <td>0.888074</td>\n",
              "    </tr>\n",
              "    <tr>\n",
              "      <th>VPC</th>\n",
              "      <td>0.732673</td>\n",
              "      <td>0.850575</td>\n",
              "      <td>0.955224</td>\n",
              "      <td>0.787234</td>\n",
              "      <td>0.902899</td>\n",
              "    </tr>\n",
              "    <tr>\n",
              "      <th>STD_</th>\n",
              "      <td>0.705882</td>\n",
              "      <td>0.545455</td>\n",
              "      <td>0.992515</td>\n",
              "      <td>0.615385</td>\n",
              "      <td>0.768985</td>\n",
              "    </tr>\n",
              "    <tr>\n",
              "      <th>STE_</th>\n",
              "      <td>0.790123</td>\n",
              "      <td>0.914286</td>\n",
              "      <td>0.972581</td>\n",
              "      <td>0.847682</td>\n",
              "      <td>0.943433</td>\n",
              "    </tr>\n",
              "  </tbody>\n",
              "</table>\n",
              "</div>"
            ],
            "text/plain": [
              "      Precision    Recall Specificity  F1 score balanced accuracy\n",
              "                                                                 \n",
              "NORM   0.760870  0.972222    0.964401  0.853659          0.968312\n",
              "AFIB   0.934959  0.934959    0.985891  0.934959          0.960425\n",
              "1AVB   0.800000  1.000000    0.990991  0.888889          0.995495\n",
              "CLBBB  0.907767  0.968912    0.961771  0.937343          0.965341\n",
              "CRBBB  0.632000  0.858696    0.923077  0.728111          0.890886\n",
              "PAC    0.520000  0.852459    0.923688  0.645963          0.888074\n",
              "VPC    0.732673  0.850575    0.955224  0.787234          0.902899\n",
              "STD_   0.705882  0.545455    0.992515  0.615385          0.768985\n",
              "STE_   0.790123  0.914286    0.972581  0.847682          0.943433"
            ]
          },
          "metadata": {
            "tags": []
          },
          "execution_count": 47
        }
      ]
    },
    {
      "cell_type": "code",
      "metadata": {
        "colab": {
          "base_uri": "https://localhost:8080/",
          "height": 644
        },
        "id": "BLzVCFVhIB0j",
        "outputId": "20bb9768-e37a-427b-efe5-e1485b71fcd8"
      },
      "source": [
        "# %% Confusion matrices (Supplementary Table 1)\n",
        "from sklearn.metrics import (confusion_matrix,\n",
        "                             precision_score, recall_score, f1_score,\n",
        "                             precision_recall_curve, average_precision_score)\n",
        "\n",
        "import xarray as xr\n",
        "\n",
        "M = [[confusion_matrix(y_test[:, k], y_pred[:, k], labels=[0, 1])\n",
        "      for k in range(9)] for y_pred in [y_pred_binary]]\n",
        "\n",
        "M_xarray = xr.DataArray(np.array(M),\n",
        "                        dims=['predictor', 'diagnosis', 'true label', 'predicted label'],\n",
        "                        coords={'predictor': ['xResNet1d-101'],\n",
        "                                'diagnosis': diagnosis,\n",
        "                                'true label': ['not present', 'present'],\n",
        "                                'predicted label': ['not present', 'present']})\n",
        "confusion_matrices = M_xarray.to_dataframe('n')\n",
        "confusion_matrices = confusion_matrices.reorder_levels([1, 2, 3, 0], axis=0)\n",
        "confusion_matrices = confusion_matrices.unstack()\n",
        "confusion_matrices = confusion_matrices.unstack()\n",
        "confusion_matrices = confusion_matrices['n']\n",
        "confusion_matrices"
      ],
      "execution_count": null,
      "outputs": [
        {
          "output_type": "execute_result",
          "data": {
            "text/html": [
              "<div>\n",
              "<style scoped>\n",
              "    .dataframe tbody tr th:only-of-type {\n",
              "        vertical-align: middle;\n",
              "    }\n",
              "\n",
              "    .dataframe tbody tr th {\n",
              "        vertical-align: top;\n",
              "    }\n",
              "\n",
              "    .dataframe thead tr th {\n",
              "        text-align: left;\n",
              "    }\n",
              "\n",
              "    .dataframe thead tr:last-of-type th {\n",
              "        text-align: right;\n",
              "    }\n",
              "</style>\n",
              "<table border=\"1\" class=\"dataframe\">\n",
              "  <thead>\n",
              "    <tr>\n",
              "      <th></th>\n",
              "      <th>predictor</th>\n",
              "      <th colspan=\"2\" halign=\"left\">xResNet1d-101</th>\n",
              "    </tr>\n",
              "    <tr>\n",
              "      <th></th>\n",
              "      <th>predicted label</th>\n",
              "      <th>not present</th>\n",
              "      <th>present</th>\n",
              "    </tr>\n",
              "    <tr>\n",
              "      <th>diagnosis</th>\n",
              "      <th>true label</th>\n",
              "      <th></th>\n",
              "      <th></th>\n",
              "    </tr>\n",
              "  </thead>\n",
              "  <tbody>\n",
              "    <tr>\n",
              "      <th rowspan=\"2\" valign=\"top\">NORM</th>\n",
              "      <th>not present</th>\n",
              "      <td>596</td>\n",
              "      <td>22</td>\n",
              "    </tr>\n",
              "    <tr>\n",
              "      <th>present</th>\n",
              "      <td>2</td>\n",
              "      <td>70</td>\n",
              "    </tr>\n",
              "    <tr>\n",
              "      <th rowspan=\"2\" valign=\"top\">AFIB</th>\n",
              "      <th>not present</th>\n",
              "      <td>559</td>\n",
              "      <td>8</td>\n",
              "    </tr>\n",
              "    <tr>\n",
              "      <th>present</th>\n",
              "      <td>8</td>\n",
              "      <td>115</td>\n",
              "    </tr>\n",
              "    <tr>\n",
              "      <th rowspan=\"2\" valign=\"top\">1AVB</th>\n",
              "      <th>not present</th>\n",
              "      <td>660</td>\n",
              "      <td>6</td>\n",
              "    </tr>\n",
              "    <tr>\n",
              "      <th>present</th>\n",
              "      <td>0</td>\n",
              "      <td>24</td>\n",
              "    </tr>\n",
              "    <tr>\n",
              "      <th rowspan=\"2\" valign=\"top\">CLBBB</th>\n",
              "      <th>not present</th>\n",
              "      <td>478</td>\n",
              "      <td>19</td>\n",
              "    </tr>\n",
              "    <tr>\n",
              "      <th>present</th>\n",
              "      <td>6</td>\n",
              "      <td>187</td>\n",
              "    </tr>\n",
              "    <tr>\n",
              "      <th rowspan=\"2\" valign=\"top\">CRBBB</th>\n",
              "      <th>not present</th>\n",
              "      <td>552</td>\n",
              "      <td>46</td>\n",
              "    </tr>\n",
              "    <tr>\n",
              "      <th>present</th>\n",
              "      <td>13</td>\n",
              "      <td>79</td>\n",
              "    </tr>\n",
              "    <tr>\n",
              "      <th rowspan=\"2\" valign=\"top\">PAC</th>\n",
              "      <th>not present</th>\n",
              "      <td>581</td>\n",
              "      <td>48</td>\n",
              "    </tr>\n",
              "    <tr>\n",
              "      <th>present</th>\n",
              "      <td>9</td>\n",
              "      <td>52</td>\n",
              "    </tr>\n",
              "    <tr>\n",
              "      <th rowspan=\"2\" valign=\"top\">VPC</th>\n",
              "      <th>not present</th>\n",
              "      <td>576</td>\n",
              "      <td>27</td>\n",
              "    </tr>\n",
              "    <tr>\n",
              "      <th>present</th>\n",
              "      <td>13</td>\n",
              "      <td>74</td>\n",
              "    </tr>\n",
              "    <tr>\n",
              "      <th rowspan=\"2\" valign=\"top\">STD_</th>\n",
              "      <th>not present</th>\n",
              "      <td>663</td>\n",
              "      <td>5</td>\n",
              "    </tr>\n",
              "    <tr>\n",
              "      <th>present</th>\n",
              "      <td>10</td>\n",
              "      <td>12</td>\n",
              "    </tr>\n",
              "    <tr>\n",
              "      <th rowspan=\"2\" valign=\"top\">STE_</th>\n",
              "      <th>not present</th>\n",
              "      <td>603</td>\n",
              "      <td>17</td>\n",
              "    </tr>\n",
              "    <tr>\n",
              "      <th>present</th>\n",
              "      <td>6</td>\n",
              "      <td>64</td>\n",
              "    </tr>\n",
              "  </tbody>\n",
              "</table>\n",
              "</div>"
            ],
            "text/plain": [
              "predictor             xResNet1d-101        \n",
              "predicted label         not present present\n",
              "diagnosis true label                       \n",
              "NORM      not present           596      22\n",
              "          present                 2      70\n",
              "AFIB      not present           559       8\n",
              "          present                 8     115\n",
              "1AVB      not present           660       6\n",
              "          present                 0      24\n",
              "CLBBB     not present           478      19\n",
              "          present                 6     187\n",
              "CRBBB     not present           552      46\n",
              "          present                13      79\n",
              "PAC       not present           581      48\n",
              "          present                 9      52\n",
              "VPC       not present           576      27\n",
              "          present                13      74\n",
              "STD_      not present           663       5\n",
              "          present                10      12\n",
              "STE_      not present           603      17\n",
              "          present                 6      64"
            ]
          },
          "metadata": {
            "tags": []
          },
          "execution_count": 22
        }
      ]
    },
    {
      "cell_type": "markdown",
      "metadata": {
        "id": "vJUevd16KUoC"
      },
      "source": [
        "#Finetuning on ICBEB:"
      ]
    },
    {
      "cell_type": "code",
      "metadata": {
        "colab": {
          "base_uri": "https://localhost:8080/",
          "height": 36
        },
        "id": "jpr0XnGtqWRM",
        "outputId": "d602a095-9924-4c37-ea3f-d18e53fc98ea"
      },
      "source": [
        "pwd"
      ],
      "execution_count": null,
      "outputs": [
        {
          "output_type": "execute_result",
          "data": {
            "application/vnd.google.colaboratory.intrinsic+json": {
              "type": "string"
            },
            "text/plain": [
              "'/gdrive/.shortcut-targets-by-id/1j3ncHY23bba4nXCRAt52Fr8YgGZpml9-/ecg_ptbxl_benchmarking/code'"
            ]
          },
          "metadata": {
            "tags": []
          },
          "execution_count": 12
        }
      ]
    },
    {
      "cell_type": "code",
      "metadata": {
        "colab": {
          "base_uri": "https://localhost:8080/"
        },
        "id": "LbNorHYoq8rH",
        "outputId": "c6f9bcc1-7d1a-4965-a885-e34d536a43be"
      },
      "source": [
        "cd ecg_ptbxl_benchmarking/code"
      ],
      "execution_count": null,
      "outputs": [
        {
          "output_type": "stream",
          "text": [
            "/gdrive/My Drive/ecg_ptbxl_benchmarking/code\n"
          ],
          "name": "stdout"
        }
      ]
    },
    {
      "cell_type": "code",
      "metadata": {
        "colab": {
          "base_uri": "https://localhost:8080/"
        },
        "id": "LO4FB4Qbxrfj",
        "outputId": "92605713-a483-4486-ec31-3d76483b8589"
      },
      "source": [
        "# from utils import utils\n",
        "\n",
        "sampling_frequency=100\n",
        "datafolder= '/gdrive/My Drive/ICBEB/'\n",
        "task='all'\n",
        "outputfolder='../output0/'\n",
        "\n",
        "# Load data\n",
        "data, raw_labels = utils.load_dataset(datafolder, sampling_frequency)\n",
        "# Preprocess label data\n",
        "labels = utils.compute_label_aggregations(raw_labels, datafolder, task)\n",
        "# Select relevant data and convert to one-hot\n",
        "data, labels, Y, _ = utils.select_data(data, labels, task, min_samples=0, outputfolder=outputfolder)\n",
        "\n",
        "# 1-9 for training \n",
        "X_train = data[labels.strat_fold < 10]\n",
        "y_train = Y[labels.strat_fold < 10]\n",
        "# 10 for validation\n",
        "X_val = data[labels.strat_fold == 10]\n",
        "y_val = Y[labels.strat_fold == 10]\n",
        "\n",
        "num_classes = 9         # <=== number of classes in the finetuning dataset\n",
        "input_shape = [1000,12] # <=== shape of samples, [None, 12] in case of different lengths\n",
        "\n",
        "X_train.shape, y_train.shape, X_val.shape, y_val.shape"
      ],
      "execution_count": null,
      "outputs": [
        {
          "output_type": "stream",
          "text": [
            "100%|██████████| 6877/6877 [46:02<00:00,  2.49it/s]\n"
          ],
          "name": "stderr"
        },
        {
          "output_type": "execute_result",
          "data": {
            "text/plain": [
              "((6187,), (6187, 9), (690,), (690, 9))"
            ]
          },
          "metadata": {
            "tags": []
          },
          "execution_count": 13
        }
      ]
    },
    {
      "cell_type": "code",
      "metadata": {
        "id": "nC8v6EtT17s8"
      },
      "source": [
        "np.save('X_train.npy',X_train)\n",
        "np.save('X_val.npy',X_val)\n",
        "np.save('y_train.npy',y_train)\n",
        "np.save('y_val.npy',y_val)"
      ],
      "execution_count": null,
      "outputs": []
    },
    {
      "cell_type": "code",
      "metadata": {
        "colab": {
          "base_uri": "https://localhost:8080/"
        },
        "id": "5GzTQZXM2S9i",
        "outputId": "0496c4bf-9146-42ce-fb39-56df2a0fcc17"
      },
      "source": [
        "y_val = np.load('y_val.npy')\n",
        "y_train = np.load('y_train.npy')\n",
        "X_val = np.load('X_val.npy', allow_pickle=True)\n",
        "X_train = np.load('X_train.npy', allow_pickle=True)\n",
        "\n",
        "X_train.shape, y_train.shape, X_val.shape, y_val.shape"
      ],
      "execution_count": null,
      "outputs": [
        {
          "output_type": "execute_result",
          "data": {
            "text/plain": [
              "((6187,), (6187, 9), (690,), (690, 9))"
            ]
          },
          "metadata": {
            "tags": []
          },
          "execution_count": 10
        }
      ]
    },
    {
      "cell_type": "code",
      "metadata": {
        "colab": {
          "base_uri": "https://localhost:8080/"
        },
        "id": "dxfT8OKac8vC",
        "outputId": "3cee13c0-cd1e-431a-c9ef-85a16b179c66"
      },
      "source": [
        "X_train[0].shape"
      ],
      "execution_count": null,
      "outputs": [
        {
          "output_type": "execute_result",
          "data": {
            "text/plain": [
              "(1500, 12)"
            ]
          },
          "metadata": {
            "tags": []
          },
          "execution_count": 12
        }
      ]
    },
    {
      "cell_type": "code",
      "metadata": {
        "colab": {
          "base_uri": "https://localhost:8080/"
        },
        "id": "QtV-zMEK1GOb",
        "outputId": "cdf080dc-e67f-4c19-c193-532864755e95"
      },
      "source": [
        "X_tr = []\n",
        "for i in range(len(X_train)):\n",
        "    x = []\n",
        "    for j in range(12):\n",
        "        p = X_train[i][:1000,j]\n",
        "        if p.shape[0]!= 1000:\n",
        "            d = abs(p.shape[0]-1000)//2\n",
        "            p = np.pad(p,(d,d))\n",
        "        x.append(p)\n",
        "    X_tr.append(np.transpose(x))\n",
        "X_tr = np.array(X_tr)\n",
        "X_tr.shape"
      ],
      "execution_count": null,
      "outputs": [
        {
          "output_type": "execute_result",
          "data": {
            "text/plain": [
              "(6187, 1000, 12)"
            ]
          },
          "metadata": {
            "tags": []
          },
          "execution_count": 13
        }
      ]
    },
    {
      "cell_type": "code",
      "metadata": {
        "colab": {
          "base_uri": "https://localhost:8080/"
        },
        "id": "7qpz5wPKJOxS",
        "outputId": "5beccbd5-5437-4ae2-fc52-eca90cb09e42"
      },
      "source": [
        "X_te = []\n",
        "for i in range(len(X_val)):\n",
        "    x = []\n",
        "    for j in range(12):\n",
        "        p = X_val[i][:1000,j]\n",
        "        if p.shape[0]!= 1000:\n",
        "            d = abs(p.shape[0]-1000)//2\n",
        "            p = np.pad(p,(d,d))\n",
        "        x.append(p)\n",
        "    X_te.append(np.transpose(x))\n",
        "X_te = np.array(X_te)\n",
        "X_te.shape"
      ],
      "execution_count": null,
      "outputs": [
        {
          "output_type": "execute_result",
          "data": {
            "text/plain": [
              "(690, 1000, 12)"
            ]
          },
          "metadata": {
            "tags": []
          },
          "execution_count": 14
        }
      ]
    },
    {
      "cell_type": "code",
      "metadata": {
        "id": "zfvtfMA2K2sw"
      },
      "source": [
        "# from models.fastai_model import fastai_model\n",
        "\n",
        "experiment = 'exp0'\n",
        "modelname = 'fastai_xresnet1d101'\n",
        "pretrainedfolder = '../output0/'+experiment+'/models/'+modelname+'/'\n",
        "mpath='/gdrive/My Drive/ICBEB/' # <=== path where the finetuned model will be stored\n",
        "n_classes_pretrained = 71 # <=== because we load the model from exp0, this should be fixed because this depends the experiment\n",
        "num_classes = 9\n",
        "sampling_frequency = 100\n",
        "input_shape = [1000,12]\n",
        "\n",
        "model = fastai_model(\n",
        "    modelname, \n",
        "    num_classes, \n",
        "    sampling_frequency, \n",
        "    mpath, \n",
        "    input_shape=input_shape, \n",
        "    pretrainedfolder=pretrainedfolder,\n",
        "    n_classes_pretrained=n_classes_pretrained, \n",
        "    pretrained=True,\n",
        "    epochs_finetuning=2,\n",
        ")"
      ],
      "execution_count": null,
      "outputs": []
    },
    {
      "cell_type": "code",
      "metadata": {
        "colab": {
          "base_uri": "https://localhost:8080/",
          "height": 36
        },
        "id": "nz2Up_g3xNNO",
        "outputId": "e93e8cb0-1d14-4116-9507-5cba302aca16"
      },
      "source": [
        "pwd"
      ],
      "execution_count": null,
      "outputs": [
        {
          "output_type": "execute_result",
          "data": {
            "application/vnd.google.colaboratory.intrinsic+json": {
              "type": "string"
            },
            "text/plain": [
              "'/gdrive/My Drive'"
            ]
          },
          "metadata": {
            "tags": []
          },
          "execution_count": 42
        }
      ]
    },
    {
      "cell_type": "code",
      "metadata": {
        "id": "Dadm3EOPdeK5"
      },
      "source": [
        "# import pickle\n",
        "\n",
        "standard_scaler = pickle.load(open('../output0/'+experiment+'/data/standard_scaler.pkl', \"rb\"))\n",
        "# from sklearn.preprocessing import StandardScaler\n",
        "# scaler = StandardScaler()\n",
        "# X_train = scaler.fit(X_train[i])\n",
        "# X_test = scaler.fit(X_test)\n",
        "\n",
        "X_tr = utils.apply_standardizer(X_tr, standard_scaler)\n",
        "X_te = utils.apply_standardizer(X_te, standard_scaler)\n",
        "\n",
        "# x_train = []\n",
        "# x_test = []\n",
        "\n",
        "# for i in range(len(X_train)):\n",
        "#     tr = X_train[i]\n",
        "#     tr = (tr-np.mean(tr))/(np.std(tr)+1e-30)\n",
        "#     x_train.append(tr)\n",
        "\n",
        "# for i in range(len(X_test)):\n",
        "#     tr = X_test[i]\n",
        "#     tr = (tr-np.mean(tr))/(np.std(tr)+1e-30)\n",
        "#     x_test.append(tr)"
      ],
      "execution_count": null,
      "outputs": []
    },
    {
      "cell_type": "code",
      "metadata": {
        "colab": {
          "base_uri": "https://localhost:8080/",
          "height": 282
        },
        "id": "yMQiix8TZUDV",
        "outputId": "ebd74cab-f659-411a-de55-d33ac0f607d1"
      },
      "source": [
        "plt.plot(X_val[0][:,0])"
      ],
      "execution_count": null,
      "outputs": [
        {
          "output_type": "execute_result",
          "data": {
            "text/plain": [
              "[<matplotlib.lines.Line2D at 0x7fc51079e110>]"
            ]
          },
          "metadata": {
            "tags": []
          },
          "execution_count": 22
        },
        {
          "output_type": "display_data",
          "data": {
            "image/png": "[encoded data removed]",
            "text/plain": [
              "<Figure size 432x288 with 1 Axes>"
            ]
          },
          "metadata": {
            "tags": [],
            "needs_background": "light"
          }
        }
      ]
    },
    {
      "cell_type": "code",
      "metadata": {
        "colab": {
          "base_uri": "https://localhost:8080/",
          "height": 282
        },
        "id": "O9BMIJw_d0TZ",
        "outputId": "c7730044-704c-4c83-f401-a64f50406ab7"
      },
      "source": [
        "plt.plot(X_te[0,:,0])"
      ],
      "execution_count": null,
      "outputs": [
        {
          "output_type": "execute_result",
          "data": {
            "text/plain": [
              "[<matplotlib.lines.Line2D at 0x7fc510783110>]"
            ]
          },
          "metadata": {
            "tags": []
          },
          "execution_count": 20
        },
        {
          "output_type": "display_data",
          "data": {
            "image/png": "[encoded data removed]",
            "text/plain": [
              "<Figure size 432x288 with 1 Axes>"
            ]
          },
          "metadata": {
            "tags": [],
            "needs_background": "light"
          }
        }
      ]
    },
    {
      "cell_type": "code",
      "metadata": {
        "id": "DdpY5Zmcdlam",
        "colab": {
          "base_uri": "https://localhost:8080/",
          "height": 480
        },
        "outputId": "f287c5d8-1a62-4ffd-d2ca-0a8cb0dce667"
      },
      "source": [
        "model.fit(X_tr, y_train, X_te, y_val)"
      ],
      "execution_count": null,
      "outputs": [
        {
          "output_type": "stream",
          "text": [
            "Finetuning...\n",
            "model: fastai_xresnet1d101\n"
          ],
          "name": "stdout"
        },
        {
          "output_type": "display_data",
          "data": {
            "text/html": [
              "\n",
              "    <div>\n",
              "        <style>\n",
              "            /* Turns off some styling */\n",
              "            progress {\n",
              "                /* gets rid of default border in Firefox and Opera. */\n",
              "                border: none;\n",
              "                /* Needs to be in here for Safari polyfill so background images work as expected. */\n",
              "                background-size: auto;\n",
              "            }\n",
              "            .progress-bar-interrupted, .progress-bar-interrupted::-webkit-progress-bar {\n",
              "                background: #F44336;\n",
              "            }\n",
              "        </style>\n",
              "      <progress value='1' class='' max='3' style='width:300px; height:20px; vertical-align: middle;'></progress>\n",
              "      33.33% [1/3 00:04<00:08]\n",
              "    </div>\n",
              "    \n",
              "<table border=\"1\" class=\"dataframe\">\n",
              "  <thead>\n",
              "    <tr style=\"text-align: left;\">\n",
              "      <th>epoch</th>\n",
              "      <th>train_loss</th>\n",
              "      <th>valid_loss</th>\n",
              "      <th>time</th>\n",
              "    </tr>\n",
              "  </thead>\n",
              "  <tbody>\n",
              "    <tr>\n",
              "      <td>0</td>\n",
              "      <td>0.771420</td>\n",
              "      <td>#na#</td>\n",
              "      <td>00:04</td>\n",
              "    </tr>\n",
              "  </tbody>\n",
              "</table><p>\n",
              "\n",
              "    <div>\n",
              "        <style>\n",
              "            /* Turns off some styling */\n",
              "            progress {\n",
              "                /* gets rid of default border in Firefox and Opera. */\n",
              "                border: none;\n",
              "                /* Needs to be in here for Safari polyfill so background images work as expected. */\n",
              "                background-size: auto;\n",
              "            }\n",
              "            .progress-bar-interrupted, .progress-bar-interrupted::-webkit-progress-bar {\n",
              "                background: #F44336;\n",
              "            }\n",
              "        </style>\n",
              "      <progress value='46' class='' max='48' style='width:300px; height:20px; vertical-align: middle;'></progress>\n",
              "      95.83% [46/48 00:04<00:00 1.2945]\n",
              "    </div>\n",
              "    "
            ],
            "text/plain": [
              "<IPython.core.display.HTML object>"
            ]
          },
          "metadata": {
            "tags": []
          }
        },
        {
          "output_type": "stream",
          "text": [
            "LR Finder is complete, type {learner_name}.recorder.plot() to see the graph.\n"
          ],
          "name": "stdout"
        },
        {
          "output_type": "display_data",
          "data": {
            "text/html": [
              "<table border=\"1\" class=\"dataframe\">\n",
              "  <thead>\n",
              "    <tr style=\"text-align: left;\">\n",
              "      <th>epoch</th>\n",
              "      <th>train_loss</th>\n",
              "      <th>valid_loss</th>\n",
              "      <th>time</th>\n",
              "    </tr>\n",
              "  </thead>\n",
              "  <tbody>\n",
              "    <tr>\n",
              "      <td>0</td>\n",
              "      <td>0.357962</td>\n",
              "      <td>0.296581</td>\n",
              "      <td>00:06</td>\n",
              "    </tr>\n",
              "    <tr>\n",
              "      <td>1</td>\n",
              "      <td>0.221781</td>\n",
              "      <td>0.263980</td>\n",
              "      <td>00:06</td>\n",
              "    </tr>\n",
              "  </tbody>\n",
              "</table>"
            ],
            "text/plain": [
              "<IPython.core.display.HTML object>"
            ]
          },
          "metadata": {
            "tags": []
          }
        },
        {
          "output_type": "display_data",
          "data": {
            "text/html": [
              "\n",
              "    <div>\n",
              "        <style>\n",
              "            /* Turns off some styling */\n",
              "            progress {\n",
              "                /* gets rid of default border in Firefox and Opera. */\n",
              "                border: none;\n",
              "                /* Needs to be in here for Safari polyfill so background images work as expected. */\n",
              "                background-size: auto;\n",
              "            }\n",
              "            .progress-bar-interrupted, .progress-bar-interrupted::-webkit-progress-bar {\n",
              "                background: #F44336;\n",
              "            }\n",
              "        </style>\n",
              "      <progress value='1' class='' max='3' style='width:300px; height:20px; vertical-align: middle;'></progress>\n",
              "      33.33% [1/3 00:05<00:10]\n",
              "    </div>\n",
              "    \n",
              "<table border=\"1\" class=\"dataframe\">\n",
              "  <thead>\n",
              "    <tr style=\"text-align: left;\">\n",
              "      <th>epoch</th>\n",
              "      <th>train_loss</th>\n",
              "      <th>valid_loss</th>\n",
              "      <th>time</th>\n",
              "    </tr>\n",
              "  </thead>\n",
              "  <tbody>\n",
              "    <tr>\n",
              "      <td>0</td>\n",
              "      <td>0.165676</td>\n",
              "      <td>#na#</td>\n",
              "      <td>00:05</td>\n",
              "    </tr>\n",
              "  </tbody>\n",
              "</table><p>\n",
              "\n",
              "    <div>\n",
              "        <style>\n",
              "            /* Turns off some styling */\n",
              "            progress {\n",
              "                /* gets rid of default border in Firefox and Opera. */\n",
              "                border: none;\n",
              "                /* Needs to be in here for Safari polyfill so background images work as expected. */\n",
              "                background-size: auto;\n",
              "            }\n",
              "            .progress-bar-interrupted, .progress-bar-interrupted::-webkit-progress-bar {\n",
              "                background: #F44336;\n",
              "            }\n",
              "        </style>\n",
              "      <progress value='42' class='' max='48' style='width:300px; height:20px; vertical-align: middle;'></progress>\n",
              "      87.50% [42/48 00:04<00:00 0.4873]\n",
              "    </div>\n",
              "    "
            ],
            "text/plain": [
              "<IPython.core.display.HTML object>"
            ]
          },
          "metadata": {
            "tags": []
          }
        },
        {
          "output_type": "stream",
          "text": [
            "LR Finder is complete, type {learner_name}.recorder.plot() to see the graph.\n"
          ],
          "name": "stdout"
        },
        {
          "output_type": "display_data",
          "data": {
            "text/html": [
              "<table border=\"1\" class=\"dataframe\">\n",
              "  <thead>\n",
              "    <tr style=\"text-align: left;\">\n",
              "      <th>epoch</th>\n",
              "      <th>train_loss</th>\n",
              "      <th>valid_loss</th>\n",
              "      <th>time</th>\n",
              "    </tr>\n",
              "  </thead>\n",
              "  <tbody>\n",
              "    <tr>\n",
              "      <td>0</td>\n",
              "      <td>0.162177</td>\n",
              "      <td>0.265332</td>\n",
              "      <td>00:07</td>\n",
              "    </tr>\n",
              "    <tr>\n",
              "      <td>1</td>\n",
              "      <td>0.160792</td>\n",
              "      <td>0.264052</td>\n",
              "      <td>00:07</td>\n",
              "    </tr>\n",
              "  </tbody>\n",
              "</table>"
            ],
            "text/plain": [
              "<IPython.core.display.HTML object>"
            ]
          },
          "metadata": {
            "tags": []
          }
        }
      ]
    }
  ]
}