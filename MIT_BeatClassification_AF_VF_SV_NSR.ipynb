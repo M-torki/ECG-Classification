{
  "nbformat": 4,
  "nbformat_minor": 0,
  "metadata": {
    "colab": {
      "name": "MIT_BeatClassification_AF.VF.SV.NSR.ipynb",
      "provenance": [],
      "collapsed_sections": [],
      "include_colab_link": true
    },
    "kernelspec": {
      "display_name": "Python 3",
      "name": "python3"
    },
    "language_info": {
      "name": "python"
    }
  },
  "cells": [
    {
      "cell_type": "markdown",
      "metadata": {
        "id": "view-in-github",
        "colab_type": "text"
      },
      "source": [
        "<a href=\"https://colab.research.google.com/github/M-torki/ECG-Classification/blob/main/MIT_BeatClassification_AF_VF_SV_NSR.ipynb\" target=\"_parent\"><img src=\"https://colab.research.google.com/assets/colab-badge.svg\" alt=\"Open In Colab\"/></a>"
      ]
    },
    {
      "cell_type": "markdown",
      "metadata": {
        "id": "UsxTwuNSZIPN"
      },
      "source": [
        "This notebook is for classification of extracted beats from PhysioNet MIT database. [This](https://physionet.org/about/database/) is a link to PhysioNet databases. \n",
        "\n",
        "Arrhythmia classes used in this study are:\n",
        "\n",
        "AF: Atrial Fibrillation\n",
        "\n",
        "VF: Ventricular Tachycardia\n",
        "\n",
        "SV: Supraventricular Arrhythmia \n",
        "\n",
        "NSR: Normal\n",
        "\n",
        "\n",
        "Extracted beat dataset which have .txt extension, created in \"MIT data preparation\" notebook and we just load them in this notebook."
      ]
    },
    {
      "cell_type": "code",
      "metadata": {
        "colab": {
          "base_uri": "https://localhost:8080/"
        },
        "id": "FbySwp4_VbdE",
        "outputId": "208c1c53-8c0c-47c9-a4d7-c35129e19347"
      },
      "source": [
        "from google.colab import drive\n",
        "drive.mount('/gdrive')"
      ],
      "execution_count": null,
      "outputs": [
        {
          "output_type": "stream",
          "text": [
            "Mounted at /gdrive\n"
          ],
          "name": "stdout"
        }
      ]
    },
    {
      "cell_type": "code",
      "metadata": {
        "colab": {
          "base_uri": "https://localhost:8080/"
        },
        "id": "paaKTpplKWTf",
        "outputId": "cb05ee52-4b96-47d0-8c30-625dd68ebd03"
      },
      "source": [
        "cd /gdrive/MyDrive/"
      ],
      "execution_count": null,
      "outputs": [
        {
          "output_type": "stream",
          "text": [
            "/gdrive/MyDrive\n"
          ],
          "name": "stdout"
        }
      ]
    },
    {
      "cell_type": "code",
      "metadata": {
        "colab": {
          "base_uri": "https://localhost:8080/"
        },
        "id": "C8y_Vk76KzZT",
        "outputId": "ba20e1bd-6aff-401b-c2eb-8ba27ee57242"
      },
      "source": [
        "cd data_beat/MIT"
      ],
      "execution_count": null,
      "outputs": [
        {
          "output_type": "stream",
          "text": [
            "/gdrive/.shortcut-targets-by-id/1OMdYP5uFn0bAwkC4m6f7Rl7qZjVv-N5Q/data_beat/MIT\n"
          ],
          "name": "stdout"
        }
      ]
    },
    {
      "cell_type": "code",
      "metadata": {
        "colab": {
          "base_uri": "https://localhost:8080/"
        },
        "id": "T-nGu8iHAx09",
        "outputId": "f0f83e09-9c9e-43d1-9808-cdd1a70afe72"
      },
      "source": [
        "ls"
      ],
      "execution_count": null,
      "outputs": [
        {
          "output_type": "stream",
          "text": [
            "afdb.txt  nsrdb.txt  svdb.txt  vfdb.txt\n"
          ],
          "name": "stdout"
        }
      ]
    },
    {
      "cell_type": "code",
      "metadata": {
        "id": "DNuw0CtZLJO-"
      },
      "source": [
        "import os\n",
        "import numpy as np\n",
        "import pandas as pd\n",
        "import pickle\n",
        "import matplotlib.pyplot as plt\n",
        "%matplotlib inline\n",
        "import scipy\n",
        "import shutil\n",
        "from IPython.display import display \n",
        "import keras\n",
        "from keras import optimizers, losses, activations, models\n",
        "from keras.layers import Dense, BatchNormalization, Input, Activation, Dropout, Convolution1D, Conv1D, MaxPool1D , MaxPooling1D, GlobalMaxPool1D, GlobalAveragePooling1D, concatenate, MaxPool2D\n",
        "from keras.preprocessing import image\n",
        "from keras.preprocessing.image import ImageDataGenerator\n",
        "from keras.models import Sequential\n",
        "from keras.layers import Dense, Dropout, Flatten, Conv2D, MaxPooling2D , Lambda, GaussianNoise\n",
        "from keras.utils.np_utils import to_categorical\n",
        "from keras.optimizers import Adam , Adadelta , Adagrad , SGD , RMSprop\n",
        "from keras import regularizers\n",
        "import keras.backend as K\n",
        "from random import choice,shuffle\n",
        "import glob"
      ],
      "execution_count": null,
      "outputs": []
    },
    {
      "cell_type": "code",
      "metadata": {
        "colab": {
          "base_uri": "https://localhost:8080/"
        },
        "id": "2j4jsBO2j_2n",
        "outputId": "73c22e3d-0faf-447f-a16a-b331d27ab851"
      },
      "source": [
        "af = np.loadtxt('./afdb.txt')\n",
        "print(af.shape)\n",
        "\n",
        "vf = np.loadtxt('./vfdb.txt')\n",
        "print(vf.shape)\n",
        "\n",
        "sv = np.loadtxt('./svdb.txt')\n",
        "print(sv.shape)\n",
        "\n",
        "nsr = np.loadtxt('./nsrdb.txt')\n",
        "print(nsr.shape)"
      ],
      "execution_count": null,
      "outputs": [
        {
          "output_type": "stream",
          "text": [
            "(3362, 200)\n",
            "(1930, 200)\n",
            "(25252, 200)\n",
            "(76680, 200)\n"
          ],
          "name": "stdout"
        }
      ]
    },
    {
      "cell_type": "code",
      "metadata": {
        "colab": {
          "base_uri": "https://localhost:8080/",
          "height": 282
        },
        "id": "hCUDuhC_c1GF",
        "outputId": "767cab5e-73a3-4f03-ee8f-b4b9083190c9"
      },
      "source": [
        "plt.plot(vf[0,:])"
      ],
      "execution_count": null,
      "outputs": [
        {
          "output_type": "execute_result",
          "data": {
            "text/plain": [
              "[<matplotlib.lines.Line2D at 0x7f5a2859ab50>]"
            ]
          },
          "metadata": {
            "tags": []
          },
          "execution_count": 13
        },
        {
          "output_type": "display_data",
          "data": {
            "image/png": "[encoded data removed]",
            "text/plain": [
              "<Figure size 432x288 with 1 Axes>"
            ]
          },
          "metadata": {
            "tags": []
          }
        }
      ]
    },
    {
      "cell_type": "code",
      "metadata": {
        "colab": {
          "base_uri": "https://localhost:8080/",
          "height": 282
        },
        "id": "gu6AiJxyYJPJ",
        "outputId": "db35460c-0210-47c5-d3e6-504151f2c585"
      },
      "source": [
        "plt.plot(af[1000,:])"
      ],
      "execution_count": null,
      "outputs": [
        {
          "output_type": "execute_result",
          "data": {
            "text/plain": [
              "[<matplotlib.lines.Line2D at 0x7f5a14b63510>]"
            ]
          },
          "metadata": {
            "tags": []
          },
          "execution_count": 14
        },
        {
          "output_type": "display_data",
          "data": {
            "image/png": "[encoded data removed]",
            "text/plain": [
              "<Figure size 432x288 with 1 Axes>"
            ]
          },
          "metadata": {
            "tags": []
          }
        }
      ]
    },
    {
      "cell_type": "code",
      "metadata": {
        "colab": {
          "base_uri": "https://localhost:8080/",
          "height": 282
        },
        "id": "nPjsaR_We_7y",
        "outputId": "3fe4449a-b0bc-4c55-c75d-3b8e25e0f2a6"
      },
      "source": [
        "plt.plot(nsr[1000,:])"
      ],
      "execution_count": null,
      "outputs": [
        {
          "output_type": "execute_result",
          "data": {
            "text/plain": [
              "[<matplotlib.lines.Line2D at 0x7f5a0a0d5c10>]"
            ]
          },
          "metadata": {
            "tags": []
          },
          "execution_count": 15
        },
        {
          "output_type": "display_data",
          "data": {
            "image/png": "[encoded data removed]",
            "text/plain": [
              "<Figure size 432x288 with 1 Axes>"
            ]
          },
          "metadata": {
            "tags": []
          }
        }
      ]
    },
    {
      "cell_type": "code",
      "metadata": {
        "colab": {
          "base_uri": "https://localhost:8080/",
          "height": 282
        },
        "id": "_L6HIDpLC28x",
        "outputId": "c07f2ec5-aa6f-4479-9221-0edf86935ce9"
      },
      "source": [
        "plt.plot(sv[0,:])"
      ],
      "execution_count": null,
      "outputs": [
        {
          "output_type": "execute_result",
          "data": {
            "text/plain": [
              "[<matplotlib.lines.Line2D at 0x7f5a27b84290>]"
            ]
          },
          "metadata": {
            "tags": []
          },
          "execution_count": 16
        },
        {
          "output_type": "display_data",
          "data": {
            "image/png": "[encoded data removed]",
            "text/plain": [
              "<Figure size 432x288 with 1 Axes>"
            ]
          },
          "metadata": {
            "tags": []
          }
        }
      ]
    },
    {
      "cell_type": "code",
      "metadata": {
        "colab": {
          "base_uri": "https://localhost:8080/"
        },
        "id": "0qo4xcYRfI25",
        "outputId": "92b96763-401b-413a-c936-b2d3f7a837c7"
      },
      "source": [
        "x_test = np.concatenate((af[:len(af)//5] , vf[:len(vf)//5] , sv[:len(sv)//5] , nsr[:len(nsr)//5]) , axis=0)\n",
        "x_test.shape"
      ],
      "execution_count": null,
      "outputs": [
        {
          "output_type": "execute_result",
          "data": {
            "text/plain": [
              "(21444, 200)"
            ]
          },
          "metadata": {
            "tags": []
          },
          "execution_count": 17
        }
      ]
    },
    {
      "cell_type": "code",
      "metadata": {
        "colab": {
          "base_uri": "https://localhost:8080/"
        },
        "id": "he6Lk0NMImIK",
        "outputId": "8b2109c9-0a39-47fd-ac90-6350aeedfe99"
      },
      "source": [
        "x_train = np.concatenate((af[len(af)//5:] , vf[len(vf)//5:] ,  sv[len(sv)//5:] , nsr[len(nsr)//5:]) , axis=0)\n",
        "x_train.shape"
      ],
      "execution_count": null,
      "outputs": [
        {
          "output_type": "execute_result",
          "data": {
            "text/plain": [
              "(85780, 200)"
            ]
          },
          "metadata": {
            "tags": []
          },
          "execution_count": 18
        }
      ]
    },
    {
      "cell_type": "code",
      "metadata": {
        "colab": {
          "base_uri": "https://localhost:8080/"
        },
        "id": "KdrCzI6edlB8",
        "outputId": "507d0258-b4ea-4bf8-99de-37858455e825"
      },
      "source": [
        "y_test = []\n",
        "for i in range(len(af)//5):\n",
        "    y_test.append([1,0,0,0])\n",
        "for i in range(len(vf)//5):\n",
        "    y_test.append([0,1,0,0])\n",
        "for i in range(len(sv)//5):\n",
        "    y_test.append([0,0,1,0])\n",
        "for i in range(len(nsr)//5):\n",
        "    y_test.append([0,0,0,1])\n",
        "y_test = np.array(y_test)\n",
        "y_test.shape"
      ],
      "execution_count": null,
      "outputs": [
        {
          "output_type": "execute_result",
          "data": {
            "text/plain": [
              "(21444, 4)"
            ]
          },
          "metadata": {
            "tags": []
          },
          "execution_count": 19
        }
      ]
    },
    {
      "cell_type": "code",
      "metadata": {
        "colab": {
          "base_uri": "https://localhost:8080/"
        },
        "id": "I7Ipv62LgC_Z",
        "outputId": "e75d3031-2f67-4180-abef-6e9020ec8427"
      },
      "source": [
        "y_train = []\n",
        "for i in range(len(af)//5 , len(af)):\n",
        "    y_train.append([1,0,0,0])\n",
        "for i in range(len(vf)//5 , len(vf)):\n",
        "    y_train.append([0,1,0,0])\n",
        "for i in range(len(sv)//5 , len(sv)):\n",
        "    y_train.append([0,0,1,0])\n",
        "for i in range(len(nsr)//5 , len(nsr)):\n",
        "    y_train.append([0,0,0,1])\n",
        "y_train = np.array(y_train)\n",
        "y_train.shape"
      ],
      "execution_count": null,
      "outputs": [
        {
          "output_type": "execute_result",
          "data": {
            "text/plain": [
              "(85780, 4)"
            ]
          },
          "metadata": {
            "tags": []
          },
          "execution_count": 20
        }
      ]
    },
    {
      "cell_type": "code",
      "metadata": {
        "colab": {
          "base_uri": "https://localhost:8080/"
        },
        "id": "aB7QUMC8U7cS",
        "outputId": "0fbad6ab-4c35-4ece-a85e-4122971ceca2"
      },
      "source": [
        "x_test = np.expand_dims(x_test , -1)\n",
        "x_train = np.expand_dims(x_train , -1)\n",
        "\n",
        "print(x_test.shape , x_train.shape)"
      ],
      "execution_count": null,
      "outputs": [
        {
          "output_type": "stream",
          "text": [
            "(21444, 200, 1) (85780, 200, 1)\n"
          ],
          "name": "stdout"
        }
      ]
    },
    {
      "cell_type": "code",
      "metadata": {
        "id": "N-KoBq0aowv5"
      },
      "source": [
        "from sklearn.utils import shuffle\n",
        "x_train , y_train = shuffle(x_train,y_train , random_state=42)\n",
        "x_test , y_test = shuffle(x_test,y_test , random_state=42)"
      ],
      "execution_count": null,
      "outputs": []
    },
    {
      "cell_type": "code",
      "metadata": {
        "colab": {
          "base_uri": "https://localhost:8080/"
        },
        "id": "tS3hXV7lsItj",
        "outputId": "108e6da7-12cc-4fe1-fa22-bc6f04b28632"
      },
      "source": [
        "for i in range(len(x_train)):\n",
        "    z = x_train[i,:]\n",
        "    z = (z-np.mean(z))/(np.std(z)+1e-30)\n",
        "    x_train[i,:] = z\n",
        "\n",
        "for i in range(len(x_test)):\n",
        "    z = x_test[i,:]\n",
        "    z = (z-np.mean(z))/(np.std(z)+1e-30)\n",
        "    x_test[i,:] = z\n",
        "\n",
        "print(x_test[0].std() , x_train[0].std())"
      ],
      "execution_count": null,
      "outputs": [
        {
          "output_type": "stream",
          "text": [
            "1.0 1.0\n"
          ],
          "name": "stdout"
        }
      ]
    },
    {
      "cell_type": "code",
      "metadata": {
        "id": "RDPmFsRY5Bih"
      },
      "source": [
        "m = Sequential()\n",
        "m.add(GaussianNoise(0.1))\n",
        "m.add(Conv1D(16,\n",
        "                input_shape=[200, 1],\n",
        "                kernel_size=80,\n",
        "                strides=2,\n",
        "                padding='same',\n",
        "                kernel_initializer='glorot_uniform',\n",
        "                kernel_regularizer=regularizers.l2(l=0.0001)))\n",
        "m.add(BatchNormalization())\n",
        "m.add(Activation('relu'))\n",
        "m.add(MaxPooling1D(pool_size=2, strides=None))\n",
        "\n",
        "m.add(Conv1D(32,\n",
        "                kernel_size=3,\n",
        "                strides=1,\n",
        "                padding='same',\n",
        "                kernel_initializer='glorot_uniform',\n",
        "                kernel_regularizer=regularizers.l2(l=0.0001)))\n",
        "m.add(BatchNormalization())\n",
        "m.add(Activation('relu'))\n",
        "m.add(MaxPooling1D(pool_size=2, strides=None))\n",
        "\n",
        "m.add(Conv1D(64,\n",
        "                kernel_size=3,\n",
        "                strides=1,\n",
        "                padding='same',\n",
        "                kernel_initializer='glorot_uniform',\n",
        "                kernel_regularizer=regularizers.l2(l=0.0001)))\n",
        "m.add(BatchNormalization())\n",
        "m.add(Activation('relu'))\n",
        "m.add(MaxPooling1D(pool_size=2, strides=None))\n",
        "\n",
        "m.add(Conv1D(96,\n",
        "                kernel_size=3,\n",
        "                strides=1,\n",
        "                padding='same',\n",
        "                kernel_initializer='glorot_uniform',\n",
        "                kernel_regularizer=regularizers.l2(l=0.0001)))\n",
        "m.add(BatchNormalization())\n",
        "m.add(Activation('relu'))\n",
        "m.add(MaxPooling1D(pool_size=2, strides=None))\n",
        "\n",
        "m.add(Conv1D(96*2,\n",
        "                kernel_size=3,\n",
        "                strides=1,\n",
        "                padding='same',\n",
        "                kernel_initializer='glorot_uniform',\n",
        "                kernel_regularizer=regularizers.l2(l=0.0001)))\n",
        "m.add(BatchNormalization())\n",
        "m.add(Activation('relu'))\n",
        "m.add(MaxPooling1D(pool_size=2, strides=None))\n",
        "\n",
        "m.add(Lambda(lambda x: K.mean(x, axis=1)))  # Same as GAP for 1D Conv Layer\n",
        "# m.add(Flatten())\n",
        "# m.add(Dropout(0.5))\n",
        "# m.add(Dense(16, activation='relu'))\n",
        "\n",
        "m.add(Dropout(0.5))\n",
        "m.add(Dense(4, activation='softmax'))"
      ],
      "execution_count": null,
      "outputs": []
    },
    {
      "cell_type": "code",
      "metadata": {
        "id": "6w7bq1-oMapb"
      },
      "source": [
        "m.build(input_shape=(None, 200, 1))"
      ],
      "execution_count": null,
      "outputs": []
    },
    {
      "cell_type": "code",
      "metadata": {
        "colab": {
          "base_uri": "https://localhost:8080/"
        },
        "id": "Fie9PHhLMhNF",
        "outputId": "a1ff3d12-a1e9-48bf-c1a9-7bad8b98beb8"
      },
      "source": [
        "m.summary()"
      ],
      "execution_count": null,
      "outputs": [
        {
          "output_type": "stream",
          "text": [
            "Model: \"sequential_1\"\n",
            "_________________________________________________________________\n",
            "Layer (type)                 Output Shape              Param #   \n",
            "=================================================================\n",
            "gaussian_noise_1 (GaussianNo (None, 200, 1)            0         \n",
            "_________________________________________________________________\n",
            "conv1d_5 (Conv1D)            (None, 100, 16)           1296      \n",
            "_________________________________________________________________\n",
            "batch_normalization_5 (Batch (None, 100, 16)           64        \n",
            "_________________________________________________________________\n",
            "activation_5 (Activation)    (None, 100, 16)           0         \n",
            "_________________________________________________________________\n",
            "max_pooling1d_5 (MaxPooling1 (None, 50, 16)            0         \n",
            "_________________________________________________________________\n",
            "conv1d_6 (Conv1D)            (None, 50, 32)            1568      \n",
            "_________________________________________________________________\n",
            "batch_normalization_6 (Batch (None, 50, 32)            128       \n",
            "_________________________________________________________________\n",
            "activation_6 (Activation)    (None, 50, 32)            0         \n",
            "_________________________________________________________________\n",
            "max_pooling1d_6 (MaxPooling1 (None, 25, 32)            0         \n",
            "_________________________________________________________________\n",
            "conv1d_7 (Conv1D)            (None, 25, 64)            6208      \n",
            "_________________________________________________________________\n",
            "batch_normalization_7 (Batch (None, 25, 64)            256       \n",
            "_________________________________________________________________\n",
            "activation_7 (Activation)    (None, 25, 64)            0         \n",
            "_________________________________________________________________\n",
            "max_pooling1d_7 (MaxPooling1 (None, 12, 64)            0         \n",
            "_________________________________________________________________\n",
            "conv1d_8 (Conv1D)            (None, 12, 96)            18528     \n",
            "_________________________________________________________________\n",
            "batch_normalization_8 (Batch (None, 12, 96)            384       \n",
            "_________________________________________________________________\n",
            "activation_8 (Activation)    (None, 12, 96)            0         \n",
            "_________________________________________________________________\n",
            "max_pooling1d_8 (MaxPooling1 (None, 6, 96)             0         \n",
            "_________________________________________________________________\n",
            "conv1d_9 (Conv1D)            (None, 6, 192)            55488     \n",
            "_________________________________________________________________\n",
            "batch_normalization_9 (Batch (None, 6, 192)            768       \n",
            "_________________________________________________________________\n",
            "activation_9 (Activation)    (None, 6, 192)            0         \n",
            "_________________________________________________________________\n",
            "max_pooling1d_9 (MaxPooling1 (None, 3, 192)            0         \n",
            "_________________________________________________________________\n",
            "lambda_1 (Lambda)            (None, 192)               0         \n",
            "_________________________________________________________________\n",
            "dropout_1 (Dropout)          (None, 192)               0         \n",
            "_________________________________________________________________\n",
            "dense_1 (Dense)              (None, 4)                 772       \n",
            "=================================================================\n",
            "Total params: 85,460\n",
            "Trainable params: 84,660\n",
            "Non-trainable params: 800\n",
            "_________________________________________________________________\n"
          ],
          "name": "stdout"
        }
      ]
    },
    {
      "cell_type": "code",
      "metadata": {
        "id": "T9VCdu9JMjba"
      },
      "source": [
        "m.compile(optimizer=Adam(learning_rate=1e-4),\n",
        "                loss='categorical_crossentropy',\n",
        "                metrics=['accuracy'])"
      ],
      "execution_count": null,
      "outputs": []
    },
    {
      "cell_type": "code",
      "metadata": {
        "colab": {
          "base_uri": "https://localhost:8080/"
        },
        "id": "jQS8yWJrMnTt",
        "outputId": "a30fc524-d17b-4498-d421-0385be22a81f"
      },
      "source": [
        "batch_size = 64\n",
        "\n",
        "m.fit(x=x_train,\n",
        "        y=y_train,\n",
        "        batch_size=batch_size,\n",
        "        epochs=5,\n",
        "        verbose=1,\n",
        "        validation_split = 0.1,\n",
        ")"
      ],
      "execution_count": null,
      "outputs": [
        {
          "output_type": "stream",
          "text": [
            "Epoch 1/5\n",
            "1207/1207 [==============================] - 48s 38ms/step - loss: 0.0245 - accuracy: 0.9975 - val_loss: 0.0298 - val_accuracy: 0.9963\n",
            "Epoch 2/5\n",
            "1207/1207 [==============================] - 47s 39ms/step - loss: 0.0215 - accuracy: 0.9982 - val_loss: 0.0309 - val_accuracy: 0.9962\n",
            "Epoch 3/5\n",
            "1207/1207 [==============================] - 46s 38ms/step - loss: 0.0203 - accuracy: 0.9986 - val_loss: 0.0305 - val_accuracy: 0.9959\n",
            "Epoch 4/5\n",
            "1207/1207 [==============================] - 46s 38ms/step - loss: 0.0192 - accuracy: 0.9987 - val_loss: 0.0300 - val_accuracy: 0.9963\n",
            "Epoch 5/5\n",
            "1207/1207 [==============================] - 46s 38ms/step - loss: 0.0175 - accuracy: 0.9991 - val_loss: 0.0293 - val_accuracy: 0.9960\n"
          ],
          "name": "stdout"
        },
        {
          "output_type": "execute_result",
          "data": {
            "text/plain": [
              "<tensorflow.python.keras.callbacks.History at 0x7f5a19b198d0>"
            ]
          },
          "metadata": {
            "tags": []
          },
          "execution_count": 51
        }
      ]
    },
    {
      "cell_type": "code",
      "metadata": {
        "colab": {
          "base_uri": "https://localhost:8080/",
          "height": 262
        },
        "id": "pg9mwnSYfG44",
        "outputId": "0288c210-5b73-4b5a-81e2-9e8da23f4a47"
      },
      "source": [
        "pred = m.predict(x_train)\n",
        "pr = [np.argmax(pred[i]) for i in range(len(y_train))]\n",
        "Y = [np.argmax(y_train[i]) for i in range(len(y_train))]\n",
        "\n",
        "conf_plotter(Y , pr , ['afdb' , 'vfdb', 'svdb' , 'nsrdb' ] , normalize=1, cmap = plt.cm.Reds ,mode='train', save=0 , name='RawData_Deep_physionet.png')"
      ],
      "execution_count": null,
      "outputs": [
        {
          "output_type": "execute_result",
          "data": {
            "text/plain": [
              "<matplotlib.axes._subplots.AxesSubplot at 0x7f5a16cb7310>"
            ]
          },
          "metadata": {
            "tags": []
          },
          "execution_count": 52
        },
        {
          "output_type": "display_data",
          "data": {
            "image/png": "[encoded data removed]",
            "text/plain": [
              "<Figure size 288x288 with 2 Axes>"
            ]
          },
          "metadata": {
            "tags": [],
            "needs_background": "light"
          }
        }
      ]
    },
    {
      "cell_type": "code",
      "metadata": {
        "colab": {
          "base_uri": "https://localhost:8080/",
          "height": 324
        },
        "id": "JhjoZGszwAa6",
        "outputId": "c0b5cc80-9f3a-4eba-be41-d9746984e6fd"
      },
      "source": [
        "# pred = m.predict(x_test)\n",
        "# pr = [np.argmax(pred[i]) for i in range(len(y_test))]\n",
        "# Y = [np.argmax(y_test[i]) for i in range(len(y_test))]\n",
        "\n",
        "conf_plotter(Y , pr , ['afdb' , 'vfdb' , 'svdb' , 'nsrdb'] , normalize=1, cmap = plt.cm.BuGn ,mode='test', save=1 , name='MIT_AF.VF.SV.NSR.png')"
      ],
      "execution_count": null,
      "outputs": [
        {
          "output_type": "execute_result",
          "data": {
            "text/plain": [
              "<matplotlib.axes._subplots.AxesSubplot at 0x7f5a15360ad0>"
            ]
          },
          "metadata": {
            "tags": []
          },
          "execution_count": 63
        },
        {
          "output_type": "display_data",
          "data": {
            "image/png": "[encoded data removed]",
            "text/plain": [
              "<Figure size 360x360 with 2 Axes>"
            ]
          },
          "metadata": {
            "tags": [],
            "needs_background": "light"
          }
        }
      ]
    },
    {
      "cell_type": "code",
      "metadata": {
        "colab": {
          "base_uri": "https://localhost:8080/"
        },
        "id": "2olNfgynNNZZ",
        "outputId": "211e5d2f-e403-4638-d814-4abe5abbc232"
      },
      "source": [
        "from sklearn.metrics import classification_report\n",
        "print(classification_report(Y ,pr , target_names=['afdb' , 'vfdb' , 'svdb' , 'nsrdb'] ))"
      ],
      "execution_count": null,
      "outputs": [
        {
          "output_type": "stream",
          "text": [
            "              precision    recall  f1-score   support\n",
            "\n",
            "        afdb       0.97      0.94      0.96       672\n",
            "        vfdb       0.90      0.99      0.94       386\n",
            "        svdb       1.00      0.99      0.99      5050\n",
            "       nsrdb       1.00      1.00      1.00     15336\n",
            "\n",
            "    accuracy                           1.00     21444\n",
            "   macro avg       0.97      0.98      0.97     21444\n",
            "weighted avg       1.00      1.00      1.00     21444\n",
            "\n"
          ],
          "name": "stdout"
        }
      ]
    },
    {
      "cell_type": "code",
      "metadata": {
        "colab": {
          "base_uri": "https://localhost:8080/"
        },
        "id": "IS8qXwWv1fHC",
        "outputId": "9f688f4b-8aa3-43ca-e45e-5b70d2fc52bd"
      },
      "source": [
        "# serialize model to JSON\n",
        "model_json = m.to_json()\n",
        "with open(\"model_mit4cls.json\", \"w\") as json_file:\n",
        "    json_file.write(model_json)\n",
        "# serialize weights to HDF5\n",
        "m.save_weights(\"model_mit4cls.h5\")\n",
        "print(\"Saved model to disk\")"
      ],
      "execution_count": null,
      "outputs": [
        {
          "output_type": "stream",
          "text": [
            "Saved model to disk\n"
          ],
          "name": "stdout"
        }
      ]
    },
    {
      "cell_type": "code",
      "metadata": {
        "id": "VjR74vnw1mXg"
      },
      "source": [
        "# # load json and create model\n",
        "# json_file = open('model.json', 'r')\n",
        "# loaded_model_json = json_file.read()\n",
        "# json_file.close()\n",
        "# loaded_model = model_from_json(loaded_model_json)\n",
        "# # load weights into new model\n",
        "# loaded_model.load_weights(\"model.h5\")\n",
        "# print(\"Loaded model from disk\")"
      ],
      "execution_count": null,
      "outputs": []
    },
    {
      "cell_type": "code",
      "metadata": {
        "id": "88WRNGnOMqNF"
      },
      "source": [
        "def conf_plotter(y_true, y_pred, classes,\n",
        "                normalize=0,\n",
        "                title=None,\n",
        "                cmap=plt.cm.pink_r,\n",
        "                mode = 'train',\n",
        "                save = 0,\n",
        "                name = 'conf.jpg'):\n",
        "  # if not title:\n",
        "  #     if mode == 'train':\n",
        "  #         title = 'Normalized confusion matrix on train dataset'\n",
        "  #     if mode == 'test':\n",
        "  #         title = 'Normalized confusion matrix on test dataset'\n",
        "  #     if mode == 'prob':\n",
        "  #         title = 'Normalized confusion matrix on Non-Overlapping test dataset'\n",
        "          \n",
        "\n",
        "  from sklearn.metrics import confusion_matrix\n",
        "  \n",
        "  cm = confusion_matrix(y_true, y_pred)\n",
        "\n",
        "  if normalize:\n",
        "      cm = cm.astype('float') / cm.sum(axis=1)[:, np.newaxis]\n",
        "\n",
        "\n",
        "  fig, ax = plt.subplots(figsize=(5,5))\n",
        "  im = ax.imshow(cm, interpolation='nearest', cmap=cmap)\n",
        "  ax.figure.colorbar(im, ax=ax ,fraction=0.046, pad=0.04)\n",
        "  ax.set(xticks=np.arange(cm.shape[0]),\n",
        "        yticks=np.arange(cm.shape[1]),\n",
        "        xticklabels=classes, yticklabels=classes,\n",
        "        title=title,\n",
        "        ylabel= 'True label',\n",
        "        xlabel='Predicted label')\n",
        "  \n",
        "  for item in ([ax.title, ax.xaxis.label, ax.yaxis.label] ):\n",
        "                  \n",
        "      item.set_fontsize(10)\n",
        "  \n",
        "  for item in (ax.get_xticklabels() + ax.get_yticklabels()):\n",
        "      \n",
        "      item.set_fontsize(10)\n",
        "\n",
        "      \n",
        "              \n",
        "  plt.gca().invert_yaxis()\n",
        "  plt.setp(ax.get_xticklabels(), rotation=0, ha=\"right\",\n",
        "          rotation_mode=\"anchor\")\n",
        "\n",
        "  fmt = '.2f' if normalize else 'd'\n",
        "  thresh = cm.max() / 2.\n",
        "  for i in range(cm.shape[0]):\n",
        "      for j in range(cm.shape[1]):\n",
        "          ax.text(j, i, format(cm[i, j], fmt),\n",
        "                  ha=\"center\", va=\"center\",\n",
        "                  color=\"white\" if cm[i, j] > thresh else \"black\")\n",
        "  fig.tight_layout()\n",
        "  if save == 1:\n",
        "      plt.savefig(name)\n",
        "  return ax"
      ],
      "execution_count": null,
      "outputs": []
    },
    {
      "cell_type": "code",
      "metadata": {
        "id": "3HRrPrGKFCUB"
      },
      "source": [
        ""
      ],
      "execution_count": null,
      "outputs": []
    }
  ]
}