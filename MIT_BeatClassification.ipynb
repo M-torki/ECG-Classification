{
  "nbformat": 4,
  "nbformat_minor": 0,
  "metadata": {
    "colab": {
      "name": "MIT_BeatClassification.ipynb",
      "provenance": [],
      "collapsed_sections": [],
      "include_colab_link": true
    },
    "kernelspec": {
      "display_name": "Python 3",
      "name": "python3"
    },
    "language_info": {
      "name": "python"
    }
  },
  "cells": [
    {
      "cell_type": "markdown",
      "metadata": {
        "id": "view-in-github",
        "colab_type": "text"
      },
      "source": [
        "<a href=\"https://colab.research.google.com/github/M-torki/ECG-Classification/blob/main/MIT_BeatClassification.ipynb\" target=\"_parent\"><img src=\"https://colab.research.google.com/assets/colab-badge.svg\" alt=\"Open In Colab\"/></a>"
      ]
    },
    {
      "cell_type": "code",
      "metadata": {
        "colab": {
          "base_uri": "https://localhost:8080/"
        },
        "id": "FbySwp4_VbdE",
        "outputId": "79df7b20-0c96-4867-8d5c-d5f64cb836a2"
      },
      "source": [
        "from google.colab import drive\n",
        "drive.mount('/gdrive')"
      ],
      "execution_count": null,
      "outputs": [
        {
          "output_type": "stream",
          "text": [
            "Mounted at /gdrive\n"
          ],
          "name": "stdout"
        }
      ]
    },
    {
      "cell_type": "code",
      "metadata": {
        "colab": {
          "base_uri": "https://localhost:8080/"
        },
        "id": "paaKTpplKWTf",
        "outputId": "f732b17d-bdc4-49bb-8457-ec67df87afc7"
      },
      "source": [
        "cd /gdrive/MyDrive/"
      ],
      "execution_count": null,
      "outputs": [
        {
          "output_type": "stream",
          "text": [
            "/gdrive/MyDrive\n"
          ],
          "name": "stdout"
        }
      ]
    },
    {
      "cell_type": "code",
      "metadata": {
        "colab": {
          "base_uri": "https://localhost:8080/"
        },
        "id": "C8y_Vk76KzZT",
        "outputId": "7085b2c0-620c-46e9-f295-5be51cd819f9"
      },
      "source": [
        "cd physionet.org/files/"
      ],
      "execution_count": null,
      "outputs": [
        {
          "output_type": "stream",
          "text": [
            "/gdrive/.shortcut-targets-by-id/1Dr_lJtA5qEPKpVXRR04tuNmbeg4_tw9U/physionet.org/files\n"
          ],
          "name": "stdout"
        }
      ]
    },
    {
      "cell_type": "code",
      "metadata": {
        "colab": {
          "base_uri": "https://localhost:8080/"
        },
        "id": "T-nGu8iHAx09",
        "outputId": "7f688772-8d39-4297-c9a0-c53d1b2b7c1e"
      },
      "source": [
        "ls"
      ],
      "execution_count": null,
      "outputs": [
        {
          "output_type": "stream",
          "text": [
            "\u001b[0m\u001b[01;34mafdb\u001b[0m/  \u001b[01;34mnsrdb\u001b[0m/  \u001b[01;34mptbdb\u001b[0m/  \u001b[01;34msvdb\u001b[0m/  \u001b[01;34mtest\u001b[0m/  \u001b[01;34mtrain\u001b[0m/  \u001b[01;34mvfdb\u001b[0m/\n"
          ],
          "name": "stdout"
        }
      ]
    },
    {
      "cell_type": "code",
      "metadata": {
        "id": "DNuw0CtZLJO-"
      },
      "source": [
        "import os\n",
        "import numpy as np\n",
        "import pandas as pd\n",
        "import pickle\n",
        "import matplotlib.pyplot as plt\n",
        "%matplotlib inline\n",
        "import scipy\n",
        "import shutil\n",
        "from IPython.display import display \n",
        "import keras\n",
        "from keras import optimizers, losses, activations, models\n",
        "from keras.layers import Dense, BatchNormalization, Input, Activation, Dropout, Convolution1D, Conv1D, MaxPool1D , MaxPooling1D, GlobalMaxPool1D, GlobalAveragePooling1D, concatenate, MaxPool2D\n",
        "from keras.preprocessing import image\n",
        "from keras.preprocessing.image import ImageDataGenerator\n",
        "from keras.models import Sequential\n",
        "from keras.layers import Dense, Dropout, Flatten, Conv2D, MaxPooling2D , Lambda, GaussianNoise\n",
        "from keras.utils.np_utils import to_categorical\n",
        "from keras.optimizers import Adam , Adadelta , Adagrad , SGD , RMSprop\n",
        "from keras import regularizers\n",
        "import keras.backend as K\n",
        "from random import choice,shuffle\n",
        "import glob"
      ],
      "execution_count": null,
      "outputs": []
    },
    {
      "cell_type": "code",
      "metadata": {
        "id": "2j4jsBO2j_2n"
      },
      "source": [
        "af = np.loadtxt('./afdb/1.0.0/bit_afdb_2.txt')"
      ],
      "execution_count": null,
      "outputs": []
    },
    {
      "cell_type": "code",
      "metadata": {
        "colab": {
          "base_uri": "https://localhost:8080/"
        },
        "id": "VoEMzul8F277",
        "outputId": "a2ba7278-64be-4a12-85ac-abdbec0bffe4"
      },
      "source": [
        "af.shape"
      ],
      "execution_count": null,
      "outputs": [
        {
          "output_type": "execute_result",
          "data": {
            "text/plain": [
              "(2653, 200)"
            ]
          },
          "metadata": {
            "tags": []
          },
          "execution_count": 31
        }
      ]
    },
    {
      "cell_type": "code",
      "metadata": {
        "colab": {
          "base_uri": "https://localhost:8080/"
        },
        "id": "vLQp9aFSErvP",
        "outputId": "ffbdc8bc-4efd-4d44-8993-03ebf959434e"
      },
      "source": [
        "vf = np.loadtxt('./vfdb/1.0.0/bit_vfdb.txt')\n",
        "vf.shape"
      ],
      "execution_count": null,
      "outputs": [
        {
          "output_type": "execute_result",
          "data": {
            "text/plain": [
              "(2377, 200)"
            ]
          },
          "metadata": {
            "tags": []
          },
          "execution_count": 35
        }
      ]
    },
    {
      "cell_type": "code",
      "metadata": {
        "id": "Mef94zZcl__Q"
      },
      "source": [
        "nsr = np.loadtxt('./nsrdb/1.0.0/bit_nsrdb_1.txt')"
      ],
      "execution_count": null,
      "outputs": []
    },
    {
      "cell_type": "code",
      "metadata": {
        "colab": {
          "base_uri": "https://localhost:8080/"
        },
        "id": "rCHiYxCKmUef",
        "outputId": "27f0f0aa-65fe-49e2-fe02-fa79e0f3178d"
      },
      "source": [
        "nsr.shape"
      ],
      "execution_count": null,
      "outputs": [
        {
          "output_type": "execute_result",
          "data": {
            "text/plain": [
              "(76680, 200)"
            ]
          },
          "metadata": {
            "tags": []
          },
          "execution_count": 38
        }
      ]
    },
    {
      "cell_type": "code",
      "metadata": {
        "colab": {
          "base_uri": "https://localhost:8080/",
          "height": 284
        },
        "id": "hCUDuhC_c1GF",
        "outputId": "abcb24b5-f5b9-4e40-b10c-8739cbecf876"
      },
      "source": [
        "plt.plot(vf[0,:])"
      ],
      "execution_count": null,
      "outputs": [
        {
          "output_type": "execute_result",
          "data": {
            "text/plain": [
              "[<matplotlib.lines.Line2D at 0x7fd1fa962510>]"
            ]
          },
          "metadata": {
            "tags": []
          },
          "execution_count": 19
        },
        {
          "output_type": "display_data",
          "data": {
            "image/png": "[encoded data removed]",
            "text/plain": [
              "<Figure size 432x288 with 1 Axes>"
            ]
          },
          "metadata": {
            "tags": []
          }
        }
      ]
    },
    {
      "cell_type": "code",
      "metadata": {
        "colab": {
          "base_uri": "https://localhost:8080/",
          "height": 284
        },
        "id": "gu6AiJxyYJPJ",
        "outputId": "946f8198-bdca-4ba6-c245-8bdc9d9c132c"
      },
      "source": [
        "plt.plot(af[1000,:])"
      ],
      "execution_count": null,
      "outputs": [
        {
          "output_type": "execute_result",
          "data": {
            "text/plain": [
              "[<matplotlib.lines.Line2D at 0x7fd1ffd4d410>]"
            ]
          },
          "metadata": {
            "tags": []
          },
          "execution_count": 32
        },
        {
          "output_type": "display_data",
          "data": {
            "image/png": "[encoded data removed]",
            "text/plain": [
              "<Figure size 432x288 with 1 Axes>"
            ]
          },
          "metadata": {
            "tags": []
          }
        }
      ]
    },
    {
      "cell_type": "code",
      "metadata": {
        "colab": {
          "base_uri": "https://localhost:8080/",
          "height": 284
        },
        "id": "nPjsaR_We_7y",
        "outputId": "b1f31f9e-19b5-4315-85a3-3549bdd9f5cd"
      },
      "source": [
        "plt.plot(nsr[1000,:])"
      ],
      "execution_count": null,
      "outputs": [
        {
          "output_type": "execute_result",
          "data": {
            "text/plain": [
              "[<matplotlib.lines.Line2D at 0x7fd1ede15450>]"
            ]
          },
          "metadata": {
            "tags": []
          },
          "execution_count": 40
        },
        {
          "output_type": "display_data",
          "data": {
            "image/png": "[encoded data removed]",
            "text/plain": [
              "<Figure size 432x288 with 1 Axes>"
            ]
          },
          "metadata": {
            "tags": []
          }
        }
      ]
    },
    {
      "cell_type": "code",
      "metadata": {
        "colab": {
          "base_uri": "https://localhost:8080/"
        },
        "id": "0qo4xcYRfI25",
        "outputId": "81adac00-f050-4885-f52c-a2378296dcbf"
      },
      "source": [
        "x_test = np.concatenate((af[:len(af)//5] , vf[:len(vf)//5] , nsr[:len(nsr)//5]) , axis=0)\n",
        "x_test.shape"
      ],
      "execution_count": null,
      "outputs": [
        {
          "output_type": "execute_result",
          "data": {
            "text/plain": [
              "(16341, 200)"
            ]
          },
          "metadata": {
            "tags": []
          },
          "execution_count": 41
        }
      ]
    },
    {
      "cell_type": "code",
      "metadata": {
        "colab": {
          "base_uri": "https://localhost:8080/"
        },
        "id": "he6Lk0NMImIK",
        "outputId": "94916dc8-9e94-49f8-f517-3b3d13b76af5"
      },
      "source": [
        "x_train = np.concatenate((af[len(af)//5:] , vf[len(vf)//5:] , nsr[len(nsr)//5:]) , axis=0)\n",
        "x_train.shape"
      ],
      "execution_count": null,
      "outputs": [
        {
          "output_type": "execute_result",
          "data": {
            "text/plain": [
              "(65369, 200)"
            ]
          },
          "metadata": {
            "tags": []
          },
          "execution_count": 42
        }
      ]
    },
    {
      "cell_type": "code",
      "metadata": {
        "colab": {
          "base_uri": "https://localhost:8080/"
        },
        "id": "KdrCzI6edlB8",
        "outputId": "5eeaa205-f313-482e-86f1-e360e2896716"
      },
      "source": [
        "y_test = []\n",
        "for i in range(len(af)//5):\n",
        "    y_test.append([1,0,0])\n",
        "for i in range(len(vf)//5):\n",
        "    y_test.append([0,1,0])\n",
        "for i in range(len(nsr)//5):\n",
        "    y_test.append([0,0,1])\n",
        "y_test = np.array(y_test)\n",
        "y_test.shape"
      ],
      "execution_count": null,
      "outputs": [
        {
          "output_type": "execute_result",
          "data": {
            "text/plain": [
              "(16341, 3)"
            ]
          },
          "metadata": {
            "tags": []
          },
          "execution_count": 43
        }
      ]
    },
    {
      "cell_type": "code",
      "metadata": {
        "colab": {
          "base_uri": "https://localhost:8080/"
        },
        "id": "I7Ipv62LgC_Z",
        "outputId": "5ea2db80-f594-4cf5-e9f8-37f490b3512f"
      },
      "source": [
        "y_train = []\n",
        "for i in range(len(af)//5 , len(af)):\n",
        "    y_train.append([1,0,0])\n",
        "for i in range(len(vf)//5 , len(vf)):\n",
        "    y_train.append([0,1,0])\n",
        "for i in range(len(nsr)//5 , len(nsr)):\n",
        "    y_train.append([0,0,1])\n",
        "y_train = np.array(y_train)\n",
        "y_train.shape"
      ],
      "execution_count": null,
      "outputs": [
        {
          "output_type": "execute_result",
          "data": {
            "text/plain": [
              "(65369, 3)"
            ]
          },
          "metadata": {
            "tags": []
          },
          "execution_count": 46
        }
      ]
    },
    {
      "cell_type": "code",
      "metadata": {
        "colab": {
          "base_uri": "https://localhost:8080/"
        },
        "id": "aB7QUMC8U7cS",
        "outputId": "469a92ca-fad0-4a7e-d4c9-7b0ca9b01a96"
      },
      "source": [
        "x_test = np.expand_dims(x_test , -1)\n",
        "x_train = np.expand_dims(x_train , -1)\n",
        "\n",
        "print(x_test.shape , x_train.shape)"
      ],
      "execution_count": null,
      "outputs": [
        {
          "output_type": "stream",
          "text": [
            "(16341, 200, 1) (65369, 200, 1)\n"
          ],
          "name": "stdout"
        }
      ]
    },
    {
      "cell_type": "code",
      "metadata": {
        "colab": {
          "background_save": true
        },
        "id": "qLTTgjpcyQlj"
      },
      "source": [
        "y = []\n",
        "for i in range(len(af)):\n",
        "    y.append([0,1])\n",
        "for i in range(len(vf)):\n",
        "    y.append([0,1])\n",
        "for i in range(len(nsr)):\n",
        "    y.append([1,0])\n",
        "y = np.array(y)\n",
        "y.shape"
      ],
      "execution_count": null,
      "outputs": []
    },
    {
      "cell_type": "code",
      "metadata": {
        "colab": {
          "background_save": true
        },
        "id": "N-KoBq0aowv5"
      },
      "source": [
        "from sklearn.utils import shuffle\n",
        "x , y = shuffle(x,y , random_state=42)"
      ],
      "execution_count": null,
      "outputs": []
    },
    {
      "cell_type": "code",
      "metadata": {
        "colab": {
          "base_uri": "https://localhost:8080/"
        },
        "id": "tS3hXV7lsItj",
        "outputId": "c22dd3d5-5b2d-4e98-ef3c-99ee1d211e98"
      },
      "source": [
        "for i in range(len(x)):\n",
        "    z = x[i,:]\n",
        "    z = (z-np.mean(z))/(np.std(z)+1e-30)\n",
        "    x[i,:] = z\n",
        "print(x[0].std())"
      ],
      "execution_count": null,
      "outputs": [
        {
          "output_type": "stream",
          "text": [
            "1.0\n"
          ],
          "name": "stdout"
        }
      ]
    },
    {
      "cell_type": "code",
      "metadata": {
        "id": "-bUwfzpdIlyY"
      },
      "source": [
        "from sklearn.model_selection import train_test_split\n",
        "\n",
        "x_train, x_test, y_train, y_test = train_test_split(x, y, test_size=0.2, random_state=42)"
      ],
      "execution_count": null,
      "outputs": []
    },
    {
      "cell_type": "code",
      "metadata": {
        "id": "RDPmFsRY5Bih"
      },
      "source": [
        "m = Sequential()\n",
        "m.add(GaussianNoise(0.1))\n",
        "m.add(Conv1D(16,\n",
        "                input_shape=[200, 1],\n",
        "                kernel_size=80,\n",
        "                strides=2,\n",
        "                padding='same',\n",
        "                kernel_initializer='glorot_uniform',\n",
        "                kernel_regularizer=regularizers.l2(l=0.0001)))\n",
        "m.add(BatchNormalization())\n",
        "m.add(Activation('relu'))\n",
        "m.add(MaxPooling1D(pool_size=2, strides=None))\n",
        "\n",
        "m.add(Conv1D(32,\n",
        "                kernel_size=3,\n",
        "                strides=1,\n",
        "                padding='same',\n",
        "                kernel_initializer='glorot_uniform',\n",
        "                kernel_regularizer=regularizers.l2(l=0.0001)))\n",
        "m.add(BatchNormalization())\n",
        "m.add(Activation('relu'))\n",
        "m.add(MaxPooling1D(pool_size=2, strides=None))\n",
        "\n",
        "m.add(Conv1D(64,\n",
        "                kernel_size=3,\n",
        "                strides=1,\n",
        "                padding='same',\n",
        "                kernel_initializer='glorot_uniform',\n",
        "                kernel_regularizer=regularizers.l2(l=0.0001)))\n",
        "m.add(BatchNormalization())\n",
        "m.add(Activation('relu'))\n",
        "m.add(MaxPooling1D(pool_size=2, strides=None))\n",
        "\n",
        "m.add(Conv1D(96,\n",
        "                kernel_size=3,\n",
        "                strides=1,\n",
        "                padding='same',\n",
        "                kernel_initializer='glorot_uniform',\n",
        "                kernel_regularizer=regularizers.l2(l=0.0001)))\n",
        "m.add(BatchNormalization())\n",
        "m.add(Activation('relu'))\n",
        "m.add(MaxPooling1D(pool_size=2, strides=None))\n",
        "\n",
        "m.add(Conv1D(96*2,\n",
        "                kernel_size=3,\n",
        "                strides=1,\n",
        "                padding='same',\n",
        "                kernel_initializer='glorot_uniform',\n",
        "                kernel_regularizer=regularizers.l2(l=0.0001)))\n",
        "m.add(BatchNormalization())\n",
        "m.add(Activation('relu'))\n",
        "m.add(MaxPooling1D(pool_size=2, strides=None))\n",
        "\n",
        "m.add(Lambda(lambda x: K.mean(x, axis=1)))  # Same as GAP for 1D Conv Layer\n",
        "# m.add(Flatten())\n",
        "# m.add(Dropout(0.5))\n",
        "# m.add(Dense(16, activation='relu'))\n",
        "\n",
        "m.add(Dropout(0.5))\n",
        "m.add(Dense(2, activation='sigmoid'))"
      ],
      "execution_count": null,
      "outputs": []
    },
    {
      "cell_type": "code",
      "metadata": {
        "id": "6w7bq1-oMapb"
      },
      "source": [
        "m.build(input_shape=(None, 200, 1))"
      ],
      "execution_count": null,
      "outputs": []
    },
    {
      "cell_type": "code",
      "metadata": {
        "colab": {
          "base_uri": "https://localhost:8080/"
        },
        "id": "Fie9PHhLMhNF",
        "outputId": "b1cc1e11-dc6f-4e02-ad8a-86e13d75bb63"
      },
      "source": [
        "m.summary()"
      ],
      "execution_count": null,
      "outputs": [
        {
          "output_type": "stream",
          "text": [
            "Model: \"sequential_2\"\n",
            "_________________________________________________________________\n",
            "Layer (type)                 Output Shape              Param #   \n",
            "=================================================================\n",
            "gaussian_noise_2 (GaussianNo (None, 200, 1)            0         \n",
            "_________________________________________________________________\n",
            "conv1d_10 (Conv1D)           (None, 100, 16)           1296      \n",
            "_________________________________________________________________\n",
            "batch_normalization_10 (Batc (None, 100, 16)           64        \n",
            "_________________________________________________________________\n",
            "activation_10 (Activation)   (None, 100, 16)           0         \n",
            "_________________________________________________________________\n",
            "max_pooling1d_10 (MaxPooling (None, 50, 16)            0         \n",
            "_________________________________________________________________\n",
            "conv1d_11 (Conv1D)           (None, 50, 32)            1568      \n",
            "_________________________________________________________________\n",
            "batch_normalization_11 (Batc (None, 50, 32)            128       \n",
            "_________________________________________________________________\n",
            "activation_11 (Activation)   (None, 50, 32)            0         \n",
            "_________________________________________________________________\n",
            "max_pooling1d_11 (MaxPooling (None, 25, 32)            0         \n",
            "_________________________________________________________________\n",
            "conv1d_12 (Conv1D)           (None, 25, 64)            6208      \n",
            "_________________________________________________________________\n",
            "batch_normalization_12 (Batc (None, 25, 64)            256       \n",
            "_________________________________________________________________\n",
            "activation_12 (Activation)   (None, 25, 64)            0         \n",
            "_________________________________________________________________\n",
            "max_pooling1d_12 (MaxPooling (None, 12, 64)            0         \n",
            "_________________________________________________________________\n",
            "conv1d_13 (Conv1D)           (None, 12, 96)            18528     \n",
            "_________________________________________________________________\n",
            "batch_normalization_13 (Batc (None, 12, 96)            384       \n",
            "_________________________________________________________________\n",
            "activation_13 (Activation)   (None, 12, 96)            0         \n",
            "_________________________________________________________________\n",
            "max_pooling1d_13 (MaxPooling (None, 6, 96)             0         \n",
            "_________________________________________________________________\n",
            "conv1d_14 (Conv1D)           (None, 6, 192)            55488     \n",
            "_________________________________________________________________\n",
            "batch_normalization_14 (Batc (None, 6, 192)            768       \n",
            "_________________________________________________________________\n",
            "activation_14 (Activation)   (None, 6, 192)            0         \n",
            "_________________________________________________________________\n",
            "max_pooling1d_14 (MaxPooling (None, 3, 192)            0         \n",
            "_________________________________________________________________\n",
            "lambda_2 (Lambda)            (None, 192)               0         \n",
            "_________________________________________________________________\n",
            "dropout_2 (Dropout)          (None, 192)               0         \n",
            "_________________________________________________________________\n",
            "dense_2 (Dense)              (None, 2)                 386       \n",
            "=================================================================\n",
            "Total params: 85,074\n",
            "Trainable params: 84,274\n",
            "Non-trainable params: 800\n",
            "_________________________________________________________________\n"
          ],
          "name": "stdout"
        }
      ]
    },
    {
      "cell_type": "code",
      "metadata": {
        "colab": {
          "background_save": true
        },
        "id": "T9VCdu9JMjba"
      },
      "source": [
        "m.compile(optimizer=Adam(learning_rate=5e-4),\n",
        "                loss='binary_crossentropy',\n",
        "                metrics=['accuracy'])"
      ],
      "execution_count": null,
      "outputs": []
    },
    {
      "cell_type": "code",
      "metadata": {
        "colab": {
          "base_uri": "https://localhost:8080/"
        },
        "id": "jQS8yWJrMnTt",
        "outputId": "ae2da2cb-b618-47a5-ccd1-1b187cd9bdec"
      },
      "source": [
        "batch_size = 64\n",
        "\n",
        "m.fit(x=x_train,\n",
        "        y=y_train,\n",
        "        batch_size=batch_size,\n",
        "        epochs=1,\n",
        "        verbose=1,\n",
        "        validation_split = 0.1,\n",
        ")"
      ],
      "execution_count": null,
      "outputs": [
        {
          "output_type": "stream",
          "text": [
            "1046/1046 [==============================] - 39s 38ms/step - loss: 0.0090 - accuracy: 0.9988 - val_loss: 0.0262 - val_accuracy: 0.9942\n"
          ],
          "name": "stdout"
        },
        {
          "output_type": "execute_result",
          "data": {
            "text/plain": [
              "<tensorflow.python.keras.callbacks.History at 0x7f1878783bd0>"
            ]
          },
          "metadata": {
            "tags": []
          },
          "execution_count": 59
        }
      ]
    },
    {
      "cell_type": "code",
      "metadata": {
        "colab": {
          "base_uri": "https://localhost:8080/",
          "height": 243
        },
        "id": "x73sNP5X0aL1",
        "outputId": "e347da4f-8179-4a7c-b9ce-b72a36e7123d"
      },
      "source": [
        "pred = m.predict(x_test)\n",
        "pr = [np.argmax(pred[i]) for i in range(len(y_test))]\n",
        "Y = [np.argmax(y_test[i]) for i in range(len(y_test))]\n",
        "\n",
        "conf_plotter(Y , pr , [ 'normal' ,'arrhythmia' ] , normalize=1, cmap = plt.cm.BuGn ,mode='test', save=0 , name='RawData_Deep_physionet.png')"
      ],
      "execution_count": null,
      "outputs": [
        {
          "output_type": "execute_result",
          "data": {
            "text/plain": [
              "<matplotlib.axes._subplots.AxesSubplot at 0x7f187c7a9090>"
            ]
          },
          "metadata": {
            "tags": []
          },
          "execution_count": 60
        },
        {
          "output_type": "display_data",
          "data": {
            "image/png": "[encoded data removed]",
            "text/plain": [
              "<Figure size 288x288 with 2 Axes>"
            ]
          },
          "metadata": {
            "tags": []
          }
        }
      ]
    },
    {
      "cell_type": "code",
      "metadata": {
        "colab": {
          "base_uri": "https://localhost:8080/",
          "height": 263
        },
        "id": "pg9mwnSYfG44",
        "outputId": "a32f2bf6-4b04-4c00-81d5-4a64382bf521"
      },
      "source": [
        "pred = m.predict(x_train)\n",
        "pr = [np.argmax(pred[i]) for i in range(len(y_train))]\n",
        "Y = [np.argmax(y_train[i]) for i in range(len(y_train))]\n",
        "\n",
        "conf_plotter(Y , pr , ['afdb' , 'vfdb' , 'nsrdb' ] , normalize=1, cmap = plt.cm.Reds ,mode='train', save=0 , name='RawData_Deep_physionet.png')"
      ],
      "execution_count": null,
      "outputs": [
        {
          "output_type": "execute_result",
          "data": {
            "text/plain": [
              "<matplotlib.axes._subplots.AxesSubplot at 0x7f1881407850>"
            ]
          },
          "metadata": {
            "tags": []
          },
          "execution_count": 40
        },
        {
          "output_type": "display_data",
          "data": {
            "image/png": "[encoded data removed]",
            "text/plain": [
              "<Figure size 288x288 with 2 Axes>"
            ]
          },
          "metadata": {
            "tags": []
          }
        }
      ]
    },
    {
      "cell_type": "code",
      "metadata": {
        "colab": {
          "base_uri": "https://localhost:8080/",
          "height": 263
        },
        "id": "JhjoZGszwAa6",
        "outputId": "778fc36e-2062-4b86-aa2d-314a6b86b090"
      },
      "source": [
        "pred = m.predict(x_test)\n",
        "pr = [np.argmax(pred[i]) for i in range(len(y_test))]\n",
        "Y = [np.argmax(y_test[i]) for i in range(len(y_test))]\n",
        "\n",
        "conf_plotter(Y , pr , ['afdb' , 'vfdb' , 'nsrdb'] , normalize=1, cmap = plt.cm.BuGn ,mode='test', save=0 , name='RawData_Deep_physionet.png')"
      ],
      "execution_count": null,
      "outputs": [
        {
          "output_type": "execute_result",
          "data": {
            "text/plain": [
              "<matplotlib.axes._subplots.AxesSubplot at 0x7f187d085810>"
            ]
          },
          "metadata": {
            "tags": []
          },
          "execution_count": 41
        },
        {
          "output_type": "display_data",
          "data": {
            "image/png": "[encoded data removed]",
            "text/plain": [
              "<Figure size 288x288 with 2 Axes>"
            ]
          },
          "metadata": {
            "tags": []
          }
        }
      ]
    },
    {
      "cell_type": "code",
      "metadata": {
        "id": "IS8qXwWv1fHC"
      },
      "source": [
        "# serialize model to JSON\n",
        "model_json = model.to_json()\n",
        "with open(\"model.json\", \"w\") as json_file:\n",
        "    json_file.write(model_json)\n",
        "# serialize weights to HDF5\n",
        "model.save_weights(\"model.h5\")\n",
        "print(\"Saved model to disk\")"
      ],
      "execution_count": null,
      "outputs": []
    },
    {
      "cell_type": "code",
      "metadata": {
        "id": "VjR74vnw1mXg"
      },
      "source": [
        "# load json and create model\n",
        "json_file = open('model.json', 'r')\n",
        "loaded_model_json = json_file.read()\n",
        "json_file.close()\n",
        "loaded_model = model_from_json(loaded_model_json)\n",
        "# load weights into new model\n",
        "loaded_model.load_weights(\"model.h5\")\n",
        "print(\"Loaded model from disk\")"
      ],
      "execution_count": null,
      "outputs": []
    },
    {
      "cell_type": "code",
      "metadata": {
        "id": "88WRNGnOMqNF"
      },
      "source": [
        "def conf_plotter(y_true, y_pred, classes,\n",
        "                normalize=0,\n",
        "                title=None,\n",
        "                cmap=plt.cm.pink_r,\n",
        "                mode = 'train',\n",
        "                save = 0,\n",
        "                name = 'conf.jpg'):\n",
        "  # if not title:\n",
        "  #     if mode == 'train':\n",
        "  #         title = 'Normalized confusion matrix on train dataset'\n",
        "  #     if mode == 'test':\n",
        "  #         title = 'Normalized confusion matrix on test dataset'\n",
        "  #     if mode == 'prob':\n",
        "  #         title = 'Normalized confusion matrix on Non-Overlapping test dataset'\n",
        "          \n",
        "\n",
        "  from sklearn.metrics import confusion_matrix\n",
        "  \n",
        "  cm = confusion_matrix(y_true, y_pred)\n",
        "\n",
        "  if normalize:\n",
        "      cm = cm.astype('float') / cm.sum(axis=1)[:, np.newaxis]\n",
        "\n",
        "\n",
        "  fig, ax = plt.subplots(figsize=(4,4))\n",
        "  im = ax.imshow(cm, interpolation='nearest', cmap=cmap)\n",
        "  ax.figure.colorbar(im, ax=ax ,fraction=0.046, pad=0.04)\n",
        "  ax.set(xticks=np.arange(cm.shape[0]),\n",
        "        yticks=np.arange(cm.shape[1]),\n",
        "        xticklabels=classes, yticklabels=classes,\n",
        "        title=title,\n",
        "        ylabel= 'True label',\n",
        "        xlabel='Predicted label')\n",
        "  \n",
        "  for item in ([ax.title, ax.xaxis.label, ax.yaxis.label] ):\n",
        "                  \n",
        "      item.set_fontsize(8)\n",
        "  \n",
        "  for item in (ax.get_xticklabels() + ax.get_yticklabels()):\n",
        "      \n",
        "      item.set_fontsize(8)\n",
        "\n",
        "      \n",
        "              \n",
        "  plt.gca().invert_yaxis()\n",
        "  plt.setp(ax.get_xticklabels(), rotation=0, ha=\"right\",\n",
        "          rotation_mode=\"anchor\")\n",
        "\n",
        "  fmt = '.2f' if normalize else 'd'\n",
        "  thresh = cm.max() / 2.\n",
        "  for i in range(cm.shape[0]):\n",
        "      for j in range(cm.shape[1]):\n",
        "          ax.text(j, i, format(cm[i, j], fmt),\n",
        "                  ha=\"center\", va=\"center\",\n",
        "                  color=\"white\" if cm[i, j] > thresh else \"black\")\n",
        "  fig.tight_layout()\n",
        "  if save == 1:\n",
        "      plt.savefig(name)\n",
        "  return ax"
      ],
      "execution_count": null,
      "outputs": []
    },
    {
      "cell_type": "code",
      "metadata": {
        "id": "3HRrPrGKFCUB"
      },
      "source": [
        ""
      ],
      "execution_count": null,
      "outputs": []
    }
  ]
}